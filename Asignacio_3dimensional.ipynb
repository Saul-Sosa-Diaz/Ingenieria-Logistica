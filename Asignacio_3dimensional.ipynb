{
 "cells": [
  {
   "cell_type": "markdown",
   "metadata": {},
   "source": [
    "# Problema de asignación 3-dimensional.\n",
    "### Autor: Saúl Sosa Díaz\n",
    "\n",
    "En este cuaderno Jupyter, ahondaremos en el [Problema de asignación](https://es.wikipedia.org/wiki/Problema_de_asignaci%C3%B3n), más concretamente, sus variantes 3-dimensionales, tanto la planar como la axial.\n",
    "Brindando unos supuestos que nos ayudarán a comprender estos problemas.\n",
    "\n",
    "---\n",
    "## El Problema.\n",
    "El problema de asignación es un tipo de problema que se centra en asignar un conjunto de recursos o tareas a un conjunto de destinatarios de manera óptima. \n",
    "Existen varias variantes pero nos centraremos en las dos siguientes:\n",
    " * __Problema Tridimensional Planar__:\n",
    "\n",
    " * __Problema Tridimensional Axial__\n",
    "  \n",
    "\n"
   ]
  },
  {
   "cell_type": "markdown",
   "metadata": {},
   "source": [
    "## Problema Tridimensional Axial\n",
    "### Supuesto.\n",
    "Un día, el dueño del supermercado _El Sauzal Comercia_ visitó nuestra oficina con un problema: sus clientes estaban dejando de visitar su supermercado. Después de realizar varias encuestas a sus antiguos clientes, llegó a la conclusión de que los productos estaban mal ubicados en las estanterías de la tienda. Por lo tanto, les preguntó a sus clientes dónde preferirían que estuviera cada artículo, es decir, en qué estantería y nivel de la estantería del supermercado.\n",
    "\n",
    "Con esa información, realizó y brindo un mapa del supermercado con toda la información de las estanterías del establecimiento.\n",
    "* Número de niveles de las estanterías todas las estanterías tienen el mismo número de niveles.\n",
    "* Capacidad de los niveles de cada estantería.\n",
    "* Satisfacción de los clientes al encontrar cada artículo en niveles de estanterías específicas.\n",
    "\n",
    "Por tanto lo que tenemos es:\n",
    "* Conjunto de estanterías que llamaremos $E = \\{1,\\ldots,n\\}$.\n",
    "* Conjunto de niveles que llamaremos $N = \\{1,\\ldots,m\\}$.\n",
    "* Conjunto de artículos que llamaremos $K = \\{1,\\ldots,h\\}$.\n",
    "* Capacidad de cada nivel de cada estantería. la cual llamaremos $C_{ij}$. Donde cada posición indicará la capacidad máxima del nivel $j$ de la estantería $i$. $\\forall i ∈ E \\land \\forall j ∈ N$\n",
    "* Satisfaccion de todos los artículos en todos los niveles de todas las estanterías, que denotaremos como $S_{ijk}$. Donde cada posición indicará la media de satifacción de los clientes de encontrar el artículo $k$ en el nivel $j$ de la estantería $i$. $\\forall i ∈ E \\land \\forall j ∈ N \\land \\forall k ∈ K$\n",
    "\n",
    "### Modelo\n",
    "#### Variables.\n",
    "* $X_{ijk} = \\begin{dcases}\n",
    "   1 &\\text{Si el artículo } k \\text{ se coloca en el nivel } j \\text{ de la estantería } i. \\text{ }\\forall i ∈ E \\land \\forall j ∈ N \\land \\forall k ∈ K\\\\\n",
    "   0 &\\text{Otro caso}\n",
    "\\end{dcases}$\n",
    "#### Función Objetivo.\n",
    "$$\n",
    "\\begin{array}{ccc}\n",
    "max \\sum_{i∈E}\\sum_{j∈N}\\sum_{k∈K} S_{ijk} * X_{ijk}& \\\\&  \n",
    "\\end{array}\n",
    "$$\n",
    "#### Restricciones.\n",
    "$$\n",
    "\\begin{array}{ccc}\n",
    "&  \\sum_{i∈E}\\sum_{j∈N} X_{ijk} = 1 & \\forall k \\in K \\\\&\n",
    "\\sum_{i∈E} X_{ijk} = 1 & \\forall j ∈ N \\land \\forall k ∈ K \\\\\n",
    "&  0\\leq X_{ij} \\leq C_{ij} & \\forall i,j ∈ V \\\\\n",
    "\\end{array}\n",
    "$$\n"
   ]
  },
  {
   "cell_type": "markdown",
   "metadata": {},
   "source": [
    "## Resolución del problema.\n",
    "Importamos los paquetes necesarios."
   ]
  },
  {
   "cell_type": "code",
   "execution_count": 1,
   "metadata": {},
   "outputs": [
    {
     "name": "stderr",
     "output_type": "stream",
     "text": [
      "\u001b[32m\u001b[1m   Resolving\u001b[22m\u001b[39m package versions...\n",
      "\u001b[32m\u001b[1m  No Changes\u001b[22m\u001b[39m to `~/.julia/environments/v1.9/Project.toml`\n",
      "\u001b[32m\u001b[1m  No Changes\u001b[22m\u001b[39m to `~/.julia/environments/v1.9/Manifest.toml`\n",
      "\u001b[32m\u001b[1m   Resolving\u001b[22m\u001b[39m package versions...\n",
      "\u001b[32m\u001b[1m  No Changes\u001b[22m\u001b[39m to `~/.julia/environments/v1.9/Project.toml`\n",
      "\u001b[32m\u001b[1m  No Changes\u001b[22m\u001b[39m to `~/.julia/environments/v1.9/Manifest.toml`\n"
     ]
    }
   ],
   "source": [
    "import Pkg\n",
    "Pkg.add(\"JuMP\")\n",
    "Pkg.add(\"GLPK\")\n",
    "\n",
    "\n",
    "using JuMP, GLPK, Random\n"
   ]
  },
  {
   "cell_type": "markdown",
   "metadata": {},
   "source": [
    "### Introducimos los datos."
   ]
  },
  {
   "cell_type": "code",
   "execution_count": 29,
   "metadata": {},
   "outputs": [
    {
     "data": {
      "text/plain": [
       "3×5 Matrix{Int64}:\n",
       " 1  1  1  1  1\n",
       " 1  1  2  2  2\n",
       " 2  2  1  1  2"
      ]
     },
     "execution_count": 29,
     "metadata": {},
     "output_type": "execute_result"
    }
   ],
   "source": [
    "E = 3         # número de estanterías\n",
    "N = 5         # número de niveles\n",
    "K = 18    # numero de artículos\n",
    "Random.seed!(1234)\n",
    "S = rand(1:10, E, N, K)\n",
    "C = rand(1:2, E, N) # capacidad de cada estantería y nivel\n"
   ]
  },
  {
   "cell_type": "code",
   "execution_count": 30,
   "metadata": {},
   "outputs": [
    {
     "data": {
      "text/plain": [
       "3×5 Matrix{ConstraintRef{Model, MathOptInterface.ConstraintIndex{MathOptInterface.ScalarAffineFunction{Float64}, MathOptInterface.LessThan{Float64}}, ScalarShape}}:\n",
       " h[1,1] : x[1,1,1] + x[1,1,2] + x[1,1,3] + x[1,1,4] + x[1,1,5] + x[1,1,6] + x[1,1,7] + x[1,1,8] + x[1,1,9] + x[1,1,10] + x[1,1,11] + x[1,1,12] + x[1,1,13] + x[1,1,14] + x[1,1,15] + x[1,1,16] + x[1,1,17] + x[1,1,18] ≤ 1  …  h[1,5] : x[1,5,1] + x[1,5,2] + x[1,5,3] + x[1,5,4] + x[1,5,5] + x[1,5,6] + x[1,5,7] + x[1,5,8] + x[1,5,9] + x[1,5,10] + x[1,5,11] + x[1,5,12] + x[1,5,13] + x[1,5,14] + x[1,5,15] + x[1,5,16] + x[1,5,17] + x[1,5,18] ≤ 1\n",
       " h[2,1] : x[2,1,1] + x[2,1,2] + x[2,1,3] + x[2,1,4] + x[2,1,5] + x[2,1,6] + x[2,1,7] + x[2,1,8] + x[2,1,9] + x[2,1,10] + x[2,1,11] + x[2,1,12] + x[2,1,13] + x[2,1,14] + x[2,1,15] + x[2,1,16] + x[2,1,17] + x[2,1,18] ≤ 1     h[2,5] : x[2,5,1] + x[2,5,2] + x[2,5,3] + x[2,5,4] + x[2,5,5] + x[2,5,6] + x[2,5,7] + x[2,5,8] + x[2,5,9] + x[2,5,10] + x[2,5,11] + x[2,5,12] + x[2,5,13] + x[2,5,14] + x[2,5,15] + x[2,5,16] + x[2,5,17] + x[2,5,18] ≤ 2\n",
       " h[3,1] : x[3,1,1] + x[3,1,2] + x[3,1,3] + x[3,1,4] + x[3,1,5] + x[3,1,6] + x[3,1,7] + x[3,1,8] + x[3,1,9] + x[3,1,10] + x[3,1,11] + x[3,1,12] + x[3,1,13] + x[3,1,14] + x[3,1,15] + x[3,1,16] + x[3,1,17] + x[3,1,18] ≤ 2     h[3,5] : x[3,5,1] + x[3,5,2] + x[3,5,3] + x[3,5,4] + x[3,5,5] + x[3,5,6] + x[3,5,7] + x[3,5,8] + x[3,5,9] + x[3,5,10] + x[3,5,11] + x[3,5,12] + x[3,5,13] + x[3,5,14] + x[3,5,15] + x[3,5,16] + x[3,5,17] + x[3,5,18] ≤ 2"
      ]
     },
     "execution_count": 30,
     "metadata": {},
     "output_type": "execute_result"
    }
   ],
   "source": [
    "model = Model(GLPK.Optimizer)\n",
    "set_silent(model)\n",
    "\n",
    "# Definir variables\n",
    "@variable(model, x[1:E,1:N,1:K] >= 0, binary=true)\n",
    "\n",
    "# Definir función objetivo\n",
    "@objective(model, Max, sum(S[i,j,k] * x[i,j,k] for i in 1:E, j in 1:N, k in 1:K))\n",
    "\n",
    "@constraint(model, p[k=1:K] , sum(x[:,:,k]) == 1 ) # Cada producto está asociado a una estantería y nivel.\n",
    "@constraint(model, c[i=1:E,j=1:N] , sum(x[i,j,:]) >= 1 ) # Cada nivel de cada estantería tiene al menos un producto.\n",
    "@constraint(model, h[i=1:E,j=1:N] , sum(x[i,j,:]) <= C[i,j] ) # Cada estantería y nivel tiene como mucho de su capacidad total.\n",
    "\n"
   ]
  },
  {
   "cell_type": "code",
   "execution_count": 31,
   "metadata": {},
   "outputs": [],
   "source": [
    "optimize!(model)"
   ]
  },
  {
   "cell_type": "code",
   "execution_count": 32,
   "metadata": {},
   "outputs": [
    {
     "name": "stdout",
     "output_type": "stream",
     "text": [
      "Satisfacción de los clientes: 172.0\n",
      "Estanterías:\n",
      "\n",
      "  Estantería 1\n",
      "    Nivel 1 con capacidad para 1 artículos. Contiene los artículos:\n",
      "      * artículo 6\n",
      "    Nivel 2 con capacidad para 1 artículos. Contiene los artículos:\n",
      "      * artículo 3\n",
      "    Nivel 3 con capacidad para 1 artículos. Contiene los artículos:\n",
      "      * artículo 1\n",
      "    Nivel 4 con capacidad para 1 artículos. Contiene los artículos:\n",
      "      * artículo 7\n",
      "    Nivel 5 con capacidad para 1 artículos. Contiene los artículos:\n",
      "      * artículo 5\n",
      "\n",
      "  Estantería 2\n",
      "    Nivel 1 con capacidad para 1 artículos. Contiene los artículos:\n",
      "      * artículo 2\n",
      "    Nivel 2 con capacidad para 1 artículos. Contiene los artículos:\n",
      "      * artículo 14\n",
      "    Nivel 3 con capacidad para 2 artículos. Contiene los artículos:\n",
      "      * artículo 12\n",
      "    Nivel 4 con capacidad para 2 artículos. Contiene los artículos:\n",
      "      * artículo 8\n",
      "      * artículo 18\n",
      "    Nivel 5 con capacidad para 2 artículos. Contiene los artículos:\n",
      "      * artículo 10\n",
      "\n",
      "  Estantería 3\n",
      "    Nivel 1 con capacidad para 2 artículos. Contiene los artículos:\n",
      "      * artículo 13\n",
      "    Nivel 2 con capacidad para 2 artículos. Contiene los artículos:\n",
      "      * artículo 9\n",
      "      * artículo 11\n",
      "    Nivel 3 con capacidad para 1 artículos. Contiene los artículos:\n",
      "      * artículo 16\n",
      "    Nivel 4 con capacidad para 1 artículos. Contiene los artículos:\n",
      "      * artículo 4\n",
      "    Nivel 5 con capacidad para 2 artículos. Contiene los artículos:\n",
      "      * artículo 15\n",
      "      * artículo 17\n",
      "\n"
     ]
    }
   ],
   "source": [
    "objetive = objective_value(model)\n",
    "println(\"Satisfacción máxima de los clientes: \", objetive)\n",
    "\n",
    "println(\"Estanterías:\")\n",
    "println()\n",
    "for i in 1:E  \n",
    "    println(\"  Estantería $i\")\n",
    "    for j in 1:N\n",
    "        Ci_j = C[i,j]\n",
    "        println(\"    Nivel $j con capacidad para $Ci_j artículos. Contiene los artículos:\")\n",
    "        uno = false\n",
    "        for k in 1:K\n",
    "            if value(x[i,j,k]) > 0\n",
    "                uno = true\n",
    "                println(\"      * artículo $k\")\n",
    "            end\n",
    "        end\n",
    "    end\n",
    "    println()\n",
    "end"
   ]
  }
 ],
 "metadata": {
  "kernelspec": {
   "display_name": "Julia 1.9.3",
   "language": "julia",
   "name": "julia-1.9"
  },
  "language_info": {
   "file_extension": ".jl",
   "mimetype": "application/julia",
   "name": "julia",
   "version": "1.9.3"
  },
  "orig_nbformat": 4
 },
 "nbformat": 4,
 "nbformat_minor": 2
}
