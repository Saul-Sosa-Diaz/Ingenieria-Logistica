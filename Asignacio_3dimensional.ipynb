{
 "cells": [
  {
   "cell_type": "markdown",
   "metadata": {},
   "source": [
    "# Problema de asignación 3-dimensional.\n",
    "### Autor: Saúl Sosa Díaz\n",
    "\n",
    "En este cuaderno Jupyter, ahondaremos en el [Problema de asignación](https://es.wikipedia.org/wiki/Problema_de_asignaci%C3%B3n), más concretamente, sus variantes 3-dimensionales, tanto la planar como la axial.\n",
    "Brindando unos supuestos que nos ayudarán a comprender estos problemas.\n",
    "\n",
    "---\n",
    "## El Problema.\n",
    "El problema de asignación es un tipo de problema que se centra en asignar un conjunto de recursos o tareas a un conjunto de destinatarios de manera óptima. \n",
    "Existen varias variantes pero nos centraremos en las dos siguientes:\n",
    " * __Problema Tridimensional Planar__:\n",
    "\n",
    " * __Problema Tridimensional Axial__\n",
    "  \n",
    "\n"
   ]
  },
  {
   "cell_type": "markdown",
   "metadata": {},
   "source": [
    "## Problema Tridimensional Planar\n",
    "### Supuesto.\n",
    "Un día, el gerente de la empresa \"Canarias Limpia\" visitó nuestras instalaciones con una inquietud: se habían presentado problemas de índole personal que habían dejado obsoletos todos los horarios de trabajo. Se acercó a nosotros en busca de asistencia para la elaboración de los nuevos horarios de trabajo.\n",
    "\n",
    "Durante la reunión, nos proporcionó valiosa información acerca de su empresa, que se dedica a la limpieza de plantas industriales pertenecientes a otras compañías. En particular, nos suministró los siguientes datos relevantes:\n",
    "\n",
    "* El número de clientes atendidos.\n",
    "* La cantidad de empleados actualmente en plantilla.\n",
    "* La cantidad de máquinas necesarias para llevar a cabo las labores de limpieza.\n",
    "* El costo económico asociado al traslado de una máquina por parte de un empleado hacia las instalaciones del cliente con el fin de realizar la limpieza.\n",
    "\n",
    "Por tanto lo que tenemos es:\n",
    "* Conjunto de clientes que llamaremos $C = \\{1,\\ldots,n\\}$.\n",
    "* Conjunto de empleados que llamaremos $E = \\{1,\\ldots,m\\}$.\n",
    "* Conjunto de máquinas que llamaremos $M = \\{1,\\ldots,h\\}$.\n",
    "* costo económico asociado al traslado de una máquina por parte de un empleado hacia las instalaciones del cliente con el fin de realizar la limpieza, que denotaremos como $Coste_{cem}$. Donde cada posición indicará el coste de llevar la máquina $m$ por el empleado $e$ al cliente $c$. $\\forall c ∈ C \\land \\forall e ∈ E \\land \\forall m ∈ M$\n",
    "\n",
    "### Modelo\n",
    "#### Variables.\n",
    "* $X_{ijk} = \\begin{dcases}\n",
    "   1 &\\text{Si la máquina } m \\text{ es llevada por el empleado } e \\text{ al cliente } c. \\text{ }\\forall c ∈ C \\land \\forall e ∈ E \\land \\forall m ∈ M\\\\\n",
    "   0 &\\text{Otro caso}\n",
    "\\end{dcases}$\n",
    "#### Función Objetivo.\n",
    "$$\n",
    "\\begin{array}{ccc}\n",
    "max \\sum_{c∈C}\\sum_{e∈E}\\sum_{m∈M} Coste_{cem} * X_{cem}& \\\\&  \n",
    "\\end{array}\n",
    "$$\n",
    "#### Restricciones.\n",
    "$$\n",
    "\\begin{array}{ccc}\n",
    "&  \\sum_{c∈C}\\sum_{e∈E} X_{cem} = 1 & \\forall m \\in M \\\\\n",
    "&  \\sum_{e∈E}\\sum_{m∈M} X_{cem} = 1 & \\forall c \\in C \\\\\n",
    "&  \\sum_{c∈C}\\sum_{m∈M} X_{cem} = 1 & \\forall e \\in E \\\\\n",
    "&  X_{cem} \\in \\{0,1\\} &\\forall c ∈ C \\land \\forall e ∈ E \\land \\forall m ∈ M\\\\\n",
    "\\end{array}\n",
    "$$\n"
   ]
  },
  {
   "cell_type": "markdown",
   "metadata": {},
   "source": [
    "### Resolvemos el modelo."
   ]
  },
  {
   "cell_type": "markdown",
   "metadata": {},
   "source": [
    "#### Importamos las librerías necesarias."
   ]
  },
  {
   "cell_type": "code",
   "execution_count": 1,
   "metadata": {},
   "outputs": [
    {
     "name": "stderr",
     "output_type": "stream",
     "text": [
      "\u001b[32m\u001b[1m   Resolving\u001b[22m\u001b[39m package versions...\n",
      "\u001b[32m\u001b[1m  No Changes\u001b[22m\u001b[39m to `~/.julia/environments/v1.9/Project.toml`\n",
      "\u001b[32m\u001b[1m  No Changes\u001b[22m\u001b[39m to `~/.julia/environments/v1.9/Manifest.toml`\n",
      "\u001b[32m\u001b[1m   Resolving\u001b[22m\u001b[39m package versions...\n",
      "\u001b[32m\u001b[1m  No Changes\u001b[22m\u001b[39m to `~/.julia/environments/v1.9/Project.toml`\n",
      "\u001b[32m\u001b[1m  No Changes\u001b[22m\u001b[39m to `~/.julia/environments/v1.9/Manifest.toml`\n"
     ]
    }
   ],
   "source": [
    "import Pkg\n",
    "Pkg.add(\"JuMP\")\n",
    "Pkg.add(\"GLPK\")\n",
    "\n",
    "using JuMP, GLPK, Random\n"
   ]
  },
  {
   "cell_type": "markdown",
   "metadata": {},
   "source": [
    "#### Introducimos los datos."
   ]
  },
  {
   "cell_type": "code",
   "execution_count": 16,
   "metadata": {},
   "outputs": [
    {
     "data": {
      "text/plain": [
       "4×4×4 Array{Int64, 3}:\n",
       "[:, :, 1] =\n",
       " 33  34  40  20\n",
       " 42  36  50  28\n",
       " 28  59  43  38\n",
       " 56  52  49  47\n",
       "\n",
       "[:, :, 2] =\n",
       " 59  24  45  47\n",
       " 46  40  29  51\n",
       " 60  43  25  44\n",
       " 50  30  45  35\n",
       "\n",
       "[:, :, 3] =\n",
       " 25  43  54  42\n",
       " 58  22  34  32\n",
       " 43  48  51  29\n",
       " 47  23  31  60\n",
       "\n",
       "[:, :, 4] =\n",
       " 54  41  60  35\n",
       " 48  58  40  43\n",
       " 38  53  49  27\n",
       " 56  39  27  33"
      ]
     },
     "execution_count": 16,
     "metadata": {},
     "output_type": "execute_result"
    }
   ],
   "source": [
    "C = 4         # número de clientes\n",
    "E = C         # número de empleados\n",
    "M = E        # número de máquinas\n",
    "Random.seed!(1234)\n",
    "Coste = rand(20:60, C, E, M) # capacidad de cada estantería y nivel"
   ]
  },
  {
   "cell_type": "markdown",
   "metadata": {},
   "source": [
    "#### Definimos el modelo."
   ]
  },
  {
   "cell_type": "code",
   "execution_count": 17,
   "metadata": {},
   "outputs": [
    {
     "data": {
      "text/plain": [
       "4-element Vector{ConstraintRef{Model, MathOptInterface.ConstraintIndex{MathOptInterface.ScalarAffineFunction{Float64}, MathOptInterface.EqualTo{Float64}}, ScalarShape}}:\n",
       " f[1] : x[1,1,1] + x[2,1,1] + x[3,1,1] + x[4,1,1] + x[1,1,2] + x[2,1,2] + x[3,1,2] + x[4,1,2] + x[1,1,3] + x[2,1,3] + x[3,1,3] + x[4,1,3] + x[1,1,4] + x[2,1,4] + x[3,1,4] + x[4,1,4] = 1\n",
       " f[2] : x[1,2,1] + x[2,2,1] + x[3,2,1] + x[4,2,1] + x[1,2,2] + x[2,2,2] + x[3,2,2] + x[4,2,2] + x[1,2,3] + x[2,2,3] + x[3,2,3] + x[4,2,3] + x[1,2,4] + x[2,2,4] + x[3,2,4] + x[4,2,4] = 1\n",
       " f[3] : x[1,3,1] + x[2,3,1] + x[3,3,1] + x[4,3,1] + x[1,3,2] + x[2,3,2] + x[3,3,2] + x[4,3,2] + x[1,3,3] + x[2,3,3] + x[3,3,3] + x[4,3,3] + x[1,3,4] + x[2,3,4] + x[3,3,4] + x[4,3,4] = 1\n",
       " f[4] : x[1,4,1] + x[2,4,1] + x[3,4,1] + x[4,4,1] + x[1,4,2] + x[2,4,2] + x[3,4,2] + x[4,4,2] + x[1,4,3] + x[2,4,3] + x[3,4,3] + x[4,4,3] + x[1,4,4] + x[2,4,4] + x[3,4,4] + x[4,4,4] = 1"
      ]
     },
     "execution_count": 17,
     "metadata": {},
     "output_type": "execute_result"
    }
   ],
   "source": [
    "model = Model(GLPK.Optimizer)\n",
    "set_silent(model)\n",
    "\n",
    "# Definir variables\n",
    "@variable(model, x[1:C,1:E,1:M] >= 0, binary=true)\n",
    "# Definir función objetivo\n",
    "@objective(model, Min, sum(Coste[c,e,m] * x[c,e,m] for c in 1:C, e in 1:E, m in 1:M))\n",
    "\n",
    "@constraint(model, p[m=1:M] , sum(x[:,:,m]) == 1 ) # Cada máquina solo puede ir con un empleado a un cliente.\n",
    "@constraint(model, h[c=1:C] , sum(x[c,:,:]) == 1 ) # Un cliente solo puede ser atendido por un empleado y una máquina.\n",
    "@constraint(model, f[e=1:E] , sum(x[:,e,:]) == 1 ) # Un empleado solo puede llevar una máquina a un cliente.\n"
   ]
  },
  {
   "cell_type": "markdown",
   "metadata": {},
   "source": [
    "#### Resolvemos el modelo."
   ]
  },
  {
   "cell_type": "code",
   "execution_count": 18,
   "metadata": {},
   "outputs": [],
   "source": [
    "optimize!(model)"
   ]
  },
  {
   "cell_type": "markdown",
   "metadata": {},
   "source": [
    "#### Mostramos el resultado."
   ]
  },
  {
   "cell_type": "code",
   "execution_count": 19,
   "metadata": {},
   "outputs": [
    {
     "name": "stdout",
     "output_type": "stream",
     "text": [
      "Coste total: 110.0\n",
      "El empleado 4 lleva la máquina 1 al cliente 1. Con un coste de 20€.\n",
      "\n",
      "El empleado 3 lleva la máquina 2 al cliente 2. Con un coste de 29€.\n",
      "\n",
      "El empleado 1 lleva la máquina 4 al cliente 3. Con un coste de 38€.\n",
      "\n",
      "El empleado 2 lleva la máquina 3 al cliente 4. Con un coste de 23€.\n",
      "\n"
     ]
    }
   ],
   "source": [
    "objetive = objective_value(model)\n",
    "println(\"Coste total: \", objetive)\n",
    "\n",
    "for c in 1:C  \n",
    "    for e in 1:E\n",
    "        for m in 1:M\n",
    "            if value(x[c,e,m]) > 0\n",
    "                println(\"El empleado $e lleva la máquina $m al cliente $c. Con un coste de \", Coste[c,e,m], \"€.\")\n",
    "            end\n",
    "        end\n",
    "    end\n",
    "    println()\n",
    "end"
   ]
  },
  {
   "cell_type": "markdown",
   "metadata": {},
   "source": [
    "## Problema Tridimensional Axial\n",
    "### Supuesto.\n",
    "Un día, el dueño del supermercado _El Sauzal Comercia_ visitó nuestra oficina con un problema: sus clientes estaban dejando de visitar su supermercado. Después de realizar varias encuestas a sus antiguos clientes, llegó a la conclusión de que los productos estaban mal ubicados en las estanterías de la tienda. Por lo tanto, les preguntó a sus clientes dónde preferirían que estuviera cada artículo, es decir, en qué estantería y nivel de la estantería del supermercado.\n",
    "\n",
    "Con esa información, realizó y brindo un mapa del supermercado con toda la información de las estanterías del establecimiento.\n",
    "* Número de niveles de las estanterías todas las estanterías tienen el mismo número de niveles.\n",
    "* Capacidad de los niveles de cada estantería.\n",
    "* Satisfacción de los clientes al encontrar cada artículo en niveles de estanterías específicas.\n",
    "\n",
    "Por tanto lo que tenemos es:\n",
    "* Conjunto de estanterías que llamaremos $E = \\{1,\\ldots,n\\}$.\n",
    "* Conjunto de niveles que llamaremos $N = \\{1,\\ldots,m\\}$.\n",
    "* Conjunto de artículos que llamaremos $K = \\{1,\\ldots,h\\}$.\n",
    "* Capacidad de cada nivel de cada estantería. la cual llamaremos $C_{en}$. Donde cada posición indicará la capacidad máxima del nivel $n$ de la estantería $e$. $\\forall e ∈ E \\land \\forall n ∈ N$\n",
    "* Satisfaccion de todos los artículos en todos los niveles de todas las estanterías, que denotaremos como $S_{enk}$. Donde cada posición indicará la media de satifacción de los clientes de encontrar el artículo $k$ en el nivel $n$ de la estantería $i$. $\\forall e ∈ E \\land \\forall n ∈ N \\land \\forall k ∈ K$\n",
    "\n",
    "### Modelo\n",
    "#### Variables.\n",
    "* $X_{ijk} = \\begin{dcases}\n",
    "   1 &\\text{Si el artículo } k \\text{ se coloca en el nivel } n \\text{ de la estantería } e. \\text{ }\\forall e ∈ E \\land \\forall n ∈ N \\land \\forall k ∈ K\\\\\n",
    "   0 &\\text{Otro caso}\n",
    "\\end{dcases}$\n",
    "#### Función Objetivo.\n",
    "$$\n",
    "\\begin{array}{ccc}\n",
    "max \\sum_{e∈E}\\sum_{n∈N}\\sum_{k∈K} S_{enk} * X_{enk}& \\\\&  \n",
    "\\end{array}\n",
    "$$\n",
    "#### Restricciones.\n",
    "$$\n",
    "\\begin{array}{ccc}\n",
    "&  \\sum_{e∈E}\\sum_{n∈N} X_{enk} = 1 & \\forall k \\in K \\\\&\n",
    "\\sum_{k∈K} X_{enk} \\geq 1 & \\forall e ∈ E \\land \\forall n ∈ N \\\\&\n",
    "\\sum_{k∈K} X_{enk} \\leq C_{en} & \\forall e ∈ E \\land \\forall n ∈ N \\\\&\n",
    "\\sum_{e∈E} X_{enk} = 1 & \\forall n ∈ N \\land \\forall k ∈ K \\\\\n",
    "&  X_{enk} \\in \\{0,1\\} &\\forall e ∈ E \\land \\forall n ∈ N \\land \\forall k ∈ K\\\\\n",
    "\\end{array}\n",
    "$$\n"
   ]
  },
  {
   "cell_type": "markdown",
   "metadata": {},
   "source": [
    "### Resolución del problema.\n",
    "Importamos los paquetes necesarios."
   ]
  },
  {
   "cell_type": "markdown",
   "metadata": {},
   "source": [
    "#### Introducimos los datos."
   ]
  },
  {
   "cell_type": "code",
   "execution_count": 6,
   "metadata": {},
   "outputs": [
    {
     "data": {
      "text/plain": [
       "3×5 Matrix{Int64}:\n",
       " 1  1  1  1  1\n",
       " 1  1  2  2  2\n",
       " 2  2  1  1  2"
      ]
     },
     "execution_count": 6,
     "metadata": {},
     "output_type": "execute_result"
    }
   ],
   "source": [
    "E = 3         # número de estanterías\n",
    "N = 5         # número de niveles\n",
    "K = 18    # numero de artículos\n",
    "Random.seed!(1234)\n",
    "S = rand(1:10, E, N, K)\n",
    "C = rand(1:2, E, N) # capacidad de cada estantería y nivel\n"
   ]
  },
  {
   "cell_type": "code",
   "execution_count": 7,
   "metadata": {},
   "outputs": [
    {
     "data": {
      "text/plain": [
       "3×5 Matrix{ConstraintRef{Model, MathOptInterface.ConstraintIndex{MathOptInterface.ScalarAffineFunction{Float64}, MathOptInterface.LessThan{Float64}}, ScalarShape}}:\n",
       " h[1,1] : x[1,1,1] + x[1,1,2] + x[1,1,3] + x[1,1,4] + x[1,1,5] + x[1,1,6] + x[1,1,7] + x[1,1,8] + x[1,1,9] + x[1,1,10] + x[1,1,11] + x[1,1,12] + x[1,1,13] + x[1,1,14] + x[1,1,15] + x[1,1,16] + x[1,1,17] + x[1,1,18] ≤ 1  …  h[1,5] : x[1,5,1] + x[1,5,2] + x[1,5,3] + x[1,5,4] + x[1,5,5] + x[1,5,6] + x[1,5,7] + x[1,5,8] + x[1,5,9] + x[1,5,10] + x[1,5,11] + x[1,5,12] + x[1,5,13] + x[1,5,14] + x[1,5,15] + x[1,5,16] + x[1,5,17] + x[1,5,18] ≤ 1\n",
       " h[2,1] : x[2,1,1] + x[2,1,2] + x[2,1,3] + x[2,1,4] + x[2,1,5] + x[2,1,6] + x[2,1,7] + x[2,1,8] + x[2,1,9] + x[2,1,10] + x[2,1,11] + x[2,1,12] + x[2,1,13] + x[2,1,14] + x[2,1,15] + x[2,1,16] + x[2,1,17] + x[2,1,18] ≤ 1     h[2,5] : x[2,5,1] + x[2,5,2] + x[2,5,3] + x[2,5,4] + x[2,5,5] + x[2,5,6] + x[2,5,7] + x[2,5,8] + x[2,5,9] + x[2,5,10] + x[2,5,11] + x[2,5,12] + x[2,5,13] + x[2,5,14] + x[2,5,15] + x[2,5,16] + x[2,5,17] + x[2,5,18] ≤ 2\n",
       " h[3,1] : x[3,1,1] + x[3,1,2] + x[3,1,3] + x[3,1,4] + x[3,1,5] + x[3,1,6] + x[3,1,7] + x[3,1,8] + x[3,1,9] + x[3,1,10] + x[3,1,11] + x[3,1,12] + x[3,1,13] + x[3,1,14] + x[3,1,15] + x[3,1,16] + x[3,1,17] + x[3,1,18] ≤ 2     h[3,5] : x[3,5,1] + x[3,5,2] + x[3,5,3] + x[3,5,4] + x[3,5,5] + x[3,5,6] + x[3,5,7] + x[3,5,8] + x[3,5,9] + x[3,5,10] + x[3,5,11] + x[3,5,12] + x[3,5,13] + x[3,5,14] + x[3,5,15] + x[3,5,16] + x[3,5,17] + x[3,5,18] ≤ 2"
      ]
     },
     "execution_count": 7,
     "metadata": {},
     "output_type": "execute_result"
    }
   ],
   "source": [
    "model = Model(GLPK.Optimizer)\n",
    "set_silent(model)\n",
    "\n",
    "# Definir variables\n",
    "@variable(model, x[1:E,1:N,1:K] >= 0, binary=true)\n",
    "\n",
    "# Definir función objetivo\n",
    "@objective(model, Max, sum(S[e,n,k] * x[e,n,k] for e in 1:E, n in 1:N, k in 1:K))\n",
    "\n",
    "@constraint(model, p[k=1:K] , sum(x[:,:,k]) == 1 ) # Cada producto está asociado a una estantería y nivel.\n",
    "@constraint(model, c[e=1:E,n=1:N] , sum(x[e,n,:]) >= 1 ) # Cada nivel de cada estantería tiene al menos un producto.\n",
    "@constraint(model, h[e=1:E,n=1:N] , sum(x[e,n,:]) <= C[e,n] ) # Cada estantería y nivel tiene como mucho de su capacidad total.\n",
    "\n"
   ]
  },
  {
   "cell_type": "markdown",
   "metadata": {},
   "source": [
    "#### Resolvemos el modelo."
   ]
  },
  {
   "cell_type": "code",
   "execution_count": 8,
   "metadata": {},
   "outputs": [],
   "source": [
    "optimize!(model)"
   ]
  },
  {
   "cell_type": "markdown",
   "metadata": {},
   "source": [
    "#### Mostramos la solución óptima."
   ]
  },
  {
   "cell_type": "code",
   "execution_count": 9,
   "metadata": {},
   "outputs": [
    {
     "name": "stdout",
     "output_type": "stream",
     "text": [
      "Satisfacción máxima de los clientes: 172.0\n",
      "Estanterías:\n",
      "\n",
      "  Estantería 1\n",
      "    Nivel 1 con capacidad para 1 artículos. Contiene los artículos:\n",
      "      * artículo 6\n",
      "    Nivel 2 con capacidad para 1 artículos. Contiene los artículos:\n",
      "      * artículo 3\n",
      "    Nivel 3 con capacidad para 1 artículos. Contiene los artículos:\n",
      "      * artículo 1\n",
      "    Nivel 4 con capacidad para 1 artículos. Contiene los artículos:\n",
      "      * artículo 7\n",
      "    Nivel 5 con capacidad para 1 artículos. Contiene los artículos:\n",
      "      * artículo 5\n",
      "\n",
      "  Estantería 2\n",
      "    Nivel 1 con capacidad para 1 artículos. Contiene los artículos:\n",
      "      * artículo 2\n",
      "    Nivel 2 con capacidad para 1 artículos. Contiene los artículos:\n",
      "      * artículo 14\n",
      "    Nivel 3 con capacidad para 2 artículos. Contiene los artículos:\n",
      "      * artículo 12\n",
      "    Nivel 4 con capacidad para 2 artículos. Contiene los artículos:\n",
      "      * artículo 8\n",
      "      * artículo 18\n",
      "    Nivel 5 con capacidad para 2 artículos. Contiene los artículos:\n",
      "      * artículo 10\n",
      "\n",
      "  Estantería 3\n",
      "    Nivel 1 con capacidad para 2 artículos. Contiene los artículos:\n",
      "      * artículo 13\n",
      "    Nivel 2 con capacidad para 2 artículos. Contiene los artículos:\n",
      "      * artículo 9\n",
      "      * artículo 11\n",
      "    Nivel 3 con capacidad para 1 artículos. Contiene los artículos:\n",
      "      * artículo 16\n",
      "    Nivel 4 con capacidad para 1 artículos. Contiene los artículos:\n",
      "      * artículo 4\n",
      "    Nivel 5 con capacidad para 2 artículos. Contiene los artículos:\n",
      "      * artículo 15\n",
      "      * artículo 17\n",
      "\n"
     ]
    }
   ],
   "source": [
    "objetive = objective_value(model)\n",
    "println(\"Satisfacción máxima de los clientes: \", objetive)\n",
    "\n",
    "println(\"Estanterías:\")\n",
    "println()\n",
    "for e in 1:E  \n",
    "    println(\"  Estantería $e\")\n",
    "    for n in 1:N\n",
    "        Ce_n = C[e,n]\n",
    "        println(\"    Nivel $n con capacidad para $Ce_n artículos. Contiene los artículos:\")\n",
    "        uno = false\n",
    "        for k in 1:K\n",
    "            if value(x[e,n,k]) > 0\n",
    "                uno = true\n",
    "                println(\"      * artículo $k\")\n",
    "            end\n",
    "        end\n",
    "    end\n",
    "    println()\n",
    "end"
   ]
  }
 ],
 "metadata": {
  "kernelspec": {
   "display_name": "Julia 1.9.3",
   "language": "julia",
   "name": "julia-1.9"
  },
  "language_info": {
   "file_extension": ".jl",
   "mimetype": "application/julia",
   "name": "julia",
   "version": "1.9.3"
  },
  "orig_nbformat": 4
 },
 "nbformat": 4,
 "nbformat_minor": 2
}
