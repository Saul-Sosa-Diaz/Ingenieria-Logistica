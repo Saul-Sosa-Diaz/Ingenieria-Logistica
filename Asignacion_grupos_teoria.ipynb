{
 "cells": [
  {
   "cell_type": "markdown",
   "metadata": {},
   "source": [
    "# Problema de asignación de trabajos de teoría.\n",
    "### Autor: Saúl Sosa Díaz\n",
    "\n",
    "En este cuaderno Jupyter, resolveremos un problema de asignación.\n",
    "\n",
    "  \n",
    "\n"
   ]
  },
  {
   "cell_type": "markdown",
   "metadata": {},
   "source": [
    "datos relevantes:\n",
    "* Conjunto de grupos que llamaremos $G = \\{1,\\ldots,n\\}$.\n",
    "* Conjunto de trabajos que llamaremos $T = \\{1,\\ldots,m\\}$.\n",
    "* Preferencia que tiene un grupo específico por realizar otro trabajo específico. Lo denotaremos como $P_{gt}$. Donde cada posición indicará el la preferencia del grupo $g$ a realizar el trabajo $t$. $\\forall g ∈ G \\land \\forall t ∈ T$\n",
    "\n",
    "### Modelo\n",
    "#### Variables.\n",
    "* $X_{gt} = \\begin{dcases}\n",
    "   1 &\\text{Si al grupo } g \\text{ se le ha asignado el trabajo } t \\text{ }\\forall g ∈ G \\land \\forall t ∈ T\\\\\n",
    "   0 &\\text{Otro caso}\n",
    "\\end{dcases}$\n",
    "#### Función Objetivo.\n",
    "$$\n",
    "\\begin{array}{ccc}\n",
    "min \\sum_{g∈G}\\sum_{t∈T} P_{gt} * X_{gt}& \\\\&  \n",
    "\\end{array}\n",
    "$$\n",
    "#### Restricciones.\n",
    "$$\n",
    "\\begin{array}{ccc}\n",
    "&  \\sum_{t∈T} X_{gt} = 1 & \\forall g \\in G & \\text{  Cada grupo tiene asignado un trabajo.} \\\\\n",
    "&  \\sum_{g∈G} X_{gt} <= 1 & \\forall c \\in C & \\text{  Un trabajo puede estar asignado como mucho a un grupo.}\\\\\n",
    "\\end{array}\n",
    "$$\n"
   ]
  },
  {
   "cell_type": "markdown",
   "metadata": {},
   "source": [
    "## Celda para que Colab pueda ejecutar Julia"
   ]
  },
  {
   "cell_type": "code",
   "execution_count": null,
   "metadata": {},
   "outputs": [],
   "source": [
    "%%shell\n",
    "set -e\n",
    "\n",
    "#---------------------------------------------------#\n",
    "JULIA_VERSION=\"1.8.2\" # any version ≥ 0.7.0\n",
    "JULIA_PACKAGES=\"IJulia BenchmarkTools\"\n",
    "JULIA_PACKAGES_IF_GPU=\"CUDA\" # or CuArrays for older Julia versions\n",
    "JULIA_NUM_THREADS=2\n",
    "#---------------------------------------------------#\n",
    "\n",
    "if [ -z `which julia` ]; then\n",
    "  # Install Julia\n",
    "  JULIA_VER=`cut -d '.' -f -2 <<< \"$JULIA_VERSION\"`\n",
    "  echo \"Installing Julia $JULIA_VERSION on the current Colab Runtime...\"\n",
    "  BASE_URL=\"https://julialang-s3.julialang.org/bin/linux/x64\"\n",
    "  URL=\"$BASE_URL/$JULIA_VER/julia-$JULIA_VERSION-linux-x86_64.tar.gz\"\n",
    "  wget -nv $URL -O /tmp/julia.tar.gz # -nv means \"not verbose\"\n",
    "  tar -x -f /tmp/julia.tar.gz -C /usr/local --strip-components 1\n",
    "  rm /tmp/julia.tar.gz\n",
    "\n",
    "  # Install Packages\n",
    "  nvidia-smi -L &> /dev/null && export GPU=1 || export GPU=0\n",
    "  if [ $GPU -eq 1 ]; then\n",
    "    JULIA_PACKAGES=\"$JULIA_PACKAGES $JULIA_PACKAGES_IF_GPU\"\n",
    "  fi\n",
    "  for PKG in `echo $JULIA_PACKAGES`; do\n",
    "    echo \"Installing Julia package $PKG...\"\n",
    "    julia -e 'using Pkg; pkg\"add '$PKG'; precompile;\"' &> /dev/null\n",
    "  done\n",
    "\n",
    "  # Install kernel and rename it to \"julia\"\n",
    "  echo \"Installing IJulia kernel...\"\n",
    "  julia -e 'using IJulia; IJulia.installkernel(\"julia\", env=Dict(\n",
    "      \"JULIA_NUM_THREADS\"=>\"'\"$JULIA_NUM_THREADS\"'\"))'\n",
    "  KERNEL_DIR=`julia -e \"using IJulia; print(IJulia.kerneldir())\"`\n",
    "  KERNEL_NAME=`ls -d \"$KERNEL_DIR\"/julia*`\n",
    "  mv -f $KERNEL_NAME \"$KERNEL_DIR\"/julia\n",
    "\n",
    "  echo ''\n",
    "  echo \"Successfully installed `julia -v`!\"\n",
    "  echo \"Please reload this page (press Ctrl+R, ⌘+R, or the F5 key) then\"\n",
    "  echo \"jump to the 'Checking the Installation' section.\"\n",
    "fi"
   ]
  },
  {
   "cell_type": "markdown",
   "metadata": {},
   "source": [
    "### Resolvemos el modelo."
   ]
  },
  {
   "cell_type": "markdown",
   "metadata": {},
   "source": [
    "#### Importamos las librerías necesarias."
   ]
  },
  {
   "cell_type": "code",
   "execution_count": 59,
   "metadata": {},
   "outputs": [
    {
     "name": "stderr",
     "output_type": "stream",
     "text": [
      "\u001b[32m\u001b[1m   Resolving\u001b[22m\u001b[39m package versions...\n",
      "\u001b[32m\u001b[1m  No Changes\u001b[22m\u001b[39m to `~/.julia/environments/v1.9/Project.toml`\n",
      "\u001b[32m\u001b[1m  No Changes\u001b[22m\u001b[39m to `~/.julia/environments/v1.9/Manifest.toml`\n",
      "\u001b[32m\u001b[1m   Resolving\u001b[22m\u001b[39m package versions...\n",
      "\u001b[32m\u001b[1m  No Changes\u001b[22m\u001b[39m to `~/.julia/environments/v1.9/Project.toml`\n",
      "\u001b[32m\u001b[1m  No Changes\u001b[22m\u001b[39m to `~/.julia/environments/v1.9/Manifest.toml`\n"
     ]
    }
   ],
   "source": [
    "import Pkg\n",
    "Pkg.add(\"JuMP\")\n",
    "Pkg.add(\"GLPK\")\n",
    "\n",
    "using JuMP, GLPK, Random\n"
   ]
  },
  {
   "cell_type": "markdown",
   "metadata": {},
   "source": [
    "#### Introducimos los datos."
   ]
  },
  {
   "cell_type": "markdown",
   "metadata": {},
   "source": [
    "Si se quisiera introducir datos de verdad bastaría con cambiar los datos de la siguiente celda.\n",
    "Recordar que $P_{ij}$ indica la prioridad del grupo i por hacer el trabajo j. "
   ]
  },
  {
   "cell_type": "code",
   "execution_count": 67,
   "metadata": {},
   "outputs": [
    {
     "data": {
      "text/plain": [
       "11×17 Matrix{Int64}:\n",
       " 100  100  100  100  100    4  100  100  …  100  100  100  100    2    5  100\n",
       " 100    5  100  100    2    4  100  100     100  100    1  100  100  100  100\n",
       " 100  100  100    3    2    4  100    5     100  100  100  100    1  100  100\n",
       " 100  100    4    1    3  100  100    2     100  100    5  100  100  100  100\n",
       " 100  100  100  100    3    1  100  100     100    5    4  100  100    2  100\n",
       " 100  100  100  100    3    1    2    4  …  100  100  100  100  100  100    5\n",
       " 100    5  100  100  100  100  100    1       2    3  100  100  100  100  100\n",
       " 100  100  100    1  100    5  100  100       2    3    4  100  100  100  100\n",
       "   4    1  100  100  100  100    5  100     100  100  100  100    2    3  100\n",
       " 100  100    2    1  100  100  100  100     100    4  100  100  100    3    5\n",
       " 100  100    4  100    2  100    1  100  …  100    3    5  100  100  100  100"
      ]
     },
     "execution_count": 67,
     "metadata": {},
     "output_type": "execute_result"
    }
   ],
   "source": [
    "G = 11         # número de Grupos\n",
    "T = 17        # número de Trabajos\n",
    "\n",
    "# Define el valor para los trabajos no elegidos (número muy grande)\n",
    "M = 100\n",
    "Random.seed!(777)\n",
    "\n",
    "P = zeros(G, T)\n",
    "# Genera preferencias aleatorias sin repetir números en cada fila\n",
    "for i in 1:G\n",
    "    P[i, :] = randperm(T)\n",
    "end\n",
    "\n",
    "for i in 1:G\n",
    "    for j in 1:T\n",
    "        if P[i, j] > 5\n",
    "            P[i, j] = M\n",
    "        end\n",
    "    end\n",
    "end\n",
    "\n",
    "P = Int.(P)"
   ]
  },
  {
   "cell_type": "markdown",
   "metadata": {},
   "source": [
    "#### Definimos el modelo."
   ]
  },
  {
   "cell_type": "code",
   "execution_count": 64,
   "metadata": {},
   "outputs": [
    {
     "data": {
      "text/plain": [
       "13-element Vector{ConstraintRef{Model, MathOptInterface.ConstraintIndex{MathOptInterface.ScalarAffineFunction{Float64}, MathOptInterface.LessThan{Float64}}, ScalarShape}}:\n",
       " p[1] : x[1,1] + x[2,1] + x[3,1] + x[4,1] + x[5,1] + x[6,1] + x[7,1] + x[8,1] + x[9,1] + x[10,1] + x[11,1] ≤ 1\n",
       " p[2] : x[1,2] + x[2,2] + x[3,2] + x[4,2] + x[5,2] + x[6,2] + x[7,2] + x[8,2] + x[9,2] + x[10,2] + x[11,2] ≤ 1\n",
       " p[3] : x[1,3] + x[2,3] + x[3,3] + x[4,3] + x[5,3] + x[6,3] + x[7,3] + x[8,3] + x[9,3] + x[10,3] + x[11,3] ≤ 1\n",
       " p[4] : x[1,4] + x[2,4] + x[3,4] + x[4,4] + x[5,4] + x[6,4] + x[7,4] + x[8,4] + x[9,4] + x[10,4] + x[11,4] ≤ 1\n",
       " p[5] : x[1,5] + x[2,5] + x[3,5] + x[4,5] + x[5,5] + x[6,5] + x[7,5] + x[8,5] + x[9,5] + x[10,5] + x[11,5] ≤ 1\n",
       " p[6] : x[1,6] + x[2,6] + x[3,6] + x[4,6] + x[5,6] + x[6,6] + x[7,6] + x[8,6] + x[9,6] + x[10,6] + x[11,6] ≤ 1\n",
       " p[7] : x[1,7] + x[2,7] + x[3,7] + x[4,7] + x[5,7] + x[6,7] + x[7,7] + x[8,7] + x[9,7] + x[10,7] + x[11,7] ≤ 1\n",
       " p[8] : x[1,8] + x[2,8] + x[3,8] + x[4,8] + x[5,8] + x[6,8] + x[7,8] + x[8,8] + x[9,8] + x[10,8] + x[11,8] ≤ 1\n",
       " p[9] : x[1,9] + x[2,9] + x[3,9] + x[4,9] + x[5,9] + x[6,9] + x[7,9] + x[8,9] + x[9,9] + x[10,9] + x[11,9] ≤ 1\n",
       " p[10] : x[1,10] + x[2,10] + x[3,10] + x[4,10] + x[5,10] + x[6,10] + x[7,10] + x[8,10] + x[9,10] + x[10,10] + x[11,10] ≤ 1\n",
       " p[11] : x[1,11] + x[2,11] + x[3,11] + x[4,11] + x[5,11] + x[6,11] + x[7,11] + x[8,11] + x[9,11] + x[10,11] + x[11,11] ≤ 1\n",
       " p[12] : x[1,12] + x[2,12] + x[3,12] + x[4,12] + x[5,12] + x[6,12] + x[7,12] + x[8,12] + x[9,12] + x[10,12] + x[11,12] ≤ 1\n",
       " p[13] : x[1,13] + x[2,13] + x[3,13] + x[4,13] + x[5,13] + x[6,13] + x[7,13] + x[8,13] + x[9,13] + x[10,13] + x[11,13] ≤ 1"
      ]
     },
     "execution_count": 64,
     "metadata": {},
     "output_type": "execute_result"
    }
   ],
   "source": [
    "model = Model(GLPK.Optimizer)\n",
    "set_silent(model)\n",
    "\n",
    "# Definir variables\n",
    "@variable(model, x[1:G,1:T] >= 0, binary=true)\n",
    "# Definir función objetivo\n",
    "@objective(model, Min, sum(P[g,t] * x[g,t] for g in 1:G, t in 1:T))\n",
    "\n",
    "@constraint(model, c[g=1:G] , sum(x[g,:]) == 1 ) # Cada grupo tiene que tener asignado un trabjo.\n",
    "@constraint(model, p[t=1:T] , sum(x[:,t]) <= 1 ) # Cada trabajo tiene que estar asignado como mucho a un grupo.\n"
   ]
  },
  {
   "cell_type": "markdown",
   "metadata": {},
   "source": [
    "#### Resolvemos el modelo."
   ]
  },
  {
   "cell_type": "code",
   "execution_count": 65,
   "metadata": {},
   "outputs": [],
   "source": [
    "optimize!(model)"
   ]
  },
  {
   "cell_type": "markdown",
   "metadata": {},
   "source": [
    "#### Mostramos el resultado."
   ]
  },
  {
   "cell_type": "code",
   "execution_count": 66,
   "metadata": {},
   "outputs": [
    {
     "name": "stdout",
     "output_type": "stream",
     "text": [
      "El grupo 1 se le asigna el trabajo 10, inicialmente la prioridad era 1\n",
      "\n",
      "El grupo 2 se le asigna el trabajo 4, inicialmente la prioridad era 1\n",
      "\n",
      "El grupo 3 se le asigna el trabajo 11, inicialmente la prioridad era 1\n",
      "\n",
      "El grupo 4 se le asigna el trabajo 5, inicialmente la prioridad era 1\n",
      "\n",
      "El grupo 5 se le asigna el trabajo 8, inicialmente la prioridad era 2\n",
      "\n",
      "El grupo 6 se le asigna el trabajo 6, inicialmente la prioridad era 1\n",
      "\n",
      "El grupo 7 se le asigna el trabajo 7, inicialmente la prioridad era 2\n",
      "\n",
      "El grupo 8 se le asigna el trabajo 9, inicialmente la prioridad era 2\n",
      "\n",
      "El grupo 9 se le asigna el trabajo 2, inicialmente la prioridad era 1\n",
      "\n",
      "El grupo 10 se le asigna el trabajo 13, inicialmente la prioridad era 3\n",
      "\n",
      "El grupo 11 se le asigna el trabajo 3, inicialmente la prioridad era 4\n",
      "\n"
     ]
    }
   ],
   "source": [
    "objetive = objective_value(model)\n",
    "\n",
    "for g in 1:G  \n",
    "    for t in 1:T\n",
    "            if value(x[g,t]) > 0\n",
    "                println(\"El grupo $g se le asigna el trabajo $t, inicialmente la prioridad era \", P[g,t])\n",
    "            end\n",
    "    end\n",
    "    println()\n",
    "end"
   ]
  }
 ],
 "metadata": {
  "kernelspec": {
   "display_name": "Julia 1.9.3",
   "language": "julia",
   "name": "julia-1.9"
  },
  "language_info": {
   "file_extension": ".jl",
   "mimetype": "application/julia",
   "name": "julia",
   "version": "1.9.3"
  },
  "orig_nbformat": 4
 },
 "nbformat": 4,
 "nbformat_minor": 2
}
