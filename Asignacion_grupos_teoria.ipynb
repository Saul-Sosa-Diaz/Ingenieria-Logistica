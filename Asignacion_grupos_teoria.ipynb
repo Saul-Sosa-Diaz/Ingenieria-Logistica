{
 "cells": [
  {
   "cell_type": "markdown",
   "metadata": {},
   "source": [
    "# Problema de asignación de trabajos de teoría.\n",
    "### Autor: Saúl Sosa Díaz\n",
    "\n",
    "En este cuaderno Jupyter, resolveremos un problema de asignación.\n",
    "\n",
    "  \n",
    "\n"
   ]
  },
  {
   "cell_type": "markdown",
   "metadata": {},
   "source": [
    "datos relevantes:\n",
    "* Conjunto de grupos que llamaremos $G = \\{1,\\ldots,n\\}$.\n",
    "* Conjunto de trabajos que llamaremos $T = \\{1,\\ldots,m\\}$.\n",
    "* Preferencia que tiene un grupo específico por realizar otro trabajo específico. Lo denotaremos como $P_{gt}$. Donde cada posición indicará el la preferencia del grupo $g$ a realizar el trabajo $t$. $\\forall g ∈ G \\land \\forall t ∈ T$\n",
    "\n",
    "### Modelo\n",
    "#### Variables.\n",
    "$X_{gt} = \\begin{cases}\n",
    "   1 & \\text{Si al grupo } g \\text{ se le ha asignado el trabajo } t \\text{. }\\forall g \\in G \\land \\forall t \\in T \\\\\n",
    "   0 & \\text{Otro caso}\n",
    "\\end{cases}$\n",
    "#### Función Objetivo.\n",
    "$$\n",
    "\\begin{array}{ccc}\n",
    "min \\sum_{g∈G}\\sum_{t∈T} P_{gt} * X_{gt}& \\\\&  \n",
    "\\end{array}\n",
    "$$\n",
    "#### Restricciones.\n",
    "$$\n",
    "\\begin{array}{ccc}\n",
    "&  \\sum_{t∈T} X_{gt} = 1 & \\forall g \\in G & \\text{  Cada grupo tiene asignado un trabajo.} \\\\\n",
    "&  \\sum_{g∈G} X_{gt} <= 1 & \\forall t \\in T & \\text{  Un trabajo puede estar asignado como mucho a un grupo.}\\\\\n",
    "\\end{array}\n",
    "$$\n"
   ]
  },
  {
   "cell_type": "markdown",
   "metadata": {},
   "source": [
    "### Resolvemos el modelo."
   ]
  },
  {
   "cell_type": "markdown",
   "metadata": {},
   "source": [
    "#### Importamos las librerías necesarias."
   ]
  },
  {
   "cell_type": "code",
   "execution_count": 1,
   "metadata": {},
   "outputs": [
    {
     "name": "stderr",
     "output_type": "stream",
     "text": [
      "\u001b[32m\u001b[1m    Updating\u001b[22m\u001b[39m registry at `~/.julia/registries/General.toml`\n",
      "\u001b[32m\u001b[1m   Resolving\u001b[22m\u001b[39m package versions...\n",
      "\u001b[32m\u001b[1m  No Changes\u001b[22m\u001b[39m to `~/.julia/environments/v1.9/Project.toml`\n",
      "\u001b[32m\u001b[1m  No Changes\u001b[22m\u001b[39m to `~/.julia/environments/v1.9/Manifest.toml`\n",
      "\u001b[32m\u001b[1m   Resolving\u001b[22m\u001b[39m package versions...\n",
      "\u001b[32m\u001b[1m  No Changes\u001b[22m\u001b[39m to `~/.julia/environments/v1.9/Project.toml`\n",
      "\u001b[32m\u001b[1m  No Changes\u001b[22m\u001b[39m to `~/.julia/environments/v1.9/Manifest.toml`\n"
     ]
    }
   ],
   "source": [
    "import Pkg\n",
    "Pkg.add(\"JuMP\")\n",
    "Pkg.add(\"GLPK\")\n",
    "\n",
    "using JuMP, GLPK, Random\n"
   ]
  },
  {
   "cell_type": "markdown",
   "metadata": {},
   "source": [
    "#### Introducimos los datos."
   ]
  },
  {
   "cell_type": "markdown",
   "metadata": {},
   "source": [
    "Si se quisiera introducir datos de verdad bastaría con cambiar los datos de la siguiente celda.\n",
    "Recordar que $P_{ij}$ indica la prioridad del grupo i por hacer el trabajo j. "
   ]
  },
  {
   "cell_type": "code",
   "execution_count": 2,
   "metadata": {},
   "outputs": [
    {
     "name": "stdout",
     "output_type": "stream",
     "text": [
      "El grupo 1 ha escogido los trabajos con prioridades: \n",
      "   El trabajo 6, con una prioridad 4\n",
      "   El trabajo 9, con una prioridad 3\n",
      "   El trabajo 10, con una prioridad 1\n",
      "   El trabajo 15, con una prioridad 2\n",
      "   El trabajo 16, con una prioridad 5\n",
      "\n",
      "El grupo 2 ha escogido los trabajos con prioridades: \n",
      "   El trabajo 2, con una prioridad 5\n",
      "   El trabajo 5, con una prioridad 2\n",
      "   El trabajo 6, con una prioridad 4\n",
      "   El trabajo 9, con una prioridad 3\n",
      "   El trabajo 13, con una prioridad 1\n",
      "\n",
      "El grupo 3 ha escogido los trabajos con prioridades: \n",
      "   El trabajo 4, con una prioridad 3\n",
      "   El trabajo 5, con una prioridad 2\n",
      "   El trabajo 6, con una prioridad 4\n",
      "   El trabajo 8, con una prioridad 5\n",
      "   El trabajo 15, con una prioridad 1\n",
      "\n",
      "El grupo 4 ha escogido los trabajos con prioridades: \n",
      "   El trabajo 3, con una prioridad 4\n",
      "   El trabajo 4, con una prioridad 1\n",
      "   El trabajo 5, con una prioridad 3\n",
      "   El trabajo 8, con una prioridad 2\n",
      "   El trabajo 13, con una prioridad 5\n",
      "\n",
      "El grupo 5 ha escogido los trabajos con prioridades: \n",
      "   El trabajo 5, con una prioridad 3\n",
      "   El trabajo 6, con una prioridad 1\n",
      "   El trabajo 12, con una prioridad 5\n",
      "   El trabajo 13, con una prioridad 4\n",
      "   El trabajo 16, con una prioridad 2\n",
      "\n",
      "El grupo 6 ha escogido los trabajos con prioridades: \n",
      "   El trabajo 5, con una prioridad 3\n",
      "   El trabajo 6, con una prioridad 1\n",
      "   El trabajo 7, con una prioridad 2\n",
      "   El trabajo 8, con una prioridad 4\n",
      "   El trabajo 17, con una prioridad 5\n",
      "\n",
      "El grupo 7 ha escogido los trabajos con prioridades: \n",
      "   El trabajo 2, con una prioridad 5\n",
      "   El trabajo 8, con una prioridad 1\n",
      "   El trabajo 10, con una prioridad 4\n",
      "   El trabajo 11, con una prioridad 2\n",
      "   El trabajo 12, con una prioridad 3\n",
      "\n",
      "El grupo 8 ha escogido los trabajos con prioridades: \n",
      "   El trabajo 4, con una prioridad 1\n",
      "   El trabajo 6, con una prioridad 5\n",
      "   El trabajo 11, con una prioridad 2\n",
      "   El trabajo 12, con una prioridad 3\n",
      "   El trabajo 13, con una prioridad 4\n",
      "\n",
      "El grupo 9 ha escogido los trabajos con prioridades: \n",
      "   El trabajo 1, con una prioridad 4\n",
      "   El trabajo 2, con una prioridad 1\n",
      "   El trabajo 7, con una prioridad 5\n",
      "   El trabajo 15, con una prioridad 2\n",
      "   El trabajo 16, con una prioridad 3\n",
      "\n",
      "El grupo 10 ha escogido los trabajos con prioridades: \n",
      "   El trabajo 3, con una prioridad 2\n",
      "   El trabajo 4, con una prioridad 1\n",
      "   El trabajo 12, con una prioridad 4\n",
      "   El trabajo 16, con una prioridad 3\n",
      "   El trabajo 17, con una prioridad 5\n",
      "\n",
      "El grupo 11 ha escogido los trabajos con prioridades: \n",
      "   El trabajo 3, con una prioridad 4\n",
      "   El trabajo 5, con una prioridad 2\n",
      "   El trabajo 7, con una prioridad 1\n",
      "   El trabajo 12, con una prioridad 3\n",
      "   El trabajo 13, con una prioridad 5\n",
      "\n"
     ]
    }
   ],
   "source": [
    "G = 11         # número de Grupos\n",
    "T = 17        # número de Trabajos\n",
    "\n",
    "# Define el valor para los trabajos no elegidos (número muy grande)\n",
    "M = 100\n",
    "Random.seed!(777)\n",
    "\n",
    "P = zeros(G, T)\n",
    "# Genera preferencias aleatorias sin repetir números en cada fila\n",
    "for i in 1:G\n",
    "    P[i, :] = randperm(T)\n",
    "end\n",
    "\n",
    "for i in 1:G\n",
    "    for j in 1:T\n",
    "        if P[i, j] > 5\n",
    "            P[i, j] = M\n",
    "        end\n",
    "    end\n",
    "end\n",
    "\n",
    "P = Int.(P)\n",
    "\n",
    "# Mostrar Preferencias de grupos\n",
    "for g in 1:G\n",
    "    println(\"El grupo $g ha escogido los trabajos con prioridades: \")\n",
    "    for t in 1:T\n",
    "            if value(P[g,t]) < M\n",
    "                println(\"   El trabajo $t, con una prioridad \", P[g,t])\n",
    "            end\n",
    "    end\n",
    "    println()\n",
    "end\n"
   ]
  },
  {
   "cell_type": "markdown",
   "metadata": {},
   "source": [
    "#### Definimos el modelo."
   ]
  },
  {
   "cell_type": "code",
   "execution_count": 3,
   "metadata": {},
   "outputs": [
    {
     "data": {
      "text/plain": [
       "17-element Vector{ConstraintRef{Model, MathOptInterface.ConstraintIndex{MathOptInterface.ScalarAffineFunction{Float64}, MathOptInterface.LessThan{Float64}}, ScalarShape}}:\n",
       " p[1] : x[1,1] + x[2,1] + x[3,1] + x[4,1] + x[5,1] + x[6,1] + x[7,1] + x[8,1] + x[9,1] + x[10,1] + x[11,1] ≤ 1\n",
       " p[2] : x[1,2] + x[2,2] + x[3,2] + x[4,2] + x[5,2] + x[6,2] + x[7,2] + x[8,2] + x[9,2] + x[10,2] + x[11,2] ≤ 1\n",
       " p[3] : x[1,3] + x[2,3] + x[3,3] + x[4,3] + x[5,3] + x[6,3] + x[7,3] + x[8,3] + x[9,3] + x[10,3] + x[11,3] ≤ 1\n",
       " p[4] : x[1,4] + x[2,4] + x[3,4] + x[4,4] + x[5,4] + x[6,4] + x[7,4] + x[8,4] + x[9,4] + x[10,4] + x[11,4] ≤ 1\n",
       " p[5] : x[1,5] + x[2,5] + x[3,5] + x[4,5] + x[5,5] + x[6,5] + x[7,5] + x[8,5] + x[9,5] + x[10,5] + x[11,5] ≤ 1\n",
       " p[6] : x[1,6] + x[2,6] + x[3,6] + x[4,6] + x[5,6] + x[6,6] + x[7,6] + x[8,6] + x[9,6] + x[10,6] + x[11,6] ≤ 1\n",
       " p[7] : x[1,7] + x[2,7] + x[3,7] + x[4,7] + x[5,7] + x[6,7] + x[7,7] + x[8,7] + x[9,7] + x[10,7] + x[11,7] ≤ 1\n",
       " p[8] : x[1,8] + x[2,8] + x[3,8] + x[4,8] + x[5,8] + x[6,8] + x[7,8] + x[8,8] + x[9,8] + x[10,8] + x[11,8] ≤ 1\n",
       " p[9] : x[1,9] + x[2,9] + x[3,9] + x[4,9] + x[5,9] + x[6,9] + x[7,9] + x[8,9] + x[9,9] + x[10,9] + x[11,9] ≤ 1\n",
       " p[10] : x[1,10] + x[2,10] + x[3,10] + x[4,10] + x[5,10] + x[6,10] + x[7,10] + x[8,10] + x[9,10] + x[10,10] + x[11,10] ≤ 1\n",
       " p[11] : x[1,11] + x[2,11] + x[3,11] + x[4,11] + x[5,11] + x[6,11] + x[7,11] + x[8,11] + x[9,11] + x[10,11] + x[11,11] ≤ 1\n",
       " p[12] : x[1,12] + x[2,12] + x[3,12] + x[4,12] + x[5,12] + x[6,12] + x[7,12] + x[8,12] + x[9,12] + x[10,12] + x[11,12] ≤ 1\n",
       " p[13] : x[1,13] + x[2,13] + x[3,13] + x[4,13] + x[5,13] + x[6,13] + x[7,13] + x[8,13] + x[9,13] + x[10,13] + x[11,13] ≤ 1\n",
       " p[14] : x[1,14] + x[2,14] + x[3,14] + x[4,14] + x[5,14] + x[6,14] + x[7,14] + x[8,14] + x[9,14] + x[10,14] + x[11,14] ≤ 1\n",
       " p[15] : x[1,15] + x[2,15] + x[3,15] + x[4,15] + x[5,15] + x[6,15] + x[7,15] + x[8,15] + x[9,15] + x[10,15] + x[11,15] ≤ 1\n",
       " p[16] : x[1,16] + x[2,16] + x[3,16] + x[4,16] + x[5,16] + x[6,16] + x[7,16] + x[8,16] + x[9,16] + x[10,16] + x[11,16] ≤ 1\n",
       " p[17] : x[1,17] + x[2,17] + x[3,17] + x[4,17] + x[5,17] + x[6,17] + x[7,17] + x[8,17] + x[9,17] + x[10,17] + x[11,17] ≤ 1"
      ]
     },
     "execution_count": 3,
     "metadata": {},
     "output_type": "execute_result"
    }
   ],
   "source": [
    "model = Model(GLPK.Optimizer)\n",
    "set_silent(model)\n",
    "\n",
    "# Definir variables\n",
    "@variable(model, x[1:G,1:T] >= 0, binary=true)\n",
    "# Definir función objetivo\n",
    "@objective(model, Min, sum(P[g,t] * x[g,t] for g in 1:G, t in 1:T))\n",
    "\n",
    "@constraint(model, c[g=1:G] , sum(x[g,:]) == 1 ) # Cada grupo tiene que tener asignado un trabjo.\n",
    "@constraint(model, p[t=1:T] , sum(x[:,t]) <= 1 ) # Cada trabajo tiene que estar asignado como mucho a un grupo.\n"
   ]
  },
  {
   "cell_type": "markdown",
   "metadata": {},
   "source": [
    "#### Resolvemos el modelo."
   ]
  },
  {
   "cell_type": "code",
   "execution_count": 4,
   "metadata": {},
   "outputs": [],
   "source": [
    "optimize!(model)"
   ]
  },
  {
   "cell_type": "markdown",
   "metadata": {},
   "source": [
    "#### Mostramos el resultado."
   ]
  },
  {
   "cell_type": "code",
   "execution_count": 7,
   "metadata": {},
   "outputs": [
    {
     "name": "stdout",
     "output_type": "stream",
     "text": [
      "El grupo 1 se le asigna el trabajo 10, la prioridad con la que el grupo ha escogido el trabajo es: 1\n",
      "\n",
      "El grupo 2 se le asigna el trabajo 13, la prioridad con la que el grupo ha escogido el trabajo es: 1\n",
      "\n",
      "El grupo 3 se le asigna el trabajo 15, la prioridad con la que el grupo ha escogido el trabajo es: 1\n",
      "\n",
      "El grupo 4 se le asigna el trabajo 4, la prioridad con la que el grupo ha escogido el trabajo es: 1\n",
      "\n",
      "El grupo 5 se le asigna el trabajo 16, la prioridad con la que el grupo ha escogido el trabajo es: 2\n",
      "\n",
      "El grupo 6 se le asigna el trabajo 6, la prioridad con la que el grupo ha escogido el trabajo es: 1\n",
      "\n",
      "El grupo 7 se le asigna el trabajo 8, la prioridad con la que el grupo ha escogido el trabajo es: 1\n",
      "\n",
      "El grupo 8 se le asigna el trabajo 11, la prioridad con la que el grupo ha escogido el trabajo es: 2\n",
      "\n",
      "El grupo 9 se le asigna el trabajo 2, la prioridad con la que el grupo ha escogido el trabajo es: 1\n",
      "\n",
      "El grupo 10 se le asigna el trabajo 3, la prioridad con la que el grupo ha escogido el trabajo es: 2\n",
      "\n",
      "El grupo 11 se le asigna el trabajo 7, la prioridad con la que el grupo ha escogido el trabajo es: 1\n",
      "\n"
     ]
    }
   ],
   "source": [
    "objetive = objective_value(model)\n",
    "\n",
    "for g in 1:G  \n",
    "    for t in 1:T\n",
    "            if value(x[g,t]) > 0\n",
    "                println(\"El grupo $g se le asigna el trabajo $t, la prioridad con la que el grupo ha escogido el trabajo es: \", P[g,t])\n",
    "            end\n",
    "    end\n",
    "    println()\n",
    "end"
   ]
  }
 ],
 "metadata": {
  "kernelspec": {
   "display_name": "Julia 1.9.3",
   "language": "julia",
   "name": "julia-1.9"
  },
  "language_info": {
   "file_extension": ".jl",
   "mimetype": "application/julia",
   "name": "julia",
   "version": "1.9.3"
  },
  "orig_nbformat": 4
 },
 "nbformat": 4,
 "nbformat_minor": 2
}
