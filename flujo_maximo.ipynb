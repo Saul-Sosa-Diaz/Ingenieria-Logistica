{
 "cells": [
  {
   "cell_type": "code",
   "execution_count": null,
   "metadata": {},
   "outputs": [],
   "source": [
    "kmax = [0 5 3 0 ;0 0 5 4 ;0 0 0 5 ;0 0 0 0]\n",
    "s = 1\n",
    "t = 4\n",
    "N=4\n",
    "model = Model(GLPK.Optimizer)\n",
    "set_silent(model)\n",
    "@variable(model, x[1:N,1:N] >= 0, Int)\n",
    "@variable(model, Z >= 0, Int)\n",
    "@objective(model, Max, Z)\n",
    "# Añadir restricciones para que los elementos de x correspondan con kmax\n",
    "for i in 1:N\n",
    "        for j in 1:N\n",
    "                if kmax[i, j] > 0\n",
    "                        @constraint(model, x[i, j] <= kmax[i, j])\n",
    "                else\n",
    "                        @constraint(model, x[i, j] == 0)\n",
    "                end\n",
    "        end\n",
    "end\n",
    "@constraint(model, g,  sum(x[s,:]) == Z)\n",
    "@constraint(model, h,  sum(x[:,t]) == Z)\n",
    "@constraint(model, c[i=2:N - 1] , sum(x[i,:])  == sum(x[:,i]))\n",
    "\n",
    "\n",
    "print(model)\n",
    "\n",
    "# Call optimize! before retrieving the solution\n",
    "optimize!(model)\n",
    "\n",
    "@show termination_status(model)\n",
    "@show objective_value(model)@show value.(Z)"
   ]
  }
 ],
 "metadata": {
  "language_info": {
   "name": "python"
  },
  "orig_nbformat": 4
 },
 "nbformat": 4,
 "nbformat_minor": 2
}
