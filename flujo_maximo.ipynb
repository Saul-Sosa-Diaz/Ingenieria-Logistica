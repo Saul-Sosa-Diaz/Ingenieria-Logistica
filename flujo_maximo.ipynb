{
 "cells": [
  {
   "cell_type": "code",
   "execution_count": 1,
   "metadata": {},
   "outputs": [
    {
     "name": "stderr",
     "output_type": "stream",
     "text": [
      "\u001b[32m\u001b[1m   Resolving\u001b[22m\u001b[39m package versions...\n"
     ]
    },
    {
     "name": "stderr",
     "output_type": "stream",
     "text": [
      "\u001b[32m\u001b[1m  No Changes\u001b[22m\u001b[39m to `~/.julia/environments/v1.9/Project.toml`\n",
      "\u001b[32m\u001b[1m  No Changes\u001b[22m\u001b[39m to `~/.julia/environments/v1.9/Manifest.toml`\n"
     ]
    },
    {
     "name": "stderr",
     "output_type": "stream",
     "text": [
      "\u001b[32m\u001b[1m   Resolving\u001b[22m\u001b[39m package versions...\n"
     ]
    },
    {
     "name": "stderr",
     "output_type": "stream",
     "text": [
      "\u001b[32m\u001b[1m  No Changes\u001b[22m\u001b[39m to `~/.julia/environments/v1.9/Project.toml`\n",
      "\u001b[32m\u001b[1m  No Changes\u001b[22m\u001b[39m to `~/.julia/environments/v1.9/Manifest.toml`\n"
     ]
    },
    {
     "name": "stderr",
     "output_type": "stream",
     "text": [
      "\u001b[32m\u001b[1m   Resolving\u001b[22m\u001b[39m package versions...\n"
     ]
    },
    {
     "name": "stderr",
     "output_type": "stream",
     "text": [
      "\u001b[32m\u001b[1m  No Changes\u001b[22m\u001b[39m to `~/.julia/environments/v1.9/Project.toml`\n",
      "\u001b[32m\u001b[1m  No Changes\u001b[22m\u001b[39m to `~/.julia/environments/v1.9/Manifest.toml`\n"
     ]
    },
    {
     "name": "stderr",
     "output_type": "stream",
     "text": [
      "\u001b[32m\u001b[1m   Resolving\u001b[22m\u001b[39m package versions...\n"
     ]
    },
    {
     "name": "stderr",
     "output_type": "stream",
     "text": [
      "\u001b[32m\u001b[1m  No Changes\u001b[22m\u001b[39m to `~/.julia/environments/v1.9/Project.toml`\n",
      "\u001b[32m\u001b[1m  No Changes\u001b[22m\u001b[39m to `~/.julia/environments/v1.9/Manifest.toml`\n"
     ]
    }
   ],
   "source": [
    "import Pkg\n",
    "Pkg.add(\"JuMP\")\n",
    "Pkg.add(\"GLPK\")\n",
    "Pkg.add(\"GraphRecipes\")\n",
    "Pkg.add(\"Plots\")\n",
    "\n",
    "using GraphRecipes, Plots, Graphs\n",
    "using JuMP, GLPK, Random, Test, LinearAlgebra\n"
   ]
  },
  {
   "cell_type": "code",
   "execution_count": 2,
   "metadata": {},
   "outputs": [
    {
     "name": "stdout",
     "output_type": "stream",
     "text": [
      "Max Z\n",
      "Subject to\n",
      " "
     ]
    },
    {
     "name": "stdout",
     "output_type": "stream",
     "text": [
      "x[1,1] = 0\n",
      " x[1,4] = 0\n",
      " x[2,1] = 0\n",
      " x[2,2] = 0\n",
      " x[3,1] = 0\n",
      " x[3,2] = 0\n",
      " x[3,3] = 0\n",
      " x[4,1] = 0\n",
      " x[4,2] = 0\n",
      " x[4,3] = 0\n",
      " x[4,4] = 0\n",
      " g : x[1,1] + x[1,2] + x[1,3] + x[1,4] - Z = 0\n",
      " h : x[1,4] + x[2,4] + x[3,4] + x[4,4] - Z = 0\n",
      " x[2,1] - x[1,2] - x[3,2] - x[4,2] + x[2,3] + x[2,4] = 0\n",
      " x[3,1] + x[3,2] - x[1,3] - x[2,3] - x[4,3] + x[3,4] = 0\n",
      " x[1,2] ≤ 5\n",
      " x[1,3] ≤ 3\n",
      " x[2,3] ≤ 5\n",
      " x[2,4] ≤ 4\n",
      " x[3,4] ≤ 5\n",
      " x[1,1] ≥ 0\n",
      " x[2,1] ≥ 0\n",
      " x[3,1] ≥ 0\n",
      " x[4,1] ≥ 0\n",
      " x[1,2] ≥ 0\n",
      " x[2,2] ≥ 0\n",
      " x[3,2] ≥ 0\n",
      " x[4,2] ≥ 0\n",
      " x[1,3] ≥ 0\n",
      " x[2,3] ≥ 0\n",
      " x[3,3] ≥ 0\n",
      " x[4,3] ≥ 0\n",
      " x[1,4] ≥ 0\n",
      " x[2,4] ≥ 0\n",
      " x[3,4] ≥ 0\n",
      " x[4,4] ≥ 0\n",
      " Z ≥ 0\n",
      " x[1,1] integer\n",
      " x[2,1] integer\n",
      " x[3,1] integer\n",
      " x[4,1] integer\n",
      " x[1,2] integer\n",
      " x[2,2] integer\n",
      " x[3,2] integer\n",
      " x[4,2] integer\n",
      " x[1,3] integer\n",
      " x[2,3] integer\n",
      " x[3,3] integer\n",
      " x[4,3] integer\n",
      " x[1,4] integer\n",
      " x[2,4] integer\n",
      " x[3,4] integer\n",
      " x[4,4] integer\n",
      " Z integer\n",
      "objective_value(model) = "
     ]
    },
    {
     "name": "stdout",
     "output_type": "stream",
     "text": [
      "8.0\n"
     ]
    },
    {
     "name": "stdout",
     "output_type": "stream",
     "text": [
      "value.(Z) = 8.0\n",
      "#= /home/saul/Desktop/University/Ingenieria logistica/entregas/flujo_maximo.ipynb:46 =# @show(value.(Z)) = 8.0\n"
     ]
    },
    {
     "data": {
      "text/plain": [
       "8.0"
      ]
     },
     "metadata": {},
     "output_type": "display_data"
    }
   ],
   "source": [
    "kmax = [0 5 3 0;\n",
    "        0 0 5 4;\n",
    "        0 0 0 5;\n",
    "        0 0 0 0]\n",
    "s = 1\n",
    "t = 4\n",
    "N=4\n",
    "model = Model(GLPK.Optimizer)\n",
    "set_silent(model)\n",
    "@variable(model, x[1:N,1:N] >= 0, Int)\n",
    "@variable(model, Z >= 0, Int)\n",
    "@objective(model, Max, Z)\n",
    "# Añadir restricciones para que los elementos de x correspondan con kmax\n",
    "for i in 1:N\n",
    "        for j in 1:N\n",
    "                if kmax[i, j] > 0\n",
    "                        @constraint(model, x[i, j] <= kmax[i, j])\n",
    "                else\n",
    "                        @constraint(model, x[i, j] == 0)\n",
    "                end\n",
    "        end\n",
    "end\n",
    "@constraint(model, g,  sum(x[s,:]) == Z)\n",
    "@constraint(model, h,  sum(x[:,t]) == Z)\n",
    "\n",
    "indices_a_omitir = [t, s]\n",
    "\n",
    "\n",
    "c2 = Vector{Int}()  # V\\{s,t}\n",
    "for i in 1:N \n",
    "        if i ∉ indices_a_omitir \n",
    "                 push!(c2, i)\n",
    "        end\n",
    "end\n",
    "\n",
    "for i in c2\n",
    "        @constraint(model, sum(x[i, :]) == sum(x[:, i]))\n",
    "end\n",
    "\n",
    "print(model)\n",
    "\n",
    "# Call optimize! before retrieving the solution\n",
    "optimize!(model)\n",
    "\n",
    "\n",
    "@show objective_value(model)@show value.(Z)"
   ]
  },
  {
   "cell_type": "markdown",
   "metadata": {},
   "source": [
    "Generando datos aleatorios"
   ]
  },
  {
   "cell_type": "code",
   "execution_count": 3,
   "metadata": {},
   "outputs": [
    {
     "name": "stdout",
     "output_type": "stream",
     "text": [
      "s = 1\n",
      "t = 5\n",
      "kmax = \n"
     ]
    },
    {
     "data": {
      "text/plain": [
       "5×5 Matrix{Float64}:\n",
       " 0.0  9.0  4.0   0.0  7.0\n",
       " 0.0  0.0  2.0   1.0  7.0\n",
       " 0.0  0.0  0.0  10.0  0.0\n",
       " 0.0  0.0  0.0   0.0  5.0\n",
       " 0.0  0.0  0.0   0.0  0.0"
      ]
     },
     "metadata": {},
     "output_type": "display_data"
    }
   ],
   "source": [
    "\n",
    "n=5 # número de nodos\n",
    "Random.seed!(777)   \n",
    "\n",
    "kmax = zeros(n, n) # Matriz de capacidades de los arcos\n",
    "for i in 1:n\n",
    "    for j in i:n\n",
    "        if i != j\n",
    "            kmax[i, j] = rand(0:10)\n",
    "        end\n",
    "    end\n",
    "end\n",
    "\n",
    "s = 1 # Nodo fuente\n",
    "t = n\n",
    "\n",
    "\n",
    "println(\"s = \", s)\n",
    "println(\"t = \", t)\n",
    "println(\"kmax = \")\n",
    "kmax\n",
    "\n",
    "\n"
   ]
  },
  {
   "cell_type": "code",
   "execution_count": 4,
   "metadata": {},
   "outputs": [
    {
     "data": {
      "image/png": "[encoded data removed]",
      "image/svg+xml": [
       "<?xml version=\"1.0\" encoding=\"utf-8\"?>\n",
       "<svg xmlns=\"http://www.w3.org/2000/svg\" xmlns:xlink=\"http://www.w3.org/1999/xlink\" width=\"600\" height=\"400\" viewBox=\"0 0 2400 1600\">\n",
       "<defs>\n",
       "  <clipPath id=\"clip350\">\n",
       "    <rect x=\"0\" y=\"0\" width=\"2400\" height=\"1600\"/>\n",
       "  </clipPath>\n",
       "</defs>\n",
       "<path clip-path=\"url(#clip350)\" d=\"M0 1600 L2400 1600 L2400 0 L0 0  Z\" fill=\"#ffffff\" fill-rule=\"evenodd\" fill-opacity=\"1\"/>\n",
       "<defs>\n",
       "  <clipPath id=\"clip351\">\n",
       "    <rect x=\"480\" y=\"0\" width=\"1681\" height=\"1600\"/>\n",
       "  </clipPath>\n",
       "</defs>\n",
       "<path clip-path=\"url(#clip350)\" d=\"M447.244 1552.76 L1952.76 1552.76 L1952.76 47.2441 L447.244 47.2441  Z\" fill=\"#ffffff\" fill-rule=\"evenodd\" fill-opacity=\"1\"/>\n",
       "<defs>\n",
       "  <clipPath id=\"clip352\">\n",
       "    <rect x=\"447\" y=\"47\" width=\"1507\" height=\"1507\"/>\n",
       "  </clipPath>\n",
       "</defs>\n",
       "<polyline clip-path=\"url(#clip352)\" style=\"stroke:#000000; stroke-linecap:round; stroke-linejoin:round; stroke-width:4; stroke-opacity:1; fill:none\" points=\"1737.68,1079.64 1723.07,1062.64 1708.45,1045.64 1693.84,1028.65 1679.24,1011.67 1664.65,994.697 1650.07,977.744 1635.51,960.81 1620.97,943.899 1606.46,927.014 1591.96,910.157 1577.5,893.333 1563.06,876.544 1548.66,859.794 1534.29,843.085 1519.97,826.422 1505.68,809.806 1491.44,793.242 1477.25,776.733 1463.1,760.282 1449.01,743.892 1434.97,727.566 1420.99,711.307 1407.07,695.119 1393.22,679.006 1379.43,662.969 1365.71,647.009 1352.05,631.123 1338.45,615.308 1324.91,599.561 1311.43,583.877 1298,568.255 1284.61,552.691 1271.28,537.181 1257.99,521.723 1244.74,506.313 1231.53,490.948 1218.35,475.624 1205.21,460.34 1192.1,445.091 1179.02,429.873 1165.96,414.685 1152.92,399.523 1139.9,384.383 1126.9,369.262 1113.91,354.157 1100.94,339.066 1087.97,323.983 1075.01,308.908 1062.05,293.835 \"/>\n",
       "<polyline clip-path=\"url(#clip352)\" style=\"stroke:#000000; stroke-linecap:round; stroke-linejoin:round; stroke-width:4; stroke-opacity:1; fill:none\" points=\"1071.87,332.868 1062.05,293.835 1099.17,309.397 \"/>\n",
       "<polyline clip-path=\"url(#clip352)\" style=\"stroke:#000000; stroke-linecap:round; stroke-linejoin:round; stroke-width:4; stroke-opacity:1; fill:none\" points=\"1062.05,293.835 1075.01,308.908 \"/>\n",
       "<polyline clip-path=\"url(#clip352)\" style=\"stroke:#000000; stroke-linecap:round; stroke-linejoin:round; stroke-width:4; stroke-opacity:1; fill:none\" points=\"1737.68,1079.64 1715.46,1073.62 1693.24,1067.6 1671.03,1061.58 1648.82,1055.57 1626.63,1049.55 1604.45,1043.54 1582.28,1037.54 1560.14,1031.54 1538.01,1025.55 1515.92,1019.56 1493.85,1013.58 1471.81,1007.61 1449.8,1001.65 1427.83,995.698 1405.9,989.757 1384.01,983.827 1362.16,977.909 1340.36,972.003 1318.61,966.111 1296.91,960.234 1275.27,954.371 1253.69,948.524 1232.16,942.693 1210.71,936.88 1189.31,931.084 1167.98,925.307 1146.72,919.547 1125.52,913.803 1104.37,908.075 1083.29,902.362 1062.25,896.663 1041.26,890.978 1020.32,885.305 999.426,879.644 978.571,873.995 957.756,868.356 936.976,862.727 916.229,857.107 895.513,851.495 874.825,845.89 854.161,840.293 833.52,834.701 812.898,829.114 792.292,823.532 771.7,817.954 751.12,812.379 730.547,806.806 709.981,801.234 689.416,795.663 \"/>\n",
       "<polyline clip-path=\"url(#clip352)\" style=\"stroke:#000000; stroke-linecap:round; stroke-linejoin:round; stroke-width:4; stroke-opacity:1; fill:none\" points=\"719.457,822.45 689.416,795.663 728.871,787.703 \"/>\n",
       "<polyline clip-path=\"url(#clip352)\" style=\"stroke:#000000; stroke-linecap:round; stroke-linejoin:round; stroke-width:4; stroke-opacity:1; fill:none\" points=\"689.416,795.663 709.981,801.234 \"/>\n",
       "<polyline clip-path=\"url(#clip352)\" style=\"stroke:#000000; stroke-linecap:round; stroke-linejoin:round; stroke-width:4; stroke-opacity:1; fill:none\" points=\"1737.68,1079.64 1725.44,1085.03 1713.21,1090.41 1700.98,1095.8 1688.76,1101.18 1676.55,1106.55 1664.35,1111.92 1652.17,1117.28 1640.01,1122.64 1627.87,1127.98 1615.76,1133.31 1603.67,1138.64 1591.62,1143.94 1579.59,1149.24 1567.61,1154.51 1555.66,1159.77 1543.75,1165.01 1531.89,1170.24 1520.07,1175.44 1508.31,1180.62 1496.6,1185.77 1484.94,1190.91 1473.34,1196.01 1461.8,1201.09 1450.33,1206.15 1438.92,1211.17 1427.57,1216.16 1416.29,1221.13 1405.08,1226.07 1393.92,1230.98 1382.81,1235.87 1371.76,1240.73 1360.75,1245.58 1349.8,1250.4 1338.89,1255.2 1328.02,1259.99 1317.19,1264.76 1306.39,1269.51 1295.63,1274.25 1284.9,1278.97 1274.19,1283.69 1263.51,1288.39 1252.86,1293.08 1242.22,1297.76 1231.6,1302.44 1220.99,1307.11 1210.39,1311.77 1199.8,1316.44 1189.22,1321.09 1178.64,1325.75 \"/>\n",
       "<polyline clip-path=\"url(#clip352)\" style=\"stroke:#000000; stroke-linecap:round; stroke-linejoin:round; stroke-width:4; stroke-opacity:1; fill:none\" points=\"1218.84,1327.72 1178.64,1325.75 1204.34,1294.77 \"/>\n",
       "<polyline clip-path=\"url(#clip352)\" style=\"stroke:#000000; stroke-linecap:round; stroke-linejoin:round; stroke-width:4; stroke-opacity:1; fill:none\" points=\"1178.64,1325.75 1189.22,1321.09 \"/>\n",
       "<polyline clip-path=\"url(#clip352)\" style=\"stroke:#000000; stroke-linecap:round; stroke-linejoin:round; stroke-width:4; stroke-opacity:1; fill:none\" points=\"1034.95,262.317 1027.07,273.442 1019.19,284.562 1011.32,295.675 1003.45,306.776 995.602,317.862 987.762,328.928 979.939,339.97 972.136,350.985 964.355,361.969 956.598,372.918 948.869,383.828 941.171,394.695 933.506,405.515 925.877,416.285 918.286,426.999 910.737,437.656 903.232,448.25 895.774,458.777 888.366,469.234 881.01,479.618 873.71,489.923 866.468,500.146 859.286,510.283 852.168,520.331 845.116,530.285 838.131,540.146 831.209,549.916 824.348,559.601 817.545,569.205 810.797,578.73 804.102,588.181 797.456,597.561 790.858,606.876 784.303,616.128 777.791,625.321 771.316,634.46 764.878,643.548 758.473,652.589 752.099,661.588 745.752,670.547 739.429,679.471 733.129,688.364 726.849,697.23 720.585,706.072 714.334,714.895 708.095,723.702 701.864,732.498 695.639,741.285 689.416,750.069 \"/>\n",
       "<polyline clip-path=\"url(#clip352)\" style=\"stroke:#000000; stroke-linecap:round; stroke-linejoin:round; stroke-width:4; stroke-opacity:1; fill:none\" points=\"724.915,731.099 689.416,750.069 695.539,710.288 \"/>\n",
       "<polyline clip-path=\"url(#clip352)\" style=\"stroke:#000000; stroke-linecap:round; stroke-linejoin:round; stroke-width:4; stroke-opacity:1; fill:none\" points=\"689.416,750.069 695.639,741.285 \"/>\n",
       "<polyline clip-path=\"url(#clip352)\" style=\"stroke:#000000; stroke-linecap:round; stroke-linejoin:round; stroke-width:4; stroke-opacity:1; fill:none\" points=\"1034.95,262.317 1048.2,264.027 1061.45,265.736 1074.7,267.445 1087.93,269.152 1101.16,270.859 1114.37,272.563 1127.56,274.265 1140.74,275.965 1153.89,277.662 1167.02,279.355 1180.12,281.046 1193.19,282.732 1206.23,284.414 1219.23,286.091 1232.19,287.763 1245.11,289.43 1257.99,291.091 1270.82,292.746 1283.6,294.395 1296.32,296.037 1309,297.672 1321.61,299.299 1334.16,300.919 1346.65,302.53 1359.08,304.133 1371.43,305.727 1383.73,307.313 1395.96,308.891 1408.13,310.462 1420.25,312.025 1432.32,313.582 1444.34,315.132 1456.31,316.677 1468.23,318.215 1480.12,319.749 1491.96,321.277 1503.77,322.8 1515.55,324.32 1527.3,325.835 1539.02,327.347 1550.71,328.856 1562.38,330.361 1574.03,331.865 1585.67,333.366 1597.29,334.865 1608.9,336.363 1620.5,337.86 1632.1,339.356 1643.7,340.852 \"/>\n",
       "<polyline clip-path=\"url(#clip352)\" style=\"stroke:#000000; stroke-linecap:round; stroke-linejoin:round; stroke-width:4; stroke-opacity:1; fill:none\" points=\"1610.3,318.393 1643.7,340.852 1605.69,354.098 \"/>\n",
       "<polyline clip-path=\"url(#clip352)\" style=\"stroke:#000000; stroke-linecap:round; stroke-linejoin:round; stroke-width:4; stroke-opacity:1; fill:none\" points=\"1643.7,340.852 1632.1,339.356 \"/>\n",
       "<polyline clip-path=\"url(#clip352)\" style=\"stroke:#000000; stroke-linecap:round; stroke-linejoin:round; stroke-width:4; stroke-opacity:1; fill:none\" points=\"1034.95,262.317 1037.38,284.705 1039.8,307.089 1042.23,329.463 1044.65,351.825 1047.08,374.168 1049.5,396.49 1051.91,418.785 1054.33,441.049 1056.74,463.278 1059.14,485.467 1061.55,507.612 1063.94,529.708 1066.33,551.751 1068.71,573.736 1071.09,595.66 1073.46,617.517 1075.82,639.303 1078.18,661.015 1080.52,682.646 1082.86,704.194 1085.19,725.653 1087.5,747.02 1089.81,768.289 1092.1,789.456 1094.39,810.517 1096.66,831.473 1098.92,852.326 1101.17,873.083 1103.41,893.746 1105.64,914.321 1107.86,934.812 1110.08,955.224 1112.28,975.56 1114.48,995.826 1116.67,1016.02 1118.85,1036.16 1121.03,1056.24 1123.2,1076.27 1125.37,1096.25 1127.53,1116.18 1129.68,1136.07 1131.84,1155.93 1133.99,1175.76 1136.13,1195.56 1138.28,1215.34 1140.42,1235.1 1142.56,1254.85 1144.7,1274.59 1146.84,1294.32 \"/>\n",
       "<polyline clip-path=\"url(#clip352)\" style=\"stroke:#000000; stroke-linecap:round; stroke-linejoin:round; stroke-width:4; stroke-opacity:1; fill:none\" points=\"1160.86,1256.59 1146.84,1294.32 1125.07,1260.47 \"/>\n",
       "<polyline clip-path=\"url(#clip352)\" style=\"stroke:#000000; stroke-linecap:round; stroke-linejoin:round; stroke-width:4; stroke-opacity:1; fill:none\" points=\"1146.84,1294.32 1144.7,1274.59 \"/>\n",
       "<polyline clip-path=\"url(#clip352)\" style=\"stroke:#000000; stroke-linecap:round; stroke-linejoin:round; stroke-width:4; stroke-opacity:1; fill:none\" points=\"662.317,788.322 683.174,779.14 704.029,769.959 724.878,760.78 745.719,751.605 766.548,742.435 787.364,733.271 808.163,724.115 828.943,714.966 849.701,705.828 870.434,696.701 891.139,687.585 911.814,678.483 932.455,669.396 953.061,660.325 973.628,651.27 994.154,642.234 1014.63,633.217 1035.07,624.221 1055.45,615.247 1075.79,606.296 1096.06,597.369 1116.28,588.468 1136.44,579.594 1156.53,570.747 1176.56,561.93 1196.52,553.142 1216.42,544.382 1236.26,535.649 1256.04,526.941 1275.76,518.257 1295.44,509.597 1315.06,500.959 1334.63,492.341 1354.16,483.743 1373.65,475.163 1393.1,466.6 1412.52,458.053 1431.9,449.52 1451.25,441.001 1470.57,432.494 1489.87,423.998 1509.15,415.512 1528.41,407.034 1547.65,398.563 1566.87,390.099 1586.09,381.64 1605.3,373.184 1624.5,364.73 1643.7,356.278 \"/>\n",
       "<polyline clip-path=\"url(#clip352)\" style=\"stroke:#000000; stroke-linecap:round; stroke-linejoin:round; stroke-width:4; stroke-opacity:1; fill:none\" points=\"1603.5,354.309 1643.7,356.278 1618,387.257 \"/>\n",
       "<polyline clip-path=\"url(#clip352)\" style=\"stroke:#000000; stroke-linecap:round; stroke-linejoin:round; stroke-width:4; stroke-opacity:1; fill:none\" points=\"1643.7,356.278 1624.5,364.73 \"/>\n",
       "<polyline clip-path=\"url(#clip352)\" style=\"stroke:#000000; stroke-linecap:round; stroke-linejoin:round; stroke-width:4; stroke-opacity:1; fill:none\" points=\"1670.8,344.348 1659.97,365.062 1649.14,385.771 1638.32,406.472 1627.51,427.159 1616.7,447.829 1605.91,468.476 1595.13,489.097 1584.37,509.687 1573.62,530.242 1562.9,550.757 1552.2,571.227 1541.52,591.649 1530.87,612.018 1520.26,632.329 1509.67,652.579 1499.12,672.762 1488.61,692.874 1478.13,712.912 1467.7,732.869 1457.31,752.743 1446.97,772.528 1436.68,792.22 1426.43,811.815 1416.24,831.308 1406.11,850.695 1396.03,869.977 1386,889.156 1376.03,908.239 1366.1,927.228 1356.22,946.129 1346.39,964.946 1336.59,983.683 1326.84,1002.35 1317.12,1020.94 1307.43,1039.46 1297.78,1057.93 1288.16,1076.33 1278.57,1094.68 1269,1112.99 1259.45,1131.25 1249.93,1149.47 1240.42,1167.65 1230.93,1185.81 1221.46,1203.93 1211.99,1222.04 1202.54,1240.12 1193.09,1258.2 1183.65,1276.26 1174.21,1294.32 \"/>\n",
       "<polyline clip-path=\"url(#clip352)\" style=\"stroke:#000000; stroke-linecap:round; stroke-linejoin:round; stroke-width:4; stroke-opacity:1; fill:none\" points=\"1206.84,1270.76 1174.21,1294.32 1174.93,1254.08 \"/>\n",
       "<polyline clip-path=\"url(#clip352)\" style=\"stroke:#000000; stroke-linecap:round; stroke-linejoin:round; stroke-width:4; stroke-opacity:1; fill:none\" points=\"1174.21,1294.32 1183.65,1276.26 \"/>\n",
       "<path clip-path=\"url(#clip352)\" d=\"M1331.93 707.11 L1440.7 707.11 L1440.7 634.845 L1331.93 634.845 L1331.93 707.11 L1331.93 707.11  Z\" fill=\"#ffffff\" fill-rule=\"evenodd\" fill-opacity=\"1\"/>\n",
       "<polyline clip-path=\"url(#clip352)\" style=\"stroke:#000000; stroke-linecap:round; stroke-linejoin:round; stroke-width:0; stroke-opacity:0; fill:none\" points=\"1331.93,707.11 1440.7,707.11 1440.7,634.845 1331.93,634.845 1331.93,707.11 \"/>\n",
       "<path clip-path=\"url(#clip352)\" d=\"M1145.62 970.112 L1254.38 970.112 L1254.38 897.848 L1145.62 897.848 L1145.62 970.112 L1145.62 970.112  Z\" fill=\"#ffffff\" fill-rule=\"evenodd\" fill-opacity=\"1\"/>\n",
       "<polyline clip-path=\"url(#clip352)\" style=\"stroke:#000000; stroke-linecap:round; stroke-linejoin:round; stroke-width:0; stroke-opacity:0; fill:none\" points=\"1145.62,970.112 1254.38,970.112 1254.38,897.848 1145.62,897.848 1145.62,970.112 \"/>\n",
       "<path clip-path=\"url(#clip352)\" d=\"M1390.23 1244.79 L1499 1244.79 L1499 1172.53 L1390.23 1172.53 L1390.23 1244.79 L1390.23 1244.79  Z\" fill=\"#ffffff\" fill-rule=\"evenodd\" fill-opacity=\"1\"/>\n",
       "<polyline clip-path=\"url(#clip352)\" style=\"stroke:#000000; stroke-linecap:round; stroke-linejoin:round; stroke-width:0; stroke-opacity:0; fill:none\" points=\"1390.23,1244.79 1499,1244.79 1499,1172.53 1390.23,1172.53 1390.23,1244.79 \"/>\n",
       "<path clip-path=\"url(#clip352)\" d=\"M794.25 561.452 L903.018 561.452 L903.018 489.187 L794.25 489.187 L794.25 561.452 L794.25 561.452  Z\" fill=\"#ffffff\" fill-rule=\"evenodd\" fill-opacity=\"1\"/>\n",
       "<polyline clip-path=\"url(#clip352)\" style=\"stroke:#000000; stroke-linecap:round; stroke-linejoin:round; stroke-width:0; stroke-opacity:0; fill:none\" points=\"794.25,561.452 903.018,561.452 903.018,489.187 794.25,489.187 794.25,561.452 \"/>\n",
       "<path clip-path=\"url(#clip352)\" d=\"M1298.49 339.465 L1407.26 339.465 L1407.26 267.2 L1298.49 267.2 L1298.49 339.465 L1298.49 339.465  Z\" fill=\"#ffffff\" fill-rule=\"evenodd\" fill-opacity=\"1\"/>\n",
       "<polyline clip-path=\"url(#clip352)\" style=\"stroke:#000000; stroke-linecap:round; stroke-linejoin:round; stroke-width:0; stroke-opacity:0; fill:none\" points=\"1298.49,339.465 1407.26,339.465 1407.26,267.2 1298.49,267.2 1298.49,339.465 \"/>\n",
       "<path clip-path=\"url(#clip352)\" d=\"M1038.86 836.132 L1147.63 836.132 L1147.63 763.868 L1038.86 763.868 L1038.86 836.132 L1038.86 836.132  Z\" fill=\"#ffffff\" fill-rule=\"evenodd\" fill-opacity=\"1\"/>\n",
       "<polyline clip-path=\"url(#clip352)\" style=\"stroke:#000000; stroke-linecap:round; stroke-linejoin:round; stroke-width:0; stroke-opacity:0; fill:none\" points=\"1038.86,836.132 1147.63,836.132 1147.63,763.868 1038.86,763.868 1038.86,836.132 \"/>\n",
       "<path clip-path=\"url(#clip352)\" d=\"M1098.1 602.467 L1235.01 602.467 L1235.01 530.203 L1098.1 530.203 L1098.1 602.467 L1098.1 602.467  Z\" fill=\"#ffffff\" fill-rule=\"evenodd\" fill-opacity=\"1\"/>\n",
       "<polyline clip-path=\"url(#clip352)\" style=\"stroke:#000000; stroke-linecap:round; stroke-linejoin:round; stroke-width:0; stroke-opacity:0; fill:none\" points=\"1098.1,602.467 1235.01,602.467 1235.01,530.203 1098.1,530.203 1098.1,602.467 \"/>\n",
       "<path clip-path=\"url(#clip352)\" d=\"M1356.78 877.148 L1465.55 877.148 L1465.55 804.883 L1356.78 804.883 L1356.78 877.148 L1356.78 877.148  Z\" fill=\"#ffffff\" fill-rule=\"evenodd\" fill-opacity=\"1\"/>\n",
       "<polyline clip-path=\"url(#clip352)\" style=\"stroke:#000000; stroke-linecap:round; stroke-linejoin:round; stroke-width:0; stroke-opacity:0; fill:none\" points=\"1356.78,877.148 1465.55,877.148 1465.55,804.883 1356.78,804.883 1356.78,877.148 \"/>\n",
       "<path clip-path=\"url(#clip352)\" d=\"M1710.58 1123 L1764.78 1123 L1764.78 1036.28 L1710.58 1036.28 L1710.58 1123 L1710.58 1123  Z\" fill=\"#009af9\" fill-rule=\"evenodd\" fill-opacity=\"1\"/>\n",
       "<polyline clip-path=\"url(#clip352)\" style=\"stroke:#000000; stroke-linecap:round; stroke-linejoin:round; stroke-width:4; stroke-opacity:1; fill:none\" points=\"1710.58,1123 1764.78,1123 1764.78,1036.28 1710.58,1036.28 1710.58,1123 \"/>\n",
       "<path clip-path=\"url(#clip352)\" d=\"M1007.85 305.676 L1062.05 305.676 L1062.05 218.958 L1007.85 218.958 L1007.85 305.676 L1007.85 305.676  Z\" fill=\"#009af9\" fill-rule=\"evenodd\" fill-opacity=\"1\"/>\n",
       "<polyline clip-path=\"url(#clip352)\" style=\"stroke:#000000; stroke-linecap:round; stroke-linejoin:round; stroke-width:4; stroke-opacity:1; fill:none\" points=\"1007.85,305.676 1062.05,305.676 1062.05,218.958 1007.85,218.958 1007.85,305.676 \"/>\n",
       "<path clip-path=\"url(#clip352)\" d=\"M635.218 831.681 L689.416 831.681 L689.416 744.963 L635.218 744.963 L635.218 831.681 L635.218 831.681  Z\" fill=\"#009af9\" fill-rule=\"evenodd\" fill-opacity=\"1\"/>\n",
       "<polyline clip-path=\"url(#clip352)\" style=\"stroke:#000000; stroke-linecap:round; stroke-linejoin:round; stroke-width:4; stroke-opacity:1; fill:none\" points=\"635.218,831.681 689.416,831.681 689.416,744.963 635.218,744.963 635.218,831.681 \"/>\n",
       "<path clip-path=\"url(#clip352)\" d=\"M1643.7 387.707 L1697.89 387.707 L1697.89 300.989 L1643.7 300.989 L1643.7 387.707 L1643.7 387.707  Z\" fill=\"#009af9\" fill-rule=\"evenodd\" fill-opacity=\"1\"/>\n",
       "<polyline clip-path=\"url(#clip352)\" style=\"stroke:#000000; stroke-linecap:round; stroke-linejoin:round; stroke-width:4; stroke-opacity:1; fill:none\" points=\"1643.7,387.707 1697.89,387.707 1697.89,300.989 1643.7,300.989 1643.7,387.707 \"/>\n",
       "<path clip-path=\"url(#clip352)\" d=\"M1124.44 1381.04 L1178.64 1381.04 L1178.64 1294.32 L1124.44 1294.32 L1124.44 1381.04 L1124.44 1381.04  Z\" fill=\"#009af9\" fill-rule=\"evenodd\" fill-opacity=\"1\"/>\n",
       "<polyline clip-path=\"url(#clip352)\" style=\"stroke:#000000; stroke-linecap:round; stroke-linejoin:round; stroke-width:4; stroke-opacity:1; fill:none\" points=\"1124.44,1381.04 1178.64,1381.04 1178.64,1294.32 1124.44,1294.32 1124.44,1381.04 \"/>\n",
       "<path clip-path=\"url(#clip352)\" d=\"M1737.28 1079.24 L1737.28 1080.04 L1738.08 1080.04 L1738.08 1079.24 L1737.28 1079.24 Z\" fill=\"#009af9\" fill-rule=\"evenodd\" fill-opacity=\"1\" stroke=\"#000000\" stroke-opacity=\"1\" stroke-width=\"3.2\"/>\n",
       "<path clip-path=\"url(#clip352)\" d=\"M1034.55 261.917 L1034.55 262.717 L1035.35 262.717 L1035.35 261.917 L1034.55 261.917 Z\" fill=\"#009af9\" fill-rule=\"evenodd\" fill-opacity=\"1\" stroke=\"#000000\" stroke-opacity=\"1\" stroke-width=\"3.2\"/>\n",
       "<path clip-path=\"url(#clip352)\" d=\"M661.917 787.922 L661.917 788.722 L662.717 788.722 L662.717 787.922 L661.917 787.922 Z\" fill=\"#009af9\" fill-rule=\"evenodd\" fill-opacity=\"1\" stroke=\"#000000\" stroke-opacity=\"1\" stroke-width=\"3.2\"/>\n",
       "<path clip-path=\"url(#clip352)\" d=\"M1670.4 343.948 L1670.4 344.748 L1671.2 344.748 L1671.2 343.948 L1670.4 343.948 Z\" fill=\"#009af9\" fill-rule=\"evenodd\" fill-opacity=\"1\" stroke=\"#000000\" stroke-opacity=\"1\" stroke-width=\"3.2\"/>\n",
       "<path clip-path=\"url(#clip352)\" d=\"M1151.14 1337.28 L1151.14 1338.08 L1151.94 1338.08 L1151.94 1337.28 L1151.14 1337.28 Z\" fill=\"#009af9\" fill-rule=\"evenodd\" fill-opacity=\"1\" stroke=\"#000000\" stroke-opacity=\"1\" stroke-width=\"3.2\"/>\n",
       "<path clip-path=\"url(#clip350)\" d=\"M1357.96 685.47 L1357.96 681.743 Q1359.5 682.472 1361.08 682.857 Q1362.66 683.242 1364.18 683.242 Q1368.23 683.242 1370.36 680.527 Q1372.5 677.793 1372.81 672.243 Q1371.63 673.985 1369.83 674.917 Q1368.03 675.849 1365.84 675.849 Q1361.3 675.849 1358.65 673.114 Q1356.02 670.36 1356.02 665.6 Q1356.02 660.941 1358.77 658.126 Q1361.53 655.311 1366.1 655.311 Q1371.35 655.311 1374.1 659.341 Q1376.88 663.352 1376.88 671.008 Q1376.88 678.158 1373.48 682.431 Q1370.09 686.685 1364.36 686.685 Q1362.82 686.685 1361.24 686.381 Q1359.66 686.077 1357.96 685.47 M1366.1 672.648 Q1368.86 672.648 1370.46 670.765 Q1372.08 668.881 1372.08 665.6 Q1372.08 662.339 1370.46 660.455 Q1368.86 658.551 1366.1 658.551 Q1363.35 658.551 1361.73 660.455 Q1360.13 662.339 1360.13 665.6 Q1360.13 668.881 1361.73 670.765 Q1363.35 672.648 1366.1 672.648 Z\" fill=\"#000000\" fill-rule=\"nonzero\" fill-opacity=\"1\" /><path clip-path=\"url(#clip350)\" d=\"M1384.23 680.953 L1388.5 680.953 L1388.5 686.097 L1384.23 686.097 L1384.23 680.953 Z\" fill=\"#000000\" fill-rule=\"nonzero\" fill-opacity=\"1\" /><path clip-path=\"url(#clip350)\" d=\"M1406.17 658.551 Q1403.01 658.551 1401.41 661.67 Q1399.83 664.769 1399.83 671.008 Q1399.83 677.226 1401.41 680.345 Q1403.01 683.444 1406.17 683.444 Q1409.35 683.444 1410.93 680.345 Q1412.53 677.226 1412.53 671.008 Q1412.53 664.769 1410.93 661.67 Q1409.35 658.551 1406.17 658.551 M1406.17 655.311 Q1411.25 655.311 1413.92 659.341 Q1416.62 663.352 1416.62 671.008 Q1416.62 678.644 1413.92 682.674 Q1411.25 686.685 1406.17 686.685 Q1401.08 686.685 1398.39 682.674 Q1395.71 678.644 1395.71 671.008 Q1395.71 663.352 1398.39 659.341 Q1401.08 655.311 1406.17 655.311 Z\" fill=\"#000000\" fill-rule=\"nonzero\" fill-opacity=\"1\" /><path clip-path=\"url(#clip350)\" d=\"M1183.06 922.425 L1172.73 938.568 L1183.06 938.568 L1183.06 922.425 M1181.98 918.86 L1187.13 918.86 L1187.13 938.568 L1191.44 938.568 L1191.44 941.97 L1187.13 941.97 L1187.13 949.1 L1183.06 949.1 L1183.06 941.97 L1169.41 941.97 L1169.41 938.021 L1181.98 918.86 Z\" fill=\"#000000\" fill-rule=\"nonzero\" fill-opacity=\"1\" /><path clip-path=\"url(#clip350)\" d=\"M1198.21 943.955 L1202.48 943.955 L1202.48 949.1 L1198.21 949.1 L1198.21 943.955 Z\" fill=\"#000000\" fill-rule=\"nonzero\" fill-opacity=\"1\" /><path clip-path=\"url(#clip350)\" d=\"M1220.14 921.554 Q1216.98 921.554 1215.38 924.673 Q1213.8 927.772 1213.8 934.01 Q1213.8 940.228 1215.38 943.348 Q1216.98 946.447 1220.14 946.447 Q1223.32 946.447 1224.9 943.348 Q1226.5 940.228 1226.5 934.01 Q1226.5 927.772 1224.9 924.673 Q1223.32 921.554 1220.14 921.554 M1220.14 918.313 Q1225.23 918.313 1227.9 922.344 Q1230.59 926.354 1230.59 934.01 Q1230.59 941.646 1227.9 945.677 Q1225.23 949.687 1220.14 949.687 Q1215.06 949.687 1212.37 945.677 Q1209.69 941.646 1209.69 934.01 Q1209.69 926.354 1212.37 922.344 Q1215.06 918.313 1220.14 918.313 Z\" fill=\"#000000\" fill-rule=\"nonzero\" fill-opacity=\"1\" /><path clip-path=\"url(#clip350)\" d=\"M1414.71 1193.54 L1434.15 1193.54 L1434.15 1195.28 L1423.17 1223.78 L1418.9 1223.78 L1429.23 1196.98 L1414.71 1196.98 L1414.71 1193.54 Z\" fill=\"#000000\" fill-rule=\"nonzero\" fill-opacity=\"1\" /><path clip-path=\"url(#clip350)\" d=\"M1442.13 1218.64 L1446.4 1218.64 L1446.4 1223.78 L1442.13 1223.78 L1442.13 1218.64 Z\" fill=\"#000000\" fill-rule=\"nonzero\" fill-opacity=\"1\" /><path clip-path=\"url(#clip350)\" d=\"M1464.07 1196.23 Q1460.91 1196.23 1459.31 1199.35 Q1457.73 1202.45 1457.73 1208.69 Q1457.73 1214.91 1459.31 1218.03 Q1460.91 1221.13 1464.07 1221.13 Q1467.25 1221.13 1468.83 1218.03 Q1470.43 1214.91 1470.43 1208.69 Q1470.43 1202.45 1468.83 1199.35 Q1467.25 1196.23 1464.07 1196.23 M1464.07 1192.99 Q1469.15 1192.99 1471.82 1197.02 Q1474.52 1201.03 1474.52 1208.69 Q1474.52 1216.33 1471.82 1220.36 Q1469.15 1224.37 1464.07 1224.37 Q1458.98 1224.37 1456.29 1220.36 Q1453.62 1216.33 1453.62 1208.69 Q1453.62 1201.03 1456.29 1197.02 Q1458.98 1192.99 1464.07 1192.99 Z\" fill=\"#000000\" fill-rule=\"nonzero\" fill-opacity=\"1\" /><path clip-path=\"url(#clip350)\" d=\"M823.468 536.996 L837.747 536.996 L837.747 540.44 L818.546 540.44 L818.546 536.996 Q820.875 534.586 824.885 530.535 Q828.916 526.464 829.949 525.289 Q831.914 523.082 832.683 521.562 Q833.473 520.023 833.473 518.545 Q833.473 516.134 831.772 514.615 Q830.091 513.096 827.377 513.096 Q825.453 513.096 823.306 513.764 Q821.179 514.433 818.748 515.79 L818.748 511.658 Q821.219 510.666 823.366 510.159 Q825.513 509.653 827.296 509.653 Q831.995 509.653 834.79 512.002 Q837.585 514.352 837.585 518.281 Q837.585 520.145 836.876 521.826 Q836.187 523.487 834.344 525.755 Q833.838 526.343 831.124 529.158 Q828.41 531.953 823.468 536.996 Z\" fill=\"#000000\" fill-rule=\"nonzero\" fill-opacity=\"1\" /><path clip-path=\"url(#clip350)\" d=\"M846.335 535.295 L850.609 535.295 L850.609 540.44 L846.335 540.44 L846.335 535.295 Z\" fill=\"#000000\" fill-rule=\"nonzero\" fill-opacity=\"1\" /><path clip-path=\"url(#clip350)\" d=\"M868.271 512.894 Q865.111 512.894 863.511 516.013 Q861.931 519.112 861.931 525.35 Q861.931 531.568 863.511 534.687 Q865.111 537.786 868.271 537.786 Q871.451 537.786 873.03 534.687 Q874.63 531.568 874.63 525.35 Q874.63 519.112 873.03 516.013 Q871.451 512.894 868.271 512.894 M868.271 509.653 Q873.354 509.653 876.028 513.683 Q878.722 517.694 878.722 525.35 Q878.722 532.986 876.028 537.017 Q873.354 541.027 868.271 541.027 Q863.187 541.027 860.493 537.017 Q857.819 532.986 857.819 525.35 Q857.819 517.694 860.493 513.683 Q863.187 509.653 868.271 509.653 Z\" fill=\"#000000\" fill-rule=\"nonzero\" fill-opacity=\"1\" /><path clip-path=\"url(#clip350)\" d=\"M1324.13 315.009 L1330.82 315.009 L1330.82 291.939 L1323.54 293.398 L1323.54 289.671 L1330.78 288.213 L1334.87 288.213 L1334.87 315.009 L1341.55 315.009 L1341.55 318.453 L1324.13 318.453 L1324.13 315.009 Z\" fill=\"#000000\" fill-rule=\"nonzero\" fill-opacity=\"1\" /><path clip-path=\"url(#clip350)\" d=\"M1349.81 313.308 L1354.09 313.308 L1354.09 318.453 L1349.81 318.453 L1349.81 313.308 Z\" fill=\"#000000\" fill-rule=\"nonzero\" fill-opacity=\"1\" /><path clip-path=\"url(#clip350)\" d=\"M1371.75 290.906 Q1368.59 290.906 1366.99 294.026 Q1365.41 297.124 1365.41 303.363 Q1365.41 309.581 1366.99 312.7 Q1368.59 315.799 1371.75 315.799 Q1374.93 315.799 1376.51 312.7 Q1378.11 309.581 1378.11 303.363 Q1378.11 297.124 1376.51 294.026 Q1374.93 290.906 1371.75 290.906 M1371.75 287.666 Q1376.83 287.666 1379.51 291.696 Q1382.2 295.707 1382.2 303.363 Q1382.2 310.999 1379.51 315.029 Q1376.83 319.04 1371.75 319.04 Q1366.67 319.04 1363.97 315.029 Q1361.3 310.999 1361.3 303.363 Q1361.3 295.707 1363.97 291.696 Q1366.67 287.666 1371.75 287.666 Z\" fill=\"#000000\" fill-rule=\"nonzero\" fill-opacity=\"1\" /><path clip-path=\"url(#clip350)\" d=\"M1063.34 784.88 L1082.78 784.88 L1082.78 786.622 L1071.81 815.12 L1067.53 815.12 L1077.86 788.323 L1063.34 788.323 L1063.34 784.88 Z\" fill=\"#000000\" fill-rule=\"nonzero\" fill-opacity=\"1\" /><path clip-path=\"url(#clip350)\" d=\"M1090.76 809.975 L1095.04 809.975 L1095.04 815.12 L1090.76 815.12 L1090.76 809.975 Z\" fill=\"#000000\" fill-rule=\"nonzero\" fill-opacity=\"1\" /><path clip-path=\"url(#clip350)\" d=\"M1112.7 787.574 Q1109.54 787.574 1107.94 790.693 Q1106.36 793.792 1106.36 800.03 Q1106.36 806.249 1107.94 809.368 Q1109.54 812.467 1112.7 812.467 Q1115.88 812.467 1117.46 809.368 Q1119.06 806.249 1119.06 800.03 Q1119.06 793.792 1117.46 790.693 Q1115.88 787.574 1112.7 787.574 M1112.7 784.333 Q1117.78 784.333 1120.46 788.364 Q1123.15 792.374 1123.15 800.03 Q1123.15 807.666 1120.46 811.697 Q1117.78 815.707 1112.7 815.707 Q1107.62 815.707 1104.92 811.697 Q1102.25 807.666 1102.25 800.03 Q1102.25 792.374 1104.92 788.364 Q1107.62 784.333 1112.7 784.333 Z\" fill=\"#000000\" fill-rule=\"nonzero\" fill-opacity=\"1\" /><path clip-path=\"url(#clip350)\" d=\"M1124.62 578.012 L1131.3 578.012 L1131.3 554.942 L1124.03 556.4 L1124.03 552.673 L1131.26 551.215 L1135.35 551.215 L1135.35 578.012 L1142.04 578.012 L1142.04 581.455 L1124.62 581.455 L1124.62 578.012 Z\" fill=\"#000000\" fill-rule=\"nonzero\" fill-opacity=\"1\" /><path clip-path=\"url(#clip350)\" d=\"M1159.05 553.909 Q1155.89 553.909 1154.29 557.028 Q1152.71 560.127 1152.71 566.365 Q1152.71 572.584 1154.29 575.703 Q1155.89 578.802 1159.05 578.802 Q1162.23 578.802 1163.81 575.703 Q1165.41 572.584 1165.41 566.365 Q1165.41 560.127 1163.81 557.028 Q1162.23 553.909 1159.05 553.909 M1159.05 550.668 Q1164.14 550.668 1166.81 554.699 Q1169.5 558.709 1169.5 566.365 Q1169.5 574.001 1166.81 578.032 Q1164.14 582.042 1159.05 582.042 Q1153.97 582.042 1151.27 578.032 Q1148.6 574.001 1148.6 566.365 Q1148.6 558.709 1151.27 554.699 Q1153.97 550.668 1159.05 550.668 Z\" fill=\"#000000\" fill-rule=\"nonzero\" fill-opacity=\"1\" /><path clip-path=\"url(#clip350)\" d=\"M1176.69 576.31 L1180.97 576.31 L1180.97 581.455 L1176.69 581.455 L1176.69 576.31 Z\" fill=\"#000000\" fill-rule=\"nonzero\" fill-opacity=\"1\" /><path clip-path=\"url(#clip350)\" d=\"M1198.63 553.909 Q1195.47 553.909 1193.87 557.028 Q1192.29 560.127 1192.29 566.365 Q1192.29 572.584 1193.87 575.703 Q1195.47 578.802 1198.63 578.802 Q1201.81 578.802 1203.39 575.703 Q1204.99 572.584 1204.99 566.365 Q1204.99 560.127 1203.39 557.028 Q1201.81 553.909 1198.63 553.909 M1198.63 550.668 Q1203.71 550.668 1206.39 554.699 Q1209.08 558.709 1209.08 566.365 Q1209.08 574.001 1206.39 578.032 Q1203.71 582.042 1198.63 582.042 Q1193.55 582.042 1190.85 578.032 Q1188.18 574.001 1188.18 566.365 Q1188.18 558.709 1190.85 554.699 Q1193.55 550.668 1198.63 550.668 Z\" fill=\"#000000\" fill-rule=\"nonzero\" fill-opacity=\"1\" /><path clip-path=\"url(#clip350)\" d=\"M1382.44 825.895 L1398.5 825.895 L1398.5 829.339 L1386.18 829.339 L1386.18 836.752 Q1387.08 836.448 1387.97 836.306 Q1388.86 836.144 1389.75 836.144 Q1394.81 836.144 1397.77 838.919 Q1400.73 841.694 1400.73 846.433 Q1400.73 851.315 1397.69 854.029 Q1394.65 856.723 1389.12 856.723 Q1387.22 856.723 1385.23 856.399 Q1383.27 856.075 1381.16 855.426 L1381.16 851.315 Q1382.98 852.307 1384.93 852.793 Q1386.87 853.279 1389.04 853.279 Q1392.54 853.279 1394.59 851.436 Q1396.64 849.593 1396.64 846.433 Q1396.64 843.274 1394.59 841.431 Q1392.54 839.587 1389.04 839.587 Q1387.4 839.587 1385.76 839.952 Q1384.14 840.317 1382.44 841.086 L1382.44 825.895 Z\" fill=\"#000000\" fill-rule=\"nonzero\" fill-opacity=\"1\" /><path clip-path=\"url(#clip350)\" d=\"M1408.79 850.991 L1413.06 850.991 L1413.06 856.135 L1408.79 856.135 L1408.79 850.991 Z\" fill=\"#000000\" fill-rule=\"nonzero\" fill-opacity=\"1\" /><path clip-path=\"url(#clip350)\" d=\"M1430.72 828.589 Q1427.56 828.589 1425.96 831.708 Q1424.38 834.807 1424.38 841.046 Q1424.38 847.264 1425.96 850.383 Q1427.56 853.482 1430.72 853.482 Q1433.9 853.482 1435.48 850.383 Q1437.08 847.264 1437.08 841.046 Q1437.08 834.807 1435.48 831.708 Q1433.9 828.589 1430.72 828.589 M1430.72 825.348 Q1435.81 825.348 1438.48 829.379 Q1441.18 833.389 1441.18 841.046 Q1441.18 848.682 1438.48 852.712 Q1435.81 856.723 1430.72 856.723 Q1425.64 856.723 1422.95 852.712 Q1420.27 848.682 1420.27 841.046 Q1420.27 833.389 1422.95 829.379 Q1425.64 825.348 1430.72 825.348 Z\" fill=\"#000000\" fill-rule=\"nonzero\" fill-opacity=\"1\" /><path clip-path=\"url(#clip350)\" d=\"M1729.27 1091.31 L1735.95 1091.31 L1735.95 1068.24 L1728.68 1069.7 L1728.68 1065.98 L1735.91 1064.52 L1740 1064.52 L1740 1091.31 L1746.69 1091.31 L1746.69 1094.76 L1729.27 1094.76 L1729.27 1091.31 Z\" fill=\"#000000\" fill-rule=\"nonzero\" fill-opacity=\"1\" /><path clip-path=\"url(#clip350)\" d=\"M1030.27 273.994 L1044.55 273.994 L1044.55 277.437 L1025.35 277.437 L1025.35 273.994 Q1027.68 271.584 1031.69 267.533 Q1035.72 263.462 1036.75 262.287 Q1038.72 260.079 1039.49 258.56 Q1040.28 257.021 1040.28 255.542 Q1040.28 253.132 1038.58 251.613 Q1036.89 250.094 1034.18 250.094 Q1032.26 250.094 1030.11 250.762 Q1027.98 251.43 1025.55 252.787 L1025.55 248.656 Q1028.02 247.663 1030.17 247.157 Q1032.32 246.65 1034.1 246.65 Q1038.8 246.65 1041.59 249 Q1044.39 251.349 1044.39 255.279 Q1044.39 257.142 1043.68 258.823 Q1042.99 260.484 1041.15 262.753 Q1040.64 263.34 1037.93 266.155 Q1035.21 268.951 1030.27 273.994 Z\" fill=\"#000000\" fill-rule=\"nonzero\" fill-opacity=\"1\" /><path clip-path=\"url(#clip350)\" d=\"M666.034 787.137 Q668.971 787.765 670.611 789.75 Q672.272 791.735 672.272 794.652 Q672.272 799.128 669.194 801.579 Q666.115 804.03 660.444 804.03 Q658.54 804.03 656.514 803.645 Q654.509 803.28 652.362 802.531 L652.362 798.581 Q654.063 799.574 656.089 800.08 Q658.114 800.586 660.322 800.586 Q664.17 800.586 666.176 799.067 Q668.201 797.548 668.201 794.652 Q668.201 791.978 666.317 790.479 Q664.454 788.96 661.112 788.96 L657.588 788.96 L657.588 785.598 L661.274 785.598 Q664.292 785.598 665.892 784.403 Q667.492 783.188 667.492 780.919 Q667.492 778.59 665.831 777.354 Q664.191 776.099 661.112 776.099 Q659.431 776.099 657.507 776.463 Q655.583 776.828 653.274 777.597 L653.274 773.952 Q655.603 773.303 657.628 772.979 Q659.674 772.655 661.477 772.655 Q666.135 772.655 668.849 774.782 Q671.563 776.888 671.563 780.494 Q671.563 783.005 670.125 784.747 Q668.687 786.469 666.034 787.137 Z\" fill=\"#000000\" fill-rule=\"nonzero\" fill-opacity=\"1\" /><path clip-path=\"url(#clip350)\" d=\"M1673.43 332.793 L1663.1 348.935 L1673.43 348.935 L1673.43 332.793 M1672.36 329.228 L1677.5 329.228 L1677.5 348.935 L1681.81 348.935 L1681.81 352.338 L1677.5 352.338 L1677.5 359.468 L1673.43 359.468 L1673.43 352.338 L1659.78 352.338 L1659.78 348.389 L1672.36 329.228 Z\" fill=\"#000000\" fill-rule=\"nonzero\" fill-opacity=\"1\" /><path clip-path=\"url(#clip350)\" d=\"M1143.03 1322.56 L1159.1 1322.56 L1159.1 1326.01 L1146.78 1326.01 L1146.78 1333.42 Q1147.67 1333.12 1148.56 1332.97 Q1149.46 1332.81 1150.35 1332.81 Q1155.41 1332.81 1158.37 1335.59 Q1161.32 1338.36 1161.32 1343.1 Q1161.32 1347.98 1158.29 1350.7 Q1155.25 1353.39 1149.72 1353.39 Q1147.81 1353.39 1145.83 1353.07 Q1143.87 1352.74 1141.76 1352.09 L1141.76 1347.98 Q1143.58 1348.97 1145.53 1349.46 Q1147.47 1349.95 1149.64 1349.95 Q1153.14 1349.95 1155.19 1348.1 Q1157.23 1346.26 1157.23 1343.1 Q1157.23 1339.94 1155.19 1338.1 Q1153.14 1336.25 1149.64 1336.25 Q1148 1336.25 1146.36 1336.62 Q1144.74 1336.98 1143.03 1337.75 L1143.03 1322.56 Z\" fill=\"#000000\" fill-rule=\"nonzero\" fill-opacity=\"1\" /></svg>\n"
      ],
      "text/html": [
       "<?xml version=\"1.0\" encoding=\"utf-8\"?>\n",
       "<svg xmlns=\"http://www.w3.org/2000/svg\" xmlns:xlink=\"http://www.w3.org/1999/xlink\" width=\"600\" height=\"400\" viewBox=\"0 0 2400 1600\">\n",
       "<defs>\n",
       "  <clipPath id=\"clip380\">\n",
       "    <rect x=\"0\" y=\"0\" width=\"2400\" height=\"1600\"/>\n",
       "  </clipPath>\n",
       "</defs>\n",
       "<path clip-path=\"url(#clip380)\" d=\"M0 1600 L2400 1600 L2400 0 L0 0  Z\" fill=\"#ffffff\" fill-rule=\"evenodd\" fill-opacity=\"1\"/>\n",
       "<defs>\n",
       "  <clipPath id=\"clip381\">\n",
       "    <rect x=\"480\" y=\"0\" width=\"1681\" height=\"1600\"/>\n",
       "  </clipPath>\n",
       "</defs>\n",
       "<path clip-path=\"url(#clip380)\" d=\"M447.244 1552.76 L1952.76 1552.76 L1952.76 47.2441 L447.244 47.2441  Z\" fill=\"#ffffff\" fill-rule=\"evenodd\" fill-opacity=\"1\"/>\n",
       "<defs>\n",
       "  <clipPath id=\"clip382\">\n",
       "    <rect x=\"447\" y=\"47\" width=\"1507\" height=\"1507\"/>\n",
       "  </clipPath>\n",
       "</defs>\n",
       "<polyline clip-path=\"url(#clip382)\" style=\"stroke:#000000; stroke-linecap:round; stroke-linejoin:round; stroke-width:4; stroke-opacity:1; fill:none\" points=\"1737.68,1079.64 1723.07,1062.64 1708.45,1045.64 1693.84,1028.65 1679.24,1011.67 1664.65,994.697 1650.07,977.744 1635.51,960.81 1620.97,943.899 1606.46,927.014 1591.96,910.157 1577.5,893.333 1563.06,876.544 1548.66,859.794 1534.29,843.085 1519.97,826.422 1505.68,809.806 1491.44,793.242 1477.25,776.733 1463.1,760.282 1449.01,743.892 1434.97,727.566 1420.99,711.307 1407.07,695.119 1393.22,679.006 1379.43,662.969 1365.71,647.009 1352.05,631.123 1338.45,615.308 1324.91,599.561 1311.43,583.877 1298,568.255 1284.61,552.691 1271.28,537.181 1257.99,521.723 1244.74,506.313 1231.53,490.948 1218.35,475.624 1205.21,460.34 1192.1,445.091 1179.02,429.873 1165.96,414.685 1152.92,399.523 1139.9,384.383 1126.9,369.262 1113.91,354.157 1100.94,339.066 1087.97,323.983 1075.01,308.908 1062.05,293.835 \"/>\n",
       "<polyline clip-path=\"url(#clip382)\" style=\"stroke:#000000; stroke-linecap:round; stroke-linejoin:round; stroke-width:4; stroke-opacity:1; fill:none\" points=\"1071.87,332.868 1062.05,293.835 1099.17,309.397 \"/>\n",
       "<polyline clip-path=\"url(#clip382)\" style=\"stroke:#000000; stroke-linecap:round; stroke-linejoin:round; stroke-width:4; stroke-opacity:1; fill:none\" points=\"1062.05,293.835 1075.01,308.908 \"/>\n",
       "<polyline clip-path=\"url(#clip382)\" style=\"stroke:#000000; stroke-linecap:round; stroke-linejoin:round; stroke-width:4; stroke-opacity:1; fill:none\" points=\"1737.68,1079.64 1715.46,1073.62 1693.24,1067.6 1671.03,1061.58 1648.82,1055.57 1626.63,1049.55 1604.45,1043.54 1582.28,1037.54 1560.14,1031.54 1538.01,1025.55 1515.92,1019.56 1493.85,1013.58 1471.81,1007.61 1449.8,1001.65 1427.83,995.698 1405.9,989.757 1384.01,983.827 1362.16,977.909 1340.36,972.003 1318.61,966.111 1296.91,960.234 1275.27,954.371 1253.69,948.524 1232.16,942.693 1210.71,936.88 1189.31,931.084 1167.98,925.307 1146.72,919.547 1125.52,913.803 1104.37,908.075 1083.29,902.362 1062.25,896.663 1041.26,890.978 1020.32,885.305 999.426,879.644 978.571,873.995 957.756,868.356 936.976,862.727 916.229,857.107 895.513,851.495 874.825,845.89 854.161,840.293 833.52,834.701 812.898,829.114 792.292,823.532 771.7,817.954 751.12,812.379 730.547,806.806 709.981,801.234 689.416,795.663 \"/>\n",
       "<polyline clip-path=\"url(#clip382)\" style=\"stroke:#000000; stroke-linecap:round; stroke-linejoin:round; stroke-width:4; stroke-opacity:1; fill:none\" points=\"719.457,822.45 689.416,795.663 728.871,787.703 \"/>\n",
       "<polyline clip-path=\"url(#clip382)\" style=\"stroke:#000000; stroke-linecap:round; stroke-linejoin:round; stroke-width:4; stroke-opacity:1; fill:none\" points=\"689.416,795.663 709.981,801.234 \"/>\n",
       "<polyline clip-path=\"url(#clip382)\" style=\"stroke:#000000; stroke-linecap:round; stroke-linejoin:round; stroke-width:4; stroke-opacity:1; fill:none\" points=\"1737.68,1079.64 1725.44,1085.03 1713.21,1090.41 1700.98,1095.8 1688.76,1101.18 1676.55,1106.55 1664.35,1111.92 1652.17,1117.28 1640.01,1122.64 1627.87,1127.98 1615.76,1133.31 1603.67,1138.64 1591.62,1143.94 1579.59,1149.24 1567.61,1154.51 1555.66,1159.77 1543.75,1165.01 1531.89,1170.24 1520.07,1175.44 1508.31,1180.62 1496.6,1185.77 1484.94,1190.91 1473.34,1196.01 1461.8,1201.09 1450.33,1206.15 1438.92,1211.17 1427.57,1216.16 1416.29,1221.13 1405.08,1226.07 1393.92,1230.98 1382.81,1235.87 1371.76,1240.73 1360.75,1245.58 1349.8,1250.4 1338.89,1255.2 1328.02,1259.99 1317.19,1264.76 1306.39,1269.51 1295.63,1274.25 1284.9,1278.97 1274.19,1283.69 1263.51,1288.39 1252.86,1293.08 1242.22,1297.76 1231.6,1302.44 1220.99,1307.11 1210.39,1311.77 1199.8,1316.44 1189.22,1321.09 1178.64,1325.75 \"/>\n",
       "<polyline clip-path=\"url(#clip382)\" style=\"stroke:#000000; stroke-linecap:round; stroke-linejoin:round; stroke-width:4; stroke-opacity:1; fill:none\" points=\"1218.84,1327.72 1178.64,1325.75 1204.34,1294.77 \"/>\n",
       "<polyline clip-path=\"url(#clip382)\" style=\"stroke:#000000; stroke-linecap:round; stroke-linejoin:round; stroke-width:4; stroke-opacity:1; fill:none\" points=\"1178.64,1325.75 1189.22,1321.09 \"/>\n",
       "<polyline clip-path=\"url(#clip382)\" style=\"stroke:#000000; stroke-linecap:round; stroke-linejoin:round; stroke-width:4; stroke-opacity:1; fill:none\" points=\"1034.95,262.317 1027.07,273.442 1019.19,284.562 1011.32,295.675 1003.45,306.776 995.602,317.862 987.762,328.928 979.939,339.97 972.136,350.985 964.355,361.969 956.598,372.918 948.869,383.828 941.171,394.695 933.506,405.515 925.877,416.285 918.286,426.999 910.737,437.656 903.232,448.25 895.774,458.777 888.366,469.234 881.01,479.618 873.71,489.923 866.468,500.146 859.286,510.283 852.168,520.331 845.116,530.285 838.131,540.146 831.209,549.916 824.348,559.601 817.545,569.205 810.797,578.73 804.102,588.181 797.456,597.561 790.858,606.876 784.303,616.128 777.791,625.321 771.316,634.46 764.878,643.548 758.473,652.589 752.099,661.588 745.752,670.547 739.429,679.471 733.129,688.364 726.849,697.23 720.585,706.072 714.334,714.895 708.095,723.702 701.864,732.498 695.639,741.285 689.416,750.069 \"/>\n",
       "<polyline clip-path=\"url(#clip382)\" style=\"stroke:#000000; stroke-linecap:round; stroke-linejoin:round; stroke-width:4; stroke-opacity:1; fill:none\" points=\"724.915,731.099 689.416,750.069 695.539,710.288 \"/>\n",
       "<polyline clip-path=\"url(#clip382)\" style=\"stroke:#000000; stroke-linecap:round; stroke-linejoin:round; stroke-width:4; stroke-opacity:1; fill:none\" points=\"689.416,750.069 695.639,741.285 \"/>\n",
       "<polyline clip-path=\"url(#clip382)\" style=\"stroke:#000000; stroke-linecap:round; stroke-linejoin:round; stroke-width:4; stroke-opacity:1; fill:none\" points=\"1034.95,262.317 1048.2,264.027 1061.45,265.736 1074.7,267.445 1087.93,269.152 1101.16,270.859 1114.37,272.563 1127.56,274.265 1140.74,275.965 1153.89,277.662 1167.02,279.355 1180.12,281.046 1193.19,282.732 1206.23,284.414 1219.23,286.091 1232.19,287.763 1245.11,289.43 1257.99,291.091 1270.82,292.746 1283.6,294.395 1296.32,296.037 1309,297.672 1321.61,299.299 1334.16,300.919 1346.65,302.53 1359.08,304.133 1371.43,305.727 1383.73,307.313 1395.96,308.891 1408.13,310.462 1420.25,312.025 1432.32,313.582 1444.34,315.132 1456.31,316.677 1468.23,318.215 1480.12,319.749 1491.96,321.277 1503.77,322.8 1515.55,324.32 1527.3,325.835 1539.02,327.347 1550.71,328.856 1562.38,330.361 1574.03,331.865 1585.67,333.366 1597.29,334.865 1608.9,336.363 1620.5,337.86 1632.1,339.356 1643.7,340.852 \"/>\n",
       "<polyline clip-path=\"url(#clip382)\" style=\"stroke:#000000; stroke-linecap:round; stroke-linejoin:round; stroke-width:4; stroke-opacity:1; fill:none\" points=\"1610.3,318.393 1643.7,340.852 1605.69,354.098 \"/>\n",
       "<polyline clip-path=\"url(#clip382)\" style=\"stroke:#000000; stroke-linecap:round; stroke-linejoin:round; stroke-width:4; stroke-opacity:1; fill:none\" points=\"1643.7,340.852 1632.1,339.356 \"/>\n",
       "<polyline clip-path=\"url(#clip382)\" style=\"stroke:#000000; stroke-linecap:round; stroke-linejoin:round; stroke-width:4; stroke-opacity:1; fill:none\" points=\"1034.95,262.317 1037.38,284.705 1039.8,307.089 1042.23,329.463 1044.65,351.825 1047.08,374.168 1049.5,396.49 1051.91,418.785 1054.33,441.049 1056.74,463.278 1059.14,485.467 1061.55,507.612 1063.94,529.708 1066.33,551.751 1068.71,573.736 1071.09,595.66 1073.46,617.517 1075.82,639.303 1078.18,661.015 1080.52,682.646 1082.86,704.194 1085.19,725.653 1087.5,747.02 1089.81,768.289 1092.1,789.456 1094.39,810.517 1096.66,831.473 1098.92,852.326 1101.17,873.083 1103.41,893.746 1105.64,914.321 1107.86,934.812 1110.08,955.224 1112.28,975.56 1114.48,995.826 1116.67,1016.02 1118.85,1036.16 1121.03,1056.24 1123.2,1076.27 1125.37,1096.25 1127.53,1116.18 1129.68,1136.07 1131.84,1155.93 1133.99,1175.76 1136.13,1195.56 1138.28,1215.34 1140.42,1235.1 1142.56,1254.85 1144.7,1274.59 1146.84,1294.32 \"/>\n",
       "<polyline clip-path=\"url(#clip382)\" style=\"stroke:#000000; stroke-linecap:round; stroke-linejoin:round; stroke-width:4; stroke-opacity:1; fill:none\" points=\"1160.86,1256.59 1146.84,1294.32 1125.07,1260.47 \"/>\n",
       "<polyline clip-path=\"url(#clip382)\" style=\"stroke:#000000; stroke-linecap:round; stroke-linejoin:round; stroke-width:4; stroke-opacity:1; fill:none\" points=\"1146.84,1294.32 1144.7,1274.59 \"/>\n",
       "<polyline clip-path=\"url(#clip382)\" style=\"stroke:#000000; stroke-linecap:round; stroke-linejoin:round; stroke-width:4; stroke-opacity:1; fill:none\" points=\"662.317,788.322 683.174,779.14 704.029,769.959 724.878,760.78 745.719,751.605 766.548,742.435 787.364,733.271 808.163,724.115 828.943,714.966 849.701,705.828 870.434,696.701 891.139,687.585 911.814,678.483 932.455,669.396 953.061,660.325 973.628,651.27 994.154,642.234 1014.63,633.217 1035.07,624.221 1055.45,615.247 1075.79,606.296 1096.06,597.369 1116.28,588.468 1136.44,579.594 1156.53,570.747 1176.56,561.93 1196.52,553.142 1216.42,544.382 1236.26,535.649 1256.04,526.941 1275.76,518.257 1295.44,509.597 1315.06,500.959 1334.63,492.341 1354.16,483.743 1373.65,475.163 1393.1,466.6 1412.52,458.053 1431.9,449.52 1451.25,441.001 1470.57,432.494 1489.87,423.998 1509.15,415.512 1528.41,407.034 1547.65,398.563 1566.87,390.099 1586.09,381.64 1605.3,373.184 1624.5,364.73 1643.7,356.278 \"/>\n",
       "<polyline clip-path=\"url(#clip382)\" style=\"stroke:#000000; stroke-linecap:round; stroke-linejoin:round; stroke-width:4; stroke-opacity:1; fill:none\" points=\"1603.5,354.309 1643.7,356.278 1618,387.257 \"/>\n",
       "<polyline clip-path=\"url(#clip382)\" style=\"stroke:#000000; stroke-linecap:round; stroke-linejoin:round; stroke-width:4; stroke-opacity:1; fill:none\" points=\"1643.7,356.278 1624.5,364.73 \"/>\n",
       "<polyline clip-path=\"url(#clip382)\" style=\"stroke:#000000; stroke-linecap:round; stroke-linejoin:round; stroke-width:4; stroke-opacity:1; fill:none\" points=\"1670.8,344.348 1659.97,365.062 1649.14,385.771 1638.32,406.472 1627.51,427.159 1616.7,447.829 1605.91,468.476 1595.13,489.097 1584.37,509.687 1573.62,530.242 1562.9,550.757 1552.2,571.227 1541.52,591.649 1530.87,612.018 1520.26,632.329 1509.67,652.579 1499.12,672.762 1488.61,692.874 1478.13,712.912 1467.7,732.869 1457.31,752.743 1446.97,772.528 1436.68,792.22 1426.43,811.815 1416.24,831.308 1406.11,850.695 1396.03,869.977 1386,889.156 1376.03,908.239 1366.1,927.228 1356.22,946.129 1346.39,964.946 1336.59,983.683 1326.84,1002.35 1317.12,1020.94 1307.43,1039.46 1297.78,1057.93 1288.16,1076.33 1278.57,1094.68 1269,1112.99 1259.45,1131.25 1249.93,1149.47 1240.42,1167.65 1230.93,1185.81 1221.46,1203.93 1211.99,1222.04 1202.54,1240.12 1193.09,1258.2 1183.65,1276.26 1174.21,1294.32 \"/>\n",
       "<polyline clip-path=\"url(#clip382)\" style=\"stroke:#000000; stroke-linecap:round; stroke-linejoin:round; stroke-width:4; stroke-opacity:1; fill:none\" points=\"1206.84,1270.76 1174.21,1294.32 1174.93,1254.08 \"/>\n",
       "<polyline clip-path=\"url(#clip382)\" style=\"stroke:#000000; stroke-linecap:round; stroke-linejoin:round; stroke-width:4; stroke-opacity:1; fill:none\" points=\"1174.21,1294.32 1183.65,1276.26 \"/>\n",
       "<path clip-path=\"url(#clip382)\" d=\"M1331.93 707.11 L1440.7 707.11 L1440.7 634.845 L1331.93 634.845 L1331.93 707.11 L1331.93 707.11  Z\" fill=\"#ffffff\" fill-rule=\"evenodd\" fill-opacity=\"1\"/>\n",
       "<polyline clip-path=\"url(#clip382)\" style=\"stroke:#000000; stroke-linecap:round; stroke-linejoin:round; stroke-width:0; stroke-opacity:0; fill:none\" points=\"1331.93,707.11 1440.7,707.11 1440.7,634.845 1331.93,634.845 1331.93,707.11 \"/>\n",
       "<path clip-path=\"url(#clip382)\" d=\"M1145.62 970.112 L1254.38 970.112 L1254.38 897.848 L1145.62 897.848 L1145.62 970.112 L1145.62 970.112  Z\" fill=\"#ffffff\" fill-rule=\"evenodd\" fill-opacity=\"1\"/>\n",
       "<polyline clip-path=\"url(#clip382)\" style=\"stroke:#000000; stroke-linecap:round; stroke-linejoin:round; stroke-width:0; stroke-opacity:0; fill:none\" points=\"1145.62,970.112 1254.38,970.112 1254.38,897.848 1145.62,897.848 1145.62,970.112 \"/>\n",
       "<path clip-path=\"url(#clip382)\" d=\"M1390.23 1244.79 L1499 1244.79 L1499 1172.53 L1390.23 1172.53 L1390.23 1244.79 L1390.23 1244.79  Z\" fill=\"#ffffff\" fill-rule=\"evenodd\" fill-opacity=\"1\"/>\n",
       "<polyline clip-path=\"url(#clip382)\" style=\"stroke:#000000; stroke-linecap:round; stroke-linejoin:round; stroke-width:0; stroke-opacity:0; fill:none\" points=\"1390.23,1244.79 1499,1244.79 1499,1172.53 1390.23,1172.53 1390.23,1244.79 \"/>\n",
       "<path clip-path=\"url(#clip382)\" d=\"M794.25 561.452 L903.018 561.452 L903.018 489.187 L794.25 489.187 L794.25 561.452 L794.25 561.452  Z\" fill=\"#ffffff\" fill-rule=\"evenodd\" fill-opacity=\"1\"/>\n",
       "<polyline clip-path=\"url(#clip382)\" style=\"stroke:#000000; stroke-linecap:round; stroke-linejoin:round; stroke-width:0; stroke-opacity:0; fill:none\" points=\"794.25,561.452 903.018,561.452 903.018,489.187 794.25,489.187 794.25,561.452 \"/>\n",
       "<path clip-path=\"url(#clip382)\" d=\"M1298.49 339.465 L1407.26 339.465 L1407.26 267.2 L1298.49 267.2 L1298.49 339.465 L1298.49 339.465  Z\" fill=\"#ffffff\" fill-rule=\"evenodd\" fill-opacity=\"1\"/>\n",
       "<polyline clip-path=\"url(#clip382)\" style=\"stroke:#000000; stroke-linecap:round; stroke-linejoin:round; stroke-width:0; stroke-opacity:0; fill:none\" points=\"1298.49,339.465 1407.26,339.465 1407.26,267.2 1298.49,267.2 1298.49,339.465 \"/>\n",
       "<path clip-path=\"url(#clip382)\" d=\"M1038.86 836.132 L1147.63 836.132 L1147.63 763.868 L1038.86 763.868 L1038.86 836.132 L1038.86 836.132  Z\" fill=\"#ffffff\" fill-rule=\"evenodd\" fill-opacity=\"1\"/>\n",
       "<polyline clip-path=\"url(#clip382)\" style=\"stroke:#000000; stroke-linecap:round; stroke-linejoin:round; stroke-width:0; stroke-opacity:0; fill:none\" points=\"1038.86,836.132 1147.63,836.132 1147.63,763.868 1038.86,763.868 1038.86,836.132 \"/>\n",
       "<path clip-path=\"url(#clip382)\" d=\"M1098.1 602.467 L1235.01 602.467 L1235.01 530.203 L1098.1 530.203 L1098.1 602.467 L1098.1 602.467  Z\" fill=\"#ffffff\" fill-rule=\"evenodd\" fill-opacity=\"1\"/>\n",
       "<polyline clip-path=\"url(#clip382)\" style=\"stroke:#000000; stroke-linecap:round; stroke-linejoin:round; stroke-width:0; stroke-opacity:0; fill:none\" points=\"1098.1,602.467 1235.01,602.467 1235.01,530.203 1098.1,530.203 1098.1,602.467 \"/>\n",
       "<path clip-path=\"url(#clip382)\" d=\"M1356.78 877.148 L1465.55 877.148 L1465.55 804.883 L1356.78 804.883 L1356.78 877.148 L1356.78 877.148  Z\" fill=\"#ffffff\" fill-rule=\"evenodd\" fill-opacity=\"1\"/>\n",
       "<polyline clip-path=\"url(#clip382)\" style=\"stroke:#000000; stroke-linecap:round; stroke-linejoin:round; stroke-width:0; stroke-opacity:0; fill:none\" points=\"1356.78,877.148 1465.55,877.148 1465.55,804.883 1356.78,804.883 1356.78,877.148 \"/>\n",
       "<path clip-path=\"url(#clip382)\" d=\"M1710.58 1123 L1764.78 1123 L1764.78 1036.28 L1710.58 1036.28 L1710.58 1123 L1710.58 1123  Z\" fill=\"#009af9\" fill-rule=\"evenodd\" fill-opacity=\"1\"/>\n",
       "<polyline clip-path=\"url(#clip382)\" style=\"stroke:#000000; stroke-linecap:round; stroke-linejoin:round; stroke-width:4; stroke-opacity:1; fill:none\" points=\"1710.58,1123 1764.78,1123 1764.78,1036.28 1710.58,1036.28 1710.58,1123 \"/>\n",
       "<path clip-path=\"url(#clip382)\" d=\"M1007.85 305.676 L1062.05 305.676 L1062.05 218.958 L1007.85 218.958 L1007.85 305.676 L1007.85 305.676  Z\" fill=\"#009af9\" fill-rule=\"evenodd\" fill-opacity=\"1\"/>\n",
       "<polyline clip-path=\"url(#clip382)\" style=\"stroke:#000000; stroke-linecap:round; stroke-linejoin:round; stroke-width:4; stroke-opacity:1; fill:none\" points=\"1007.85,305.676 1062.05,305.676 1062.05,218.958 1007.85,218.958 1007.85,305.676 \"/>\n",
       "<path clip-path=\"url(#clip382)\" d=\"M635.218 831.681 L689.416 831.681 L689.416 744.963 L635.218 744.963 L635.218 831.681 L635.218 831.681  Z\" fill=\"#009af9\" fill-rule=\"evenodd\" fill-opacity=\"1\"/>\n",
       "<polyline clip-path=\"url(#clip382)\" style=\"stroke:#000000; stroke-linecap:round; stroke-linejoin:round; stroke-width:4; stroke-opacity:1; fill:none\" points=\"635.218,831.681 689.416,831.681 689.416,744.963 635.218,744.963 635.218,831.681 \"/>\n",
       "<path clip-path=\"url(#clip382)\" d=\"M1643.7 387.707 L1697.89 387.707 L1697.89 300.989 L1643.7 300.989 L1643.7 387.707 L1643.7 387.707  Z\" fill=\"#009af9\" fill-rule=\"evenodd\" fill-opacity=\"1\"/>\n",
       "<polyline clip-path=\"url(#clip382)\" style=\"stroke:#000000; stroke-linecap:round; stroke-linejoin:round; stroke-width:4; stroke-opacity:1; fill:none\" points=\"1643.7,387.707 1697.89,387.707 1697.89,300.989 1643.7,300.989 1643.7,387.707 \"/>\n",
       "<path clip-path=\"url(#clip382)\" d=\"M1124.44 1381.04 L1178.64 1381.04 L1178.64 1294.32 L1124.44 1294.32 L1124.44 1381.04 L1124.44 1381.04  Z\" fill=\"#009af9\" fill-rule=\"evenodd\" fill-opacity=\"1\"/>\n",
       "<polyline clip-path=\"url(#clip382)\" style=\"stroke:#000000; stroke-linecap:round; stroke-linejoin:round; stroke-width:4; stroke-opacity:1; fill:none\" points=\"1124.44,1381.04 1178.64,1381.04 1178.64,1294.32 1124.44,1294.32 1124.44,1381.04 \"/>\n",
       "<path clip-path=\"url(#clip382)\" d=\"M1737.28 1079.24 L1737.28 1080.04 L1738.08 1080.04 L1738.08 1079.24 L1737.28 1079.24 Z\" fill=\"#009af9\" fill-rule=\"evenodd\" fill-opacity=\"1\" stroke=\"#000000\" stroke-opacity=\"1\" stroke-width=\"3.2\"/>\n",
       "<path clip-path=\"url(#clip382)\" d=\"M1034.55 261.917 L1034.55 262.717 L1035.35 262.717 L1035.35 261.917 L1034.55 261.917 Z\" fill=\"#009af9\" fill-rule=\"evenodd\" fill-opacity=\"1\" stroke=\"#000000\" stroke-opacity=\"1\" stroke-width=\"3.2\"/>\n",
       "<path clip-path=\"url(#clip382)\" d=\"M661.917 787.922 L661.917 788.722 L662.717 788.722 L662.717 787.922 L661.917 787.922 Z\" fill=\"#009af9\" fill-rule=\"evenodd\" fill-opacity=\"1\" stroke=\"#000000\" stroke-opacity=\"1\" stroke-width=\"3.2\"/>\n",
       "<path clip-path=\"url(#clip382)\" d=\"M1670.4 343.948 L1670.4 344.748 L1671.2 344.748 L1671.2 343.948 L1670.4 343.948 Z\" fill=\"#009af9\" fill-rule=\"evenodd\" fill-opacity=\"1\" stroke=\"#000000\" stroke-opacity=\"1\" stroke-width=\"3.2\"/>\n",
       "<path clip-path=\"url(#clip382)\" d=\"M1151.14 1337.28 L1151.14 1338.08 L1151.94 1338.08 L1151.94 1337.28 L1151.14 1337.28 Z\" fill=\"#009af9\" fill-rule=\"evenodd\" fill-opacity=\"1\" stroke=\"#000000\" stroke-opacity=\"1\" stroke-width=\"3.2\"/>\n",
       "<path clip-path=\"url(#clip380)\" d=\"M1357.96 685.47 L1357.96 681.743 Q1359.5 682.472 1361.08 682.857 Q1362.66 683.242 1364.18 683.242 Q1368.23 683.242 1370.36 680.527 Q1372.5 677.793 1372.81 672.243 Q1371.63 673.985 1369.83 674.917 Q1368.03 675.849 1365.84 675.849 Q1361.3 675.849 1358.65 673.114 Q1356.02 670.36 1356.02 665.6 Q1356.02 660.941 1358.77 658.126 Q1361.53 655.311 1366.1 655.311 Q1371.35 655.311 1374.1 659.341 Q1376.88 663.352 1376.88 671.008 Q1376.88 678.158 1373.48 682.431 Q1370.09 686.685 1364.36 686.685 Q1362.82 686.685 1361.24 686.381 Q1359.66 686.077 1357.96 685.47 M1366.1 672.648 Q1368.86 672.648 1370.46 670.765 Q1372.08 668.881 1372.08 665.6 Q1372.08 662.339 1370.46 660.455 Q1368.86 658.551 1366.1 658.551 Q1363.35 658.551 1361.73 660.455 Q1360.13 662.339 1360.13 665.6 Q1360.13 668.881 1361.73 670.765 Q1363.35 672.648 1366.1 672.648 Z\" fill=\"#000000\" fill-rule=\"nonzero\" fill-opacity=\"1\" /><path clip-path=\"url(#clip380)\" d=\"M1384.23 680.953 L1388.5 680.953 L1388.5 686.097 L1384.23 686.097 L1384.23 680.953 Z\" fill=\"#000000\" fill-rule=\"nonzero\" fill-opacity=\"1\" /><path clip-path=\"url(#clip380)\" d=\"M1406.17 658.551 Q1403.01 658.551 1401.41 661.67 Q1399.83 664.769 1399.83 671.008 Q1399.83 677.226 1401.41 680.345 Q1403.01 683.444 1406.17 683.444 Q1409.35 683.444 1410.93 680.345 Q1412.53 677.226 1412.53 671.008 Q1412.53 664.769 1410.93 661.67 Q1409.35 658.551 1406.17 658.551 M1406.17 655.311 Q1411.25 655.311 1413.92 659.341 Q1416.62 663.352 1416.62 671.008 Q1416.62 678.644 1413.92 682.674 Q1411.25 686.685 1406.17 686.685 Q1401.08 686.685 1398.39 682.674 Q1395.71 678.644 1395.71 671.008 Q1395.71 663.352 1398.39 659.341 Q1401.08 655.311 1406.17 655.311 Z\" fill=\"#000000\" fill-rule=\"nonzero\" fill-opacity=\"1\" /><path clip-path=\"url(#clip380)\" d=\"M1183.06 922.425 L1172.73 938.568 L1183.06 938.568 L1183.06 922.425 M1181.98 918.86 L1187.13 918.86 L1187.13 938.568 L1191.44 938.568 L1191.44 941.97 L1187.13 941.97 L1187.13 949.1 L1183.06 949.1 L1183.06 941.97 L1169.41 941.97 L1169.41 938.021 L1181.98 918.86 Z\" fill=\"#000000\" fill-rule=\"nonzero\" fill-opacity=\"1\" /><path clip-path=\"url(#clip380)\" d=\"M1198.21 943.955 L1202.48 943.955 L1202.48 949.1 L1198.21 949.1 L1198.21 943.955 Z\" fill=\"#000000\" fill-rule=\"nonzero\" fill-opacity=\"1\" /><path clip-path=\"url(#clip380)\" d=\"M1220.14 921.554 Q1216.98 921.554 1215.38 924.673 Q1213.8 927.772 1213.8 934.01 Q1213.8 940.228 1215.38 943.348 Q1216.98 946.447 1220.14 946.447 Q1223.32 946.447 1224.9 943.348 Q1226.5 940.228 1226.5 934.01 Q1226.5 927.772 1224.9 924.673 Q1223.32 921.554 1220.14 921.554 M1220.14 918.313 Q1225.23 918.313 1227.9 922.344 Q1230.59 926.354 1230.59 934.01 Q1230.59 941.646 1227.9 945.677 Q1225.23 949.687 1220.14 949.687 Q1215.06 949.687 1212.37 945.677 Q1209.69 941.646 1209.69 934.01 Q1209.69 926.354 1212.37 922.344 Q1215.06 918.313 1220.14 918.313 Z\" fill=\"#000000\" fill-rule=\"nonzero\" fill-opacity=\"1\" /><path clip-path=\"url(#clip380)\" d=\"M1414.71 1193.54 L1434.15 1193.54 L1434.15 1195.28 L1423.17 1223.78 L1418.9 1223.78 L1429.23 1196.98 L1414.71 1196.98 L1414.71 1193.54 Z\" fill=\"#000000\" fill-rule=\"nonzero\" fill-opacity=\"1\" /><path clip-path=\"url(#clip380)\" d=\"M1442.13 1218.64 L1446.4 1218.64 L1446.4 1223.78 L1442.13 1223.78 L1442.13 1218.64 Z\" fill=\"#000000\" fill-rule=\"nonzero\" fill-opacity=\"1\" /><path clip-path=\"url(#clip380)\" d=\"M1464.07 1196.23 Q1460.91 1196.23 1459.31 1199.35 Q1457.73 1202.45 1457.73 1208.69 Q1457.73 1214.91 1459.31 1218.03 Q1460.91 1221.13 1464.07 1221.13 Q1467.25 1221.13 1468.83 1218.03 Q1470.43 1214.91 1470.43 1208.69 Q1470.43 1202.45 1468.83 1199.35 Q1467.25 1196.23 1464.07 1196.23 M1464.07 1192.99 Q1469.15 1192.99 1471.82 1197.02 Q1474.52 1201.03 1474.52 1208.69 Q1474.52 1216.33 1471.82 1220.36 Q1469.15 1224.37 1464.07 1224.37 Q1458.98 1224.37 1456.29 1220.36 Q1453.62 1216.33 1453.62 1208.69 Q1453.62 1201.03 1456.29 1197.02 Q1458.98 1192.99 1464.07 1192.99 Z\" fill=\"#000000\" fill-rule=\"nonzero\" fill-opacity=\"1\" /><path clip-path=\"url(#clip380)\" d=\"M823.468 536.996 L837.747 536.996 L837.747 540.44 L818.546 540.44 L818.546 536.996 Q820.875 534.586 824.885 530.535 Q828.916 526.464 829.949 525.289 Q831.914 523.082 832.683 521.562 Q833.473 520.023 833.473 518.545 Q833.473 516.134 831.772 514.615 Q830.091 513.096 827.377 513.096 Q825.453 513.096 823.306 513.764 Q821.179 514.433 818.748 515.79 L818.748 511.658 Q821.219 510.666 823.366 510.159 Q825.513 509.653 827.296 509.653 Q831.995 509.653 834.79 512.002 Q837.585 514.352 837.585 518.281 Q837.585 520.145 836.876 521.826 Q836.187 523.487 834.344 525.755 Q833.838 526.343 831.124 529.158 Q828.41 531.953 823.468 536.996 Z\" fill=\"#000000\" fill-rule=\"nonzero\" fill-opacity=\"1\" /><path clip-path=\"url(#clip380)\" d=\"M846.335 535.295 L850.609 535.295 L850.609 540.44 L846.335 540.44 L846.335 535.295 Z\" fill=\"#000000\" fill-rule=\"nonzero\" fill-opacity=\"1\" /><path clip-path=\"url(#clip380)\" d=\"M868.271 512.894 Q865.111 512.894 863.511 516.013 Q861.931 519.112 861.931 525.35 Q861.931 531.568 863.511 534.687 Q865.111 537.786 868.271 537.786 Q871.451 537.786 873.03 534.687 Q874.63 531.568 874.63 525.35 Q874.63 519.112 873.03 516.013 Q871.451 512.894 868.271 512.894 M868.271 509.653 Q873.354 509.653 876.028 513.683 Q878.722 517.694 878.722 525.35 Q878.722 532.986 876.028 537.017 Q873.354 541.027 868.271 541.027 Q863.187 541.027 860.493 537.017 Q857.819 532.986 857.819 525.35 Q857.819 517.694 860.493 513.683 Q863.187 509.653 868.271 509.653 Z\" fill=\"#000000\" fill-rule=\"nonzero\" fill-opacity=\"1\" /><path clip-path=\"url(#clip380)\" d=\"M1324.13 315.009 L1330.82 315.009 L1330.82 291.939 L1323.54 293.398 L1323.54 289.671 L1330.78 288.213 L1334.87 288.213 L1334.87 315.009 L1341.55 315.009 L1341.55 318.453 L1324.13 318.453 L1324.13 315.009 Z\" fill=\"#000000\" fill-rule=\"nonzero\" fill-opacity=\"1\" /><path clip-path=\"url(#clip380)\" d=\"M1349.81 313.308 L1354.09 313.308 L1354.09 318.453 L1349.81 318.453 L1349.81 313.308 Z\" fill=\"#000000\" fill-rule=\"nonzero\" fill-opacity=\"1\" /><path clip-path=\"url(#clip380)\" d=\"M1371.75 290.906 Q1368.59 290.906 1366.99 294.026 Q1365.41 297.124 1365.41 303.363 Q1365.41 309.581 1366.99 312.7 Q1368.59 315.799 1371.75 315.799 Q1374.93 315.799 1376.51 312.7 Q1378.11 309.581 1378.11 303.363 Q1378.11 297.124 1376.51 294.026 Q1374.93 290.906 1371.75 290.906 M1371.75 287.666 Q1376.83 287.666 1379.51 291.696 Q1382.2 295.707 1382.2 303.363 Q1382.2 310.999 1379.51 315.029 Q1376.83 319.04 1371.75 319.04 Q1366.67 319.04 1363.97 315.029 Q1361.3 310.999 1361.3 303.363 Q1361.3 295.707 1363.97 291.696 Q1366.67 287.666 1371.75 287.666 Z\" fill=\"#000000\" fill-rule=\"nonzero\" fill-opacity=\"1\" /><path clip-path=\"url(#clip380)\" d=\"M1063.34 784.88 L1082.78 784.88 L1082.78 786.622 L1071.81 815.12 L1067.53 815.12 L1077.86 788.323 L1063.34 788.323 L1063.34 784.88 Z\" fill=\"#000000\" fill-rule=\"nonzero\" fill-opacity=\"1\" /><path clip-path=\"url(#clip380)\" d=\"M1090.76 809.975 L1095.04 809.975 L1095.04 815.12 L1090.76 815.12 L1090.76 809.975 Z\" fill=\"#000000\" fill-rule=\"nonzero\" fill-opacity=\"1\" /><path clip-path=\"url(#clip380)\" d=\"M1112.7 787.574 Q1109.54 787.574 1107.94 790.693 Q1106.36 793.792 1106.36 800.03 Q1106.36 806.249 1107.94 809.368 Q1109.54 812.467 1112.7 812.467 Q1115.88 812.467 1117.46 809.368 Q1119.06 806.249 1119.06 800.03 Q1119.06 793.792 1117.46 790.693 Q1115.88 787.574 1112.7 787.574 M1112.7 784.333 Q1117.78 784.333 1120.46 788.364 Q1123.15 792.374 1123.15 800.03 Q1123.15 807.666 1120.46 811.697 Q1117.78 815.707 1112.7 815.707 Q1107.62 815.707 1104.92 811.697 Q1102.25 807.666 1102.25 800.03 Q1102.25 792.374 1104.92 788.364 Q1107.62 784.333 1112.7 784.333 Z\" fill=\"#000000\" fill-rule=\"nonzero\" fill-opacity=\"1\" /><path clip-path=\"url(#clip380)\" d=\"M1124.62 578.012 L1131.3 578.012 L1131.3 554.942 L1124.03 556.4 L1124.03 552.673 L1131.26 551.215 L1135.35 551.215 L1135.35 578.012 L1142.04 578.012 L1142.04 581.455 L1124.62 581.455 L1124.62 578.012 Z\" fill=\"#000000\" fill-rule=\"nonzero\" fill-opacity=\"1\" /><path clip-path=\"url(#clip380)\" d=\"M1159.05 553.909 Q1155.89 553.909 1154.29 557.028 Q1152.71 560.127 1152.71 566.365 Q1152.71 572.584 1154.29 575.703 Q1155.89 578.802 1159.05 578.802 Q1162.23 578.802 1163.81 575.703 Q1165.41 572.584 1165.41 566.365 Q1165.41 560.127 1163.81 557.028 Q1162.23 553.909 1159.05 553.909 M1159.05 550.668 Q1164.14 550.668 1166.81 554.699 Q1169.5 558.709 1169.5 566.365 Q1169.5 574.001 1166.81 578.032 Q1164.14 582.042 1159.05 582.042 Q1153.97 582.042 1151.27 578.032 Q1148.6 574.001 1148.6 566.365 Q1148.6 558.709 1151.27 554.699 Q1153.97 550.668 1159.05 550.668 Z\" fill=\"#000000\" fill-rule=\"nonzero\" fill-opacity=\"1\" /><path clip-path=\"url(#clip380)\" d=\"M1176.69 576.31 L1180.97 576.31 L1180.97 581.455 L1176.69 581.455 L1176.69 576.31 Z\" fill=\"#000000\" fill-rule=\"nonzero\" fill-opacity=\"1\" /><path clip-path=\"url(#clip380)\" d=\"M1198.63 553.909 Q1195.47 553.909 1193.87 557.028 Q1192.29 560.127 1192.29 566.365 Q1192.29 572.584 1193.87 575.703 Q1195.47 578.802 1198.63 578.802 Q1201.81 578.802 1203.39 575.703 Q1204.99 572.584 1204.99 566.365 Q1204.99 560.127 1203.39 557.028 Q1201.81 553.909 1198.63 553.909 M1198.63 550.668 Q1203.71 550.668 1206.39 554.699 Q1209.08 558.709 1209.08 566.365 Q1209.08 574.001 1206.39 578.032 Q1203.71 582.042 1198.63 582.042 Q1193.55 582.042 1190.85 578.032 Q1188.18 574.001 1188.18 566.365 Q1188.18 558.709 1190.85 554.699 Q1193.55 550.668 1198.63 550.668 Z\" fill=\"#000000\" fill-rule=\"nonzero\" fill-opacity=\"1\" /><path clip-path=\"url(#clip380)\" d=\"M1382.44 825.895 L1398.5 825.895 L1398.5 829.339 L1386.18 829.339 L1386.18 836.752 Q1387.08 836.448 1387.97 836.306 Q1388.86 836.144 1389.75 836.144 Q1394.81 836.144 1397.77 838.919 Q1400.73 841.694 1400.73 846.433 Q1400.73 851.315 1397.69 854.029 Q1394.65 856.723 1389.12 856.723 Q1387.22 856.723 1385.23 856.399 Q1383.27 856.075 1381.16 855.426 L1381.16 851.315 Q1382.98 852.307 1384.93 852.793 Q1386.87 853.279 1389.04 853.279 Q1392.54 853.279 1394.59 851.436 Q1396.64 849.593 1396.64 846.433 Q1396.64 843.274 1394.59 841.431 Q1392.54 839.587 1389.04 839.587 Q1387.4 839.587 1385.76 839.952 Q1384.14 840.317 1382.44 841.086 L1382.44 825.895 Z\" fill=\"#000000\" fill-rule=\"nonzero\" fill-opacity=\"1\" /><path clip-path=\"url(#clip380)\" d=\"M1408.79 850.991 L1413.06 850.991 L1413.06 856.135 L1408.79 856.135 L1408.79 850.991 Z\" fill=\"#000000\" fill-rule=\"nonzero\" fill-opacity=\"1\" /><path clip-path=\"url(#clip380)\" d=\"M1430.72 828.589 Q1427.56 828.589 1425.96 831.708 Q1424.38 834.807 1424.38 841.046 Q1424.38 847.264 1425.96 850.383 Q1427.56 853.482 1430.72 853.482 Q1433.9 853.482 1435.48 850.383 Q1437.08 847.264 1437.08 841.046 Q1437.08 834.807 1435.48 831.708 Q1433.9 828.589 1430.72 828.589 M1430.72 825.348 Q1435.81 825.348 1438.48 829.379 Q1441.18 833.389 1441.18 841.046 Q1441.18 848.682 1438.48 852.712 Q1435.81 856.723 1430.72 856.723 Q1425.64 856.723 1422.95 852.712 Q1420.27 848.682 1420.27 841.046 Q1420.27 833.389 1422.95 829.379 Q1425.64 825.348 1430.72 825.348 Z\" fill=\"#000000\" fill-rule=\"nonzero\" fill-opacity=\"1\" /><path clip-path=\"url(#clip380)\" d=\"M1729.27 1091.31 L1735.95 1091.31 L1735.95 1068.24 L1728.68 1069.7 L1728.68 1065.98 L1735.91 1064.52 L1740 1064.52 L1740 1091.31 L1746.69 1091.31 L1746.69 1094.76 L1729.27 1094.76 L1729.27 1091.31 Z\" fill=\"#000000\" fill-rule=\"nonzero\" fill-opacity=\"1\" /><path clip-path=\"url(#clip380)\" d=\"M1030.27 273.994 L1044.55 273.994 L1044.55 277.437 L1025.35 277.437 L1025.35 273.994 Q1027.68 271.584 1031.69 267.533 Q1035.72 263.462 1036.75 262.287 Q1038.72 260.079 1039.49 258.56 Q1040.28 257.021 1040.28 255.542 Q1040.28 253.132 1038.58 251.613 Q1036.89 250.094 1034.18 250.094 Q1032.26 250.094 1030.11 250.762 Q1027.98 251.43 1025.55 252.787 L1025.55 248.656 Q1028.02 247.663 1030.17 247.157 Q1032.32 246.65 1034.1 246.65 Q1038.8 246.65 1041.59 249 Q1044.39 251.349 1044.39 255.279 Q1044.39 257.142 1043.68 258.823 Q1042.99 260.484 1041.15 262.753 Q1040.64 263.34 1037.93 266.155 Q1035.21 268.951 1030.27 273.994 Z\" fill=\"#000000\" fill-rule=\"nonzero\" fill-opacity=\"1\" /><path clip-path=\"url(#clip380)\" d=\"M666.034 787.137 Q668.971 787.765 670.611 789.75 Q672.272 791.735 672.272 794.652 Q672.272 799.128 669.194 801.579 Q666.115 804.03 660.444 804.03 Q658.54 804.03 656.514 803.645 Q654.509 803.28 652.362 802.531 L652.362 798.581 Q654.063 799.574 656.089 800.08 Q658.114 800.586 660.322 800.586 Q664.17 800.586 666.176 799.067 Q668.201 797.548 668.201 794.652 Q668.201 791.978 666.317 790.479 Q664.454 788.96 661.112 788.96 L657.588 788.96 L657.588 785.598 L661.274 785.598 Q664.292 785.598 665.892 784.403 Q667.492 783.188 667.492 780.919 Q667.492 778.59 665.831 777.354 Q664.191 776.099 661.112 776.099 Q659.431 776.099 657.507 776.463 Q655.583 776.828 653.274 777.597 L653.274 773.952 Q655.603 773.303 657.628 772.979 Q659.674 772.655 661.477 772.655 Q666.135 772.655 668.849 774.782 Q671.563 776.888 671.563 780.494 Q671.563 783.005 670.125 784.747 Q668.687 786.469 666.034 787.137 Z\" fill=\"#000000\" fill-rule=\"nonzero\" fill-opacity=\"1\" /><path clip-path=\"url(#clip380)\" d=\"M1673.43 332.793 L1663.1 348.935 L1673.43 348.935 L1673.43 332.793 M1672.36 329.228 L1677.5 329.228 L1677.5 348.935 L1681.81 348.935 L1681.81 352.338 L1677.5 352.338 L1677.5 359.468 L1673.43 359.468 L1673.43 352.338 L1659.78 352.338 L1659.78 348.389 L1672.36 329.228 Z\" fill=\"#000000\" fill-rule=\"nonzero\" fill-opacity=\"1\" /><path clip-path=\"url(#clip380)\" d=\"M1143.03 1322.56 L1159.1 1322.56 L1159.1 1326.01 L1146.78 1326.01 L1146.78 1333.42 Q1147.67 1333.12 1148.56 1332.97 Q1149.46 1332.81 1150.35 1332.81 Q1155.41 1332.81 1158.37 1335.59 Q1161.32 1338.36 1161.32 1343.1 Q1161.32 1347.98 1158.29 1350.7 Q1155.25 1353.39 1149.72 1353.39 Q1147.81 1353.39 1145.83 1353.07 Q1143.87 1352.74 1141.76 1352.09 L1141.76 1347.98 Q1143.58 1348.97 1145.53 1349.46 Q1147.47 1349.95 1149.64 1349.95 Q1153.14 1349.95 1155.19 1348.1 Q1157.23 1346.26 1157.23 1343.1 Q1157.23 1339.94 1155.19 1338.1 Q1153.14 1336.25 1149.64 1336.25 Q1148 1336.25 1146.36 1336.62 Q1144.74 1336.98 1143.03 1337.75 L1143.03 1322.56 Z\" fill=\"#000000\" fill-rule=\"nonzero\" fill-opacity=\"1\" /></svg>\n"
      ]
     },
     "metadata": {},
     "output_type": "display_data"
    }
   ],
   "source": [
    "edgelabel_dict = Dict()\n",
    "edgelabel_mat = Array{String}(undef, n, n)\n",
    "for i in 1:n\n",
    "    for j in 1:n\n",
    "        edgelabel_mat[i, j] = edgelabel_dict[(i, j)] = string(kmax[i, j])\n",
    "    end\n",
    "end\n",
    "edgelabel_vec = edgelabel_mat[:]\n",
    "graphplot(kmax, names=1:n, edgelabel=edgelabel_dict, curvature_scalar=0, nodeshape=:rect)"
   ]
  },
  {
   "cell_type": "code",
   "execution_count": 5,
   "metadata": {},
   "outputs": [],
   "source": [
    "model = Model(GLPK.Optimizer)\n",
    "set_silent(model)\n",
    "\n",
    "# Define N before using it\n",
    "N = size(kmax, 1)\n",
    "\n",
    "@variable(model, x[1:N,1:N] >= 0, Int)\n",
    "@variable(model, Z >= 0, Int)\n",
    "@objective(model, Max, Z)\n",
    "\n",
    "# Añadir restricciones para que los elementos de x correspondan con kmax\n",
    "for i in 1:N\n",
    "    for j in 1:N\n",
    "        if kmax[i, j] > 0\n",
    "            @constraint(model, x[i, j] <= kmax[i, j])\n",
    "        else\n",
    "            @constraint(model, x[i, j] == 0)\n",
    "        end\n",
    "    end\n",
    "end\n",
    "\n",
    "@constraint(model, g,  sum(x[s,:]) == Z)\n",
    "@constraint(model, h,  sum(x[:,t]) == Z)\n",
    "\n",
    "indices_a_omitir = [t, s]\n",
    "c2 = Vector{Int}()  # V\\{s,t}\n",
    "for i in 1:N \n",
    "        if i ∉ indices_a_omitir \n",
    "                 push!(c2, i)\n",
    "        end\n",
    "end\n",
    "\n",
    "for i in c2\n",
    "        @constraint(model, sum(x[i, :]) == sum(x[:, i]))\n",
    "end\n",
    "\n"
   ]
  },
  {
   "cell_type": "code",
   "execution_count": 6,
   "metadata": {},
   "outputs": [
    {
     "name": "stdout",
     "output_type": "stream",
     "text": [
      "Flujo maximo:19.0"
     ]
    },
    {
     "name": "stdout",
     "output_type": "stream",
     "text": [
      "\n",
      "Flujos en los arcos:\n",
      "  Nodo 1\n",
      "    Flujo de 1->2: 8.0\n",
      "    Flujo de 1->3: 4.0\n",
      "    Flujo de 1->5: 7.0\n",
      "  Nodo 2\n",
      "    Flujo de 2->4: 1.0\n",
      "    Flujo de 2->5: 7.0\n",
      "  Nodo 3\n",
      "    Flujo de 3->4: 4.0\n",
      "  Nodo 4\n",
      "    Flujo de 4->5: 5.0\n",
      "  Nodo 5\n"
     ]
    }
   ],
   "source": [
    "# Call optimize! before retrieving the solution\n",
    "optimize!(model)\n",
    "\n",
    "\n",
    "println(\"Flujo maximo:\", value(Z))\n",
    "\n",
    "println(\"Flujos en los arcos:\")\n",
    "\n",
    "for i in 1:N\n",
    "    println(\"  Nodo $i\")\n",
    "    for j in 1:N\n",
    "        if value(x[i, j]) > 0\n",
    "            println(\"    Flujo de $i->$j: \", value(x[i, j]))\n",
    "        end\n",
    "    end\n",
    "end"
   ]
  }
 ],
 "metadata": {
  "kernelspec": {
   "display_name": "Julia 1.9.3",
   "language": "julia",
   "name": "julia-1.9"
  },
  "language_info": {
   "file_extension": ".jl",
   "mimetype": "application/julia",
   "name": "julia",
   "version": "1.9.3"
  },
  "orig_nbformat": 4
 },
 "nbformat": 4,
 "nbformat_minor": 2
}
