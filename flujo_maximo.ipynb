{
 "cells": [
  {
   "cell_type": "code",
   "execution_count": 2,
   "metadata": {},
   "outputs": [
    {
     "name": "stderr",
     "output_type": "stream",
     "text": [
      "\u001b[32m\u001b[1m   Resolving\u001b[22m\u001b[39m package versions...\n"
     ]
    },
    {
     "name": "stderr",
     "output_type": "stream",
     "text": [
      "\u001b[32m\u001b[1m  No Changes\u001b[22m\u001b[39m to `~/.julia/environments/v1.9/Project.toml`\n",
      "\u001b[32m\u001b[1m  No Changes\u001b[22m\u001b[39m to `~/.julia/environments/v1.9/Manifest.toml`\n"
     ]
    },
    {
     "name": "stderr",
     "output_type": "stream",
     "text": [
      "\u001b[32m\u001b[1m   Resolving\u001b[22m\u001b[39m package versions...\n"
     ]
    },
    {
     "name": "stderr",
     "output_type": "stream",
     "text": [
      "\u001b[32m\u001b[1m  No Changes\u001b[22m\u001b[39m to `~/.julia/environments/v1.9/Project.toml`\n",
      "\u001b[32m\u001b[1m  No Changes\u001b[22m\u001b[39m to `~/.julia/environments/v1.9/Manifest.toml`\n"
     ]
    }
   ],
   "source": [
    "import Pkg\n",
    "Pkg.add(\"JuMP\")\n",
    "Pkg.add(\"GLPK\")\n",
    "using JuMP, GLPK, Random, Test"
   ]
  },
  {
   "cell_type": "code",
   "execution_count": 4,
   "metadata": {},
   "outputs": [
    {
     "name": "stdout",
     "output_type": "stream",
     "text": [
      "Max Z\n",
      "Subject to\n",
      " x[1,1] = 0\n",
      " x[1,4] = 0\n",
      " x[2,1] = 0\n",
      " x[2,2] = 0\n",
      " x[3,1] = 0\n",
      " x[3,2] = 0\n",
      " x[3,3] = 0\n",
      " x[4,1] = 0\n",
      " x[4,2] = 0\n",
      " x[4,3] = 0\n",
      " x[4,4] = 0\n",
      " g : x[1,1] + x[1,2] + x[1,3] + x[1,4] - Z = 0\n",
      " h : x[1,4] + x[2,4] + x[3,4] + x[4,4] - Z = 0\n",
      " c[2] : x[2,1] - x[1,2] - x[3,2] - x[4,2] + x[2,3] + x[2,4] = 0\n",
      " c[3] : x[3,1] + x[3,2] - x[1,3] - x[2,3] - x[4,3] + x[3,4] = 0\n",
      " x[1,2] ≤ 5\n",
      " x[1,3] ≤ 3\n",
      " x[2,3] ≤ 5\n",
      " x[2,4] ≤ 4\n",
      " x[3,4] ≤ 5\n",
      " x[1,1] ≥ 0\n",
      " x[2,1] ≥ 0\n",
      " x[3,1] ≥ 0\n",
      " x[4,1] ≥ 0\n",
      " x[1,2] ≥ 0\n",
      " x[2,2] ≥ 0\n",
      " x[3,2] ≥ 0\n",
      " x[4,2] ≥ 0\n",
      " x[1,3] ≥ 0\n",
      " x[2,3] ≥ 0\n",
      " x[3,3] ≥ 0\n",
      " x[4,3] ≥ 0\n",
      " x[1,4] ≥ 0\n",
      " x[2,4] ≥ 0\n",
      " x[3,4] ≥ 0\n",
      " x[4,4] ≥ 0\n",
      " Z ≥ 0\n",
      " x[1,1] integer\n",
      " x[2,1] integer\n",
      " x[3,1] integer\n",
      " x[4,1] integer\n",
      " x[1,2] integer\n",
      " x[2,2] integer\n",
      " x[3,2] integer\n",
      " x[4,2] integer\n",
      " x[1,3] integer\n",
      " x[2,3] integer\n",
      " x[3,3] integer\n",
      " x[4,3] integer\n",
      " x[1,4] integer\n",
      " x[2,4] integer\n",
      " x[3,4] integer\n",
      " x[4,4] integer\n",
      " Z integer\n",
      "objective_value(model) = 8.0\n",
      "value.(Z) = 8.0\n",
      "#= /home/saul/Desktop/University/Ingenieria logistica/entregas/flujo_maximo.ipynb:31 =# @show(value.(Z)) = 8.0\n"
     ]
    },
    {
     "data": {
      "text/plain": [
       "8.0"
      ]
     },
     "metadata": {},
     "output_type": "display_data"
    }
   ],
   "source": [
    "kmax = [0 5 3 0 ;0 0 5 4 ;0 0 0 5 ;0 0 0 0]\n",
    "s = 1\n",
    "t = 4\n",
    "N=4\n",
    "model = Model(GLPK.Optimizer)\n",
    "set_silent(model)\n",
    "@variable(model, x[1:N,1:N] >= 0, Int)\n",
    "@variable(model, Z >= 0, Int)\n",
    "@objective(model, Max, Z)\n",
    "# Añadir restricciones para que los elementos de x correspondan con kmax\n",
    "for i in 1:N\n",
    "        for j in 1:N\n",
    "                if kmax[i, j] > 0\n",
    "                        @constraint(model, x[i, j] <= kmax[i, j])\n",
    "                else\n",
    "                        @constraint(model, x[i, j] == 0)\n",
    "                end\n",
    "        end\n",
    "end\n",
    "@constraint(model, g,  sum(x[s,:]) == Z)\n",
    "@constraint(model, h,  sum(x[:,t]) == Z)\n",
    "@constraint(model, c[i=2:N - 1] , sum(x[i,:])  == sum(x[:,i]))\n",
    "\n",
    "\n",
    "print(model)\n",
    "\n",
    "# Call optimize! before retrieving the solution\n",
    "optimize!(model)\n",
    "\n",
    "\n",
    "@show objective_value(model)@show value.(Z)"
   ]
  }
 ],
 "metadata": {
  "kernelspec": {
   "display_name": "Julia 1.9.3",
   "language": "julia",
   "name": "julia-1.9"
  },
  "language_info": {
   "file_extension": ".jl",
   "mimetype": "application/julia",
   "name": "julia",
   "version": "1.9.3"
  },
  "orig_nbformat": 4
 },
 "nbformat": 4,
 "nbformat_minor": 2
}
