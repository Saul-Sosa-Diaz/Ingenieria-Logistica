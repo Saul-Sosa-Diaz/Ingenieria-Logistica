{
 "cells": [
  {
   "cell_type": "code",
   "execution_count": 39,
   "metadata": {},
   "outputs": [
    {
     "name": "stderr",
     "output_type": "stream",
     "text": [
      "\u001b[32m\u001b[1m   Resolving\u001b[22m\u001b[39m package versions...\n"
     ]
    },
    {
     "name": "stderr",
     "output_type": "stream",
     "text": [
      "\u001b[32m\u001b[1m  No Changes\u001b[22m\u001b[39m to `~/.julia/environments/v1.9/Project.toml`\n",
      "\u001b[32m\u001b[1m  No Changes\u001b[22m\u001b[39m to `~/.julia/environments/v1.9/Manifest.toml`\n"
     ]
    },
    {
     "name": "stderr",
     "output_type": "stream",
     "text": [
      "\u001b[32m\u001b[1m   Resolving\u001b[22m\u001b[39m package versions...\n"
     ]
    },
    {
     "name": "stderr",
     "output_type": "stream",
     "text": [
      "\u001b[32m\u001b[1m  No Changes\u001b[22m\u001b[39m to `~/.julia/environments/v1.9/Project.toml`\n",
      "\u001b[32m\u001b[1m  No Changes\u001b[22m\u001b[39m to `~/.julia/environments/v1.9/Manifest.toml`\n"
     ]
    },
    {
     "name": "stderr",
     "output_type": "stream",
     "text": [
      "\u001b[32m\u001b[1m   Resolving\u001b[22m\u001b[39m package versions...\n"
     ]
    },
    {
     "name": "stderr",
     "output_type": "stream",
     "text": [
      "\u001b[32m\u001b[1m  No Changes\u001b[22m\u001b[39m to `~/.julia/environments/v1.9/Project.toml`\n",
      "\u001b[32m\u001b[1m  No Changes\u001b[22m\u001b[39m to `~/.julia/environments/v1.9/Manifest.toml`\n"
     ]
    },
    {
     "name": "stderr",
     "output_type": "stream",
     "text": [
      "\u001b[32m\u001b[1m   Resolving\u001b[22m\u001b[39m package versions...\n"
     ]
    },
    {
     "name": "stderr",
     "output_type": "stream",
     "text": [
      "\u001b[32m\u001b[1m   Installed\u001b[22m\u001b[39m libfdk_aac_jll ─────────────── v2.0.2+0\n",
      "\u001b[32m\u001b[1m   Installed\u001b[22m\u001b[39m Libmount_jll ───────────────── v2.35.0+0\n",
      "\u001b[32m\u001b[1m   Installed\u001b[22m\u001b[39m LERC_jll ───────────────────── v3.0.0+1\n",
      "\u001b[32m\u001b[1m   Installed\u001b[22m\u001b[39m x265_jll ───────────────────── v3.5.0+0\n",
      "\u001b[32m\u001b[1m   Installed\u001b[22m\u001b[39m JpegTurbo_jll ──────────────── v2.1.91+0\n",
      "\u001b[32m\u001b[1m   Installed\u001b[22m\u001b[39m Opus_jll ───────────────────── v1.3.2+0\n",
      "\u001b[32m\u001b[1m   Installed\u001b[22m\u001b[39m GR_jll ─────────────────────── v0.72.10+0\n",
      "\u001b[32m\u001b[1m   Installed\u001b[22m\u001b[39m LoggingExtras ──────────────── v1.0.2\n"
     ]
    },
    {
     "name": "stderr",
     "output_type": "stream",
     "text": [
      "\u001b[32m\u001b[1m   Installed\u001b[22m\u001b[39m Xorg_xkbcomp_jll ───────────── v1.4.6+0\n",
      "\u001b[32m\u001b[1m   Installed\u001b[22m\u001b[39m RelocatableFolders ─────────── v1.0.0\n"
     ]
    },
    {
     "name": "stderr",
     "output_type": "stream",
     "text": [
      "\u001b[32m\u001b[1m   Installed\u001b[22m\u001b[39m Formatting ─────────────────── v0.4.2\n",
      "\u001b[32m\u001b[1m   Installed\u001b[22m\u001b[39m ConcurrentUtilities ────────── v2.2.1\n",
      "\u001b[32m\u001b[1m   Installed\u001b[22m\u001b[39m Unitful ────────────────────── v1.17.0\n",
      "\u001b[32m\u001b[1m   Installed\u001b[22m\u001b[39m Grisu ──────────────────────── v1.0.2\n",
      "\u001b[32m\u001b[1m   Installed\u001b[22m\u001b[39m Xorg_xcb_util_wm_jll ───────── v0.4.1+1\n",
      "\u001b[32m\u001b[1m   Installed\u001b[22m\u001b[39m Xorg_xcb_util_image_jll ────── v0.4.0+1\n"
     ]
    },
    {
     "name": "stderr",
     "output_type": "stream",
     "text": [
      "\u001b[32m\u001b[1m   Installed\u001b[22m\u001b[39m Contour ────────────────────── v0.6.2\n"
     ]
    },
    {
     "name": "stderr",
     "output_type": "stream",
     "text": [
      "\u001b[32m\u001b[1m   Installed\u001b[22m\u001b[39m RecipesPipeline ────────────── v0.6.12\n",
      "\u001b[32m\u001b[1m   Installed\u001b[22m\u001b[39m Xorg_libpthread_stubs_jll ──── v0.1.1+0\n",
      "\u001b[32m\u001b[1m   Installed\u001b[22m\u001b[39m OpenSSL ────────────────────── v1.4.1\n",
      "\u001b[32m\u001b[1m   Installed\u001b[22m\u001b[39m Xorg_libSM_jll ─────────────── v1.2.3+0\n",
      "\u001b[32m\u001b[1m   Installed\u001b[22m\u001b[39m Cairo_jll ──────────────────── v1.16.1+1\n"
     ]
    },
    {
     "name": "stderr",
     "output_type": "stream",
     "text": [
      "\u001b[32m\u001b[1m   Installed\u001b[22m\u001b[39m Xorg_xcb_util_jll ──────────── v0.4.0+1\n",
      "\u001b[32m\u001b[1m   Installed\u001b[22m\u001b[39m HTTP ───────────────────────── v1.10.0\n"
     ]
    },
    {
     "name": "stderr",
     "output_type": "stream",
     "text": [
      "\u001b[32m\u001b[1m   Installed\u001b[22m\u001b[39m Libgpg_error_jll ───────────── v1.42.0+0\n",
      "\u001b[32m\u001b[1m   Installed\u001b[22m\u001b[39m Fontconfig_jll ─────────────── v2.13.93+0\n",
      "\u001b[32m\u001b[1m   Installed\u001b[22m\u001b[39m Xorg_libxkbfile_jll ────────── v1.1.2+0\n",
      "\u001b[32m\u001b[1m   Installed\u001b[22m\u001b[39m Xorg_libXinerama_jll ───────── v1.1.4+4\n"
     ]
    },
    {
     "name": "stderr",
     "output_type": "stream",
     "text": [
      "\u001b[32m\u001b[1m   Installed\u001b[22m\u001b[39m Xorg_libXau_jll ────────────── v1.0.11+0\n",
      "\u001b[32m\u001b[1m   Installed\u001b[22m\u001b[39m EpollShim_jll ──────────────── v0.0.20230411+0\n",
      "\u001b[32m\u001b[1m   Installed\u001b[22m\u001b[39m Missings ───────────────────── v1.1.0\n"
     ]
    },
    {
     "name": "stderr",
     "output_type": "stream",
     "text": [
      "\u001b[32m\u001b[1m   Installed\u001b[22m\u001b[39m Xorg_xcb_util_keysyms_jll ──── v0.4.0+1\n",
      "\u001b[32m\u001b[1m   Installed\u001b[22m\u001b[39m xkbcommon_jll ──────────────── v1.4.1+1\n",
      "\u001b[32m\u001b[1m   Installed\u001b[22m\u001b[39m FFMPEG ─────────────────────── v0.4.1\n",
      "\u001b[32m\u001b[1m   Installed\u001b[22m\u001b[39m Showoff ────────────────────── v1.0.3\n",
      "\u001b[32m\u001b[1m   Installed\u001b[22m\u001b[39m Pipe ───────────────────────── v1.3.0\n",
      "\u001b[32m\u001b[1m   Installed\u001b[22m\u001b[39m SimpleBufferStream ─────────── v1.1.0\n",
      "\u001b[32m\u001b[1m   Installed\u001b[22m\u001b[39m XZ_jll ─────────────────────── v5.4.4+0\n"
     ]
    },
    {
     "name": "stderr",
     "output_type": "stream",
     "text": [
      "\u001b[32m\u001b[1m   Installed\u001b[22m\u001b[39m HarfBuzz_jll ───────────────── v2.8.1+1\n",
      "\u001b[32m\u001b[1m   Installed\u001b[22m\u001b[39m PlotThemes ─────────────────── v3.1.0\n",
      "\u001b[32m\u001b[1m   Installed\u001b[22m\u001b[39m FriBidi_jll ────────────────── v1.0.10+0\n",
      "\u001b[32m\u001b[1m   Installed\u001b[22m\u001b[39m UnicodeFun ─────────────────── v0.4.1\n",
      "\u001b[32m\u001b[1m   Installed\u001b[22m\u001b[39m LZO_jll ────────────────────── v2.10.1+0\n",
      "\u001b[32m\u001b[1m   Installed\u001b[22m\u001b[39m fzf_jll ────────────────────── v0.29.0+0\n",
      "\u001b[32m\u001b[1m   Installed\u001b[22m\u001b[39m MbedTLS ────────────────────── v1.1.7\n"
     ]
    },
    {
     "name": "stderr",
     "output_type": "stream",
     "text": [
      "\u001b[32m\u001b[1m   Installed\u001b[22m\u001b[39m x264_jll ───────────────────── v2021.5.5+0\n",
      "\u001b[32m\u001b[1m   Installed\u001b[22m\u001b[39m GLFW_jll ───────────────────── v3.3.8+0\n",
      "\u001b[32m\u001b[1m   Installed\u001b[22m\u001b[39m FreeType2_jll ──────────────── v2.13.1+0\n",
      "\u001b[32m\u001b[1m   Installed\u001b[22m\u001b[39m JLFzf ──────────────────────── v0.1.5\n",
      "\u001b[32m\u001b[1m   Installed\u001b[22m\u001b[39m StatsAPI ───────────────────── v1.7.0\n"
     ]
    },
    {
     "name": "stderr",
     "output_type": "stream",
     "text": [
      "\u001b[32m\u001b[1m   Installed\u001b[22m\u001b[39m Xorg_libxcb_jll ────────────── v1.15.0+0\n",
      "\u001b[32m\u001b[1m   Installed\u001b[22m\u001b[39m StatsBase ──────────────────── v0.34.2\n"
     ]
    },
    {
     "name": "stderr",
     "output_type": "stream",
     "text": [
      "\u001b[32m\u001b[1m   Installed\u001b[22m\u001b[39m GR ─────────────────────────── v0.72.10\n",
      "\u001b[32m\u001b[1m   Installed\u001b[22m\u001b[39m libpng_jll ─────────────────── v1.6.38+0\n",
      "\u001b[32m\u001b[1m   Installed\u001b[22m\u001b[39m mtdev_jll ──────────────────── v1.1.6+0\n",
      "\u001b[32m\u001b[1m   Installed\u001b[22m\u001b[39m libaom_jll ─────────────────── v3.4.0+0\n",
      "\u001b[32m\u001b[1m   Installed\u001b[22m\u001b[39m gperf_jll ──────────────────── v3.1.1+0\n",
      "\u001b[32m\u001b[1m   Installed\u001b[22m\u001b[39m ExceptionUnwrapping ────────── v0.1.9\n",
      "\u001b[32m\u001b[1m   Installed\u001b[22m\u001b[39m Scratch ────────────────────── v1.2.0\n",
      "\u001b[32m\u001b[1m   Installed\u001b[22m\u001b[39m Plots ──────────────────────── v1.39.0\n"
     ]
    },
    {
     "name": "stderr",
     "output_type": "stream",
     "text": [
      "\u001b[32m\u001b[1m   Installed\u001b[22m\u001b[39m Zstd_jll ───────────────────── v1.5.5+0\n",
      "\u001b[32m\u001b[1m   Installed\u001b[22m\u001b[39m Xorg_libXext_jll ───────────── v1.3.4+4\n"
     ]
    },
    {
     "name": "stderr",
     "output_type": "stream",
     "text": [
      "\u001b[32m\u001b[1m   Installed\u001b[22m\u001b[39m eudev_jll ──────────────────── v3.2.9+0\n",
      "\u001b[32m\u001b[1m   Installed\u001b[22m\u001b[39m Xorg_xcb_util_cursor_jll ───── v0.1.4+0\n",
      "\u001b[32m\u001b[1m   Installed\u001b[22m\u001b[39m Expat_jll ──────────────────── v2.5.0+0\n",
      "\u001b[32m\u001b[1m   Installed\u001b[22m\u001b[39m Libtiff_jll ────────────────── v4.5.1+1\n",
      "\u001b[32m\u001b[1m   Installed\u001b[22m\u001b[39m Libffi_jll ─────────────────── v3.2.2+1\n",
      "\u001b[32m\u001b[1m   Installed\u001b[22m\u001b[39m Xorg_libXrender_jll ────────── v0.9.10+4\n"
     ]
    },
    {
     "name": "stderr",
     "output_type": "stream",
     "text": [
      "\u001b[32m\u001b[1m   Installed\u001b[22m\u001b[39m libevdev_jll ───────────────── v1.11.0+0\n",
      "\u001b[32m\u001b[1m   Installed\u001b[22m\u001b[39m Xorg_libXi_jll ─────────────── v1.7.10+4\n",
      "\u001b[32m\u001b[1m   Installed\u001b[22m\u001b[39m libinput_jll ───────────────── v1.18.0+0\n",
      "\u001b[32m\u001b[1m   Installed\u001b[22m\u001b[39m Vulkan_Loader_jll ──────────── v1.3.243+0\n",
      "\u001b[32m\u001b[1m   Installed\u001b[22m\u001b[39m Ogg_jll ────────────────────── v1.3.5+1\n",
      "\u001b[32m\u001b[1m   Installed\u001b[22m\u001b[39m XSLT_jll ───────────────────── v1.1.34+0\n",
      "\u001b[32m\u001b[1m   Installed\u001b[22m\u001b[39m Xorg_libXcursor_jll ────────── v1.2.0+4\n",
      "\u001b[32m\u001b[1m   Installed\u001b[22m\u001b[39m Libuuid_jll ────────────────── v2.36.0+0\n"
     ]
    },
    {
     "name": "stderr",
     "output_type": "stream",
     "text": [
      "\u001b[32m\u001b[1m   Installed\u001b[22m\u001b[39m Wayland_protocols_jll ──────── v1.25.0+0\n",
      "\u001b[32m\u001b[1m   Installed\u001b[22m\u001b[39m Xorg_xcb_util_renderutil_jll ─ v0.3.9+1\n",
      "\u001b[32m\u001b[1m   Installed\u001b[22m\u001b[39m Xorg_libICE_jll ────────────── v1.0.10+1\n"
     ]
    },
    {
     "name": "stderr",
     "output_type": "stream",
     "text": [
      "\u001b[32m\u001b[1m   Installed\u001b[22m\u001b[39m Graphite2_jll ──────────────── v1.3.14+0\n",
      "\u001b[32m\u001b[1m   Installed\u001b[22m\u001b[39m Pixman_jll ─────────────────── v0.42.2+0\n",
      "\u001b[32m\u001b[1m   Installed\u001b[22m\u001b[39m XML2_jll ───────────────────── v2.11.5+0\n",
      "\u001b[32m\u001b[1m   Installed\u001b[22m\u001b[39m libass_jll ─────────────────── v0.15.1+0\n",
      "\u001b[32m\u001b[1m   Installed\u001b[22m\u001b[39m Latexify ───────────────────── v0.16.1\n",
      "\u001b[32m\u001b[1m   Installed\u001b[22m\u001b[39m Gettext_jll ────────────────── v0.21.0+0\n",
      "\u001b[32m\u001b[1m   Installed\u001b[22m\u001b[39m Xorg_xtrans_jll ────────────── v1.5.0+0\n",
      "\u001b[32m\u001b[1m   Installed\u001b[22m\u001b[39m Wayland_jll ────────────────── v1.21.0+1\n"
     ]
    },
    {
     "name": "stderr",
     "output_type": "stream",
     "text": [
      "\u001b[32m\u001b[1m   Installed\u001b[22m\u001b[39m OpenSSL_jll ────────────────── v1.1.23+0\n",
      "\u001b[32m\u001b[1m   Installed\u001b[22m\u001b[39m Libgcrypt_jll ──────────────── v1.8.7+0\n",
      "\u001b[32m\u001b[1m   Installed\u001b[22m\u001b[39m BitFlags ───────────────────── v0.1.7\n",
      "\u001b[32m\u001b[1m   Installed\u001b[22m\u001b[39m FFMPEG_jll ─────────────────── v4.4.2+2\n",
      "\u001b[32m\u001b[1m   Installed\u001b[22m\u001b[39m Xorg_xkeyboard_config_jll ──── v2.39.0+0\n"
     ]
    },
    {
     "name": "stderr",
     "output_type": "stream",
     "text": [
      "\u001b[32m\u001b[1m   Installed\u001b[22m\u001b[39m LLVMOpenMP_jll ─────────────── v15.0.4+0\n",
      "\u001b[32m\u001b[1m   Installed\u001b[22m\u001b[39m Xorg_libXrandr_jll ─────────── v1.5.2+4\n",
      "\u001b[32m\u001b[1m   Installed\u001b[22m\u001b[39m Xorg_libXfixes_jll ─────────── v5.0.3+4\n",
      "\u001b[32m\u001b[1m   Installed\u001b[22m\u001b[39m Libiconv_jll ───────────────── v1.17.0+0\n",
      "\u001b[32m\u001b[1m   Installed\u001b[22m\u001b[39m LAME_jll ───────────────────── v3.100.1+0\n",
      "\u001b[32m\u001b[1m   Installed\u001b[22m\u001b[39m Qt6Base_jll ────────────────── v6.5.2+2\n",
      "\u001b[32m\u001b[1m   Installed\u001b[22m\u001b[39m LaTeXStrings ───────────────── v1.3.0\n",
      "\u001b[32m\u001b[1m   Installed\u001b[22m\u001b[39m URIs ───────────────────────── v1.5.0\n"
     ]
    },
    {
     "name": "stderr",
     "output_type": "stream",
     "text": [
      "\u001b[32m\u001b[1m   Installed\u001b[22m\u001b[39m Glib_jll ───────────────────── v2.76.5+0\n",
      "\u001b[32m\u001b[1m   Installed\u001b[22m\u001b[39m libvorbis_jll ──────────────── v1.3.7+1\n",
      "\u001b[32m\u001b[1m   Installed\u001b[22m\u001b[39m Libglvnd_jll ───────────────── v1.6.0+0\n",
      "\u001b[32m\u001b[1m   Installed\u001b[22m\u001b[39m Xorg_libX11_jll ────────────── v1.8.6+0\n",
      "\u001b[32m\u001b[1m   Installed\u001b[22m\u001b[39m Xorg_libXdmcp_jll ──────────── v1.1.4+0\n",
      "\u001b[32m\u001b[1m   Installed\u001b[22m\u001b[39m Unzip ──────────────────────── v0.2.0\n"
     ]
    },
    {
     "name": "stderr",
     "output_type": "stream",
     "text": [
      "\u001b[32m\u001b[1m   Installed\u001b[22m\u001b[39m SortingAlgorithms ──────────── v1.1.1\n",
      "\u001b[32m\u001b[1m   Installed\u001b[22m\u001b[39m UnitfulLatexify ────────────── v1.6.3\n"
     ]
    },
    {
     "name": "stderr",
     "output_type": "stream",
     "text": [
      "\u001b[32m\u001b[1m    Updating\u001b[22m\u001b[39m `~/.julia/environments/v1.9/Project.toml`\n",
      "  \u001b[90m[91a5bcdd] \u001b[39m\u001b[92m+ Plots v1.39.0\u001b[39m\n",
      "\u001b[32m\u001b[1m    Updating\u001b[22m\u001b[39m `~/.julia/environments/v1.9/Manifest.toml`\n",
      "  \u001b[90m[d1d4a3ce] \u001b[39m\u001b[92m+ BitFlags v0.1.7\u001b[39m\n",
      "  \u001b[90m[f0e56b4a] \u001b[39m\u001b[92m+ ConcurrentUtilities v2.2.1\u001b[39m\n",
      "  \u001b[90m[d38c429a] \u001b[39m\u001b[92m+ Contour v0.6.2\u001b[39m\n",
      "  \u001b[90m[460bff9d] \u001b[39m\u001b[92m+ ExceptionUnwrapping v0.1.9\u001b[39m\n",
      "  \u001b[90m[c87230d0] \u001b[39m\u001b[92m+ FFMPEG v0.4.1\u001b[39m\n",
      "  \u001b[90m[59287772] \u001b[39m\u001b[92m+ Formatting v0.4.2\u001b[39m\n",
      "  \u001b[90m[28b8d3ca] \u001b[39m\u001b[92m+ GR v0.72.10\u001b[39m\n",
      "  \u001b[90m[42e2da0e] \u001b[39m\u001b[92m+ Grisu v1.0.2\u001b[39m\n",
      "  \u001b[90m[cd3eb016] \u001b[39m\u001b[92m+ HTTP v1.10.0\u001b[39m\n",
      "  \u001b[90m[1019f520] \u001b[39m\u001b[92m+ JLFzf v0.1.5\u001b[39m\n",
      "  \u001b[90m[b964fa9f] \u001b[39m\u001b[92m+ LaTeXStrings v1.3.0\u001b[39m\n",
      "  \u001b[90m[23fbe1c1] \u001b[39m\u001b[92m+ Latexify v0.16.1\u001b[39m\n",
      "  \u001b[90m[e6f89c97] \u001b[39m\u001b[92m+ LoggingExtras v1.0.2\u001b[39m\n",
      "  \u001b[90m[739be429] \u001b[39m\u001b[92m+ MbedTLS v1.1.7\u001b[39m\n",
      "  \u001b[90m[e1d29d7a] \u001b[39m\u001b[92m+ Missings v1.1.0\u001b[39m\n",
      "  \u001b[90m[4d8831e6] \u001b[39m\u001b[92m+ OpenSSL v1.4.1\u001b[39m\n",
      "  \u001b[90m[b98c9c47] \u001b[39m\u001b[92m+ Pipe v1.3.0\u001b[39m\n",
      "  \u001b[90m[ccf2f8ad] \u001b[39m\u001b[92m+ PlotThemes v3.1.0\u001b[39m\n",
      "  \u001b[90m[91a5bcdd] \u001b[39m\u001b[92m+ Plots v1.39.0\u001b[39m\n",
      "  \u001b[90m[01d81517] \u001b[39m\u001b[92m+ RecipesPipeline v0.6.12\u001b[39m\n",
      "  \u001b[90m[05181044] \u001b[39m\u001b[92m+ RelocatableFolders v1.0.0\u001b[39m\n",
      "  \u001b[90m[6c6a2e73] \u001b[39m\u001b[92m+ Scratch v1.2.0\u001b[39m\n",
      "  \u001b[90m[992d4aef] \u001b[39m\u001b[92m+ Showoff v1.0.3\u001b[39m\n",
      "  \u001b[90m[777ac1f9] \u001b[39m\u001b[92m+ SimpleBufferStream v1.1.0\u001b[39m\n",
      "  \u001b[90m[a2af1166] \u001b[39m\u001b[92m+ SortingAlgorithms v1.1.1\u001b[39m\n",
      "  \u001b[90m[82ae8749] \u001b[39m\u001b[92m+ StatsAPI v1.7.0\u001b[39m\n",
      "  \u001b[90m[2913bbd2] \u001b[39m\u001b[92m+ StatsBase v0.34.2\u001b[39m\n",
      "  \u001b[90m[5c2747f8] \u001b[39m\u001b[92m+ URIs v1.5.0\u001b[39m\n",
      "  \u001b[90m[1cfade01] \u001b[39m\u001b[92m+ UnicodeFun v0.4.1\u001b[39m\n",
      "  \u001b[90m[1986cc42] \u001b[39m\u001b[92m+ Unitful v1.17.0\u001b[39m\n",
      "  \u001b[90m[45397f5d] \u001b[39m\u001b[92m+ UnitfulLatexify v1.6.3\u001b[39m\n",
      "  \u001b[90m[41fe7b60] \u001b[39m\u001b[92m+ Unzip v0.2.0\u001b[39m\n",
      "  \u001b[90m[83423d85] \u001b[39m\u001b[92m+ Cairo_jll v1.16.1+1\u001b[39m\n",
      "  \u001b[90m[2702e6a9] \u001b[39m\u001b[92m+ EpollShim_jll v0.0.20230411+0\u001b[39m\n",
      "  \u001b[90m[2e619515] \u001b[39m\u001b[92m+ Expat_jll v2.5.0+0\u001b[39m\n",
      "\u001b[32m⌃\u001b[39m \u001b[90m[b22a6f82] \u001b[39m\u001b[92m+ FFMPEG_jll v4.4.2+2\u001b[39m\n",
      "  \u001b[90m[a3f928ae] \u001b[39m\u001b[92m+ Fontconfig_jll v2.13.93+0\u001b[39m\n",
      "  \u001b[90m[d7e528f0] \u001b[39m\u001b[92m+ FreeType2_jll v2.13.1+0\u001b[39m\n",
      "  \u001b[90m[559328eb] \u001b[39m\u001b[92m+ FriBidi_jll v1.0.10+0\u001b[39m\n",
      "  \u001b[90m[0656b61e] \u001b[39m\u001b[92m+ GLFW_jll v3.3.8+0\u001b[39m\n",
      "  \u001b[90m[d2c73de3] \u001b[39m\u001b[92m+ GR_jll v0.72.10+0\u001b[39m\n",
      "  \u001b[90m[78b55507] \u001b[39m\u001b[92m+ Gettext_jll v0.21.0+0\u001b[39m\n",
      "  \u001b[90m[7746bdde] \u001b[39m\u001b[92m+ Glib_jll v2.76.5+0\u001b[39m\n",
      "  \u001b[90m[3b182d85] \u001b[39m\u001b[92m+ Graphite2_jll v1.3.14+0\u001b[39m\n",
      "  \u001b[90m[2e76f6c2] \u001b[39m\u001b[92m+ HarfBuzz_jll v2.8.1+1\u001b[39m\n",
      "  \u001b[90m[aacddb02] \u001b[39m\u001b[92m+ JpegTurbo_jll v2.1.91+0\u001b[39m\n",
      "  \u001b[90m[c1c5ebd0] \u001b[39m\u001b[92m+ LAME_jll v3.100.1+0\u001b[39m\n",
      "  \u001b[90m[88015f11] \u001b[39m\u001b[92m+ LERC_jll v3.0.0+1\u001b[39m\n",
      "  \u001b[90m[1d63c593] \u001b[39m\u001b[92m+ LLVMOpenMP_jll v15.0.4+0\u001b[39m\n",
      "  \u001b[90m[dd4b983a] \u001b[39m\u001b[92m+ LZO_jll v2.10.1+0\u001b[39m\n",
      "\u001b[33m⌅\u001b[39m \u001b[90m[e9f186c6] \u001b[39m\u001b[92m+ Libffi_jll v3.2.2+1\u001b[39m\n",
      "  \u001b[90m[d4300ac3] \u001b[39m\u001b[92m+ Libgcrypt_jll v1.8.7+0\u001b[39m\n",
      "  \u001b[90m[7e76a0d4] \u001b[39m\u001b[92m+ Libglvnd_jll v1.6.0+0\u001b[39m\n",
      "  \u001b[90m[7add5ba3] \u001b[39m\u001b[92m+ Libgpg_error_jll v1.42.0+0\u001b[39m\n",
      "  \u001b[90m[94ce4f54] \u001b[39m\u001b[92m+ Libiconv_jll v1.17.0+0\u001b[39m\n",
      "  \u001b[90m[4b2f31a3] \u001b[39m\u001b[92m+ Libmount_jll v2.35.0+0\u001b[39m\n",
      "  \u001b[90m[89763e89] \u001b[39m\u001b[92m+ Libtiff_jll v4.5.1+1\u001b[39m\n",
      "  \u001b[90m[38a345b3] \u001b[39m\u001b[92m+ Libuuid_jll v2.36.0+0\u001b[39m\n",
      "  \u001b[90m[e7412a2a] \u001b[39m\u001b[92m+ Ogg_jll v1.3.5+1\u001b[39m\n",
      "\u001b[33m⌅\u001b[39m \u001b[90m[458c3c95] \u001b[39m\u001b[92m+ OpenSSL_jll v1.1.23+0\u001b[39m\n",
      "  \u001b[90m[91d4177d] \u001b[39m\u001b[92m+ Opus_jll v1.3.2+0\u001b[39m\n",
      "  \u001b[90m[30392449] \u001b[39m\u001b[92m+ Pixman_jll v0.42.2+0\u001b[39m\n",
      "  \u001b[90m[c0090381] \u001b[39m\u001b[92m+ Qt6Base_jll v6.5.2+2\u001b[39m\n",
      "  \u001b[90m[a44049a8] \u001b[39m\u001b[92m+ Vulkan_Loader_jll v1.3.243+0\u001b[39m\n",
      "  \u001b[90m[a2964d1f] \u001b[39m\u001b[92m+ Wayland_jll v1.21.0+1\u001b[39m\n",
      "  \u001b[90m[2381bf8a] \u001b[39m\u001b[92m+ Wayland_protocols_jll v1.25.0+0\u001b[39m\n",
      "  \u001b[90m[02c8fc9c] \u001b[39m\u001b[92m+ XML2_jll v2.11.5+0\u001b[39m\n",
      "  \u001b[90m[aed1982a] \u001b[39m\u001b[92m+ XSLT_jll v1.1.34+0\u001b[39m\n",
      "  \u001b[90m[ffd25f8a] \u001b[39m\u001b[92m+ XZ_jll v5.4.4+0\u001b[39m\n",
      "  \u001b[90m[f67eecfb] \u001b[39m\u001b[92m+ Xorg_libICE_jll v1.0.10+1\u001b[39m\n",
      "  \u001b[90m[c834827a] \u001b[39m\u001b[92m+ Xorg_libSM_jll v1.2.3+0\u001b[39m\n",
      "  \u001b[90m[4f6342f7] \u001b[39m\u001b[92m+ Xorg_libX11_jll v1.8.6+0\u001b[39m\n",
      "  \u001b[90m[0c0b7dd1] \u001b[39m\u001b[92m+ Xorg_libXau_jll v1.0.11+0\u001b[39m\n",
      "  \u001b[90m[935fb764] \u001b[39m\u001b[92m+ Xorg_libXcursor_jll v1.2.0+4\u001b[39m\n",
      "  \u001b[90m[a3789734] \u001b[39m\u001b[92m+ Xorg_libXdmcp_jll v1.1.4+0\u001b[39m\n",
      "  \u001b[90m[1082639a] \u001b[39m\u001b[92m+ Xorg_libXext_jll v1.3.4+4\u001b[39m\n",
      "  \u001b[90m[d091e8ba] \u001b[39m\u001b[92m+ Xorg_libXfixes_jll v5.0.3+4\u001b[39m\n",
      "  \u001b[90m[a51aa0fd] \u001b[39m\u001b[92m+ Xorg_libXi_jll v1.7.10+4\u001b[39m\n",
      "  \u001b[90m[d1454406] \u001b[39m\u001b[92m+ Xorg_libXinerama_jll v1.1.4+4\u001b[39m\n",
      "  \u001b[90m[ec84b674] \u001b[39m\u001b[92m+ Xorg_libXrandr_jll v1.5.2+4\u001b[39m\n",
      "  \u001b[90m[ea2f1a96] \u001b[39m\u001b[92m+ Xorg_libXrender_jll v0.9.10+4\u001b[39m\n",
      "  \u001b[90m[14d82f49] \u001b[39m\u001b[92m+ Xorg_libpthread_stubs_jll v0.1.1+0\u001b[39m\n",
      "  \u001b[90m[c7cfdc94] \u001b[39m\u001b[92m+ Xorg_libxcb_jll v1.15.0+0\u001b[39m\n",
      "  \u001b[90m[cc61e674] \u001b[39m\u001b[92m+ Xorg_libxkbfile_jll v1.1.2+0\u001b[39m\n",
      "  \u001b[90m[e920d4aa] \u001b[39m\u001b[92m+ Xorg_xcb_util_cursor_jll v0.1.4+0\u001b[39m\n",
      "  \u001b[90m[12413925] \u001b[39m\u001b[92m+ Xorg_xcb_util_image_jll v0.4.0+1\u001b[39m\n",
      "  \u001b[90m[2def613f] \u001b[39m\u001b[92m+ Xorg_xcb_util_jll v0.4.0+1\u001b[39m\n",
      "  \u001b[90m[975044d2] \u001b[39m\u001b[92m+ Xorg_xcb_util_keysyms_jll v0.4.0+1\u001b[39m\n",
      "  \u001b[90m[0d47668e] \u001b[39m\u001b[92m+ Xorg_xcb_util_renderutil_jll v0.3.9+1\u001b[39m\n",
      "  \u001b[90m[c22f9ab0] \u001b[39m\u001b[92m+ Xorg_xcb_util_wm_jll v0.4.1+1\u001b[39m\n",
      "  \u001b[90m[35661453] \u001b[39m\u001b[92m+ Xorg_xkbcomp_jll v1.4.6+0\u001b[39m\n",
      "  \u001b[90m[33bec58e] \u001b[39m\u001b[92m+ Xorg_xkeyboard_config_jll v2.39.0+0\u001b[39m\n",
      "  \u001b[90m[c5fb5394] \u001b[39m\u001b[92m+ Xorg_xtrans_jll v1.5.0+0\u001b[39m\n",
      "  \u001b[90m[3161d3a3] \u001b[39m\u001b[92m+ Zstd_jll v1.5.5+0\u001b[39m\n",
      "  \u001b[90m[35ca27e7] \u001b[39m\u001b[92m+ eudev_jll v3.2.9+0\u001b[39m\n",
      "\u001b[33m⌅\u001b[39m \u001b[90m[214eeab7] \u001b[39m\u001b[92m+ fzf_jll v0.29.0+0\u001b[39m\n",
      "  \u001b[90m[1a1c6b14] \u001b[39m\u001b[92m+ gperf_jll v3.1.1+0\u001b[39m\n",
      "  \u001b[90m[a4ae2306] \u001b[39m\u001b[92m+ libaom_jll v3.4.0+0\u001b[39m\n",
      "  \u001b[90m[0ac62f75] \u001b[39m\u001b[92m+ libass_jll v0.15.1+0\u001b[39m\n",
      "  \u001b[90m[2db6ffa8] \u001b[39m\u001b[92m+ libevdev_jll v1.11.0+0\u001b[39m\n",
      "  \u001b[90m[f638f0a6] \u001b[39m\u001b[92m+ libfdk_aac_jll v2.0.2+0\u001b[39m\n",
      "  \u001b[90m[36db933b] \u001b[39m\u001b[92m+ libinput_jll v1.18.0+0\u001b[39m\n",
      "  \u001b[90m[b53b4c65] \u001b[39m\u001b[92m+ libpng_jll v1.6.38+0\u001b[39m\n",
      "  \u001b[90m[f27f6e37] \u001b[39m\u001b[92m+ libvorbis_jll v1.3.7+1\u001b[39m\n",
      "  \u001b[90m[009596ad] \u001b[39m\u001b[92m+ mtdev_jll v1.1.6+0\u001b[39m\n",
      "  \u001b[90m[1270edf5] \u001b[39m\u001b[92m+ x264_jll v2021.5.5+0\u001b[39m\n",
      "  \u001b[90m[dfaa095f] \u001b[39m\u001b[92m+ x265_jll v3.5.0+0\u001b[39m\n",
      "  \u001b[90m[d8fb68d0] \u001b[39m\u001b[92m+ xkbcommon_jll v1.4.1+1\u001b[39m\n",
      "  \u001b[90m[efcefdf7] \u001b[39m\u001b[92m+ PCRE2_jll v10.42.0+0\u001b[39m\n",
      "\u001b[36m\u001b[1m        Info\u001b[22m\u001b[39m Packages marked with \u001b[32m⌃\u001b[39m and \u001b[33m⌅\u001b[39m have new versions available, but those with \u001b[33m⌅\u001b[39m are restricted by compatibility constraints from upgrading. To see why use `status --outdated -m`\n"
     ]
    },
    {
     "name": "stderr",
     "output_type": "stream",
     "text": [
      "\u001b[32m\u001b[1mPrecompiling\u001b[22m\u001b[39m project...\n"
     ]
    },
    {
     "name": "stderr",
     "output_type": "stream",
     "text": [
      "\u001b[32m  ✓ \u001b[39m\u001b[90mPipe\u001b[39m\n"
     ]
    },
    {
     "name": "stderr",
     "output_type": "stream",
     "text": [
      "\u001b[32m  ✓ \u001b[39m\u001b[90mLaTeXStrings\u001b[39m\n"
     ]
    },
    {
     "name": "stderr",
     "output_type": "stream",
     "text": [
      "\u001b[32m  ✓ \u001b[39m\u001b[90mStatsAPI\u001b[39m\n"
     ]
    },
    {
     "name": "stderr",
     "output_type": "stream",
     "text": [
      "\u001b[32m  ✓ \u001b[39m\u001b[90mContour\u001b[39m\n"
     ]
    },
    {
     "name": "stderr",
     "output_type": "stream",
     "text": [
      "\u001b[32m  ✓ \u001b[39m\u001b[90mConcurrentUtilities\u001b[39m\n"
     ]
    },
    {
     "name": "stderr",
     "output_type": "stream",
     "text": [
      "\u001b[32m  ✓ \u001b[39m\u001b[90mURIs\u001b[39m\n"
     ]
    },
    {
     "name": "stderr",
     "output_type": "stream",
     "text": [
      "\u001b[32m  ✓ \u001b[39m\u001b[90mUnzip\u001b[39m\n"
     ]
    },
    {
     "name": "stderr",
     "output_type": "stream",
     "text": [
      "\u001b[32m  ✓ \u001b[39m\u001b[90mSimpleBufferStream\u001b[39m\n"
     ]
    },
    {
     "name": "stderr",
     "output_type": "stream",
     "text": [
      "\u001b[32m  ✓ \u001b[39m\u001b[90mExceptionUnwrapping\u001b[39m\n",
      "\u001b[32m  ✓ \u001b[39m\u001b[90mGrisu\u001b[39m\n"
     ]
    },
    {
     "name": "stderr",
     "output_type": "stream",
     "text": [
      "\u001b[32m  ✓ \u001b[39m\u001b[90mFormatting\u001b[39m\n"
     ]
    },
    {
     "name": "stderr",
     "output_type": "stream",
     "text": [
      "\u001b[32m  ✓ \u001b[39m\u001b[90mBitFlags\u001b[39m\n"
     ]
    },
    {
     "name": "stderr",
     "output_type": "stream",
     "text": [
      "\u001b[32m  ✓ \u001b[39m\u001b[90mXorg_libICE_jll\u001b[39m\n"
     ]
    },
    {
     "name": "stderr",
     "output_type": "stream",
     "text": [
      "\u001b[32m  ✓ \u001b[39m\u001b[90mScratch\u001b[39m\n"
     ]
    },
    {
     "name": "stderr",
     "output_type": "stream",
     "text": [
      "\u001b[32m  ✓ \u001b[39m\u001b[90mLoggingExtras\u001b[39m\n"
     ]
    },
    {
     "name": "stderr",
     "output_type": "stream",
     "text": [
      "\u001b[32m  ✓ \u001b[39m\u001b[90mMissings\u001b[39m\n"
     ]
    },
    {
     "name": "stderr",
     "output_type": "stream",
     "text": [
      "\u001b[32m  ✓ \u001b[39m\u001b[90mOpenSSL_jll\u001b[39m\n"
     ]
    },
    {
     "name": "stderr",
     "output_type": "stream",
     "text": [
      "\u001b[32m  ✓ \u001b[39m\u001b[90mLibmount_jll\u001b[39m\n",
      "\u001b[32m  ✓ \u001b[39m\u001b[90mGraphite2_jll\u001b[39m\n"
     ]
    },
    {
     "name": "stderr",
     "output_type": "stream",
     "text": [
      "\u001b[32m  ✓ \u001b[39m\u001b[90mUnicodeFun\u001b[39m\n"
     ]
    },
    {
     "name": "stderr",
     "output_type": "stream",
     "text": [
      "\u001b[32m  ✓ \u001b[39m\u001b[90mEpollShim_jll\u001b[39m\n"
     ]
    },
    {
     "name": "stderr",
     "output_type": "stream",
     "text": [
      "\u001b[32m  ✓ \u001b[39m\u001b[90mLLVMOpenMP_jll\u001b[39m\n"
     ]
    },
    {
     "name": "stderr",
     "output_type": "stream",
     "text": [
      "\u001b[32m  ✓ \u001b[39m\u001b[90mMbedTLS\u001b[39m\n"
     ]
    },
    {
     "name": "stderr",
     "output_type": "stream",
     "text": [
      "\u001b[32m  ✓ \u001b[39m\u001b[90mXorg_libXau_jll\u001b[39m\n"
     ]
    },
    {
     "name": "stderr",
     "output_type": "stream",
     "text": [
      "\u001b[32m  ✓ \u001b[39m\u001b[90mlibpng_jll\u001b[39m\n"
     ]
    },
    {
     "name": "stderr",
     "output_type": "stream",
     "text": [
      "\u001b[32m  ✓ \u001b[39m\u001b[90mlibfdk_aac_jll\u001b[39m\n",
      "\u001b[32m  ✓ \u001b[39m\u001b[90mLAME_jll\u001b[39m\n"
     ]
    },
    {
     "name": "stderr",
     "output_type": "stream",
     "text": [
      "\u001b[32m  ✓ \u001b[39m\u001b[90mfzf_jll\u001b[39m\n",
      "\u001b[32m  ✓ \u001b[39m\u001b[90mLERC_jll\u001b[39m\n"
     ]
    },
    {
     "name": "stderr",
     "output_type": "stream",
     "text": [
      "\u001b[32m  ✓ \u001b[39m\u001b[90mOgg_jll\u001b[39m\n"
     ]
    },
    {
     "name": "stderr",
     "output_type": "stream",
     "text": [
      "\u001b[32m  ✓ \u001b[39m\u001b[90mJpegTurbo_jll\u001b[39m\n"
     ]
    },
    {
     "name": "stderr",
     "output_type": "stream",
     "text": [
      "\u001b[32m  ✓ \u001b[39m\u001b[90mmtdev_jll\u001b[39m\n"
     ]
    },
    {
     "name": "stderr",
     "output_type": "stream",
     "text": [
      "\u001b[32m  ✓ \u001b[39m\u001b[90mXZ_jll\u001b[39m\n"
     ]
    },
    {
     "name": "stderr",
     "output_type": "stream",
     "text": [
      "\u001b[32m  ✓ \u001b[39m\u001b[90mgperf_jll\u001b[39m\n",
      "\u001b[32m  ✓ \u001b[39m\u001b[90mXorg_libXdmcp_jll\u001b[39m\n"
     ]
    },
    {
     "name": "stderr",
     "output_type": "stream",
     "text": [
      "\u001b[32m  ✓ \u001b[39m\u001b[90mx265_jll\u001b[39m\n"
     ]
    },
    {
     "name": "stderr",
     "output_type": "stream",
     "text": [
      "\u001b[32m  ✓ \u001b[39m\u001b[90mx264_jll\u001b[39m\n"
     ]
    },
    {
     "name": "stderr",
     "output_type": "stream",
     "text": [
      "\u001b[32m  ✓ \u001b[39m\u001b[90mlibaom_jll\u001b[39m\n"
     ]
    },
    {
     "name": "stderr",
     "output_type": "stream",
     "text": [
      "\u001b[32m  ✓ \u001b[39m\u001b[90mExpat_jll\u001b[39m\n"
     ]
    },
    {
     "name": "stderr",
     "output_type": "stream",
     "text": [
      "\u001b[32m  ✓ \u001b[39m\u001b[90mZstd_jll\u001b[39m\n"
     ]
    },
    {
     "name": "stderr",
     "output_type": "stream",
     "text": [
      "\u001b[32m  ✓ \u001b[39m\u001b[90mXorg_xtrans_jll\u001b[39m\n"
     ]
    },
    {
     "name": "stderr",
     "output_type": "stream",
     "text": [
      "\u001b[32m  ✓ \u001b[39m\u001b[90mOpus_jll\u001b[39m\n"
     ]
    },
    {
     "name": "stderr",
     "output_type": "stream",
     "text": [
      "\u001b[32m  ✓ \u001b[39m\u001b[90mLZO_jll\u001b[39m\n"
     ]
    },
    {
     "name": "stderr",
     "output_type": "stream",
     "text": [
      "\u001b[32m  ✓ \u001b[39m\u001b[90mlibevdev_jll\u001b[39m\n"
     ]
    },
    {
     "name": "stderr",
     "output_type": "stream",
     "text": [
      "\u001b[32m  ✓ \u001b[39m\u001b[90mLibiconv_jll\u001b[39m\n"
     ]
    },
    {
     "name": "stderr",
     "output_type": "stream",
     "text": [
      "\u001b[32m  ✓ \u001b[39m\u001b[90mLibffi_jll\u001b[39m\n"
     ]
    },
    {
     "name": "stderr",
     "output_type": "stream",
     "text": [
      "\u001b[32m  ✓ \u001b[39m\u001b[90mWayland_protocols_jll\u001b[39m\n"
     ]
    },
    {
     "name": "stderr",
     "output_type": "stream",
     "text": [
      "\u001b[32m  ✓ \u001b[39m\u001b[90mLibgpg_error_jll\u001b[39m\n"
     ]
    },
    {
     "name": "stderr",
     "output_type": "stream",
     "text": [
      "\u001b[32m  ✓ \u001b[39m\u001b[90mXorg_libpthread_stubs_jll\u001b[39m\n"
     ]
    },
    {
     "name": "stderr",
     "output_type": "stream",
     "text": [
      "\u001b[32m  ✓ \u001b[39m\u001b[90mLibuuid_jll\u001b[39m\n"
     ]
    },
    {
     "name": "stderr",
     "output_type": "stream",
     "text": [
      "\u001b[32m  ✓ \u001b[39m\u001b[90mFriBidi_jll\u001b[39m\n",
      "\u001b[32m  ✓ \u001b[39m\u001b[90mSortingAlgorithms\u001b[39m\n"
     ]
    },
    {
     "name": "stderr",
     "output_type": "stream",
     "text": [
      "\u001b[32m  ✓ \u001b[39m\u001b[90mFreeType2_jll\u001b[39m\n"
     ]
    },
    {
     "name": "stderr",
     "output_type": "stream",
     "text": [
      "\u001b[32m  ✓ \u001b[39m\u001b[90mRelocatableFolders\u001b[39m\n",
      "\u001b[32m  ✓ \u001b[39m\u001b[90mShowoff\u001b[39m\n"
     ]
    },
    {
     "name": "stderr",
     "output_type": "stream",
     "text": [
      "\u001b[32m  ✓ \u001b[39m\u001b[90mPixman_jll\u001b[39m\n"
     ]
    },
    {
     "name": "stderr",
     "output_type": "stream",
     "text": [
      "\u001b[32m  ✓ \u001b[39m\u001b[90mlibvorbis_jll\u001b[39m\n"
     ]
    },
    {
     "name": "stderr",
     "output_type": "stream",
     "text": [
      "\u001b[32m  ✓ \u001b[39m\u001b[90mJLFzf\u001b[39m\n"
     ]
    },
    {
     "name": "stderr",
     "output_type": "stream",
     "text": [
      "\u001b[32m  ✓ \u001b[39m\u001b[90mXorg_libSM_jll\u001b[39m\n"
     ]
    },
    {
     "name": "stderr",
     "output_type": "stream",
     "text": [
      "\u001b[32m  ✓ \u001b[39m\u001b[90meudev_jll\u001b[39m\n"
     ]
    },
    {
     "name": "stderr",
     "output_type": "stream",
     "text": [
      "\u001b[32m  ✓ \u001b[39m\u001b[90mLibtiff_jll\u001b[39m\n"
     ]
    },
    {
     "name": "stderr",
     "output_type": "stream",
     "text": [
      "\u001b[32m  ✓ \u001b[39m\u001b[90mXML2_jll\u001b[39m\n"
     ]
    },
    {
     "name": "stderr",
     "output_type": "stream",
     "text": [
      "\u001b[32m  ✓ \u001b[39m\u001b[90mLibgcrypt_jll\u001b[39m\n"
     ]
    },
    {
     "name": "stderr",
     "output_type": "stream",
     "text": [
      "\u001b[32m  ✓ \u001b[39m\u001b[90mFontconfig_jll\u001b[39m\n"
     ]
    },
    {
     "name": "stderr",
     "output_type": "stream",
     "text": [
      "\u001b[32m  ✓ \u001b[39m\u001b[90mlibinput_jll\u001b[39m\n"
     ]
    },
    {
     "name": "stderr",
     "output_type": "stream",
     "text": [
      "\u001b[32m  ✓ \u001b[39m\u001b[90mGettext_jll\u001b[39m\n"
     ]
    },
    {
     "name": "stderr",
     "output_type": "stream",
     "text": [
      "\u001b[32m  ✓ \u001b[39m\u001b[90mWayland_jll\u001b[39m\n"
     ]
    },
    {
     "name": "stderr",
     "output_type": "stream",
     "text": [
      "\u001b[32m  ✓ \u001b[39m\u001b[90mXSLT_jll\u001b[39m\n"
     ]
    },
    {
     "name": "stderr",
     "output_type": "stream",
     "text": [
      "\u001b[32m  ✓ \u001b[39m\u001b[90mGlib_jll\u001b[39m\n"
     ]
    },
    {
     "name": "stderr",
     "output_type": "stream",
     "text": [
      "\u001b[32m  ✓ \u001b[39m\u001b[90mOpenSSL\u001b[39m\n"
     ]
    },
    {
     "name": "stderr",
     "output_type": "stream",
     "text": [
      "\u001b[32m  ✓ \u001b[39m\u001b[90mLatexify\u001b[39m\n"
     ]
    },
    {
     "name": "stderr",
     "output_type": "stream",
     "text": [
      "\u001b[32m  ✓ \u001b[39m\u001b[90mXorg_libxcb_jll\u001b[39m\n"
     ]
    },
    {
     "name": "stderr",
     "output_type": "stream",
     "text": [
      "\u001b[32m  ✓ \u001b[39m\u001b[90mStatsBase\u001b[39m\n"
     ]
    },
    {
     "name": "stderr",
     "output_type": "stream",
     "text": [
      "\u001b[32m  ✓ \u001b[39m\u001b[90mXorg_xcb_util_jll\u001b[39m\n"
     ]
    },
    {
     "name": "stderr",
     "output_type": "stream",
     "text": [
      "\u001b[32m  ✓ \u001b[39m\u001b[90mPlotThemes\u001b[39m\n"
     ]
    },
    {
     "name": "stderr",
     "output_type": "stream",
     "text": [
      "\u001b[32m  ✓ \u001b[39m\u001b[90mXorg_libX11_jll\u001b[39m\n"
     ]
    },
    {
     "name": "stderr",
     "output_type": "stream",
     "text": [
      "\u001b[32m  ✓ \u001b[39m\u001b[90mXorg_xcb_util_keysyms_jll\u001b[39m\n",
      "\u001b[32m  ✓ \u001b[39m\u001b[90mXorg_xcb_util_renderutil_jll\u001b[39m\n",
      "\u001b[32m  ✓ \u001b[39m\u001b[90mXorg_libXrender_jll\u001b[39m\n",
      "\u001b[32m  ✓ \u001b[39m\u001b[90mXorg_xcb_util_image_jll\u001b[39m\n",
      "\u001b[32m  ✓ \u001b[39m\u001b[90mXorg_libXext_jll\u001b[39m\n"
     ]
    },
    {
     "name": "stderr",
     "output_type": "stream",
     "text": [
      "\u001b[32m  ✓ \u001b[39m\u001b[90mXorg_xcb_util_wm_jll\u001b[39m\n"
     ]
    },
    {
     "name": "stderr",
     "output_type": "stream",
     "text": [
      "\u001b[32m  ✓ \u001b[39m\u001b[90mXorg_libxkbfile_jll\u001b[39m\n"
     ]
    },
    {
     "name": "stderr",
     "output_type": "stream",
     "text": [
      "\u001b[32m  ✓ \u001b[39m\u001b[90mXorg_xcb_util_cursor_jll\u001b[39m\n"
     ]
    },
    {
     "name": "stderr",
     "output_type": "stream",
     "text": [
      "\u001b[32m  ✓ \u001b[39m\u001b[90mXorg_libXfixes_jll\u001b[39m\n",
      "\u001b[32m  ✓ \u001b[39m\u001b[90mXorg_libXinerama_jll\u001b[39m\n"
     ]
    },
    {
     "name": "stderr",
     "output_type": "stream",
     "text": [
      "\u001b[32m  ✓ \u001b[39m\u001b[90mLibglvnd_jll\u001b[39m\n"
     ]
    },
    {
     "name": "stderr",
     "output_type": "stream",
     "text": [
      "\u001b[32m  ✓ \u001b[39m\u001b[90mXorg_libXrandr_jll\u001b[39m\n"
     ]
    },
    {
     "name": "stderr",
     "output_type": "stream",
     "text": [
      "\u001b[32m  ✓ \u001b[39m\u001b[90mXorg_xkbcomp_jll\u001b[39m\n",
      "\u001b[32m  ✓ \u001b[39m\u001b[90mXorg_libXi_jll\u001b[39m\n",
      "\u001b[32m  ✓ \u001b[39m\u001b[90mXorg_libXcursor_jll\u001b[39m\n"
     ]
    },
    {
     "name": "stderr",
     "output_type": "stream",
     "text": [
      "\u001b[32m  ✓ \u001b[39m\u001b[90mCairo_jll\u001b[39m\n"
     ]
    },
    {
     "name": "stderr",
     "output_type": "stream",
     "text": [
      "\u001b[32m  ✓ \u001b[39m\u001b[90mRecipesPipeline\u001b[39m\n"
     ]
    },
    {
     "name": "stderr",
     "output_type": "stream",
     "text": [
      "\u001b[32m  ✓ \u001b[39m\u001b[90mXorg_xkeyboard_config_jll\u001b[39m\n",
      "\u001b[32m  ✓ \u001b[39m\u001b[90mGLFW_jll\u001b[39m\n"
     ]
    },
    {
     "name": "stderr",
     "output_type": "stream",
     "text": [
      "\u001b[32m  ✓ \u001b[39m\u001b[90mHarfBuzz_jll\u001b[39m\n"
     ]
    },
    {
     "name": "stderr",
     "output_type": "stream",
     "text": [
      "\u001b[32m  ✓ \u001b[39m\u001b[90mHTTP\u001b[39m\n"
     ]
    },
    {
     "name": "stderr",
     "output_type": "stream",
     "text": [
      "\u001b[32m  ✓ \u001b[39m\u001b[90mxkbcommon_jll\u001b[39m\n"
     ]
    },
    {
     "name": "stderr",
     "output_type": "stream",
     "text": [
      "\u001b[32m  ✓ \u001b[39m\u001b[90mlibass_jll\u001b[39m\n"
     ]
    },
    {
     "name": "stderr",
     "output_type": "stream",
     "text": [
      "\u001b[32m  ✓ \u001b[39m\u001b[90mVulkan_Loader_jll\u001b[39m\n"
     ]
    },
    {
     "name": "stderr",
     "output_type": "stream",
     "text": [
      "\u001b[32m  ✓ \u001b[39m\u001b[90mFFMPEG_jll\u001b[39m\n"
     ]
    },
    {
     "name": "stderr",
     "output_type": "stream",
     "text": [
      "\u001b[32m  ✓ \u001b[39m\u001b[90mQt6Base_jll\u001b[39m\n"
     ]
    },
    {
     "name": "stderr",
     "output_type": "stream",
     "text": [
      "\u001b[32m  ✓ \u001b[39m\u001b[90mFFMPEG\u001b[39m\n"
     ]
    },
    {
     "name": "stderr",
     "output_type": "stream",
     "text": [
      "\u001b[32m  ✓ \u001b[39m\u001b[90mGR_jll\u001b[39m\n"
     ]
    },
    {
     "name": "stderr",
     "output_type": "stream",
     "text": [
      "\u001b[32m  ✓ \u001b[39m\u001b[90mGR\u001b[39m\n"
     ]
    },
    {
     "name": "stderr",
     "output_type": "stream",
     "text": [
      "\u001b[32m  ✓ \u001b[39m\u001b[90mUnitful\u001b[39m\n"
     ]
    },
    {
     "name": "stderr",
     "output_type": "stream",
     "text": [
      "\u001b[32m  ✓ \u001b[39m\u001b[90mUnitful → ConstructionBaseUnitfulExt\u001b[39m\n"
     ]
    },
    {
     "name": "stderr",
     "output_type": "stream",
     "text": [
      "\u001b[32m  ✓ \u001b[39m\u001b[90mUnitfulLatexify\u001b[39m\n"
     ]
    },
    {
     "name": "stderr",
     "output_type": "stream",
     "text": [
      "\u001b[32m  ✓ \u001b[39mPlots\n"
     ]
    },
    {
     "name": "stderr",
     "output_type": "stream",
     "text": [
      "\u001b[32m  ✓ \u001b[39m\u001b[90mPlots → UnitfulExt\u001b[39m\n"
     ]
    },
    {
     "name": "stderr",
     "output_type": "stream",
     "text": [
      "\u001b[32m  ✓ \u001b[39m\u001b[90mPlots → GeometryBasicsExt\u001b[39m\n"
     ]
    },
    {
     "name": "stderr",
     "output_type": "stream",
     "text": [
      "  111 dependencies successfully precompiled in 214 seconds. 93 already precompiled.\n"
     ]
    },
    {
     "name": "stderr",
     "output_type": "stream",
     "text": [
      "\u001b[33m\u001b[1m┌ \u001b[22m\u001b[39m\u001b[33m\u001b[1mWarning: \u001b[22m\u001b[39mModule PrecompileTools with build ID fafbfcfd-8e7f-1277-0000-023b26aaa69b is missing from the cache.\n",
      "\u001b[33m\u001b[1m│ \u001b[22m\u001b[39mThis may mean PrecompileTools [aea7be01-6a6a-4083-8856-8a6e6704d82a] does not support precompilation but is imported by a module that does.\n",
      "\u001b[33m\u001b[1m└ \u001b[22m\u001b[39m\u001b[90m@ Base loading.jl:1793\u001b[39m\n"
     ]
    },
    {
     "name": "stderr",
     "output_type": "stream",
     "text": [
      "\u001b[33m\u001b[1m┌ \u001b[22m\u001b[39m\u001b[33m\u001b[1mWarning: \u001b[22m\u001b[39mModule PlotUtils with build ID ffffffff-ffff-ffff-0000-056125cd04e3 is missing from the cache.\n",
      "\u001b[33m\u001b[1m│ \u001b[22m\u001b[39mThis may mean PlotUtils [995b91a9-d308-5afd-9ec6-746e21dbc043] does not support precompilation but is imported by a module that does.\n",
      "\u001b[33m\u001b[1m└ \u001b[22m\u001b[39m\u001b[90m@ Base loading.jl:1793\u001b[39m\n"
     ]
    },
    {
     "name": "stderr",
     "output_type": "stream",
     "text": [
      "\u001b[33m\u001b[1m┌ \u001b[22m\u001b[39m\u001b[33m\u001b[1mWarning: \u001b[22m\u001b[39mModule RecipesBase with build ID ffffffff-ffff-ffff-0000-0567b8f89cd9 is missing from the cache.\n",
      "\u001b[33m\u001b[1m│ \u001b[22m\u001b[39mThis may mean RecipesBase [3cdcf5f2-1ef4-517c-9805-6587b60abb01] does not support precompilation but is imported by a module that does.\n",
      "\u001b[33m\u001b[1m└ \u001b[22m\u001b[39m\u001b[90m@ Base loading.jl:1793\u001b[39m\n"
     ]
    },
    {
     "name": "stderr",
     "output_type": "stream",
     "text": [
      "\u001b[33m\u001b[1m┌ \u001b[22m\u001b[39m\u001b[33m\u001b[1mWarning: \u001b[22m\u001b[39mModule DataStructures with build ID fafbfcfd-337d-c412-0000-023b158cbe00 is missing from the cache.\n",
      "\u001b[33m\u001b[1m│ \u001b[22m\u001b[39mThis may mean DataStructures [864edb3b-99cc-5e75-8d2d-829cb0a9cfe8] does not support precompilation but is imported by a module that does.\n",
      "\u001b[33m\u001b[1m└ \u001b[22m\u001b[39m\u001b[90m@ Base loading.jl:1793\u001b[39m\n"
     ]
    },
    {
     "name": "stderr",
     "output_type": "stream",
     "text": [
      "\u001b[33m\u001b[1m┌ \u001b[22m\u001b[39m\u001b[33m\u001b[1mWarning: \u001b[22m\u001b[39mModule DataStructures with build ID fafbfcfd-337d-c412-0000-023b158cbe00 is missing from the cache.\n",
      "\u001b[33m\u001b[1m│ \u001b[22m\u001b[39mThis may mean DataStructures [864edb3b-99cc-5e75-8d2d-829cb0a9cfe8] does not support precompilation but is imported by a module that does.\n",
      "\u001b[33m\u001b[1m└ \u001b[22m\u001b[39m\u001b[90m@ Base loading.jl:1793\u001b[39m\n"
     ]
    },
    {
     "name": "stderr",
     "output_type": "stream",
     "text": [
      "\u001b[33m\u001b[1m┌ \u001b[22m\u001b[39m\u001b[33m\u001b[1mWarning: \u001b[22m\u001b[39mModule JLLWrappers with build ID fafbfcfd-f3a3-9a56-0000-023b248f5ce4 is missing from the cache.\n",
      "\u001b[33m\u001b[1m│ \u001b[22m\u001b[39mThis may mean JLLWrappers [692b3bcd-3c85-4b1f-b108-f13ce0eb3210] does not support precompilation but is imported by a module that does.\n",
      "\u001b[33m\u001b[1m└ \u001b[22m\u001b[39m\u001b[90m@ Base loading.jl:1793\u001b[39m\n"
     ]
    },
    {
     "name": "stderr",
     "output_type": "stream",
     "text": [
      "\u001b[33m\u001b[1m┌ \u001b[22m\u001b[39m\u001b[33m\u001b[1mWarning: \u001b[22m\u001b[39mModule JLLWrappers with build ID fafbfcfd-f3a3-9a56-0000-023b248f5ce4 is missing from the cache.\n",
      "\u001b[33m\u001b[1m│ \u001b[22m\u001b[39mThis may mean JLLWrappers [692b3bcd-3c85-4b1f-b108-f13ce0eb3210] does not support precompilation but is imported by a module that does.\n",
      "\u001b[33m\u001b[1m└ \u001b[22m\u001b[39m\u001b[90m@ Base loading.jl:1793\u001b[39m\n"
     ]
    },
    {
     "name": "stderr",
     "output_type": "stream",
     "text": [
      "\u001b[33m\u001b[1m┌ \u001b[22m\u001b[39m\u001b[33m\u001b[1mWarning: \u001b[22m\u001b[39mModule JLLWrappers with build ID fafbfcfd-f3a3-9a56-0000-023b248f5ce4 is missing from the cache.\n",
      "\u001b[33m\u001b[1m│ \u001b[22m\u001b[39mThis may mean JLLWrappers [692b3bcd-3c85-4b1f-b108-f13ce0eb3210] does not support precompilation but is imported by a module that does.\n",
      "\u001b[33m\u001b[1m└ \u001b[22m\u001b[39m\u001b[90m@ Base loading.jl:1793\u001b[39m\n"
     ]
    },
    {
     "name": "stderr",
     "output_type": "stream",
     "text": [
      "\u001b[33m\u001b[1m┌ \u001b[22m\u001b[39m\u001b[33m\u001b[1mWarning: \u001b[22m\u001b[39mModule JLLWrappers with build ID fafbfcfd-f3a3-9a56-0000-023b248f5ce4 is missing from the cache.\n",
      "\u001b[33m\u001b[1m│ \u001b[22m\u001b[39mThis may mean JLLWrappers [692b3bcd-3c85-4b1f-b108-f13ce0eb3210] does not support precompilation but is imported by a module that does.\n",
      "\u001b[33m\u001b[1m└ \u001b[22m\u001b[39m\u001b[90m@ Base loading.jl:1793\u001b[39m\n"
     ]
    },
    {
     "name": "stderr",
     "output_type": "stream",
     "text": [
      "\u001b[33m\u001b[1m┌ \u001b[22m\u001b[39m\u001b[33m\u001b[1mWarning: \u001b[22m\u001b[39mModule JLLWrappers with build ID fafbfcfd-f3a3-9a56-0000-023b248f5ce4 is missing from the cache.\n",
      "\u001b[33m\u001b[1m│ \u001b[22m\u001b[39mThis may mean JLLWrappers [692b3bcd-3c85-4b1f-b108-f13ce0eb3210] does not support precompilation but is imported by a module that does.\n",
      "\u001b[33m\u001b[1m└ \u001b[22m\u001b[39m\u001b[90m@ Base loading.jl:1793\u001b[39m\n"
     ]
    },
    {
     "name": "stderr",
     "output_type": "stream",
     "text": [
      "\u001b[33m\u001b[1m┌ \u001b[22m\u001b[39m\u001b[33m\u001b[1mWarning: \u001b[22m\u001b[39mModule JLLWrappers with build ID fafbfcfd-f3a3-9a56-0000-023b248f5ce4 is missing from the cache.\n",
      "\u001b[33m\u001b[1m│ \u001b[22m\u001b[39mThis may mean JLLWrappers [692b3bcd-3c85-4b1f-b108-f13ce0eb3210] does not support precompilation but is imported by a module that does.\n",
      "\u001b[33m\u001b[1m└ \u001b[22m\u001b[39m\u001b[90m@ Base loading.jl:1793\u001b[39m\n"
     ]
    },
    {
     "name": "stderr",
     "output_type": "stream",
     "text": [
      "\u001b[33m\u001b[1m┌ \u001b[22m\u001b[39m\u001b[33m\u001b[1mWarning: \u001b[22m\u001b[39mModule JLLWrappers with build ID fafbfcfd-f3a3-9a56-0000-023b248f5ce4 is missing from the cache.\n",
      "\u001b[33m\u001b[1m│ \u001b[22m\u001b[39mThis may mean JLLWrappers [692b3bcd-3c85-4b1f-b108-f13ce0eb3210] does not support precompilation but is imported by a module that does.\n",
      "\u001b[33m\u001b[1m└ \u001b[22m\u001b[39m\u001b[90m@ Base loading.jl:1793\u001b[39m\n"
     ]
    },
    {
     "name": "stderr",
     "output_type": "stream",
     "text": [
      "\u001b[33m\u001b[1m┌ \u001b[22m\u001b[39m\u001b[33m\u001b[1mWarning: \u001b[22m\u001b[39mModule JLLWrappers with build ID fafbfcfd-f3a3-9a56-0000-023b248f5ce4 is missing from the cache.\n",
      "\u001b[33m\u001b[1m│ \u001b[22m\u001b[39mThis may mean JLLWrappers [692b3bcd-3c85-4b1f-b108-f13ce0eb3210] does not support precompilation but is imported by a module that does.\n",
      "\u001b[33m\u001b[1m└ \u001b[22m\u001b[39m\u001b[90m@ Base loading.jl:1793\u001b[39m\n"
     ]
    },
    {
     "name": "stderr",
     "output_type": "stream",
     "text": [
      "\u001b[33m\u001b[1m┌ \u001b[22m\u001b[39m\u001b[33m\u001b[1mWarning: \u001b[22m\u001b[39mModule JLLWrappers with build ID fafbfcfd-f3a3-9a56-0000-023b248f5ce4 is missing from the cache.\n",
      "\u001b[33m\u001b[1m│ \u001b[22m\u001b[39mThis may mean JLLWrappers [692b3bcd-3c85-4b1f-b108-f13ce0eb3210] does not support precompilation but is imported by a module that does.\n",
      "\u001b[33m\u001b[1m└ \u001b[22m\u001b[39m\u001b[90m@ Base loading.jl:1793\u001b[39m\n"
     ]
    },
    {
     "name": "stderr",
     "output_type": "stream",
     "text": [
      "\u001b[33m\u001b[1m┌ \u001b[22m\u001b[39m\u001b[33m\u001b[1mWarning: \u001b[22m\u001b[39mModule JLLWrappers with build ID fafbfcfd-f3a3-9a56-0000-023b248f5ce4 is missing from the cache.\n",
      "\u001b[33m\u001b[1m│ \u001b[22m\u001b[39mThis may mean JLLWrappers [692b3bcd-3c85-4b1f-b108-f13ce0eb3210] does not support precompilation but is imported by a module that does.\n",
      "\u001b[33m\u001b[1m└ \u001b[22m\u001b[39m\u001b[90m@ Base loading.jl:1793\u001b[39m\n"
     ]
    },
    {
     "name": "stderr",
     "output_type": "stream",
     "text": [
      "\u001b[33m\u001b[1m┌ \u001b[22m\u001b[39m\u001b[33m\u001b[1mWarning: \u001b[22m\u001b[39mModule JLLWrappers with build ID fafbfcfd-f3a3-9a56-0000-023b248f5ce4 is missing from the cache.\n",
      "\u001b[33m\u001b[1m│ \u001b[22m\u001b[39mThis may mean JLLWrappers [692b3bcd-3c85-4b1f-b108-f13ce0eb3210] does not support precompilation but is imported by a module that does.\n",
      "\u001b[33m\u001b[1m└ \u001b[22m\u001b[39m\u001b[90m@ Base loading.jl:1793\u001b[39m\n"
     ]
    },
    {
     "name": "stderr",
     "output_type": "stream",
     "text": [
      "\u001b[33m\u001b[1m┌ \u001b[22m\u001b[39m\u001b[33m\u001b[1mWarning: \u001b[22m\u001b[39mModule JLLWrappers with build ID fafbfcfd-f3a3-9a56-0000-023b248f5ce4 is missing from the cache.\n",
      "\u001b[33m\u001b[1m│ \u001b[22m\u001b[39mThis may mean JLLWrappers [692b3bcd-3c85-4b1f-b108-f13ce0eb3210] does not support precompilation but is imported by a module that does.\n",
      "\u001b[33m\u001b[1m└ \u001b[22m\u001b[39m\u001b[90m@ Base loading.jl:1793\u001b[39m\n"
     ]
    },
    {
     "name": "stderr",
     "output_type": "stream",
     "text": [
      "\u001b[33m\u001b[1m┌ \u001b[22m\u001b[39m\u001b[33m\u001b[1mWarning: \u001b[22m\u001b[39mModule JLLWrappers with build ID fafbfcfd-f3a3-9a56-0000-023b248f5ce4 is missing from the cache.\n",
      "\u001b[33m\u001b[1m│ \u001b[22m\u001b[39mThis may mean JLLWrappers [692b3bcd-3c85-4b1f-b108-f13ce0eb3210] does not support precompilation but is imported by a module that does.\n",
      "\u001b[33m\u001b[1m└ \u001b[22m\u001b[39m\u001b[90m@ Base loading.jl:1793\u001b[39m\n"
     ]
    },
    {
     "name": "stderr",
     "output_type": "stream",
     "text": [
      "\u001b[33m\u001b[1m┌ \u001b[22m\u001b[39m\u001b[33m\u001b[1mWarning: \u001b[22m\u001b[39mModule JLLWrappers with build ID fafbfcfd-f3a3-9a56-0000-023b248f5ce4 is missing from the cache.\n",
      "\u001b[33m\u001b[1m│ \u001b[22m\u001b[39mThis may mean JLLWrappers [692b3bcd-3c85-4b1f-b108-f13ce0eb3210] does not support precompilation but is imported by a module that does.\n",
      "\u001b[33m\u001b[1m└ \u001b[22m\u001b[39m\u001b[90m@ Base loading.jl:1793\u001b[39m\n"
     ]
    },
    {
     "name": "stderr",
     "output_type": "stream",
     "text": [
      "\u001b[33m\u001b[1m┌ \u001b[22m\u001b[39m\u001b[33m\u001b[1mWarning: \u001b[22m\u001b[39mModule JLLWrappers with build ID fafbfcfd-f3a3-9a56-0000-023b248f5ce4 is missing from the cache.\n",
      "\u001b[33m\u001b[1m│ \u001b[22m\u001b[39mThis may mean JLLWrappers [692b3bcd-3c85-4b1f-b108-f13ce0eb3210] does not support precompilation but is imported by a module that does.\n",
      "\u001b[33m\u001b[1m└ \u001b[22m\u001b[39m\u001b[90m@ Base loading.jl:1793\u001b[39m\n"
     ]
    },
    {
     "name": "stderr",
     "output_type": "stream",
     "text": [
      "\u001b[33m\u001b[1m┌ \u001b[22m\u001b[39m\u001b[33m\u001b[1mWarning: \u001b[22m\u001b[39mModule JLLWrappers with build ID fafbfcfd-f3a3-9a56-0000-023b248f5ce4 is missing from the cache.\n",
      "\u001b[33m\u001b[1m│ \u001b[22m\u001b[39mThis may mean JLLWrappers [692b3bcd-3c85-4b1f-b108-f13ce0eb3210] does not support precompilation but is imported by a module that does.\n",
      "\u001b[33m\u001b[1m└ \u001b[22m\u001b[39m\u001b[90m@ Base loading.jl:1793\u001b[39m\n"
     ]
    },
    {
     "name": "stderr",
     "output_type": "stream",
     "text": [
      "\u001b[33m\u001b[1m┌ \u001b[22m\u001b[39m\u001b[33m\u001b[1mWarning: \u001b[22m\u001b[39mModule JLLWrappers with build ID fafbfcfd-f3a3-9a56-0000-023b248f5ce4 is missing from the cache.\n",
      "\u001b[33m\u001b[1m│ \u001b[22m\u001b[39mThis may mean JLLWrappers [692b3bcd-3c85-4b1f-b108-f13ce0eb3210] does not support precompilation but is imported by a module that does.\n",
      "\u001b[33m\u001b[1m└ \u001b[22m\u001b[39m\u001b[90m@ Base loading.jl:1793\u001b[39m\n"
     ]
    },
    {
     "name": "stderr",
     "output_type": "stream",
     "text": [
      "\u001b[33m\u001b[1m┌ \u001b[22m\u001b[39m\u001b[33m\u001b[1mWarning: \u001b[22m\u001b[39mModule JLLWrappers with build ID fafbfcfd-f3a3-9a56-0000-023b248f5ce4 is missing from the cache.\n",
      "\u001b[33m\u001b[1m│ \u001b[22m\u001b[39mThis may mean JLLWrappers [692b3bcd-3c85-4b1f-b108-f13ce0eb3210] does not support precompilation but is imported by a module that does.\n",
      "\u001b[33m\u001b[1m└ \u001b[22m\u001b[39m\u001b[90m@ Base loading.jl:1793\u001b[39m\n"
     ]
    },
    {
     "name": "stderr",
     "output_type": "stream",
     "text": [
      "\u001b[33m\u001b[1m┌ \u001b[22m\u001b[39m\u001b[33m\u001b[1mWarning: \u001b[22m\u001b[39mModule JLLWrappers with build ID fafbfcfd-f3a3-9a56-0000-023b248f5ce4 is missing from the cache.\n",
      "\u001b[33m\u001b[1m│ \u001b[22m\u001b[39mThis may mean JLLWrappers [692b3bcd-3c85-4b1f-b108-f13ce0eb3210] does not support precompilation but is imported by a module that does.\n",
      "\u001b[33m\u001b[1m└ \u001b[22m\u001b[39m\u001b[90m@ Base loading.jl:1793\u001b[39m\n"
     ]
    },
    {
     "name": "stderr",
     "output_type": "stream",
     "text": [
      "\u001b[33m\u001b[1m┌ \u001b[22m\u001b[39m\u001b[33m\u001b[1mWarning: \u001b[22m\u001b[39mModule JLLWrappers with build ID fafbfcfd-f3a3-9a56-0000-023b248f5ce4 is missing from the cache.\n",
      "\u001b[33m\u001b[1m│ \u001b[22m\u001b[39mThis may mean JLLWrappers [692b3bcd-3c85-4b1f-b108-f13ce0eb3210] does not support precompilation but is imported by a module that does.\n",
      "\u001b[33m\u001b[1m└ \u001b[22m\u001b[39m\u001b[90m@ Base loading.jl:1793\u001b[39m\n"
     ]
    },
    {
     "name": "stderr",
     "output_type": "stream",
     "text": [
      "\u001b[33m\u001b[1m┌ \u001b[22m\u001b[39m\u001b[33m\u001b[1mWarning: \u001b[22m\u001b[39mModule JLLWrappers with build ID fafbfcfd-f3a3-9a56-0000-023b248f5ce4 is missing from the cache.\n",
      "\u001b[33m\u001b[1m│ \u001b[22m\u001b[39mThis may mean JLLWrappers [692b3bcd-3c85-4b1f-b108-f13ce0eb3210] does not support precompilation but is imported by a module that does.\n",
      "\u001b[33m\u001b[1m└ \u001b[22m\u001b[39m\u001b[90m@ Base loading.jl:1793\u001b[39m\n"
     ]
    },
    {
     "name": "stderr",
     "output_type": "stream",
     "text": [
      "\u001b[33m\u001b[1m┌ \u001b[22m\u001b[39m\u001b[33m\u001b[1mWarning: \u001b[22m\u001b[39mModule JLLWrappers with build ID fafbfcfd-f3a3-9a56-0000-023b248f5ce4 is missing from the cache.\n",
      "\u001b[33m\u001b[1m│ \u001b[22m\u001b[39mThis may mean JLLWrappers [692b3bcd-3c85-4b1f-b108-f13ce0eb3210] does not support precompilation but is imported by a module that does.\n",
      "\u001b[33m\u001b[1m└ \u001b[22m\u001b[39m\u001b[90m@ Base loading.jl:1793\u001b[39m\n"
     ]
    },
    {
     "name": "stderr",
     "output_type": "stream",
     "text": [
      "\u001b[33m\u001b[1m┌ \u001b[22m\u001b[39m\u001b[33m\u001b[1mWarning: \u001b[22m\u001b[39mModule JLLWrappers with build ID fafbfcfd-f3a3-9a56-0000-023b248f5ce4 is missing from the cache.\n",
      "\u001b[33m\u001b[1m│ \u001b[22m\u001b[39mThis may mean JLLWrappers [692b3bcd-3c85-4b1f-b108-f13ce0eb3210] does not support precompilation but is imported by a module that does.\n",
      "\u001b[33m\u001b[1m└ \u001b[22m\u001b[39m\u001b[90m@ Base loading.jl:1793\u001b[39m\n"
     ]
    },
    {
     "name": "stderr",
     "output_type": "stream",
     "text": [
      "\u001b[33m\u001b[1m┌ \u001b[22m\u001b[39m\u001b[33m\u001b[1mWarning: \u001b[22m\u001b[39mModule JLLWrappers with build ID fafbfcfd-f3a3-9a56-0000-023b248f5ce4 is missing from the cache.\n",
      "\u001b[33m\u001b[1m│ \u001b[22m\u001b[39mThis may mean JLLWrappers [692b3bcd-3c85-4b1f-b108-f13ce0eb3210] does not support precompilation but is imported by a module that does.\n",
      "\u001b[33m\u001b[1m└ \u001b[22m\u001b[39m\u001b[90m@ Base loading.jl:1793\u001b[39m\n"
     ]
    },
    {
     "name": "stderr",
     "output_type": "stream",
     "text": [
      "\u001b[33m\u001b[1m┌ \u001b[22m\u001b[39m\u001b[33m\u001b[1mWarning: \u001b[22m\u001b[39mModule JLLWrappers with build ID fafbfcfd-f3a3-9a56-0000-023b248f5ce4 is missing from the cache.\n",
      "\u001b[33m\u001b[1m│ \u001b[22m\u001b[39mThis may mean JLLWrappers [692b3bcd-3c85-4b1f-b108-f13ce0eb3210] does not support precompilation but is imported by a module that does.\n",
      "\u001b[33m\u001b[1m└ \u001b[22m\u001b[39m\u001b[90m@ Base loading.jl:1793\u001b[39m\n"
     ]
    },
    {
     "name": "stderr",
     "output_type": "stream",
     "text": [
      "\u001b[33m\u001b[1m┌ \u001b[22m\u001b[39m\u001b[33m\u001b[1mWarning: \u001b[22m\u001b[39mModule JLLWrappers with build ID fafbfcfd-f3a3-9a56-0000-023b248f5ce4 is missing from the cache.\n",
      "\u001b[33m\u001b[1m│ \u001b[22m\u001b[39mThis may mean JLLWrappers [692b3bcd-3c85-4b1f-b108-f13ce0eb3210] does not support precompilation but is imported by a module that does.\n",
      "\u001b[33m\u001b[1m└ \u001b[22m\u001b[39m\u001b[90m@ Base loading.jl:1793\u001b[39m\n"
     ]
    },
    {
     "name": "stderr",
     "output_type": "stream",
     "text": [
      "\u001b[33m\u001b[1m┌ \u001b[22m\u001b[39m\u001b[33m\u001b[1mWarning: \u001b[22m\u001b[39mModule JLLWrappers with build ID fafbfcfd-f3a3-9a56-0000-023b248f5ce4 is missing from the cache.\n",
      "\u001b[33m\u001b[1m│ \u001b[22m\u001b[39mThis may mean JLLWrappers [692b3bcd-3c85-4b1f-b108-f13ce0eb3210] does not support precompilation but is imported by a module that does.\n",
      "\u001b[33m\u001b[1m└ \u001b[22m\u001b[39m\u001b[90m@ Base loading.jl:1793\u001b[39m\n"
     ]
    },
    {
     "name": "stderr",
     "output_type": "stream",
     "text": [
      "\u001b[33m\u001b[1m┌ \u001b[22m\u001b[39m\u001b[33m\u001b[1mWarning: \u001b[22m\u001b[39mModule JLLWrappers with build ID fafbfcfd-f3a3-9a56-0000-023b248f5ce4 is missing from the cache.\n",
      "\u001b[33m\u001b[1m│ \u001b[22m\u001b[39mThis may mean JLLWrappers [692b3bcd-3c85-4b1f-b108-f13ce0eb3210] does not support precompilation but is imported by a module that does.\n",
      "\u001b[33m\u001b[1m└ \u001b[22m\u001b[39m\u001b[90m@ Base loading.jl:1793\u001b[39m\n"
     ]
    },
    {
     "name": "stderr",
     "output_type": "stream",
     "text": [
      "\u001b[33m\u001b[1m┌ \u001b[22m\u001b[39m\u001b[33m\u001b[1mWarning: \u001b[22m\u001b[39mModule JLLWrappers with build ID fafbfcfd-f3a3-9a56-0000-023b248f5ce4 is missing from the cache.\n",
      "\u001b[33m\u001b[1m│ \u001b[22m\u001b[39mThis may mean JLLWrappers [692b3bcd-3c85-4b1f-b108-f13ce0eb3210] does not support precompilation but is imported by a module that does.\n",
      "\u001b[33m\u001b[1m└ \u001b[22m\u001b[39m\u001b[90m@ Base loading.jl:1793\u001b[39m\n"
     ]
    },
    {
     "name": "stderr",
     "output_type": "stream",
     "text": [
      "\u001b[33m\u001b[1m┌ \u001b[22m\u001b[39m\u001b[33m\u001b[1mWarning: \u001b[22m\u001b[39mModule JLLWrappers with build ID fafbfcfd-f3a3-9a56-0000-023b248f5ce4 is missing from the cache.\n",
      "\u001b[33m\u001b[1m│ \u001b[22m\u001b[39mThis may mean JLLWrappers [692b3bcd-3c85-4b1f-b108-f13ce0eb3210] does not support precompilation but is imported by a module that does.\n",
      "\u001b[33m\u001b[1m└ \u001b[22m\u001b[39m\u001b[90m@ Base loading.jl:1793\u001b[39m\n"
     ]
    },
    {
     "name": "stderr",
     "output_type": "stream",
     "text": [
      "\u001b[33m\u001b[1m┌ \u001b[22m\u001b[39m\u001b[33m\u001b[1mWarning: \u001b[22m\u001b[39mModule JLLWrappers with build ID fafbfcfd-f3a3-9a56-0000-023b248f5ce4 is missing from the cache.\n",
      "\u001b[33m\u001b[1m│ \u001b[22m\u001b[39mThis may mean JLLWrappers [692b3bcd-3c85-4b1f-b108-f13ce0eb3210] does not support precompilation but is imported by a module that does.\n",
      "\u001b[33m\u001b[1m└ \u001b[22m\u001b[39m\u001b[90m@ Base loading.jl:1793\u001b[39m\n"
     ]
    },
    {
     "name": "stderr",
     "output_type": "stream",
     "text": [
      "\u001b[33m\u001b[1m┌ \u001b[22m\u001b[39m\u001b[33m\u001b[1mWarning: \u001b[22m\u001b[39mModule JLLWrappers with build ID fafbfcfd-f3a3-9a56-0000-023b248f5ce4 is missing from the cache.\n",
      "\u001b[33m\u001b[1m│ \u001b[22m\u001b[39mThis may mean JLLWrappers [692b3bcd-3c85-4b1f-b108-f13ce0eb3210] does not support precompilation but is imported by a module that does.\n",
      "\u001b[33m\u001b[1m└ \u001b[22m\u001b[39m\u001b[90m@ Base loading.jl:1793\u001b[39m\n"
     ]
    },
    {
     "name": "stderr",
     "output_type": "stream",
     "text": [
      "\u001b[33m\u001b[1m┌ \u001b[22m\u001b[39m\u001b[33m\u001b[1mWarning: \u001b[22m\u001b[39mModule JLLWrappers with build ID fafbfcfd-f3a3-9a56-0000-023b248f5ce4 is missing from the cache.\n",
      "\u001b[33m\u001b[1m│ \u001b[22m\u001b[39mThis may mean JLLWrappers [692b3bcd-3c85-4b1f-b108-f13ce0eb3210] does not support precompilation but is imported by a module that does.\n",
      "\u001b[33m\u001b[1m└ \u001b[22m\u001b[39m\u001b[90m@ Base loading.jl:1793\u001b[39m\n"
     ]
    },
    {
     "name": "stderr",
     "output_type": "stream",
     "text": [
      "\u001b[33m\u001b[1m┌ \u001b[22m\u001b[39m\u001b[33m\u001b[1mWarning: \u001b[22m\u001b[39mModule JLLWrappers with build ID fafbfcfd-f3a3-9a56-0000-023b248f5ce4 is missing from the cache.\n",
      "\u001b[33m\u001b[1m│ \u001b[22m\u001b[39mThis may mean JLLWrappers [692b3bcd-3c85-4b1f-b108-f13ce0eb3210] does not support precompilation but is imported by a module that does.\n",
      "\u001b[33m\u001b[1m└ \u001b[22m\u001b[39m\u001b[90m@ Base loading.jl:1793\u001b[39m\n"
     ]
    },
    {
     "name": "stderr",
     "output_type": "stream",
     "text": [
      "\u001b[33m\u001b[1m┌ \u001b[22m\u001b[39m\u001b[33m\u001b[1mWarning: \u001b[22m\u001b[39mModule JLLWrappers with build ID fafbfcfd-f3a3-9a56-0000-023b248f5ce4 is missing from the cache.\n",
      "\u001b[33m\u001b[1m│ \u001b[22m\u001b[39mThis may mean JLLWrappers [692b3bcd-3c85-4b1f-b108-f13ce0eb3210] does not support precompilation but is imported by a module that does.\n",
      "\u001b[33m\u001b[1m└ \u001b[22m\u001b[39m\u001b[90m@ Base loading.jl:1793\u001b[39m\n"
     ]
    },
    {
     "name": "stderr",
     "output_type": "stream",
     "text": [
      "\u001b[33m\u001b[1m┌ \u001b[22m\u001b[39m\u001b[33m\u001b[1mWarning: \u001b[22m\u001b[39mModule JLLWrappers with build ID fafbfcfd-f3a3-9a56-0000-023b248f5ce4 is missing from the cache.\n",
      "\u001b[33m\u001b[1m│ \u001b[22m\u001b[39mThis may mean JLLWrappers [692b3bcd-3c85-4b1f-b108-f13ce0eb3210] does not support precompilation but is imported by a module that does.\n",
      "\u001b[33m\u001b[1m└ \u001b[22m\u001b[39m\u001b[90m@ Base loading.jl:1793\u001b[39m\n"
     ]
    },
    {
     "name": "stderr",
     "output_type": "stream",
     "text": [
      "\u001b[33m\u001b[1m┌ \u001b[22m\u001b[39m\u001b[33m\u001b[1mWarning: \u001b[22m\u001b[39mModule JLLWrappers with build ID fafbfcfd-f3a3-9a56-0000-023b248f5ce4 is missing from the cache.\n",
      "\u001b[33m\u001b[1m│ \u001b[22m\u001b[39mThis may mean JLLWrappers [692b3bcd-3c85-4b1f-b108-f13ce0eb3210] does not support precompilation but is imported by a module that does.\n",
      "\u001b[33m\u001b[1m└ \u001b[22m\u001b[39m\u001b[90m@ Base loading.jl:1793\u001b[39m\n"
     ]
    },
    {
     "name": "stderr",
     "output_type": "stream",
     "text": [
      "\u001b[33m\u001b[1m┌ \u001b[22m\u001b[39m\u001b[33m\u001b[1mWarning: \u001b[22m\u001b[39mModule JLLWrappers with build ID fafbfcfd-f3a3-9a56-0000-023b248f5ce4 is missing from the cache.\n",
      "\u001b[33m\u001b[1m│ \u001b[22m\u001b[39mThis may mean JLLWrappers [692b3bcd-3c85-4b1f-b108-f13ce0eb3210] does not support precompilation but is imported by a module that does.\n",
      "\u001b[33m\u001b[1m└ \u001b[22m\u001b[39m\u001b[90m@ Base loading.jl:1793\u001b[39m\n"
     ]
    },
    {
     "name": "stderr",
     "output_type": "stream",
     "text": [
      "\u001b[33m\u001b[1m┌ \u001b[22m\u001b[39m\u001b[33m\u001b[1mWarning: \u001b[22m\u001b[39mModule JLLWrappers with build ID fafbfcfd-f3a3-9a56-0000-023b248f5ce4 is missing from the cache.\n",
      "\u001b[33m\u001b[1m│ \u001b[22m\u001b[39mThis may mean JLLWrappers [692b3bcd-3c85-4b1f-b108-f13ce0eb3210] does not support precompilation but is imported by a module that does.\n",
      "\u001b[33m\u001b[1m└ \u001b[22m\u001b[39m\u001b[90m@ Base loading.jl:1793\u001b[39m\n"
     ]
    },
    {
     "name": "stderr",
     "output_type": "stream",
     "text": [
      "\u001b[33m\u001b[1m┌ \u001b[22m\u001b[39m\u001b[33m\u001b[1mWarning: \u001b[22m\u001b[39mModule JLLWrappers with build ID fafbfcfd-f3a3-9a56-0000-023b248f5ce4 is missing from the cache.\n",
      "\u001b[33m\u001b[1m│ \u001b[22m\u001b[39mThis may mean JLLWrappers [692b3bcd-3c85-4b1f-b108-f13ce0eb3210] does not support precompilation but is imported by a module that does.\n",
      "\u001b[33m\u001b[1m└ \u001b[22m\u001b[39m\u001b[90m@ Base loading.jl:1793\u001b[39m\n"
     ]
    },
    {
     "name": "stderr",
     "output_type": "stream",
     "text": [
      "\u001b[33m\u001b[1m┌ \u001b[22m\u001b[39m\u001b[33m\u001b[1mWarning: \u001b[22m\u001b[39mModule JLLWrappers with build ID fafbfcfd-f3a3-9a56-0000-023b248f5ce4 is missing from the cache.\n",
      "\u001b[33m\u001b[1m│ \u001b[22m\u001b[39mThis may mean JLLWrappers [692b3bcd-3c85-4b1f-b108-f13ce0eb3210] does not support precompilation but is imported by a module that does.\n",
      "\u001b[33m\u001b[1m└ \u001b[22m\u001b[39m\u001b[90m@ Base loading.jl:1793\u001b[39m\n"
     ]
    },
    {
     "name": "stderr",
     "output_type": "stream",
     "text": [
      "\u001b[33m\u001b[1m┌ \u001b[22m\u001b[39m\u001b[33m\u001b[1mWarning: \u001b[22m\u001b[39mModule JLLWrappers with build ID fafbfcfd-f3a3-9a56-0000-023b248f5ce4 is missing from the cache.\n",
      "\u001b[33m\u001b[1m│ \u001b[22m\u001b[39mThis may mean JLLWrappers [692b3bcd-3c85-4b1f-b108-f13ce0eb3210] does not support precompilation but is imported by a module that does.\n",
      "\u001b[33m\u001b[1m└ \u001b[22m\u001b[39m\u001b[90m@ Base loading.jl:1793\u001b[39m\n"
     ]
    },
    {
     "name": "stderr",
     "output_type": "stream",
     "text": [
      "\u001b[33m\u001b[1m┌ \u001b[22m\u001b[39m\u001b[33m\u001b[1mWarning: \u001b[22m\u001b[39mModule Preferences with build ID fafbfcfd-d5f2-4a80-0000-023af0597cf1 is missing from the cache.\n",
      "\u001b[33m\u001b[1m│ \u001b[22m\u001b[39mThis may mean Preferences [21216c6a-2e73-6563-6e65-726566657250] does not support precompilation but is imported by a module that does.\n",
      "\u001b[33m\u001b[1m└ \u001b[22m\u001b[39m\u001b[90m@ Base loading.jl:1793\u001b[39m\n"
     ]
    },
    {
     "name": "stderr",
     "output_type": "stream",
     "text": [
      "\u001b[33m\u001b[1m┌ \u001b[22m\u001b[39m\u001b[33m\u001b[1mWarning: \u001b[22m\u001b[39mModule JLLWrappers with build ID fafbfcfd-f3a3-9a56-0000-023b248f5ce4 is missing from the cache.\n",
      "\u001b[33m\u001b[1m│ \u001b[22m\u001b[39mThis may mean JLLWrappers [692b3bcd-3c85-4b1f-b108-f13ce0eb3210] does not support precompilation but is imported by a module that does.\n",
      "\u001b[33m\u001b[1m└ \u001b[22m\u001b[39m\u001b[90m@ Base loading.jl:1793\u001b[39m\n"
     ]
    },
    {
     "name": "stderr",
     "output_type": "stream",
     "text": [
      "\u001b[33m\u001b[1m┌ \u001b[22m\u001b[39m\u001b[33m\u001b[1mWarning: \u001b[22m\u001b[39mModule JLLWrappers with build ID fafbfcfd-f3a3-9a56-0000-023b248f5ce4 is missing from the cache.\n",
      "\u001b[33m\u001b[1m│ \u001b[22m\u001b[39mThis may mean JLLWrappers [692b3bcd-3c85-4b1f-b108-f13ce0eb3210] does not support precompilation but is imported by a module that does.\n",
      "\u001b[33m\u001b[1m└ \u001b[22m\u001b[39m\u001b[90m@ Base loading.jl:1793\u001b[39m\n"
     ]
    },
    {
     "name": "stderr",
     "output_type": "stream",
     "text": [
      "\u001b[33m\u001b[1m┌ \u001b[22m\u001b[39m\u001b[33m\u001b[1mWarning: \u001b[22m\u001b[39mModule JLLWrappers with build ID fafbfcfd-f3a3-9a56-0000-023b248f5ce4 is missing from the cache.\n",
      "\u001b[33m\u001b[1m│ \u001b[22m\u001b[39mThis may mean JLLWrappers [692b3bcd-3c85-4b1f-b108-f13ce0eb3210] does not support precompilation but is imported by a module that does.\n",
      "\u001b[33m\u001b[1m└ \u001b[22m\u001b[39m\u001b[90m@ Base loading.jl:1793\u001b[39m\n"
     ]
    },
    {
     "name": "stderr",
     "output_type": "stream",
     "text": [
      "\u001b[33m\u001b[1m┌ \u001b[22m\u001b[39m\u001b[33m\u001b[1mWarning: \u001b[22m\u001b[39mModule JLLWrappers with build ID fafbfcfd-f3a3-9a56-0000-023b248f5ce4 is missing from the cache.\n",
      "\u001b[33m\u001b[1m│ \u001b[22m\u001b[39mThis may mean JLLWrappers [692b3bcd-3c85-4b1f-b108-f13ce0eb3210] does not support precompilation but is imported by a module that does.\n",
      "\u001b[33m\u001b[1m└ \u001b[22m\u001b[39m\u001b[90m@ Base loading.jl:1793\u001b[39m\n"
     ]
    },
    {
     "name": "stderr",
     "output_type": "stream",
     "text": [
      "\u001b[33m\u001b[1m┌ \u001b[22m\u001b[39m\u001b[33m\u001b[1mWarning: \u001b[22m\u001b[39mModule JLLWrappers with build ID fafbfcfd-f3a3-9a56-0000-023b248f5ce4 is missing from the cache.\n",
      "\u001b[33m\u001b[1m│ \u001b[22m\u001b[39mThis may mean JLLWrappers [692b3bcd-3c85-4b1f-b108-f13ce0eb3210] does not support precompilation but is imported by a module that does.\n",
      "\u001b[33m\u001b[1m└ \u001b[22m\u001b[39m\u001b[90m@ Base loading.jl:1793\u001b[39m\n"
     ]
    },
    {
     "name": "stderr",
     "output_type": "stream",
     "text": [
      "\u001b[33m\u001b[1m┌ \u001b[22m\u001b[39m\u001b[33m\u001b[1mWarning: \u001b[22m\u001b[39mModule JLLWrappers with build ID fafbfcfd-f3a3-9a56-0000-023b248f5ce4 is missing from the cache.\n",
      "\u001b[33m\u001b[1m│ \u001b[22m\u001b[39mThis may mean JLLWrappers [692b3bcd-3c85-4b1f-b108-f13ce0eb3210] does not support precompilation but is imported by a module that does.\n",
      "\u001b[33m\u001b[1m└ \u001b[22m\u001b[39m\u001b[90m@ Base loading.jl:1793\u001b[39m\n"
     ]
    },
    {
     "name": "stderr",
     "output_type": "stream",
     "text": [
      "\u001b[33m\u001b[1m┌ \u001b[22m\u001b[39m\u001b[33m\u001b[1mWarning: \u001b[22m\u001b[39mModule JLLWrappers with build ID fafbfcfd-f3a3-9a56-0000-023b248f5ce4 is missing from the cache.\n",
      "\u001b[33m\u001b[1m│ \u001b[22m\u001b[39mThis may mean JLLWrappers [692b3bcd-3c85-4b1f-b108-f13ce0eb3210] does not support precompilation but is imported by a module that does.\n",
      "\u001b[33m\u001b[1m└ \u001b[22m\u001b[39m\u001b[90m@ Base loading.jl:1793\u001b[39m\n"
     ]
    },
    {
     "name": "stderr",
     "output_type": "stream",
     "text": [
      "\u001b[33m\u001b[1m┌ \u001b[22m\u001b[39m\u001b[33m\u001b[1mWarning: \u001b[22m\u001b[39mModule JLLWrappers with build ID fafbfcfd-f3a3-9a56-0000-023b248f5ce4 is missing from the cache.\n",
      "\u001b[33m\u001b[1m│ \u001b[22m\u001b[39mThis may mean JLLWrappers [692b3bcd-3c85-4b1f-b108-f13ce0eb3210] does not support precompilation but is imported by a module that does.\n",
      "\u001b[33m\u001b[1m└ \u001b[22m\u001b[39m\u001b[90m@ Base loading.jl:1793\u001b[39m\n"
     ]
    },
    {
     "name": "stderr",
     "output_type": "stream",
     "text": [
      "\u001b[33m\u001b[1m┌ \u001b[22m\u001b[39m\u001b[33m\u001b[1mWarning: \u001b[22m\u001b[39mModule JLLWrappers with build ID fafbfcfd-f3a3-9a56-0000-023b248f5ce4 is missing from the cache.\n",
      "\u001b[33m\u001b[1m│ \u001b[22m\u001b[39mThis may mean JLLWrappers [692b3bcd-3c85-4b1f-b108-f13ce0eb3210] does not support precompilation but is imported by a module that does.\n",
      "\u001b[33m\u001b[1m└ \u001b[22m\u001b[39m\u001b[90m@ Base loading.jl:1793\u001b[39m\n"
     ]
    },
    {
     "name": "stderr",
     "output_type": "stream",
     "text": [
      "\u001b[33m\u001b[1m┌ \u001b[22m\u001b[39m\u001b[33m\u001b[1mWarning: \u001b[22m\u001b[39mModule JLLWrappers with build ID fafbfcfd-f3a3-9a56-0000-023b248f5ce4 is missing from the cache.\n",
      "\u001b[33m\u001b[1m│ \u001b[22m\u001b[39mThis may mean JLLWrappers [692b3bcd-3c85-4b1f-b108-f13ce0eb3210] does not support precompilation but is imported by a module that does.\n",
      "\u001b[33m\u001b[1m└ \u001b[22m\u001b[39m\u001b[90m@ Base loading.jl:1793\u001b[39m\n"
     ]
    },
    {
     "name": "stderr",
     "output_type": "stream",
     "text": [
      "\u001b[33m\u001b[1m┌ \u001b[22m\u001b[39m\u001b[33m\u001b[1mWarning: \u001b[22m\u001b[39mModule JLLWrappers with build ID fafbfcfd-f3a3-9a56-0000-023b248f5ce4 is missing from the cache.\n",
      "\u001b[33m\u001b[1m│ \u001b[22m\u001b[39mThis may mean JLLWrappers [692b3bcd-3c85-4b1f-b108-f13ce0eb3210] does not support precompilation but is imported by a module that does.\n",
      "\u001b[33m\u001b[1m└ \u001b[22m\u001b[39m\u001b[90m@ Base loading.jl:1793\u001b[39m\n"
     ]
    },
    {
     "name": "stderr",
     "output_type": "stream",
     "text": [
      "\u001b[33m\u001b[1m┌ \u001b[22m\u001b[39m\u001b[33m\u001b[1mWarning: \u001b[22m\u001b[39mModule JLLWrappers with build ID fafbfcfd-f3a3-9a56-0000-023b248f5ce4 is missing from the cache.\n",
      "\u001b[33m\u001b[1m│ \u001b[22m\u001b[39mThis may mean JLLWrappers [692b3bcd-3c85-4b1f-b108-f13ce0eb3210] does not support precompilation but is imported by a module that does.\n",
      "\u001b[33m\u001b[1m└ \u001b[22m\u001b[39m\u001b[90m@ Base loading.jl:1793\u001b[39m\n"
     ]
    },
    {
     "name": "stderr",
     "output_type": "stream",
     "text": [
      "\u001b[33m\u001b[1m┌ \u001b[22m\u001b[39m\u001b[33m\u001b[1mWarning: \u001b[22m\u001b[39mModule JLLWrappers with build ID fafbfcfd-f3a3-9a56-0000-023b248f5ce4 is missing from the cache.\n",
      "\u001b[33m\u001b[1m│ \u001b[22m\u001b[39mThis may mean JLLWrappers [692b3bcd-3c85-4b1f-b108-f13ce0eb3210] does not support precompilation but is imported by a module that does.\n",
      "\u001b[33m\u001b[1m└ \u001b[22m\u001b[39m\u001b[90m@ Base loading.jl:1793\u001b[39m\n"
     ]
    },
    {
     "name": "stderr",
     "output_type": "stream",
     "text": [
      "\u001b[33m\u001b[1m┌ \u001b[22m\u001b[39m\u001b[33m\u001b[1mWarning: \u001b[22m\u001b[39mModule JLLWrappers with build ID fafbfcfd-f3a3-9a56-0000-023b248f5ce4 is missing from the cache.\n",
      "\u001b[33m\u001b[1m│ \u001b[22m\u001b[39mThis may mean JLLWrappers [692b3bcd-3c85-4b1f-b108-f13ce0eb3210] does not support precompilation but is imported by a module that does.\n",
      "\u001b[33m\u001b[1m└ \u001b[22m\u001b[39m\u001b[90m@ Base loading.jl:1793\u001b[39m\n"
     ]
    },
    {
     "name": "stderr",
     "output_type": "stream",
     "text": [
      "\u001b[33m\u001b[1m┌ \u001b[22m\u001b[39m\u001b[33m\u001b[1mWarning: \u001b[22m\u001b[39mModule JLLWrappers with build ID fafbfcfd-f3a3-9a56-0000-023b248f5ce4 is missing from the cache.\n",
      "\u001b[33m\u001b[1m│ \u001b[22m\u001b[39mThis may mean JLLWrappers [692b3bcd-3c85-4b1f-b108-f13ce0eb3210] does not support precompilation but is imported by a module that does.\n",
      "\u001b[33m\u001b[1m└ \u001b[22m\u001b[39m\u001b[90m@ Base loading.jl:1793\u001b[39m\n"
     ]
    },
    {
     "name": "stderr",
     "output_type": "stream",
     "text": [
      "\u001b[33m\u001b[1m┌ \u001b[22m\u001b[39m\u001b[33m\u001b[1mWarning: \u001b[22m\u001b[39mModule JLLWrappers with build ID fafbfcfd-f3a3-9a56-0000-023b248f5ce4 is missing from the cache.\n",
      "\u001b[33m\u001b[1m│ \u001b[22m\u001b[39mThis may mean JLLWrappers [692b3bcd-3c85-4b1f-b108-f13ce0eb3210] does not support precompilation but is imported by a module that does.\n",
      "\u001b[33m\u001b[1m└ \u001b[22m\u001b[39m\u001b[90m@ Base loading.jl:1793\u001b[39m\n"
     ]
    },
    {
     "name": "stderr",
     "output_type": "stream",
     "text": [
      "\u001b[33m\u001b[1m┌ \u001b[22m\u001b[39m\u001b[33m\u001b[1mWarning: \u001b[22m\u001b[39mModule JLLWrappers with build ID fafbfcfd-f3a3-9a56-0000-023b248f5ce4 is missing from the cache.\n",
      "\u001b[33m\u001b[1m│ \u001b[22m\u001b[39mThis may mean JLLWrappers [692b3bcd-3c85-4b1f-b108-f13ce0eb3210] does not support precompilation but is imported by a module that does.\n",
      "\u001b[33m\u001b[1m└ \u001b[22m\u001b[39m\u001b[90m@ Base loading.jl:1793\u001b[39m\n"
     ]
    },
    {
     "name": "stderr",
     "output_type": "stream",
     "text": [
      "\u001b[33m\u001b[1m┌ \u001b[22m\u001b[39m\u001b[33m\u001b[1mWarning: \u001b[22m\u001b[39mModule JLLWrappers with build ID fafbfcfd-f3a3-9a56-0000-023b248f5ce4 is missing from the cache.\n",
      "\u001b[33m\u001b[1m│ \u001b[22m\u001b[39mThis may mean JLLWrappers [692b3bcd-3c85-4b1f-b108-f13ce0eb3210] does not support precompilation but is imported by a module that does.\n",
      "\u001b[33m\u001b[1m└ \u001b[22m\u001b[39m\u001b[90m@ Base loading.jl:1793\u001b[39m\n"
     ]
    },
    {
     "name": "stderr",
     "output_type": "stream",
     "text": [
      "\u001b[33m\u001b[1m┌ \u001b[22m\u001b[39m\u001b[33m\u001b[1mWarning: \u001b[22m\u001b[39mModule JLLWrappers with build ID fafbfcfd-f3a3-9a56-0000-023b248f5ce4 is missing from the cache.\n",
      "\u001b[33m\u001b[1m│ \u001b[22m\u001b[39mThis may mean JLLWrappers [692b3bcd-3c85-4b1f-b108-f13ce0eb3210] does not support precompilation but is imported by a module that does.\n",
      "\u001b[33m\u001b[1m└ \u001b[22m\u001b[39m\u001b[90m@ Base loading.jl:1793\u001b[39m\n"
     ]
    },
    {
     "name": "stderr",
     "output_type": "stream",
     "text": [
      "\u001b[33m\u001b[1m┌ \u001b[22m\u001b[39m\u001b[33m\u001b[1mWarning: \u001b[22m\u001b[39mModule JLLWrappers with build ID fafbfcfd-f3a3-9a56-0000-023b248f5ce4 is missing from the cache.\n",
      "\u001b[33m\u001b[1m│ \u001b[22m\u001b[39mThis may mean JLLWrappers [692b3bcd-3c85-4b1f-b108-f13ce0eb3210] does not support precompilation but is imported by a module that does.\n",
      "\u001b[33m\u001b[1m└ \u001b[22m\u001b[39m\u001b[90m@ Base loading.jl:1793\u001b[39m\n"
     ]
    },
    {
     "name": "stderr",
     "output_type": "stream",
     "text": [
      "\u001b[33m\u001b[1m┌ \u001b[22m\u001b[39m\u001b[33m\u001b[1mWarning: \u001b[22m\u001b[39mModule JLLWrappers with build ID fafbfcfd-f3a3-9a56-0000-023b248f5ce4 is missing from the cache.\n",
      "\u001b[33m\u001b[1m│ \u001b[22m\u001b[39mThis may mean JLLWrappers [692b3bcd-3c85-4b1f-b108-f13ce0eb3210] does not support precompilation but is imported by a module that does.\n",
      "\u001b[33m\u001b[1m└ \u001b[22m\u001b[39m\u001b[90m@ Base loading.jl:1793\u001b[39m\n"
     ]
    },
    {
     "name": "stderr",
     "output_type": "stream",
     "text": [
      "\u001b[33m\u001b[1m┌ \u001b[22m\u001b[39m\u001b[33m\u001b[1mWarning: \u001b[22m\u001b[39mModule JLLWrappers with build ID fafbfcfd-f3a3-9a56-0000-023b248f5ce4 is missing from the cache.\n",
      "\u001b[33m\u001b[1m│ \u001b[22m\u001b[39mThis may mean JLLWrappers [692b3bcd-3c85-4b1f-b108-f13ce0eb3210] does not support precompilation but is imported by a module that does.\n",
      "\u001b[33m\u001b[1m└ \u001b[22m\u001b[39m\u001b[90m@ Base loading.jl:1793\u001b[39m\n"
     ]
    },
    {
     "name": "stderr",
     "output_type": "stream",
     "text": [
      "\u001b[33m\u001b[1m┌ \u001b[22m\u001b[39m\u001b[33m\u001b[1mWarning: \u001b[22m\u001b[39mModule JLLWrappers with build ID fafbfcfd-f3a3-9a56-0000-023b248f5ce4 is missing from the cache.\n",
      "\u001b[33m\u001b[1m│ \u001b[22m\u001b[39mThis may mean JLLWrappers [692b3bcd-3c85-4b1f-b108-f13ce0eb3210] does not support precompilation but is imported by a module that does.\n",
      "\u001b[33m\u001b[1m└ \u001b[22m\u001b[39m\u001b[90m@ Base loading.jl:1793\u001b[39m\n"
     ]
    },
    {
     "name": "stderr",
     "output_type": "stream",
     "text": [
      "\u001b[33m\u001b[1m┌ \u001b[22m\u001b[39m\u001b[33m\u001b[1mWarning: \u001b[22m\u001b[39mModule JLLWrappers with build ID fafbfcfd-f3a3-9a56-0000-023b248f5ce4 is missing from the cache.\n",
      "\u001b[33m\u001b[1m│ \u001b[22m\u001b[39mThis may mean JLLWrappers [692b3bcd-3c85-4b1f-b108-f13ce0eb3210] does not support precompilation but is imported by a module that does.\n",
      "\u001b[33m\u001b[1m└ \u001b[22m\u001b[39m\u001b[90m@ Base loading.jl:1793\u001b[39m\n"
     ]
    },
    {
     "name": "stderr",
     "output_type": "stream",
     "text": [
      "\u001b[33m\u001b[1m┌ \u001b[22m\u001b[39m\u001b[33m\u001b[1mWarning: \u001b[22m\u001b[39mModule JLLWrappers with build ID fafbfcfd-f3a3-9a56-0000-023b248f5ce4 is missing from the cache.\n",
      "\u001b[33m\u001b[1m│ \u001b[22m\u001b[39mThis may mean JLLWrappers [692b3bcd-3c85-4b1f-b108-f13ce0eb3210] does not support precompilation but is imported by a module that does.\n",
      "\u001b[33m\u001b[1m└ \u001b[22m\u001b[39m\u001b[90m@ Base loading.jl:1793\u001b[39m\n"
     ]
    },
    {
     "name": "stderr",
     "output_type": "stream",
     "text": [
      "\u001b[33m\u001b[1m┌ \u001b[22m\u001b[39m\u001b[33m\u001b[1mWarning: \u001b[22m\u001b[39mModule JLLWrappers with build ID fafbfcfd-f3a3-9a56-0000-023b248f5ce4 is missing from the cache.\n",
      "\u001b[33m\u001b[1m│ \u001b[22m\u001b[39mThis may mean JLLWrappers [692b3bcd-3c85-4b1f-b108-f13ce0eb3210] does not support precompilation but is imported by a module that does.\n",
      "\u001b[33m\u001b[1m└ \u001b[22m\u001b[39m\u001b[90m@ Base loading.jl:1793\u001b[39m\n"
     ]
    },
    {
     "name": "stderr",
     "output_type": "stream",
     "text": [
      "\u001b[33m\u001b[1m┌ \u001b[22m\u001b[39m\u001b[33m\u001b[1mWarning: \u001b[22m\u001b[39mModule JLLWrappers with build ID fafbfcfd-f3a3-9a56-0000-023b248f5ce4 is missing from the cache.\n",
      "\u001b[33m\u001b[1m│ \u001b[22m\u001b[39mThis may mean JLLWrappers [692b3bcd-3c85-4b1f-b108-f13ce0eb3210] does not support precompilation but is imported by a module that does.\n",
      "\u001b[33m\u001b[1m└ \u001b[22m\u001b[39m\u001b[90m@ Base loading.jl:1793\u001b[39m\n"
     ]
    },
    {
     "name": "stderr",
     "output_type": "stream",
     "text": [
      "\u001b[33m\u001b[1m┌ \u001b[22m\u001b[39m\u001b[33m\u001b[1mWarning: \u001b[22m\u001b[39mModule JLLWrappers with build ID fafbfcfd-f3a3-9a56-0000-023b248f5ce4 is missing from the cache.\n",
      "\u001b[33m\u001b[1m│ \u001b[22m\u001b[39mThis may mean JLLWrappers [692b3bcd-3c85-4b1f-b108-f13ce0eb3210] does not support precompilation but is imported by a module that does.\n",
      "\u001b[33m\u001b[1m└ \u001b[22m\u001b[39m\u001b[90m@ Base loading.jl:1793\u001b[39m\n"
     ]
    },
    {
     "name": "stderr",
     "output_type": "stream",
     "text": [
      "\u001b[33m\u001b[1m┌ \u001b[22m\u001b[39m\u001b[33m\u001b[1mWarning: \u001b[22m\u001b[39mModule JLLWrappers with build ID fafbfcfd-f3a3-9a56-0000-023b248f5ce4 is missing from the cache.\n",
      "\u001b[33m\u001b[1m│ \u001b[22m\u001b[39mThis may mean JLLWrappers [692b3bcd-3c85-4b1f-b108-f13ce0eb3210] does not support precompilation but is imported by a module that does.\n",
      "\u001b[33m\u001b[1m└ \u001b[22m\u001b[39m\u001b[90m@ Base loading.jl:1793\u001b[39m\n"
     ]
    },
    {
     "name": "stderr",
     "output_type": "stream",
     "text": [
      "\u001b[33m\u001b[1m┌ \u001b[22m\u001b[39m\u001b[33m\u001b[1mWarning: \u001b[22m\u001b[39mModule JLLWrappers with build ID fafbfcfd-f3a3-9a56-0000-023b248f5ce4 is missing from the cache.\n",
      "\u001b[33m\u001b[1m│ \u001b[22m\u001b[39mThis may mean JLLWrappers [692b3bcd-3c85-4b1f-b108-f13ce0eb3210] does not support precompilation but is imported by a module that does.\n",
      "\u001b[33m\u001b[1m└ \u001b[22m\u001b[39m\u001b[90m@ Base loading.jl:1793\u001b[39m\n"
     ]
    },
    {
     "name": "stderr",
     "output_type": "stream",
     "text": [
      "\u001b[33m\u001b[1m┌ \u001b[22m\u001b[39m\u001b[33m\u001b[1mWarning: \u001b[22m\u001b[39mModule JLLWrappers with build ID fafbfcfd-f3a3-9a56-0000-023b248f5ce4 is missing from the cache.\n",
      "\u001b[33m\u001b[1m│ \u001b[22m\u001b[39mThis may mean JLLWrappers [692b3bcd-3c85-4b1f-b108-f13ce0eb3210] does not support precompilation but is imported by a module that does.\n",
      "\u001b[33m\u001b[1m└ \u001b[22m\u001b[39m\u001b[90m@ Base loading.jl:1793\u001b[39m\n"
     ]
    },
    {
     "name": "stderr",
     "output_type": "stream",
     "text": [
      "\u001b[33m\u001b[1m┌ \u001b[22m\u001b[39m\u001b[33m\u001b[1mWarning: \u001b[22m\u001b[39mModule JLLWrappers with build ID fafbfcfd-f3a3-9a56-0000-023b248f5ce4 is missing from the cache.\n",
      "\u001b[33m\u001b[1m│ \u001b[22m\u001b[39mThis may mean JLLWrappers [692b3bcd-3c85-4b1f-b108-f13ce0eb3210] does not support precompilation but is imported by a module that does.\n",
      "\u001b[33m\u001b[1m└ \u001b[22m\u001b[39m\u001b[90m@ Base loading.jl:1793\u001b[39m\n"
     ]
    },
    {
     "name": "stderr",
     "output_type": "stream",
     "text": [
      "\u001b[33m\u001b[1m┌ \u001b[22m\u001b[39m\u001b[33m\u001b[1mWarning: \u001b[22m\u001b[39mModule JLLWrappers with build ID fafbfcfd-f3a3-9a56-0000-023b248f5ce4 is missing from the cache.\n",
      "\u001b[33m\u001b[1m│ \u001b[22m\u001b[39mThis may mean JLLWrappers [692b3bcd-3c85-4b1f-b108-f13ce0eb3210] does not support precompilation but is imported by a module that does.\n",
      "\u001b[33m\u001b[1m└ \u001b[22m\u001b[39m\u001b[90m@ Base loading.jl:1793\u001b[39m\n"
     ]
    },
    {
     "name": "stderr",
     "output_type": "stream",
     "text": [
      "\u001b[33m\u001b[1m┌ \u001b[22m\u001b[39m\u001b[33m\u001b[1mWarning: \u001b[22m\u001b[39mModule Plots with build ID ffffffff-ffff-ffff-0000-05bac47baea2 is missing from the cache.\n",
      "\u001b[33m\u001b[1m│ \u001b[22m\u001b[39mThis may mean Plots [91a5bcdd-55d7-5caf-9e0b-520d859cae80] does not support precompilation but is imported by a module that does.\n",
      "\u001b[33m\u001b[1m└ \u001b[22m\u001b[39m\u001b[90m@ Base loading.jl:1793\u001b[39m\n"
     ]
    }
   ],
   "source": [
    "import Pkg\n",
    "Pkg.add(\"JuMP\")\n",
    "Pkg.add(\"GLPK\")\n",
    "Pkg.add(\"GraphRecipes\")\n",
    "Pkg.add(\"Plots\")\n",
    "\n",
    "using GraphRecipes, Plots, Graphs\n",
    "using JuMP, GLPK, Random, Test, LinearAlgebra\n"
   ]
  },
  {
   "cell_type": "code",
   "execution_count": 24,
   "metadata": {},
   "outputs": [
    {
     "name": "stdout",
     "output_type": "stream",
     "text": [
      "Max Z\n",
      "Subject to\n",
      " "
     ]
    },
    {
     "name": "stdout",
     "output_type": "stream",
     "text": [
      "x[1,1] = 0\n",
      " x[1,4] = 0\n",
      " x[2,1] = 0\n",
      " x[2,2] = 0\n",
      " x[3,1] = 0\n",
      " x[3,2] = 0\n",
      " x[3,3] = 0\n",
      " x[4,1] = 0\n",
      " x[4,2] = 0\n",
      " x[4,3] = 0\n",
      " x[4,4] = 0\n",
      " g : x[1,1] + x[1,2] + x[1,3] + x[1,4] - Z = 0\n",
      " h : x[1,4] + x[2,4] + x[3,4] + x[4,4] - Z = 0\n",
      " c[2] : x[2,1] - x[1,2] - x[3,2] - x[4,2] + x[2,3] + x[2,4] = 0\n",
      " c[3] : x[3,1] + x[3,2] - x[1,3] - x[2,3] - x[4,3] + x[3,4] = 0\n",
      " x[1,2] ≤ 5\n",
      " x[1,3] ≤ 3\n",
      " x[2,3] ≤ 5\n",
      " x[2,4] ≤ 4\n",
      " x[3,4] ≤ 5\n",
      " x[1,1] ≥ 0\n",
      " x[2,1] ≥ 0\n",
      " x[3,1] ≥ 0\n",
      " x[4,1] ≥ 0\n",
      " x[1,2] ≥ 0\n",
      " x[2,2] ≥ 0\n",
      " x[3,2] ≥ 0\n",
      " x[4,2] ≥ 0\n",
      " x[1,3] ≥ 0\n",
      " x[2,3] ≥ 0\n",
      " x[3,3] ≥ 0\n",
      " x[4,3] ≥ 0\n",
      " x[1,4] ≥ 0\n",
      " x[2,4] ≥ 0\n",
      " x[3,4] ≥ 0\n",
      " x[4,4] ≥ 0\n",
      " Z ≥ 0\n",
      " x[1,1] integer\n",
      " x[2,1] integer\n",
      " x[3,1] integer\n",
      " x[4,1] integer\n",
      " x[1,2] integer\n",
      " x[2,2] integer\n",
      " x[3,2] integer\n",
      " x[4,2] integer\n",
      " x[1,3] integer\n",
      " x[2,3] integer\n",
      " x[3,3] integer\n",
      " x[4,3] integer\n",
      " x[1,4] integer\n",
      " x[2,4] integer\n",
      " x[3,4] integer\n",
      " x[4,4] integer\n",
      " Z integer\n",
      "objective_value(model) = "
     ]
    },
    {
     "name": "stdout",
     "output_type": "stream",
     "text": [
      "8.0\n",
      "value.(Z) = 8.0\n",
      "#= /home/saul/Desktop/University/Ingenieria logistica/entregas/flujo_maximo.ipynb:34 =# @show(value.(Z)) = 8.0\n"
     ]
    },
    {
     "data": {
      "text/plain": [
       "8.0"
      ]
     },
     "metadata": {},
     "output_type": "display_data"
    }
   ],
   "source": [
    "kmax = [0 5 3 0;\n",
    "        0 0 5 4;\n",
    "        0 0 0 5;\n",
    "        0 0 0 0]\n",
    "s = 1\n",
    "t = 4\n",
    "N=4\n",
    "model = Model(GLPK.Optimizer)\n",
    "set_silent(model)\n",
    "@variable(model, x[1:N,1:N] >= 0, Int)\n",
    "@variable(model, Z >= 0, Int)\n",
    "@objective(model, Max, Z)\n",
    "# Añadir restricciones para que los elementos de x correspondan con kmax\n",
    "for i in 1:N\n",
    "        for j in 1:N\n",
    "                if kmax[i, j] > 0\n",
    "                        @constraint(model, x[i, j] <= kmax[i, j])\n",
    "                else\n",
    "                        @constraint(model, x[i, j] == 0)\n",
    "                end\n",
    "        end\n",
    "end\n",
    "@constraint(model, g,  sum(x[s,:]) == Z)\n",
    "@constraint(model, h,  sum(x[:,t]) == Z)\n",
    "@constraint(model, c[i=2:N - 1] , sum(x[i,:])  == sum(x[:,i]))\n",
    "\n",
    "\n",
    "print(model)\n",
    "\n",
    "# Call optimize! before retrieving the solution\n",
    "optimize!(model)\n",
    "\n",
    "\n",
    "@show objective_value(model)@show value.(Z)"
   ]
  },
  {
   "cell_type": "markdown",
   "metadata": {},
   "source": [
    "Generando datos aleatorios"
   ]
  },
  {
   "cell_type": "code",
   "execution_count": 88,
   "metadata": {},
   "outputs": [
    {
     "name": "stdout",
     "output_type": "stream",
     "text": [
      "s = 1\n",
      "t = 5\n",
      "kmax = \n"
     ]
    },
    {
     "data": {
      "text/plain": [
       "5×5 Matrix{Float64}:\n",
       " 0.0  9.0  4.0   0.0  7.0\n",
       " 0.0  0.0  2.0   1.0  7.0\n",
       " 0.0  0.0  0.0  10.0  0.0\n",
       " 0.0  0.0  0.0   0.0  5.0\n",
       " 0.0  0.0  0.0   0.0  0.0"
      ]
     },
     "metadata": {},
     "output_type": "display_data"
    }
   ],
   "source": [
    "\n",
    "N=5 # número de nodos\n",
    "Random.seed!(777)   \n",
    "bool = [true, false] # Vector de booleanos\n",
    "kmax = zeros(N, N) # Matriz de capacidades de los arcos\n",
    "for i in 1:N\n",
    "    for j in i:N\n",
    "        if i != j\n",
    "            kmax[i, j] = rand(0:10)\n",
    "        end\n",
    "    end\n",
    "end\n",
    "\n",
    "s = 1 # Nodo fuente\n",
    "t = n\n",
    "\n",
    "\n",
    "println(\"s = \", s)\n",
    "println(\"t = \", t)\n",
    "println(\"kmax = \")\n",
    "kmax\n",
    "\n",
    "\n"
   ]
  },
  {
   "cell_type": "code",
   "execution_count": 92,
   "metadata": {},
   "outputs": [
    {
     "data": {
      "image/png": "[encoded data removed]",
      "image/svg+xml": [
       "<?xml version=\"1.0\" encoding=\"utf-8\"?>\n",
       "<svg xmlns=\"http://www.w3.org/2000/svg\" xmlns:xlink=\"http://www.w3.org/1999/xlink\" width=\"600\" height=\"400\" viewBox=\"0 0 2400 1600\">\n",
       "<defs>\n",
       "  <clipPath id=\"clip080\">\n",
       "    <rect x=\"0\" y=\"0\" width=\"2400\" height=\"1600\"/>\n",
       "  </clipPath>\n",
       "</defs>\n",
       "<path clip-path=\"url(#clip080)\" d=\"M0 1600 L2400 1600 L2400 0 L0 0  Z\" fill=\"#ffffff\" fill-rule=\"evenodd\" fill-opacity=\"1\"/>\n",
       "<defs>\n",
       "  <clipPath id=\"clip081\">\n",
       "    <rect x=\"480\" y=\"0\" width=\"1681\" height=\"1600\"/>\n",
       "  </clipPath>\n",
       "</defs>\n",
       "<path clip-path=\"url(#clip080)\" d=\"M447.244 1552.76 L1952.76 1552.76 L1952.76 47.2441 L447.244 47.2441  Z\" fill=\"#ffffff\" fill-rule=\"evenodd\" fill-opacity=\"1\"/>\n",
       "<defs>\n",
       "  <clipPath id=\"clip082\">\n",
       "    <rect x=\"447\" y=\"47\" width=\"1507\" height=\"1507\"/>\n",
       "  </clipPath>\n",
       "</defs>\n",
       "<polyline clip-path=\"url(#clip082)\" style=\"stroke:#000000; stroke-linecap:round; stroke-linejoin:round; stroke-width:4; stroke-opacity:1; fill:none\" points=\"1737.68,934.055 1726.43,931.25 1715.19,928.446 1703.95,925.643 1692.71,922.843 1681.49,920.045 1670.28,917.251 1659.09,914.461 1647.92,911.675 1636.77,908.896 1625.65,906.122 1614.55,903.355 1603.48,900.596 1592.45,897.845 1581.45,895.103 1570.49,892.371 1559.58,889.649 1548.7,886.938 1537.88,884.239 1527.1,881.552 1516.38,878.878 1505.71,876.219 1495.1,873.573 1484.55,870.943 1474.06,868.328 1463.64,865.73 1453.29,863.149 1443,860.583 1432.77,858.033 1422.59,855.497 1412.48,852.975 1402.41,850.466 1392.4,847.969 1382.43,845.484 1372.51,843.01 1362.63,840.547 1352.79,838.093 1342.98,835.648 1333.21,833.211 1323.46,830.782 1313.75,828.36 1304.06,825.944 1294.39,823.533 1284.74,821.128 1275.11,818.726 1265.49,816.328 1255.88,813.933 1246.28,811.539 1236.69,809.147 1227.1,806.756 \"/>\n",
       "<polyline clip-path=\"url(#clip082)\" style=\"stroke:#000000; stroke-linecap:round; stroke-linejoin:round; stroke-width:4; stroke-opacity:1; fill:none\" points=\"1257.68,832.931 1227.1,806.756 1266.38,798 \"/>\n",
       "<polyline clip-path=\"url(#clip082)\" style=\"stroke:#000000; stroke-linecap:round; stroke-linejoin:round; stroke-width:4; stroke-opacity:1; fill:none\" points=\"1227.1,806.756 1236.69,809.147 \"/>\n",
       "<polyline clip-path=\"url(#clip082)\" style=\"stroke:#000000; stroke-linecap:round; stroke-linejoin:round; stroke-width:4; stroke-opacity:1; fill:none\" points=\"1737.68,934.055 1723.7,942.458 1709.72,950.859 1695.74,959.258 1681.77,967.651 1667.81,976.037 1653.87,984.416 1639.94,992.784 1626.04,1001.14 1612.15,1009.48 1598.29,1017.81 1584.46,1026.12 1570.65,1034.42 1556.88,1042.69 1543.15,1050.94 1529.46,1059.17 1515.8,1067.38 1502.19,1075.55 1488.63,1083.7 1475.12,1091.82 1461.66,1099.91 1448.25,1107.96 1434.91,1115.98 1421.62,1123.97 1408.4,1131.91 1395.24,1139.82 1382.15,1147.68 1369.13,1155.51 1356.16,1163.3 1343.26,1171.05 1330.4,1178.78 1317.6,1186.47 1304.86,1194.13 1292.15,1201.76 1279.49,1209.37 1266.88,1216.95 1254.3,1224.51 1241.76,1232.04 1229.25,1239.56 1216.77,1247.06 1204.32,1254.54 1191.89,1262.01 1179.49,1269.46 1167.1,1276.9 1154.73,1284.33 1142.38,1291.76 1130.04,1299.17 1117.7,1306.58 1105.37,1313.99 1093.04,1321.4 \"/>\n",
       "<polyline clip-path=\"url(#clip082)\" style=\"stroke:#000000; stroke-linecap:round; stroke-linejoin:round; stroke-width:4; stroke-opacity:1; fill:none\" points=\"1133.17,1318.29 1093.04,1321.4 1114.63,1287.43 \"/>\n",
       "<polyline clip-path=\"url(#clip082)\" style=\"stroke:#000000; stroke-linecap:round; stroke-linejoin:round; stroke-width:4; stroke-opacity:1; fill:none\" points=\"1093.04,1321.4 1105.37,1313.99 \"/>\n",
       "<polyline clip-path=\"url(#clip082)\" style=\"stroke:#000000; stroke-linecap:round; stroke-linejoin:round; stroke-width:4; stroke-opacity:1; fill:none\" points=\"1737.68,934.055 1729.18,919.904 1720.68,905.758 1712.19,891.62 1703.7,877.496 1695.22,863.39 1686.76,849.306 1678.31,835.248 1669.88,821.221 1661.48,807.23 1653.09,793.278 1644.74,779.371 1636.41,765.512 1628.11,751.706 1619.85,737.958 1611.63,724.272 1603.45,710.652 1595.31,697.103 1587.21,683.629 1579.16,670.234 1571.16,656.924 1563.22,643.702 1555.33,630.573 1547.5,617.541 1539.73,604.611 1532.02,591.787 1524.38,579.069 1516.8,566.453 1509.28,553.934 1501.81,541.508 1494.4,529.17 1487.04,516.916 1479.72,504.742 1472.45,492.643 1465.22,480.615 1458.04,468.653 1450.89,456.753 1443.77,444.911 1436.69,433.121 1429.63,421.381 1422.6,409.684 1415.6,398.027 1408.62,386.406 1401.65,374.816 1394.7,363.252 1387.77,351.71 1380.84,340.186 1373.93,328.675 1367.02,317.173 1360.11,305.676 \"/>\n",
       "<polyline clip-path=\"url(#clip082)\" style=\"stroke:#000000; stroke-linecap:round; stroke-linejoin:round; stroke-width:4; stroke-opacity:1; fill:none\" points=\"1363.22,345.805 1360.11,305.676 1394.08,327.263 \"/>\n",
       "<polyline clip-path=\"url(#clip082)\" style=\"stroke:#000000; stroke-linecap:round; stroke-linejoin:round; stroke-width:4; stroke-opacity:1; fill:none\" points=\"1360.11,305.676 1367.02,317.173 \"/>\n",
       "<polyline clip-path=\"url(#clip082)\" style=\"stroke:#000000; stroke-linecap:round; stroke-linejoin:round; stroke-width:4; stroke-opacity:1; fill:none\" points=\"1200,800 1197.15,811.415 1194.31,822.825 1191.47,834.227 1188.63,845.615 1185.79,856.986 1182.96,868.334 1180.14,879.656 1177.33,890.947 1174.52,902.203 1171.72,913.418 1168.94,924.59 1166.16,935.713 1163.4,946.783 1160.66,957.795 1157.93,968.746 1155.21,979.63 1152.52,990.443 1149.84,1001.18 1147.18,1011.84 1144.55,1022.41 1141.93,1032.9 1139.34,1043.29 1136.78,1053.59 1134.23,1063.78 1131.72,1073.87 1129.23,1083.85 1126.77,1093.73 1124.33,1103.52 1121.91,1113.21 1119.52,1122.81 1117.14,1132.33 1114.79,1141.77 1112.46,1151.13 1110.14,1160.42 1107.84,1169.65 1105.55,1178.81 1103.28,1187.92 1101.03,1196.97 1098.78,1205.98 1096.55,1214.94 1094.32,1223.86 1092.11,1232.74 1089.9,1241.6 1087.7,1250.43 1085.5,1259.23 1083.31,1268.02 1081.13,1276.8 1078.94,1285.56 1076.76,1294.32 \"/>\n",
       "<polyline clip-path=\"url(#clip082)\" style=\"stroke:#000000; stroke-linecap:round; stroke-linejoin:round; stroke-width:4; stroke-opacity:1; fill:none\" points=\"1102.93,1263.75 1076.76,1294.32 1068,1255.04 \"/>\n",
       "<polyline clip-path=\"url(#clip082)\" style=\"stroke:#000000; stroke-linecap:round; stroke-linejoin:round; stroke-width:4; stroke-opacity:1; fill:none\" points=\"1076.76,1294.32 1078.94,1285.56 \"/>\n",
       "<polyline clip-path=\"url(#clip082)\" style=\"stroke:#000000; stroke-linecap:round; stroke-linejoin:round; stroke-width:4; stroke-opacity:1; fill:none\" points=\"1200,800 1188.75,797.195 1177.5,794.391 1166.26,791.589 1155.03,788.788 1143.81,785.991 1132.6,783.196 1121.41,780.406 1110.24,777.621 1099.09,774.841 1087.96,772.067 1076.87,769.301 1065.8,766.541 1054.77,763.791 1043.77,761.049 1032.81,758.316 1021.89,755.594 1011.02,752.883 1000.19,750.184 989.417,747.497 978.693,744.824 968.024,742.164 957.413,739.518 946.863,736.888 936.377,734.274 925.957,731.676 915.603,729.094 905.313,726.529 895.083,723.978 884.912,721.442 874.796,718.92 864.732,716.411 854.718,713.915 844.751,711.43 834.829,708.956 824.948,706.492 815.105,704.038 805.299,701.593 795.525,699.157 785.782,696.728 776.067,694.305 766.376,691.889 756.708,689.479 747.059,687.073 737.427,684.672 727.808,682.273 718.2,679.878 708.601,677.485 699.007,675.093 689.416,672.702 \"/>\n",
       "<polyline clip-path=\"url(#clip082)\" style=\"stroke:#000000; stroke-linecap:round; stroke-linejoin:round; stroke-width:4; stroke-opacity:1; fill:none\" points=\"719.993,698.876 689.416,672.702 728.702,663.945 \"/>\n",
       "<polyline clip-path=\"url(#clip082)\" style=\"stroke:#000000; stroke-linecap:round; stroke-linejoin:round; stroke-width:4; stroke-opacity:1; fill:none\" points=\"689.416,672.702 699.007,675.093 \"/>\n",
       "<polyline clip-path=\"url(#clip082)\" style=\"stroke:#000000; stroke-linecap:round; stroke-linejoin:round; stroke-width:4; stroke-opacity:1; fill:none\" points=\"1200,800 1202.85,788.585 1205.69,777.175 1208.53,765.773 1211.37,754.385 1214.21,743.014 1217.04,731.666 1219.86,720.344 1222.67,709.053 1225.48,697.797 1228.28,686.581 1231.06,675.41 1233.84,664.287 1236.6,653.217 1239.34,642.205 1242.07,631.254 1244.79,620.37 1247.48,609.557 1250.16,598.819 1252.82,588.16 1255.45,577.586 1258.07,567.099 1260.66,556.706 1263.22,546.41 1265.77,536.216 1268.28,526.128 1270.77,516.146 1273.23,506.265 1275.67,496.482 1278.09,486.791 1280.48,477.189 1282.86,467.671 1285.21,458.233 1287.54,448.87 1289.86,439.578 1292.16,430.352 1294.45,421.187 1296.72,412.081 1298.97,403.027 1301.22,394.022 1303.45,385.062 1305.68,376.141 1307.89,367.255 1310.1,358.401 1312.3,349.573 1314.5,340.767 1316.69,331.979 1318.87,323.204 1321.06,314.438 1323.24,305.676 \"/>\n",
       "<polyline clip-path=\"url(#clip082)\" style=\"stroke:#000000; stroke-linecap:round; stroke-linejoin:round; stroke-width:4; stroke-opacity:1; fill:none\" points=\"1297.07,336.252 1323.24,305.676 1332,344.961 \"/>\n",
       "<polyline clip-path=\"url(#clip082)\" style=\"stroke:#000000; stroke-linecap:round; stroke-linejoin:round; stroke-width:4; stroke-opacity:1; fill:none\" points=\"1323.24,305.676 1321.06,314.438 \"/>\n",
       "<polyline clip-path=\"url(#clip082)\" style=\"stroke:#000000; stroke-linecap:round; stroke-linejoin:round; stroke-width:4; stroke-opacity:1; fill:none\" points=\"1065.95,1337.68 1057.44,1323.53 1048.94,1309.39 1040.45,1295.25 1031.96,1281.12 1023.49,1267.02 1015.02,1252.93 1006.58,1238.88 998.147,1224.85 989.74,1210.86 981.357,1196.91 973,1183 964.673,1169.14 956.377,1155.33 948.117,1141.59 939.893,1127.9 931.709,1114.28 923.568,1100.73 915.472,1087.26 907.423,1073.86 899.425,1060.55 891.481,1047.33 883.592,1034.2 875.762,1021.17 867.992,1008.24 860.287,995.415 852.645,982.697 845.064,970.081 837.541,957.562 830.075,945.136 822.661,932.798 815.299,920.544 807.983,908.37 800.714,896.271 793.486,884.243 786.299,872.281 779.148,860.381 772.032,848.539 764.949,836.749 757.894,825.009 750.866,813.312 743.862,801.655 736.879,790.034 729.914,778.444 722.966,766.88 716.031,755.338 709.106,743.814 702.19,732.303 695.279,720.802 688.37,709.304 \"/>\n",
       "<polyline clip-path=\"url(#clip082)\" style=\"stroke:#000000; stroke-linecap:round; stroke-linejoin:round; stroke-width:4; stroke-opacity:1; fill:none\" points=\"691.483,749.433 688.37,709.304 722.341,730.891 \"/>\n",
       "<polyline clip-path=\"url(#clip082)\" style=\"stroke:#000000; stroke-linecap:round; stroke-linejoin:round; stroke-width:4; stroke-opacity:1; fill:none\" points=\"688.37,709.304 695.279,720.802 \"/>\n",
       "<polyline clip-path=\"url(#clip082)\" style=\"stroke:#000000; stroke-linecap:round; stroke-linejoin:round; stroke-width:4; stroke-opacity:1; fill:none\" points=\"662.317,665.945 676.302,657.542 690.284,649.141 704.261,640.742 718.23,632.349 732.187,623.963 746.13,615.584 760.057,607.216 773.965,598.859 787.85,590.516 801.711,582.188 815.544,573.876 829.347,565.582 843.116,557.308 856.849,549.056 870.544,540.828 884.198,532.624 897.807,524.446 911.369,516.297 924.881,508.178 938.341,500.091 951.745,492.036 965.092,484.017 978.378,476.034 991.6,468.089 1004.76,460.184 1017.85,452.319 1030.87,444.492 1043.84,436.701 1056.74,428.946 1069.6,421.223 1082.4,413.532 1095.14,405.871 1107.85,398.239 1120.51,390.633 1133.12,383.051 1145.7,375.493 1158.24,367.957 1170.75,360.441 1183.23,352.943 1195.68,345.461 1208.11,337.994 1220.51,330.541 1232.9,323.099 1245.27,315.668 1257.62,308.244 1269.96,300.827 1282.3,293.416 1294.63,286.007 1306.96,278.6 \"/>\n",
       "<polyline clip-path=\"url(#clip082)\" style=\"stroke:#000000; stroke-linecap:round; stroke-linejoin:round; stroke-width:4; stroke-opacity:1; fill:none\" points=\"1266.83,281.713 1306.96,278.6 1285.37,312.571 \"/>\n",
       "<polyline clip-path=\"url(#clip082)\" style=\"stroke:#000000; stroke-linecap:round; stroke-linejoin:round; stroke-width:4; stroke-opacity:1; fill:none\" points=\"1306.96,278.6 1294.63,286.007 \"/>\n",
       "<path clip-path=\"url(#clip082)\" d=\"M1414.46 903.16 L1523.23 903.16 L1523.23 830.895 L1414.46 830.895 L1414.46 903.16 L1414.46 903.16  Z\" fill=\"#ffffff\" fill-rule=\"evenodd\" fill-opacity=\"1\"/>\n",
       "<polyline clip-path=\"url(#clip082)\" style=\"stroke:#000000; stroke-linecap:round; stroke-linejoin:round; stroke-width:0; stroke-opacity:0; fill:none\" points=\"1414.46,903.16 1523.23,903.16 1523.23,830.895 1414.46,830.895 1414.46,903.16 \"/>\n",
       "<path clip-path=\"url(#clip082)\" d=\"M1347.43 1172 L1456.2 1172 L1456.2 1099.74 L1347.43 1099.74 L1347.43 1172 L1347.43 1172  Z\" fill=\"#ffffff\" fill-rule=\"evenodd\" fill-opacity=\"1\"/>\n",
       "<polyline clip-path=\"url(#clip082)\" style=\"stroke:#000000; stroke-linecap:round; stroke-linejoin:round; stroke-width:0; stroke-opacity:0; fill:none\" points=\"1347.43,1172 1456.2,1172 1456.2,1099.74 1347.43,1099.74 1347.43,1172 \"/>\n",
       "<path clip-path=\"url(#clip082)\" d=\"M1481.48 634.318 L1590.25 634.318 L1590.25 562.054 L1481.48 562.054 L1481.48 634.318 L1481.48 634.318  Z\" fill=\"#ffffff\" fill-rule=\"evenodd\" fill-opacity=\"1\"/>\n",
       "<polyline clip-path=\"url(#clip082)\" style=\"stroke:#000000; stroke-linecap:round; stroke-linejoin:round; stroke-width:0; stroke-opacity:0; fill:none\" points=\"1481.48,634.318 1590.25,634.318 1590.25,562.054 1481.48,562.054 1481.48,634.318 \"/>\n",
       "<path clip-path=\"url(#clip082)\" d=\"M1078.59 1104.97 L1187.36 1104.97 L1187.36 1032.71 L1078.59 1032.71 L1078.59 1104.97 L1078.59 1104.97  Z\" fill=\"#ffffff\" fill-rule=\"evenodd\" fill-opacity=\"1\"/>\n",
       "<polyline clip-path=\"url(#clip082)\" style=\"stroke:#000000; stroke-linecap:round; stroke-linejoin:round; stroke-width:0; stroke-opacity:0; fill:none\" points=\"1078.59,1104.97 1187.36,1104.97 1187.36,1032.71 1078.59,1032.71 1078.59,1104.97 \"/>\n",
       "<path clip-path=\"url(#clip082)\" d=\"M876.774 769.105 L985.543 769.105 L985.543 696.84 L876.774 696.84 L876.774 769.105 L876.774 769.105  Z\" fill=\"#ffffff\" fill-rule=\"evenodd\" fill-opacity=\"1\"/>\n",
       "<polyline clip-path=\"url(#clip082)\" style=\"stroke:#000000; stroke-linecap:round; stroke-linejoin:round; stroke-width:0; stroke-opacity:0; fill:none\" points=\"876.774,769.105 985.543,769.105 985.543,696.84 876.774,696.84 876.774,769.105 \"/>\n",
       "<path clip-path=\"url(#clip082)\" d=\"M1212.64 567.291 L1321.41 567.291 L1321.41 495.026 L1212.64 495.026 L1212.64 567.291 L1212.64 567.291  Z\" fill=\"#ffffff\" fill-rule=\"evenodd\" fill-opacity=\"1\"/>\n",
       "<polyline clip-path=\"url(#clip082)\" style=\"stroke:#000000; stroke-linecap:round; stroke-linejoin:round; stroke-width:0; stroke-opacity:0; fill:none\" points=\"1212.64,567.291 1321.41,567.291 1321.41,495.026 1212.64,495.026 1212.64,567.291 \"/>\n",
       "<path clip-path=\"url(#clip082)\" d=\"M795.673 1037.95 L932.589 1037.95 L932.589 965.682 L795.673 965.682 L795.673 1037.95 L795.673 1037.95  Z\" fill=\"#ffffff\" fill-rule=\"evenodd\" fill-opacity=\"1\"/>\n",
       "<polyline clip-path=\"url(#clip082)\" style=\"stroke:#000000; stroke-linecap:round; stroke-linejoin:round; stroke-width:0; stroke-opacity:0; fill:none\" points=\"795.673,1037.95 932.589,1037.95 932.589,965.682 795.673,965.682 795.673,1037.95 \"/>\n",
       "<path clip-path=\"url(#clip082)\" d=\"M943.802 500.264 L1052.57 500.264 L1052.57 427.999 L943.802 427.999 L943.802 500.264 L943.802 500.264  Z\" fill=\"#ffffff\" fill-rule=\"evenodd\" fill-opacity=\"1\"/>\n",
       "<polyline clip-path=\"url(#clip082)\" style=\"stroke:#000000; stroke-linecap:round; stroke-linejoin:round; stroke-width:0; stroke-opacity:0; fill:none\" points=\"943.802,500.264 1052.57,500.264 1052.57,427.999 943.802,427.999 943.802,500.264 \"/>\n",
       "<path clip-path=\"url(#clip082)\" d=\"M1710.58 977.413 L1764.78 977.413 L1764.78 890.696 L1710.58 890.696 L1710.58 977.413 L1710.58 977.413  Z\" fill=\"#009af9\" fill-rule=\"evenodd\" fill-opacity=\"1\"/>\n",
       "<polyline clip-path=\"url(#clip082)\" style=\"stroke:#000000; stroke-linecap:round; stroke-linejoin:round; stroke-width:4; stroke-opacity:1; fill:none\" points=\"1710.58,977.413 1764.78,977.413 1764.78,890.696 1710.58,890.696 1710.58,977.413 \"/>\n",
       "<path clip-path=\"url(#clip082)\" d=\"M1172.9 843.359 L1227.1 843.359 L1227.1 756.641 L1172.9 756.641 L1172.9 843.359 L1172.9 843.359  Z\" fill=\"#009af9\" fill-rule=\"evenodd\" fill-opacity=\"1\"/>\n",
       "<polyline clip-path=\"url(#clip082)\" style=\"stroke:#000000; stroke-linecap:round; stroke-linejoin:round; stroke-width:4; stroke-opacity:1; fill:none\" points=\"1172.9,843.359 1227.1,843.359 1227.1,756.641 1172.9,756.641 1172.9,843.359 \"/>\n",
       "<path clip-path=\"url(#clip082)\" d=\"M1038.85 1381.04 L1093.04 1381.04 L1093.04 1294.32 L1038.85 1294.32 L1038.85 1381.04 L1038.85 1381.04  Z\" fill=\"#009af9\" fill-rule=\"evenodd\" fill-opacity=\"1\"/>\n",
       "<polyline clip-path=\"url(#clip082)\" style=\"stroke:#000000; stroke-linecap:round; stroke-linejoin:round; stroke-width:4; stroke-opacity:1; fill:none\" points=\"1038.85,1381.04 1093.04,1381.04 1093.04,1294.32 1038.85,1294.32 1038.85,1381.04 \"/>\n",
       "<path clip-path=\"url(#clip082)\" d=\"M635.218 709.304 L689.416 709.304 L689.416 622.587 L635.218 622.587 L635.218 709.304 L635.218 709.304  Z\" fill=\"#009af9\" fill-rule=\"evenodd\" fill-opacity=\"1\"/>\n",
       "<polyline clip-path=\"url(#clip082)\" style=\"stroke:#000000; stroke-linecap:round; stroke-linejoin:round; stroke-width:4; stroke-opacity:1; fill:none\" points=\"635.218,709.304 689.416,709.304 689.416,622.587 635.218,622.587 635.218,709.304 \"/>\n",
       "<path clip-path=\"url(#clip082)\" d=\"M1306.96 305.676 L1361.15 305.676 L1361.15 218.958 L1306.96 218.958 L1306.96 305.676 L1306.96 305.676  Z\" fill=\"#009af9\" fill-rule=\"evenodd\" fill-opacity=\"1\"/>\n",
       "<polyline clip-path=\"url(#clip082)\" style=\"stroke:#000000; stroke-linecap:round; stroke-linejoin:round; stroke-width:4; stroke-opacity:1; fill:none\" points=\"1306.96,305.676 1361.15,305.676 1361.15,218.958 1306.96,218.958 1306.96,305.676 \"/>\n",
       "<path clip-path=\"url(#clip082)\" d=\"M1737.28 933.655 L1737.28 934.455 L1738.08 934.455 L1738.08 933.655 L1737.28 933.655 Z\" fill=\"#009af9\" fill-rule=\"evenodd\" fill-opacity=\"1\" stroke=\"#000000\" stroke-opacity=\"1\" stroke-width=\"3.2\"/>\n",
       "<path clip-path=\"url(#clip082)\" d=\"M1199.6 799.6 L1199.6 800.4 L1200.4 800.4 L1200.4 799.6 L1199.6 799.6 Z\" fill=\"#009af9\" fill-rule=\"evenodd\" fill-opacity=\"1\" stroke=\"#000000\" stroke-opacity=\"1\" stroke-width=\"3.2\"/>\n",
       "<path clip-path=\"url(#clip082)\" d=\"M1065.55 1337.28 L1065.55 1338.08 L1066.35 1338.08 L1066.35 1337.28 L1065.55 1337.28 Z\" fill=\"#009af9\" fill-rule=\"evenodd\" fill-opacity=\"1\" stroke=\"#000000\" stroke-opacity=\"1\" stroke-width=\"3.2\"/>\n",
       "<path clip-path=\"url(#clip082)\" d=\"M661.917 665.545 L661.917 666.345 L662.717 666.345 L662.717 665.545 L661.917 665.545 Z\" fill=\"#009af9\" fill-rule=\"evenodd\" fill-opacity=\"1\" stroke=\"#000000\" stroke-opacity=\"1\" stroke-width=\"3.2\"/>\n",
       "<path clip-path=\"url(#clip082)\" d=\"M1333.65 261.917 L1333.65 262.717 L1334.45 262.717 L1334.45 261.917 L1333.65 261.917 Z\" fill=\"#009af9\" fill-rule=\"evenodd\" fill-opacity=\"1\" stroke=\"#000000\" stroke-opacity=\"1\" stroke-width=\"3.2\"/>\n",
       "<path clip-path=\"url(#clip080)\" d=\"M1440.49 881.519 L1440.49 877.793 Q1442.02 878.522 1443.6 878.907 Q1445.18 879.291 1446.7 879.291 Q1450.75 879.291 1452.88 876.577 Q1455.03 873.843 1455.33 868.293 Q1454.16 870.035 1452.35 870.967 Q1450.55 871.898 1448.36 871.898 Q1443.83 871.898 1441.17 869.164 Q1438.54 866.41 1438.54 861.65 Q1438.54 856.991 1441.3 854.176 Q1444.05 851.36 1448.63 851.36 Q1453.87 851.36 1456.63 855.391 Q1459.4 859.401 1459.4 867.058 Q1459.4 874.208 1456 878.481 Q1452.62 882.735 1446.89 882.735 Q1445.35 882.735 1443.77 882.431 Q1442.19 882.127 1440.49 881.519 M1448.63 868.698 Q1451.38 868.698 1452.98 866.815 Q1454.6 864.931 1454.6 861.65 Q1454.6 858.389 1452.98 856.505 Q1451.38 854.601 1448.63 854.601 Q1445.87 854.601 1444.25 856.505 Q1442.65 858.389 1442.65 861.65 Q1442.65 864.931 1444.25 866.815 Q1445.87 868.698 1448.63 868.698 Z\" fill=\"#000000\" fill-rule=\"nonzero\" fill-opacity=\"1\" /><path clip-path=\"url(#clip080)\" d=\"M1466.76 877.003 L1471.03 877.003 L1471.03 882.147 L1466.76 882.147 L1466.76 877.003 Z\" fill=\"#000000\" fill-rule=\"nonzero\" fill-opacity=\"1\" /><path clip-path=\"url(#clip080)\" d=\"M1488.69 854.601 Q1485.53 854.601 1483.93 857.72 Q1482.35 860.819 1482.35 867.058 Q1482.35 873.276 1483.93 876.395 Q1485.53 879.494 1488.69 879.494 Q1491.87 879.494 1493.45 876.395 Q1495.05 873.276 1495.05 867.058 Q1495.05 860.819 1493.45 857.72 Q1491.87 854.601 1488.69 854.601 M1488.69 851.36 Q1493.77 851.36 1496.45 855.391 Q1499.14 859.401 1499.14 867.058 Q1499.14 874.694 1496.45 878.724 Q1493.77 882.735 1488.69 882.735 Q1483.61 882.735 1480.91 878.724 Q1478.24 874.694 1478.24 867.058 Q1478.24 859.401 1480.91 855.391 Q1483.61 851.36 1488.69 851.36 Z\" fill=\"#000000\" fill-rule=\"nonzero\" fill-opacity=\"1\" /><path clip-path=\"url(#clip080)\" d=\"M1384.87 1124.31 L1374.54 1140.46 L1384.87 1140.46 L1384.87 1124.31 M1383.8 1120.75 L1388.94 1120.75 L1388.94 1140.46 L1393.26 1140.46 L1393.26 1143.86 L1388.94 1143.86 L1388.94 1150.99 L1384.87 1150.99 L1384.87 1143.86 L1371.22 1143.86 L1371.22 1139.91 L1383.8 1120.75 Z\" fill=\"#000000\" fill-rule=\"nonzero\" fill-opacity=\"1\" /><path clip-path=\"url(#clip080)\" d=\"M1400.02 1145.84 L1404.3 1145.84 L1404.3 1150.99 L1400.02 1150.99 L1400.02 1145.84 Z\" fill=\"#000000\" fill-rule=\"nonzero\" fill-opacity=\"1\" /><path clip-path=\"url(#clip080)\" d=\"M1421.96 1123.44 Q1418.8 1123.44 1417.2 1126.56 Q1415.62 1129.66 1415.62 1135.9 Q1415.62 1142.12 1417.2 1145.24 Q1418.8 1148.34 1421.96 1148.34 Q1425.14 1148.34 1426.72 1145.24 Q1428.32 1142.12 1428.32 1135.9 Q1428.32 1129.66 1426.72 1126.56 Q1425.14 1123.44 1421.96 1123.44 M1421.96 1120.2 Q1427.04 1120.2 1429.71 1124.23 Q1432.41 1128.24 1432.41 1135.9 Q1432.41 1143.54 1429.71 1147.57 Q1427.04 1151.58 1421.96 1151.58 Q1416.87 1151.58 1414.18 1147.57 Q1411.51 1143.54 1411.51 1135.9 Q1411.51 1128.24 1414.18 1124.23 Q1416.87 1120.2 1421.96 1120.2 Z\" fill=\"#000000\" fill-rule=\"nonzero\" fill-opacity=\"1\" /><path clip-path=\"url(#clip080)\" d=\"M1505.96 583.066 L1525.41 583.066 L1525.41 584.808 L1514.43 613.306 L1510.16 613.306 L1520.49 586.509 L1505.96 586.509 L1505.96 583.066 Z\" fill=\"#000000\" fill-rule=\"nonzero\" fill-opacity=\"1\" /><path clip-path=\"url(#clip080)\" d=\"M1533.39 608.161 L1537.66 608.161 L1537.66 613.306 L1533.39 613.306 L1533.39 608.161 Z\" fill=\"#000000\" fill-rule=\"nonzero\" fill-opacity=\"1\" /><path clip-path=\"url(#clip080)\" d=\"M1555.32 585.76 Q1552.16 585.76 1550.56 588.879 Q1548.98 591.978 1548.98 598.216 Q1548.98 604.434 1550.56 607.554 Q1552.16 610.653 1555.32 610.653 Q1558.5 610.653 1560.08 607.554 Q1561.68 604.434 1561.68 598.216 Q1561.68 591.978 1560.08 588.879 Q1558.5 585.76 1555.32 585.76 M1555.32 582.519 Q1560.41 582.519 1563.08 586.55 Q1565.77 590.56 1565.77 598.216 Q1565.77 605.852 1563.08 609.883 Q1560.41 613.893 1555.32 613.893 Q1550.24 613.893 1547.55 609.883 Q1544.87 605.852 1544.87 598.216 Q1544.87 590.56 1547.55 586.55 Q1550.24 582.519 1555.32 582.519 Z\" fill=\"#000000\" fill-rule=\"nonzero\" fill-opacity=\"1\" /><path clip-path=\"url(#clip080)\" d=\"M1107.81 1080.52 L1122.09 1080.52 L1122.09 1083.96 L1102.88 1083.96 L1102.88 1080.52 Q1105.21 1078.11 1109.22 1074.06 Q1113.25 1069.99 1114.29 1068.81 Q1116.25 1066.6 1117.02 1065.08 Q1117.81 1063.54 1117.81 1062.07 Q1117.81 1059.66 1116.11 1058.14 Q1114.43 1056.62 1111.72 1056.62 Q1109.79 1056.62 1107.64 1057.29 Q1105.52 1057.95 1103.09 1059.31 L1103.09 1055.18 Q1105.56 1054.19 1107.71 1053.68 Q1109.85 1053.17 1111.63 1053.17 Q1116.33 1053.17 1119.13 1055.52 Q1121.92 1057.87 1121.92 1061.8 Q1121.92 1063.67 1121.21 1065.35 Q1120.53 1067.01 1118.68 1069.28 Q1118.18 1069.86 1115.46 1072.68 Q1112.75 1075.47 1107.81 1080.52 Z\" fill=\"#000000\" fill-rule=\"nonzero\" fill-opacity=\"1\" /><path clip-path=\"url(#clip080)\" d=\"M1130.67 1078.82 L1134.95 1078.82 L1134.95 1083.96 L1130.67 1083.96 L1130.67 1078.82 Z\" fill=\"#000000\" fill-rule=\"nonzero\" fill-opacity=\"1\" /><path clip-path=\"url(#clip080)\" d=\"M1152.61 1056.42 Q1149.45 1056.42 1147.85 1059.53 Q1146.27 1062.63 1146.27 1068.87 Q1146.27 1075.09 1147.85 1078.21 Q1149.45 1081.31 1152.61 1081.31 Q1155.79 1081.31 1157.37 1078.21 Q1158.97 1075.09 1158.97 1068.87 Q1158.97 1062.63 1157.37 1059.53 Q1155.79 1056.42 1152.61 1056.42 M1152.61 1053.17 Q1157.69 1053.17 1160.37 1057.21 Q1163.06 1061.22 1163.06 1068.87 Q1163.06 1076.51 1160.37 1080.54 Q1157.69 1084.55 1152.61 1084.55 Q1147.53 1084.55 1144.83 1080.54 Q1142.16 1076.51 1142.16 1068.87 Q1142.16 1061.22 1144.83 1057.21 Q1147.53 1053.17 1152.61 1053.17 Z\" fill=\"#000000\" fill-rule=\"nonzero\" fill-opacity=\"1\" /><path clip-path=\"url(#clip080)\" d=\"M902.417 744.649 L909.101 744.649 L909.101 721.579 L901.83 723.038 L901.83 719.311 L909.061 717.853 L913.152 717.853 L913.152 744.649 L919.836 744.649 L919.836 748.093 L902.417 748.093 L902.417 744.649 Z\" fill=\"#000000\" fill-rule=\"nonzero\" fill-opacity=\"1\" /><path clip-path=\"url(#clip080)\" d=\"M928.1 742.948 L932.374 742.948 L932.374 748.093 L928.1 748.093 L928.1 742.948 Z\" fill=\"#000000\" fill-rule=\"nonzero\" fill-opacity=\"1\" /><path clip-path=\"url(#clip080)\" d=\"M950.036 720.546 Q946.876 720.546 945.276 723.666 Q943.696 726.765 943.696 733.003 Q943.696 739.221 945.276 742.34 Q946.876 745.439 950.036 745.439 Q953.216 745.439 954.796 742.34 Q956.396 739.221 956.396 733.003 Q956.396 726.765 954.796 723.666 Q953.216 720.546 950.036 720.546 M950.036 717.306 Q955.12 717.306 957.793 721.336 Q960.487 725.347 960.487 733.003 Q960.487 740.639 957.793 744.67 Q955.12 748.68 950.036 748.68 Q944.952 748.68 942.258 744.67 Q939.584 740.639 939.584 733.003 Q939.584 725.347 942.258 721.336 Q944.952 717.306 950.036 717.306 Z\" fill=\"#000000\" fill-rule=\"nonzero\" fill-opacity=\"1\" /><path clip-path=\"url(#clip080)\" d=\"M1237.12 516.039 L1256.57 516.039 L1256.57 517.78 L1245.59 546.279 L1241.31 546.279 L1251.64 519.482 L1237.12 519.482 L1237.12 516.039 Z\" fill=\"#000000\" fill-rule=\"nonzero\" fill-opacity=\"1\" /><path clip-path=\"url(#clip080)\" d=\"M1264.55 541.134 L1268.82 541.134 L1268.82 546.279 L1264.55 546.279 L1264.55 541.134 Z\" fill=\"#000000\" fill-rule=\"nonzero\" fill-opacity=\"1\" /><path clip-path=\"url(#clip080)\" d=\"M1286.48 518.732 Q1283.32 518.732 1281.72 521.852 Q1280.14 524.951 1280.14 531.189 Q1280.14 537.407 1281.72 540.526 Q1283.32 543.625 1286.48 543.625 Q1289.66 543.625 1291.24 540.526 Q1292.84 537.407 1292.84 531.189 Q1292.84 524.951 1291.24 521.852 Q1289.66 518.732 1286.48 518.732 M1286.48 515.492 Q1291.57 515.492 1294.24 519.522 Q1296.93 523.533 1296.93 531.189 Q1296.93 538.825 1294.24 542.856 Q1291.57 546.866 1286.48 546.866 Q1281.4 546.866 1278.7 542.856 Q1276.03 538.825 1276.03 531.189 Q1276.03 523.533 1278.7 519.522 Q1281.4 515.492 1286.48 515.492 Z\" fill=\"#000000\" fill-rule=\"nonzero\" fill-opacity=\"1\" /><path clip-path=\"url(#clip080)\" d=\"M822.194 1013.49 L828.878 1013.49 L828.878 990.421 L821.607 991.879 L821.607 988.152 L828.838 986.694 L832.929 986.694 L832.929 1013.49 L839.613 1013.49 L839.613 1016.93 L822.194 1016.93 L822.194 1013.49 Z\" fill=\"#000000\" fill-rule=\"nonzero\" fill-opacity=\"1\" /><path clip-path=\"url(#clip080)\" d=\"M856.627 989.388 Q853.467 989.388 851.867 992.507 Q850.287 995.606 850.287 1001.84 Q850.287 1008.06 851.867 1011.18 Q853.467 1014.28 856.627 1014.28 Q859.807 1014.28 861.387 1011.18 Q862.987 1008.06 862.987 1001.84 Q862.987 995.606 861.387 992.507 Q859.807 989.388 856.627 989.388 M856.627 986.147 Q861.711 986.147 864.385 990.178 Q867.078 994.188 867.078 1001.84 Q867.078 1009.48 864.385 1013.51 Q861.711 1017.52 856.627 1017.52 Q851.543 1017.52 848.849 1013.51 Q846.176 1009.48 846.176 1001.84 Q846.176 994.188 848.849 990.178 Q851.543 986.147 856.627 986.147 Z\" fill=\"#000000\" fill-rule=\"nonzero\" fill-opacity=\"1\" /><path clip-path=\"url(#clip080)\" d=\"M874.269 1011.79 L878.542 1011.79 L878.542 1016.93 L874.269 1016.93 L874.269 1011.79 Z\" fill=\"#000000\" fill-rule=\"nonzero\" fill-opacity=\"1\" /><path clip-path=\"url(#clip080)\" d=\"M896.204 989.388 Q893.045 989.388 891.445 992.507 Q889.865 995.606 889.865 1001.84 Q889.865 1008.06 891.445 1011.18 Q893.045 1014.28 896.204 1014.28 Q899.384 1014.28 900.964 1011.18 Q902.564 1008.06 902.564 1001.84 Q902.564 995.606 900.964 992.507 Q899.384 989.388 896.204 989.388 M896.204 986.147 Q901.288 986.147 903.962 990.178 Q906.656 994.188 906.656 1001.84 Q906.656 1009.48 903.962 1013.51 Q901.288 1017.52 896.204 1017.52 Q891.12 1017.52 888.427 1013.51 Q885.753 1009.48 885.753 1001.84 Q885.753 994.188 888.427 990.178 Q891.12 986.147 896.204 986.147 Z\" fill=\"#000000\" fill-rule=\"nonzero\" fill-opacity=\"1\" /><path clip-path=\"url(#clip080)\" d=\"M969.455 449.011 L985.517 449.011 L985.517 452.455 L973.202 452.455 L973.202 459.868 Q974.093 459.564 974.984 459.422 Q975.876 459.26 976.767 459.26 Q981.83 459.26 984.788 462.035 Q987.745 464.81 987.745 469.549 Q987.745 474.431 984.707 477.145 Q981.668 479.839 976.139 479.839 Q974.235 479.839 972.25 479.515 Q970.285 479.191 968.179 478.542 L968.179 474.431 Q970.002 475.423 971.946 475.909 Q973.891 476.395 976.058 476.395 Q979.562 476.395 981.608 474.552 Q983.653 472.709 983.653 469.549 Q983.653 466.39 981.608 464.547 Q979.562 462.703 976.058 462.703 Q974.417 462.703 972.777 463.068 Q971.156 463.433 969.455 464.202 L969.455 449.011 Z\" fill=\"#000000\" fill-rule=\"nonzero\" fill-opacity=\"1\" /><path clip-path=\"url(#clip080)\" d=\"M995.806 474.107 L1000.08 474.107 L1000.08 479.251 L995.806 479.251 L995.806 474.107 Z\" fill=\"#000000\" fill-rule=\"nonzero\" fill-opacity=\"1\" /><path clip-path=\"url(#clip080)\" d=\"M1017.74 451.705 Q1014.58 451.705 1012.98 454.824 Q1011.4 457.923 1011.4 464.162 Q1011.4 470.38 1012.98 473.499 Q1014.58 476.598 1017.74 476.598 Q1020.92 476.598 1022.5 473.499 Q1024.1 470.38 1024.1 464.162 Q1024.1 457.923 1022.5 454.824 Q1020.92 451.705 1017.74 451.705 M1017.74 448.464 Q1022.83 448.464 1025.5 452.495 Q1028.19 456.505 1028.19 464.162 Q1028.19 471.798 1025.5 475.828 Q1022.83 479.839 1017.74 479.839 Q1012.66 479.839 1009.96 475.828 Q1007.29 471.798 1007.29 464.162 Q1007.29 456.505 1009.96 452.495 Q1012.66 448.464 1017.74 448.464 Z\" fill=\"#000000\" fill-rule=\"nonzero\" fill-opacity=\"1\" /><path clip-path=\"url(#clip080)\" d=\"M1729.27 945.731 L1735.95 945.731 L1735.95 922.661 L1728.68 924.12 L1728.68 920.393 L1735.91 918.935 L1740 918.935 L1740 945.731 L1746.69 945.731 L1746.69 949.175 L1729.27 949.175 L1729.27 945.731 Z\" fill=\"#000000\" fill-rule=\"nonzero\" fill-opacity=\"1\" /><path clip-path=\"url(#clip080)\" d=\"M1195.32 811.677 L1209.6 811.677 L1209.6 815.12 L1190.4 815.12 L1190.4 811.677 Q1192.73 809.266 1196.74 805.215 Q1200.77 801.144 1201.8 799.97 Q1203.77 797.762 1204.54 796.243 Q1205.33 794.703 1205.33 793.225 Q1205.33 790.814 1203.63 789.295 Q1201.94 787.776 1199.23 787.776 Q1197.31 787.776 1195.16 788.445 Q1193.03 789.113 1190.6 790.47 L1190.6 786.338 Q1193.07 785.346 1195.22 784.839 Q1197.37 784.333 1199.15 784.333 Q1203.85 784.333 1206.64 786.683 Q1209.44 789.032 1209.44 792.961 Q1209.44 794.825 1208.73 796.506 Q1208.04 798.167 1206.2 800.435 Q1205.69 801.023 1202.98 803.838 Q1200.26 806.633 1195.32 811.677 Z\" fill=\"#000000\" fill-rule=\"nonzero\" fill-opacity=\"1\" /><path clip-path=\"url(#clip080)\" d=\"M1069.66 1336.5 Q1072.6 1337.13 1074.24 1339.11 Q1075.9 1341.1 1075.9 1344.01 Q1075.9 1348.49 1072.82 1350.94 Q1069.74 1353.39 1064.07 1353.39 Q1062.17 1353.39 1060.14 1353.01 Q1058.14 1352.64 1055.99 1351.89 L1055.99 1347.94 Q1057.69 1348.93 1059.72 1349.44 Q1061.74 1349.95 1063.95 1349.95 Q1067.8 1349.95 1069.8 1348.43 Q1071.83 1346.91 1071.83 1344.01 Q1071.83 1341.34 1069.95 1339.84 Q1068.08 1338.32 1064.74 1338.32 L1061.22 1338.32 L1061.22 1334.96 L1064.9 1334.96 Q1067.92 1334.96 1069.52 1333.76 Q1071.12 1332.55 1071.12 1330.28 Q1071.12 1327.95 1069.46 1326.71 Q1067.82 1325.46 1064.74 1325.46 Q1063.06 1325.46 1061.14 1325.82 Q1059.21 1326.19 1056.9 1326.96 L1056.9 1323.31 Q1059.23 1322.66 1061.26 1322.34 Q1063.3 1322.02 1065.1 1322.02 Q1069.76 1322.02 1072.48 1324.14 Q1075.19 1326.25 1075.19 1329.85 Q1075.19 1332.37 1073.75 1334.11 Q1072.32 1335.83 1069.66 1336.5 Z\" fill=\"#000000\" fill-rule=\"nonzero\" fill-opacity=\"1\" /><path clip-path=\"url(#clip080)\" d=\"M664.95 654.39 L654.62 670.533 L664.95 670.533 L664.95 654.39 M663.877 650.825 L669.021 650.825 L669.021 670.533 L673.336 670.533 L673.336 673.936 L669.021 673.936 L669.021 681.065 L664.95 681.065 L664.95 673.936 L651.299 673.936 L651.299 669.986 L663.877 650.825 Z\" fill=\"#000000\" fill-rule=\"nonzero\" fill-opacity=\"1\" /><path clip-path=\"url(#clip080)\" d=\"M1325.55 247.197 L1341.61 247.197 L1341.61 250.64 L1329.29 250.64 L1329.29 258.054 Q1330.19 257.75 1331.08 257.608 Q1331.97 257.446 1332.86 257.446 Q1337.92 257.446 1340.88 260.221 Q1343.84 262.996 1343.84 267.735 Q1343.84 272.617 1340.8 275.331 Q1337.76 278.025 1332.23 278.025 Q1330.33 278.025 1328.34 277.701 Q1326.38 277.376 1324.27 276.728 L1324.27 272.617 Q1326.09 273.609 1328.04 274.095 Q1329.98 274.581 1332.15 274.581 Q1335.65 274.581 1337.7 272.738 Q1339.75 270.895 1339.75 267.735 Q1339.75 264.576 1337.7 262.732 Q1335.65 260.889 1332.15 260.889 Q1330.51 260.889 1328.87 261.254 Q1327.25 261.618 1325.55 262.388 L1325.55 247.197 Z\" fill=\"#000000\" fill-rule=\"nonzero\" fill-opacity=\"1\" /></svg>\n"
      ],
      "text/html": [
       "<?xml version=\"1.0\" encoding=\"utf-8\"?>\n",
       "<svg xmlns=\"http://www.w3.org/2000/svg\" xmlns:xlink=\"http://www.w3.org/1999/xlink\" width=\"600\" height=\"400\" viewBox=\"0 0 2400 1600\">\n",
       "<defs>\n",
       "  <clipPath id=\"clip110\">\n",
       "    <rect x=\"0\" y=\"0\" width=\"2400\" height=\"1600\"/>\n",
       "  </clipPath>\n",
       "</defs>\n",
       "<path clip-path=\"url(#clip110)\" d=\"M0 1600 L2400 1600 L2400 0 L0 0  Z\" fill=\"#ffffff\" fill-rule=\"evenodd\" fill-opacity=\"1\"/>\n",
       "<defs>\n",
       "  <clipPath id=\"clip111\">\n",
       "    <rect x=\"480\" y=\"0\" width=\"1681\" height=\"1600\"/>\n",
       "  </clipPath>\n",
       "</defs>\n",
       "<path clip-path=\"url(#clip110)\" d=\"M447.244 1552.76 L1952.76 1552.76 L1952.76 47.2441 L447.244 47.2441  Z\" fill=\"#ffffff\" fill-rule=\"evenodd\" fill-opacity=\"1\"/>\n",
       "<defs>\n",
       "  <clipPath id=\"clip112\">\n",
       "    <rect x=\"447\" y=\"47\" width=\"1507\" height=\"1507\"/>\n",
       "  </clipPath>\n",
       "</defs>\n",
       "<polyline clip-path=\"url(#clip112)\" style=\"stroke:#000000; stroke-linecap:round; stroke-linejoin:round; stroke-width:4; stroke-opacity:1; fill:none\" points=\"1737.68,934.055 1726.43,931.25 1715.19,928.446 1703.95,925.643 1692.71,922.843 1681.49,920.045 1670.28,917.251 1659.09,914.461 1647.92,911.675 1636.77,908.896 1625.65,906.122 1614.55,903.355 1603.48,900.596 1592.45,897.845 1581.45,895.103 1570.49,892.371 1559.58,889.649 1548.7,886.938 1537.88,884.239 1527.1,881.552 1516.38,878.878 1505.71,876.219 1495.1,873.573 1484.55,870.943 1474.06,868.328 1463.64,865.73 1453.29,863.149 1443,860.583 1432.77,858.033 1422.59,855.497 1412.48,852.975 1402.41,850.466 1392.4,847.969 1382.43,845.484 1372.51,843.01 1362.63,840.547 1352.79,838.093 1342.98,835.648 1333.21,833.211 1323.46,830.782 1313.75,828.36 1304.06,825.944 1294.39,823.533 1284.74,821.128 1275.11,818.726 1265.49,816.328 1255.88,813.933 1246.28,811.539 1236.69,809.147 1227.1,806.756 \"/>\n",
       "<polyline clip-path=\"url(#clip112)\" style=\"stroke:#000000; stroke-linecap:round; stroke-linejoin:round; stroke-width:4; stroke-opacity:1; fill:none\" points=\"1257.68,832.931 1227.1,806.756 1266.38,798 \"/>\n",
       "<polyline clip-path=\"url(#clip112)\" style=\"stroke:#000000; stroke-linecap:round; stroke-linejoin:round; stroke-width:4; stroke-opacity:1; fill:none\" points=\"1227.1,806.756 1236.69,809.147 \"/>\n",
       "<polyline clip-path=\"url(#clip112)\" style=\"stroke:#000000; stroke-linecap:round; stroke-linejoin:round; stroke-width:4; stroke-opacity:1; fill:none\" points=\"1737.68,934.055 1723.7,942.458 1709.72,950.859 1695.74,959.258 1681.77,967.651 1667.81,976.037 1653.87,984.416 1639.94,992.784 1626.04,1001.14 1612.15,1009.48 1598.29,1017.81 1584.46,1026.12 1570.65,1034.42 1556.88,1042.69 1543.15,1050.94 1529.46,1059.17 1515.8,1067.38 1502.19,1075.55 1488.63,1083.7 1475.12,1091.82 1461.66,1099.91 1448.25,1107.96 1434.91,1115.98 1421.62,1123.97 1408.4,1131.91 1395.24,1139.82 1382.15,1147.68 1369.13,1155.51 1356.16,1163.3 1343.26,1171.05 1330.4,1178.78 1317.6,1186.47 1304.86,1194.13 1292.15,1201.76 1279.49,1209.37 1266.88,1216.95 1254.3,1224.51 1241.76,1232.04 1229.25,1239.56 1216.77,1247.06 1204.32,1254.54 1191.89,1262.01 1179.49,1269.46 1167.1,1276.9 1154.73,1284.33 1142.38,1291.76 1130.04,1299.17 1117.7,1306.58 1105.37,1313.99 1093.04,1321.4 \"/>\n",
       "<polyline clip-path=\"url(#clip112)\" style=\"stroke:#000000; stroke-linecap:round; stroke-linejoin:round; stroke-width:4; stroke-opacity:1; fill:none\" points=\"1133.17,1318.29 1093.04,1321.4 1114.63,1287.43 \"/>\n",
       "<polyline clip-path=\"url(#clip112)\" style=\"stroke:#000000; stroke-linecap:round; stroke-linejoin:round; stroke-width:4; stroke-opacity:1; fill:none\" points=\"1093.04,1321.4 1105.37,1313.99 \"/>\n",
       "<polyline clip-path=\"url(#clip112)\" style=\"stroke:#000000; stroke-linecap:round; stroke-linejoin:round; stroke-width:4; stroke-opacity:1; fill:none\" points=\"1737.68,934.055 1729.18,919.904 1720.68,905.758 1712.19,891.62 1703.7,877.496 1695.22,863.39 1686.76,849.306 1678.31,835.248 1669.88,821.221 1661.48,807.23 1653.09,793.278 1644.74,779.371 1636.41,765.512 1628.11,751.706 1619.85,737.958 1611.63,724.272 1603.45,710.652 1595.31,697.103 1587.21,683.629 1579.16,670.234 1571.16,656.924 1563.22,643.702 1555.33,630.573 1547.5,617.541 1539.73,604.611 1532.02,591.787 1524.38,579.069 1516.8,566.453 1509.28,553.934 1501.81,541.508 1494.4,529.17 1487.04,516.916 1479.72,504.742 1472.45,492.643 1465.22,480.615 1458.04,468.653 1450.89,456.753 1443.77,444.911 1436.69,433.121 1429.63,421.381 1422.6,409.684 1415.6,398.027 1408.62,386.406 1401.65,374.816 1394.7,363.252 1387.77,351.71 1380.84,340.186 1373.93,328.675 1367.02,317.173 1360.11,305.676 \"/>\n",
       "<polyline clip-path=\"url(#clip112)\" style=\"stroke:#000000; stroke-linecap:round; stroke-linejoin:round; stroke-width:4; stroke-opacity:1; fill:none\" points=\"1363.22,345.805 1360.11,305.676 1394.08,327.263 \"/>\n",
       "<polyline clip-path=\"url(#clip112)\" style=\"stroke:#000000; stroke-linecap:round; stroke-linejoin:round; stroke-width:4; stroke-opacity:1; fill:none\" points=\"1360.11,305.676 1367.02,317.173 \"/>\n",
       "<polyline clip-path=\"url(#clip112)\" style=\"stroke:#000000; stroke-linecap:round; stroke-linejoin:round; stroke-width:4; stroke-opacity:1; fill:none\" points=\"1200,800 1197.15,811.415 1194.31,822.825 1191.47,834.227 1188.63,845.615 1185.79,856.986 1182.96,868.334 1180.14,879.656 1177.33,890.947 1174.52,902.203 1171.72,913.418 1168.94,924.59 1166.16,935.713 1163.4,946.783 1160.66,957.795 1157.93,968.746 1155.21,979.63 1152.52,990.443 1149.84,1001.18 1147.18,1011.84 1144.55,1022.41 1141.93,1032.9 1139.34,1043.29 1136.78,1053.59 1134.23,1063.78 1131.72,1073.87 1129.23,1083.85 1126.77,1093.73 1124.33,1103.52 1121.91,1113.21 1119.52,1122.81 1117.14,1132.33 1114.79,1141.77 1112.46,1151.13 1110.14,1160.42 1107.84,1169.65 1105.55,1178.81 1103.28,1187.92 1101.03,1196.97 1098.78,1205.98 1096.55,1214.94 1094.32,1223.86 1092.11,1232.74 1089.9,1241.6 1087.7,1250.43 1085.5,1259.23 1083.31,1268.02 1081.13,1276.8 1078.94,1285.56 1076.76,1294.32 \"/>\n",
       "<polyline clip-path=\"url(#clip112)\" style=\"stroke:#000000; stroke-linecap:round; stroke-linejoin:round; stroke-width:4; stroke-opacity:1; fill:none\" points=\"1102.93,1263.75 1076.76,1294.32 1068,1255.04 \"/>\n",
       "<polyline clip-path=\"url(#clip112)\" style=\"stroke:#000000; stroke-linecap:round; stroke-linejoin:round; stroke-width:4; stroke-opacity:1; fill:none\" points=\"1076.76,1294.32 1078.94,1285.56 \"/>\n",
       "<polyline clip-path=\"url(#clip112)\" style=\"stroke:#000000; stroke-linecap:round; stroke-linejoin:round; stroke-width:4; stroke-opacity:1; fill:none\" points=\"1200,800 1188.75,797.195 1177.5,794.391 1166.26,791.589 1155.03,788.788 1143.81,785.991 1132.6,783.196 1121.41,780.406 1110.24,777.621 1099.09,774.841 1087.96,772.067 1076.87,769.301 1065.8,766.541 1054.77,763.791 1043.77,761.049 1032.81,758.316 1021.89,755.594 1011.02,752.883 1000.19,750.184 989.417,747.497 978.693,744.824 968.024,742.164 957.413,739.518 946.863,736.888 936.377,734.274 925.957,731.676 915.603,729.094 905.313,726.529 895.083,723.978 884.912,721.442 874.796,718.92 864.732,716.411 854.718,713.915 844.751,711.43 834.829,708.956 824.948,706.492 815.105,704.038 805.299,701.593 795.525,699.157 785.782,696.728 776.067,694.305 766.376,691.889 756.708,689.479 747.059,687.073 737.427,684.672 727.808,682.273 718.2,679.878 708.601,677.485 699.007,675.093 689.416,672.702 \"/>\n",
       "<polyline clip-path=\"url(#clip112)\" style=\"stroke:#000000; stroke-linecap:round; stroke-linejoin:round; stroke-width:4; stroke-opacity:1; fill:none\" points=\"719.993,698.876 689.416,672.702 728.702,663.945 \"/>\n",
       "<polyline clip-path=\"url(#clip112)\" style=\"stroke:#000000; stroke-linecap:round; stroke-linejoin:round; stroke-width:4; stroke-opacity:1; fill:none\" points=\"689.416,672.702 699.007,675.093 \"/>\n",
       "<polyline clip-path=\"url(#clip112)\" style=\"stroke:#000000; stroke-linecap:round; stroke-linejoin:round; stroke-width:4; stroke-opacity:1; fill:none\" points=\"1200,800 1202.85,788.585 1205.69,777.175 1208.53,765.773 1211.37,754.385 1214.21,743.014 1217.04,731.666 1219.86,720.344 1222.67,709.053 1225.48,697.797 1228.28,686.581 1231.06,675.41 1233.84,664.287 1236.6,653.217 1239.34,642.205 1242.07,631.254 1244.79,620.37 1247.48,609.557 1250.16,598.819 1252.82,588.16 1255.45,577.586 1258.07,567.099 1260.66,556.706 1263.22,546.41 1265.77,536.216 1268.28,526.128 1270.77,516.146 1273.23,506.265 1275.67,496.482 1278.09,486.791 1280.48,477.189 1282.86,467.671 1285.21,458.233 1287.54,448.87 1289.86,439.578 1292.16,430.352 1294.45,421.187 1296.72,412.081 1298.97,403.027 1301.22,394.022 1303.45,385.062 1305.68,376.141 1307.89,367.255 1310.1,358.401 1312.3,349.573 1314.5,340.767 1316.69,331.979 1318.87,323.204 1321.06,314.438 1323.24,305.676 \"/>\n",
       "<polyline clip-path=\"url(#clip112)\" style=\"stroke:#000000; stroke-linecap:round; stroke-linejoin:round; stroke-width:4; stroke-opacity:1; fill:none\" points=\"1297.07,336.252 1323.24,305.676 1332,344.961 \"/>\n",
       "<polyline clip-path=\"url(#clip112)\" style=\"stroke:#000000; stroke-linecap:round; stroke-linejoin:round; stroke-width:4; stroke-opacity:1; fill:none\" points=\"1323.24,305.676 1321.06,314.438 \"/>\n",
       "<polyline clip-path=\"url(#clip112)\" style=\"stroke:#000000; stroke-linecap:round; stroke-linejoin:round; stroke-width:4; stroke-opacity:1; fill:none\" points=\"1065.95,1337.68 1057.44,1323.53 1048.94,1309.39 1040.45,1295.25 1031.96,1281.12 1023.49,1267.02 1015.02,1252.93 1006.58,1238.88 998.147,1224.85 989.74,1210.86 981.357,1196.91 973,1183 964.673,1169.14 956.377,1155.33 948.117,1141.59 939.893,1127.9 931.709,1114.28 923.568,1100.73 915.472,1087.26 907.423,1073.86 899.425,1060.55 891.481,1047.33 883.592,1034.2 875.762,1021.17 867.992,1008.24 860.287,995.415 852.645,982.697 845.064,970.081 837.541,957.562 830.075,945.136 822.661,932.798 815.299,920.544 807.983,908.37 800.714,896.271 793.486,884.243 786.299,872.281 779.148,860.381 772.032,848.539 764.949,836.749 757.894,825.009 750.866,813.312 743.862,801.655 736.879,790.034 729.914,778.444 722.966,766.88 716.031,755.338 709.106,743.814 702.19,732.303 695.279,720.802 688.37,709.304 \"/>\n",
       "<polyline clip-path=\"url(#clip112)\" style=\"stroke:#000000; stroke-linecap:round; stroke-linejoin:round; stroke-width:4; stroke-opacity:1; fill:none\" points=\"691.483,749.433 688.37,709.304 722.341,730.891 \"/>\n",
       "<polyline clip-path=\"url(#clip112)\" style=\"stroke:#000000; stroke-linecap:round; stroke-linejoin:round; stroke-width:4; stroke-opacity:1; fill:none\" points=\"688.37,709.304 695.279,720.802 \"/>\n",
       "<polyline clip-path=\"url(#clip112)\" style=\"stroke:#000000; stroke-linecap:round; stroke-linejoin:round; stroke-width:4; stroke-opacity:1; fill:none\" points=\"662.317,665.945 676.302,657.542 690.284,649.141 704.261,640.742 718.23,632.349 732.187,623.963 746.13,615.584 760.057,607.216 773.965,598.859 787.85,590.516 801.711,582.188 815.544,573.876 829.347,565.582 843.116,557.308 856.849,549.056 870.544,540.828 884.198,532.624 897.807,524.446 911.369,516.297 924.881,508.178 938.341,500.091 951.745,492.036 965.092,484.017 978.378,476.034 991.6,468.089 1004.76,460.184 1017.85,452.319 1030.87,444.492 1043.84,436.701 1056.74,428.946 1069.6,421.223 1082.4,413.532 1095.14,405.871 1107.85,398.239 1120.51,390.633 1133.12,383.051 1145.7,375.493 1158.24,367.957 1170.75,360.441 1183.23,352.943 1195.68,345.461 1208.11,337.994 1220.51,330.541 1232.9,323.099 1245.27,315.668 1257.62,308.244 1269.96,300.827 1282.3,293.416 1294.63,286.007 1306.96,278.6 \"/>\n",
       "<polyline clip-path=\"url(#clip112)\" style=\"stroke:#000000; stroke-linecap:round; stroke-linejoin:round; stroke-width:4; stroke-opacity:1; fill:none\" points=\"1266.83,281.713 1306.96,278.6 1285.37,312.571 \"/>\n",
       "<polyline clip-path=\"url(#clip112)\" style=\"stroke:#000000; stroke-linecap:round; stroke-linejoin:round; stroke-width:4; stroke-opacity:1; fill:none\" points=\"1306.96,278.6 1294.63,286.007 \"/>\n",
       "<path clip-path=\"url(#clip112)\" d=\"M1414.46 903.16 L1523.23 903.16 L1523.23 830.895 L1414.46 830.895 L1414.46 903.16 L1414.46 903.16  Z\" fill=\"#ffffff\" fill-rule=\"evenodd\" fill-opacity=\"1\"/>\n",
       "<polyline clip-path=\"url(#clip112)\" style=\"stroke:#000000; stroke-linecap:round; stroke-linejoin:round; stroke-width:0; stroke-opacity:0; fill:none\" points=\"1414.46,903.16 1523.23,903.16 1523.23,830.895 1414.46,830.895 1414.46,903.16 \"/>\n",
       "<path clip-path=\"url(#clip112)\" d=\"M1347.43 1172 L1456.2 1172 L1456.2 1099.74 L1347.43 1099.74 L1347.43 1172 L1347.43 1172  Z\" fill=\"#ffffff\" fill-rule=\"evenodd\" fill-opacity=\"1\"/>\n",
       "<polyline clip-path=\"url(#clip112)\" style=\"stroke:#000000; stroke-linecap:round; stroke-linejoin:round; stroke-width:0; stroke-opacity:0; fill:none\" points=\"1347.43,1172 1456.2,1172 1456.2,1099.74 1347.43,1099.74 1347.43,1172 \"/>\n",
       "<path clip-path=\"url(#clip112)\" d=\"M1481.48 634.318 L1590.25 634.318 L1590.25 562.054 L1481.48 562.054 L1481.48 634.318 L1481.48 634.318  Z\" fill=\"#ffffff\" fill-rule=\"evenodd\" fill-opacity=\"1\"/>\n",
       "<polyline clip-path=\"url(#clip112)\" style=\"stroke:#000000; stroke-linecap:round; stroke-linejoin:round; stroke-width:0; stroke-opacity:0; fill:none\" points=\"1481.48,634.318 1590.25,634.318 1590.25,562.054 1481.48,562.054 1481.48,634.318 \"/>\n",
       "<path clip-path=\"url(#clip112)\" d=\"M1078.59 1104.97 L1187.36 1104.97 L1187.36 1032.71 L1078.59 1032.71 L1078.59 1104.97 L1078.59 1104.97  Z\" fill=\"#ffffff\" fill-rule=\"evenodd\" fill-opacity=\"1\"/>\n",
       "<polyline clip-path=\"url(#clip112)\" style=\"stroke:#000000; stroke-linecap:round; stroke-linejoin:round; stroke-width:0; stroke-opacity:0; fill:none\" points=\"1078.59,1104.97 1187.36,1104.97 1187.36,1032.71 1078.59,1032.71 1078.59,1104.97 \"/>\n",
       "<path clip-path=\"url(#clip112)\" d=\"M876.774 769.105 L985.543 769.105 L985.543 696.84 L876.774 696.84 L876.774 769.105 L876.774 769.105  Z\" fill=\"#ffffff\" fill-rule=\"evenodd\" fill-opacity=\"1\"/>\n",
       "<polyline clip-path=\"url(#clip112)\" style=\"stroke:#000000; stroke-linecap:round; stroke-linejoin:round; stroke-width:0; stroke-opacity:0; fill:none\" points=\"876.774,769.105 985.543,769.105 985.543,696.84 876.774,696.84 876.774,769.105 \"/>\n",
       "<path clip-path=\"url(#clip112)\" d=\"M1212.64 567.291 L1321.41 567.291 L1321.41 495.026 L1212.64 495.026 L1212.64 567.291 L1212.64 567.291  Z\" fill=\"#ffffff\" fill-rule=\"evenodd\" fill-opacity=\"1\"/>\n",
       "<polyline clip-path=\"url(#clip112)\" style=\"stroke:#000000; stroke-linecap:round; stroke-linejoin:round; stroke-width:0; stroke-opacity:0; fill:none\" points=\"1212.64,567.291 1321.41,567.291 1321.41,495.026 1212.64,495.026 1212.64,567.291 \"/>\n",
       "<path clip-path=\"url(#clip112)\" d=\"M795.673 1037.95 L932.589 1037.95 L932.589 965.682 L795.673 965.682 L795.673 1037.95 L795.673 1037.95  Z\" fill=\"#ffffff\" fill-rule=\"evenodd\" fill-opacity=\"1\"/>\n",
       "<polyline clip-path=\"url(#clip112)\" style=\"stroke:#000000; stroke-linecap:round; stroke-linejoin:round; stroke-width:0; stroke-opacity:0; fill:none\" points=\"795.673,1037.95 932.589,1037.95 932.589,965.682 795.673,965.682 795.673,1037.95 \"/>\n",
       "<path clip-path=\"url(#clip112)\" d=\"M943.802 500.264 L1052.57 500.264 L1052.57 427.999 L943.802 427.999 L943.802 500.264 L943.802 500.264  Z\" fill=\"#ffffff\" fill-rule=\"evenodd\" fill-opacity=\"1\"/>\n",
       "<polyline clip-path=\"url(#clip112)\" style=\"stroke:#000000; stroke-linecap:round; stroke-linejoin:round; stroke-width:0; stroke-opacity:0; fill:none\" points=\"943.802,500.264 1052.57,500.264 1052.57,427.999 943.802,427.999 943.802,500.264 \"/>\n",
       "<path clip-path=\"url(#clip112)\" d=\"M1710.58 977.413 L1764.78 977.413 L1764.78 890.696 L1710.58 890.696 L1710.58 977.413 L1710.58 977.413  Z\" fill=\"#009af9\" fill-rule=\"evenodd\" fill-opacity=\"1\"/>\n",
       "<polyline clip-path=\"url(#clip112)\" style=\"stroke:#000000; stroke-linecap:round; stroke-linejoin:round; stroke-width:4; stroke-opacity:1; fill:none\" points=\"1710.58,977.413 1764.78,977.413 1764.78,890.696 1710.58,890.696 1710.58,977.413 \"/>\n",
       "<path clip-path=\"url(#clip112)\" d=\"M1172.9 843.359 L1227.1 843.359 L1227.1 756.641 L1172.9 756.641 L1172.9 843.359 L1172.9 843.359  Z\" fill=\"#009af9\" fill-rule=\"evenodd\" fill-opacity=\"1\"/>\n",
       "<polyline clip-path=\"url(#clip112)\" style=\"stroke:#000000; stroke-linecap:round; stroke-linejoin:round; stroke-width:4; stroke-opacity:1; fill:none\" points=\"1172.9,843.359 1227.1,843.359 1227.1,756.641 1172.9,756.641 1172.9,843.359 \"/>\n",
       "<path clip-path=\"url(#clip112)\" d=\"M1038.85 1381.04 L1093.04 1381.04 L1093.04 1294.32 L1038.85 1294.32 L1038.85 1381.04 L1038.85 1381.04  Z\" fill=\"#009af9\" fill-rule=\"evenodd\" fill-opacity=\"1\"/>\n",
       "<polyline clip-path=\"url(#clip112)\" style=\"stroke:#000000; stroke-linecap:round; stroke-linejoin:round; stroke-width:4; stroke-opacity:1; fill:none\" points=\"1038.85,1381.04 1093.04,1381.04 1093.04,1294.32 1038.85,1294.32 1038.85,1381.04 \"/>\n",
       "<path clip-path=\"url(#clip112)\" d=\"M635.218 709.304 L689.416 709.304 L689.416 622.587 L635.218 622.587 L635.218 709.304 L635.218 709.304  Z\" fill=\"#009af9\" fill-rule=\"evenodd\" fill-opacity=\"1\"/>\n",
       "<polyline clip-path=\"url(#clip112)\" style=\"stroke:#000000; stroke-linecap:round; stroke-linejoin:round; stroke-width:4; stroke-opacity:1; fill:none\" points=\"635.218,709.304 689.416,709.304 689.416,622.587 635.218,622.587 635.218,709.304 \"/>\n",
       "<path clip-path=\"url(#clip112)\" d=\"M1306.96 305.676 L1361.15 305.676 L1361.15 218.958 L1306.96 218.958 L1306.96 305.676 L1306.96 305.676  Z\" fill=\"#009af9\" fill-rule=\"evenodd\" fill-opacity=\"1\"/>\n",
       "<polyline clip-path=\"url(#clip112)\" style=\"stroke:#000000; stroke-linecap:round; stroke-linejoin:round; stroke-width:4; stroke-opacity:1; fill:none\" points=\"1306.96,305.676 1361.15,305.676 1361.15,218.958 1306.96,218.958 1306.96,305.676 \"/>\n",
       "<path clip-path=\"url(#clip112)\" d=\"M1737.28 933.655 L1737.28 934.455 L1738.08 934.455 L1738.08 933.655 L1737.28 933.655 Z\" fill=\"#009af9\" fill-rule=\"evenodd\" fill-opacity=\"1\" stroke=\"#000000\" stroke-opacity=\"1\" stroke-width=\"3.2\"/>\n",
       "<path clip-path=\"url(#clip112)\" d=\"M1199.6 799.6 L1199.6 800.4 L1200.4 800.4 L1200.4 799.6 L1199.6 799.6 Z\" fill=\"#009af9\" fill-rule=\"evenodd\" fill-opacity=\"1\" stroke=\"#000000\" stroke-opacity=\"1\" stroke-width=\"3.2\"/>\n",
       "<path clip-path=\"url(#clip112)\" d=\"M1065.55 1337.28 L1065.55 1338.08 L1066.35 1338.08 L1066.35 1337.28 L1065.55 1337.28 Z\" fill=\"#009af9\" fill-rule=\"evenodd\" fill-opacity=\"1\" stroke=\"#000000\" stroke-opacity=\"1\" stroke-width=\"3.2\"/>\n",
       "<path clip-path=\"url(#clip112)\" d=\"M661.917 665.545 L661.917 666.345 L662.717 666.345 L662.717 665.545 L661.917 665.545 Z\" fill=\"#009af9\" fill-rule=\"evenodd\" fill-opacity=\"1\" stroke=\"#000000\" stroke-opacity=\"1\" stroke-width=\"3.2\"/>\n",
       "<path clip-path=\"url(#clip112)\" d=\"M1333.65 261.917 L1333.65 262.717 L1334.45 262.717 L1334.45 261.917 L1333.65 261.917 Z\" fill=\"#009af9\" fill-rule=\"evenodd\" fill-opacity=\"1\" stroke=\"#000000\" stroke-opacity=\"1\" stroke-width=\"3.2\"/>\n",
       "<path clip-path=\"url(#clip110)\" d=\"M1440.49 881.519 L1440.49 877.793 Q1442.02 878.522 1443.6 878.907 Q1445.18 879.291 1446.7 879.291 Q1450.75 879.291 1452.88 876.577 Q1455.03 873.843 1455.33 868.293 Q1454.16 870.035 1452.35 870.967 Q1450.55 871.898 1448.36 871.898 Q1443.83 871.898 1441.17 869.164 Q1438.54 866.41 1438.54 861.65 Q1438.54 856.991 1441.3 854.176 Q1444.05 851.36 1448.63 851.36 Q1453.87 851.36 1456.63 855.391 Q1459.4 859.401 1459.4 867.058 Q1459.4 874.208 1456 878.481 Q1452.62 882.735 1446.89 882.735 Q1445.35 882.735 1443.77 882.431 Q1442.19 882.127 1440.49 881.519 M1448.63 868.698 Q1451.38 868.698 1452.98 866.815 Q1454.6 864.931 1454.6 861.65 Q1454.6 858.389 1452.98 856.505 Q1451.38 854.601 1448.63 854.601 Q1445.87 854.601 1444.25 856.505 Q1442.65 858.389 1442.65 861.65 Q1442.65 864.931 1444.25 866.815 Q1445.87 868.698 1448.63 868.698 Z\" fill=\"#000000\" fill-rule=\"nonzero\" fill-opacity=\"1\" /><path clip-path=\"url(#clip110)\" d=\"M1466.76 877.003 L1471.03 877.003 L1471.03 882.147 L1466.76 882.147 L1466.76 877.003 Z\" fill=\"#000000\" fill-rule=\"nonzero\" fill-opacity=\"1\" /><path clip-path=\"url(#clip110)\" d=\"M1488.69 854.601 Q1485.53 854.601 1483.93 857.72 Q1482.35 860.819 1482.35 867.058 Q1482.35 873.276 1483.93 876.395 Q1485.53 879.494 1488.69 879.494 Q1491.87 879.494 1493.45 876.395 Q1495.05 873.276 1495.05 867.058 Q1495.05 860.819 1493.45 857.72 Q1491.87 854.601 1488.69 854.601 M1488.69 851.36 Q1493.77 851.36 1496.45 855.391 Q1499.14 859.401 1499.14 867.058 Q1499.14 874.694 1496.45 878.724 Q1493.77 882.735 1488.69 882.735 Q1483.61 882.735 1480.91 878.724 Q1478.24 874.694 1478.24 867.058 Q1478.24 859.401 1480.91 855.391 Q1483.61 851.36 1488.69 851.36 Z\" fill=\"#000000\" fill-rule=\"nonzero\" fill-opacity=\"1\" /><path clip-path=\"url(#clip110)\" d=\"M1384.87 1124.31 L1374.54 1140.46 L1384.87 1140.46 L1384.87 1124.31 M1383.8 1120.75 L1388.94 1120.75 L1388.94 1140.46 L1393.26 1140.46 L1393.26 1143.86 L1388.94 1143.86 L1388.94 1150.99 L1384.87 1150.99 L1384.87 1143.86 L1371.22 1143.86 L1371.22 1139.91 L1383.8 1120.75 Z\" fill=\"#000000\" fill-rule=\"nonzero\" fill-opacity=\"1\" /><path clip-path=\"url(#clip110)\" d=\"M1400.02 1145.84 L1404.3 1145.84 L1404.3 1150.99 L1400.02 1150.99 L1400.02 1145.84 Z\" fill=\"#000000\" fill-rule=\"nonzero\" fill-opacity=\"1\" /><path clip-path=\"url(#clip110)\" d=\"M1421.96 1123.44 Q1418.8 1123.44 1417.2 1126.56 Q1415.62 1129.66 1415.62 1135.9 Q1415.62 1142.12 1417.2 1145.24 Q1418.8 1148.34 1421.96 1148.34 Q1425.14 1148.34 1426.72 1145.24 Q1428.32 1142.12 1428.32 1135.9 Q1428.32 1129.66 1426.72 1126.56 Q1425.14 1123.44 1421.96 1123.44 M1421.96 1120.2 Q1427.04 1120.2 1429.71 1124.23 Q1432.41 1128.24 1432.41 1135.9 Q1432.41 1143.54 1429.71 1147.57 Q1427.04 1151.58 1421.96 1151.58 Q1416.87 1151.58 1414.18 1147.57 Q1411.51 1143.54 1411.51 1135.9 Q1411.51 1128.24 1414.18 1124.23 Q1416.87 1120.2 1421.96 1120.2 Z\" fill=\"#000000\" fill-rule=\"nonzero\" fill-opacity=\"1\" /><path clip-path=\"url(#clip110)\" d=\"M1505.96 583.066 L1525.41 583.066 L1525.41 584.808 L1514.43 613.306 L1510.16 613.306 L1520.49 586.509 L1505.96 586.509 L1505.96 583.066 Z\" fill=\"#000000\" fill-rule=\"nonzero\" fill-opacity=\"1\" /><path clip-path=\"url(#clip110)\" d=\"M1533.39 608.161 L1537.66 608.161 L1537.66 613.306 L1533.39 613.306 L1533.39 608.161 Z\" fill=\"#000000\" fill-rule=\"nonzero\" fill-opacity=\"1\" /><path clip-path=\"url(#clip110)\" d=\"M1555.32 585.76 Q1552.16 585.76 1550.56 588.879 Q1548.98 591.978 1548.98 598.216 Q1548.98 604.434 1550.56 607.554 Q1552.16 610.653 1555.32 610.653 Q1558.5 610.653 1560.08 607.554 Q1561.68 604.434 1561.68 598.216 Q1561.68 591.978 1560.08 588.879 Q1558.5 585.76 1555.32 585.76 M1555.32 582.519 Q1560.41 582.519 1563.08 586.55 Q1565.77 590.56 1565.77 598.216 Q1565.77 605.852 1563.08 609.883 Q1560.41 613.893 1555.32 613.893 Q1550.24 613.893 1547.55 609.883 Q1544.87 605.852 1544.87 598.216 Q1544.87 590.56 1547.55 586.55 Q1550.24 582.519 1555.32 582.519 Z\" fill=\"#000000\" fill-rule=\"nonzero\" fill-opacity=\"1\" /><path clip-path=\"url(#clip110)\" d=\"M1107.81 1080.52 L1122.09 1080.52 L1122.09 1083.96 L1102.88 1083.96 L1102.88 1080.52 Q1105.21 1078.11 1109.22 1074.06 Q1113.25 1069.99 1114.29 1068.81 Q1116.25 1066.6 1117.02 1065.08 Q1117.81 1063.54 1117.81 1062.07 Q1117.81 1059.66 1116.11 1058.14 Q1114.43 1056.62 1111.72 1056.62 Q1109.79 1056.62 1107.64 1057.29 Q1105.52 1057.95 1103.09 1059.31 L1103.09 1055.18 Q1105.56 1054.19 1107.71 1053.68 Q1109.85 1053.17 1111.63 1053.17 Q1116.33 1053.17 1119.13 1055.52 Q1121.92 1057.87 1121.92 1061.8 Q1121.92 1063.67 1121.21 1065.35 Q1120.53 1067.01 1118.68 1069.28 Q1118.18 1069.86 1115.46 1072.68 Q1112.75 1075.47 1107.81 1080.52 Z\" fill=\"#000000\" fill-rule=\"nonzero\" fill-opacity=\"1\" /><path clip-path=\"url(#clip110)\" d=\"M1130.67 1078.82 L1134.95 1078.82 L1134.95 1083.96 L1130.67 1083.96 L1130.67 1078.82 Z\" fill=\"#000000\" fill-rule=\"nonzero\" fill-opacity=\"1\" /><path clip-path=\"url(#clip110)\" d=\"M1152.61 1056.42 Q1149.45 1056.42 1147.85 1059.53 Q1146.27 1062.63 1146.27 1068.87 Q1146.27 1075.09 1147.85 1078.21 Q1149.45 1081.31 1152.61 1081.31 Q1155.79 1081.31 1157.37 1078.21 Q1158.97 1075.09 1158.97 1068.87 Q1158.97 1062.63 1157.37 1059.53 Q1155.79 1056.42 1152.61 1056.42 M1152.61 1053.17 Q1157.69 1053.17 1160.37 1057.21 Q1163.06 1061.22 1163.06 1068.87 Q1163.06 1076.51 1160.37 1080.54 Q1157.69 1084.55 1152.61 1084.55 Q1147.53 1084.55 1144.83 1080.54 Q1142.16 1076.51 1142.16 1068.87 Q1142.16 1061.22 1144.83 1057.21 Q1147.53 1053.17 1152.61 1053.17 Z\" fill=\"#000000\" fill-rule=\"nonzero\" fill-opacity=\"1\" /><path clip-path=\"url(#clip110)\" d=\"M902.417 744.649 L909.101 744.649 L909.101 721.579 L901.83 723.038 L901.83 719.311 L909.061 717.853 L913.152 717.853 L913.152 744.649 L919.836 744.649 L919.836 748.093 L902.417 748.093 L902.417 744.649 Z\" fill=\"#000000\" fill-rule=\"nonzero\" fill-opacity=\"1\" /><path clip-path=\"url(#clip110)\" d=\"M928.1 742.948 L932.374 742.948 L932.374 748.093 L928.1 748.093 L928.1 742.948 Z\" fill=\"#000000\" fill-rule=\"nonzero\" fill-opacity=\"1\" /><path clip-path=\"url(#clip110)\" d=\"M950.036 720.546 Q946.876 720.546 945.276 723.666 Q943.696 726.765 943.696 733.003 Q943.696 739.221 945.276 742.34 Q946.876 745.439 950.036 745.439 Q953.216 745.439 954.796 742.34 Q956.396 739.221 956.396 733.003 Q956.396 726.765 954.796 723.666 Q953.216 720.546 950.036 720.546 M950.036 717.306 Q955.12 717.306 957.793 721.336 Q960.487 725.347 960.487 733.003 Q960.487 740.639 957.793 744.67 Q955.12 748.68 950.036 748.68 Q944.952 748.68 942.258 744.67 Q939.584 740.639 939.584 733.003 Q939.584 725.347 942.258 721.336 Q944.952 717.306 950.036 717.306 Z\" fill=\"#000000\" fill-rule=\"nonzero\" fill-opacity=\"1\" /><path clip-path=\"url(#clip110)\" d=\"M1237.12 516.039 L1256.57 516.039 L1256.57 517.78 L1245.59 546.279 L1241.31 546.279 L1251.64 519.482 L1237.12 519.482 L1237.12 516.039 Z\" fill=\"#000000\" fill-rule=\"nonzero\" fill-opacity=\"1\" /><path clip-path=\"url(#clip110)\" d=\"M1264.55 541.134 L1268.82 541.134 L1268.82 546.279 L1264.55 546.279 L1264.55 541.134 Z\" fill=\"#000000\" fill-rule=\"nonzero\" fill-opacity=\"1\" /><path clip-path=\"url(#clip110)\" d=\"M1286.48 518.732 Q1283.32 518.732 1281.72 521.852 Q1280.14 524.951 1280.14 531.189 Q1280.14 537.407 1281.72 540.526 Q1283.32 543.625 1286.48 543.625 Q1289.66 543.625 1291.24 540.526 Q1292.84 537.407 1292.84 531.189 Q1292.84 524.951 1291.24 521.852 Q1289.66 518.732 1286.48 518.732 M1286.48 515.492 Q1291.57 515.492 1294.24 519.522 Q1296.93 523.533 1296.93 531.189 Q1296.93 538.825 1294.24 542.856 Q1291.57 546.866 1286.48 546.866 Q1281.4 546.866 1278.7 542.856 Q1276.03 538.825 1276.03 531.189 Q1276.03 523.533 1278.7 519.522 Q1281.4 515.492 1286.48 515.492 Z\" fill=\"#000000\" fill-rule=\"nonzero\" fill-opacity=\"1\" /><path clip-path=\"url(#clip110)\" d=\"M822.194 1013.49 L828.878 1013.49 L828.878 990.421 L821.607 991.879 L821.607 988.152 L828.838 986.694 L832.929 986.694 L832.929 1013.49 L839.613 1013.49 L839.613 1016.93 L822.194 1016.93 L822.194 1013.49 Z\" fill=\"#000000\" fill-rule=\"nonzero\" fill-opacity=\"1\" /><path clip-path=\"url(#clip110)\" d=\"M856.627 989.388 Q853.467 989.388 851.867 992.507 Q850.287 995.606 850.287 1001.84 Q850.287 1008.06 851.867 1011.18 Q853.467 1014.28 856.627 1014.28 Q859.807 1014.28 861.387 1011.18 Q862.987 1008.06 862.987 1001.84 Q862.987 995.606 861.387 992.507 Q859.807 989.388 856.627 989.388 M856.627 986.147 Q861.711 986.147 864.385 990.178 Q867.078 994.188 867.078 1001.84 Q867.078 1009.48 864.385 1013.51 Q861.711 1017.52 856.627 1017.52 Q851.543 1017.52 848.849 1013.51 Q846.176 1009.48 846.176 1001.84 Q846.176 994.188 848.849 990.178 Q851.543 986.147 856.627 986.147 Z\" fill=\"#000000\" fill-rule=\"nonzero\" fill-opacity=\"1\" /><path clip-path=\"url(#clip110)\" d=\"M874.269 1011.79 L878.542 1011.79 L878.542 1016.93 L874.269 1016.93 L874.269 1011.79 Z\" fill=\"#000000\" fill-rule=\"nonzero\" fill-opacity=\"1\" /><path clip-path=\"url(#clip110)\" d=\"M896.204 989.388 Q893.045 989.388 891.445 992.507 Q889.865 995.606 889.865 1001.84 Q889.865 1008.06 891.445 1011.18 Q893.045 1014.28 896.204 1014.28 Q899.384 1014.28 900.964 1011.18 Q902.564 1008.06 902.564 1001.84 Q902.564 995.606 900.964 992.507 Q899.384 989.388 896.204 989.388 M896.204 986.147 Q901.288 986.147 903.962 990.178 Q906.656 994.188 906.656 1001.84 Q906.656 1009.48 903.962 1013.51 Q901.288 1017.52 896.204 1017.52 Q891.12 1017.52 888.427 1013.51 Q885.753 1009.48 885.753 1001.84 Q885.753 994.188 888.427 990.178 Q891.12 986.147 896.204 986.147 Z\" fill=\"#000000\" fill-rule=\"nonzero\" fill-opacity=\"1\" /><path clip-path=\"url(#clip110)\" d=\"M969.455 449.011 L985.517 449.011 L985.517 452.455 L973.202 452.455 L973.202 459.868 Q974.093 459.564 974.984 459.422 Q975.876 459.26 976.767 459.26 Q981.83 459.26 984.788 462.035 Q987.745 464.81 987.745 469.549 Q987.745 474.431 984.707 477.145 Q981.668 479.839 976.139 479.839 Q974.235 479.839 972.25 479.515 Q970.285 479.191 968.179 478.542 L968.179 474.431 Q970.002 475.423 971.946 475.909 Q973.891 476.395 976.058 476.395 Q979.562 476.395 981.608 474.552 Q983.653 472.709 983.653 469.549 Q983.653 466.39 981.608 464.547 Q979.562 462.703 976.058 462.703 Q974.417 462.703 972.777 463.068 Q971.156 463.433 969.455 464.202 L969.455 449.011 Z\" fill=\"#000000\" fill-rule=\"nonzero\" fill-opacity=\"1\" /><path clip-path=\"url(#clip110)\" d=\"M995.806 474.107 L1000.08 474.107 L1000.08 479.251 L995.806 479.251 L995.806 474.107 Z\" fill=\"#000000\" fill-rule=\"nonzero\" fill-opacity=\"1\" /><path clip-path=\"url(#clip110)\" d=\"M1017.74 451.705 Q1014.58 451.705 1012.98 454.824 Q1011.4 457.923 1011.4 464.162 Q1011.4 470.38 1012.98 473.499 Q1014.58 476.598 1017.74 476.598 Q1020.92 476.598 1022.5 473.499 Q1024.1 470.38 1024.1 464.162 Q1024.1 457.923 1022.5 454.824 Q1020.92 451.705 1017.74 451.705 M1017.74 448.464 Q1022.83 448.464 1025.5 452.495 Q1028.19 456.505 1028.19 464.162 Q1028.19 471.798 1025.5 475.828 Q1022.83 479.839 1017.74 479.839 Q1012.66 479.839 1009.96 475.828 Q1007.29 471.798 1007.29 464.162 Q1007.29 456.505 1009.96 452.495 Q1012.66 448.464 1017.74 448.464 Z\" fill=\"#000000\" fill-rule=\"nonzero\" fill-opacity=\"1\" /><path clip-path=\"url(#clip110)\" d=\"M1729.27 945.731 L1735.95 945.731 L1735.95 922.661 L1728.68 924.12 L1728.68 920.393 L1735.91 918.935 L1740 918.935 L1740 945.731 L1746.69 945.731 L1746.69 949.175 L1729.27 949.175 L1729.27 945.731 Z\" fill=\"#000000\" fill-rule=\"nonzero\" fill-opacity=\"1\" /><path clip-path=\"url(#clip110)\" d=\"M1195.32 811.677 L1209.6 811.677 L1209.6 815.12 L1190.4 815.12 L1190.4 811.677 Q1192.73 809.266 1196.74 805.215 Q1200.77 801.144 1201.8 799.97 Q1203.77 797.762 1204.54 796.243 Q1205.33 794.703 1205.33 793.225 Q1205.33 790.814 1203.63 789.295 Q1201.94 787.776 1199.23 787.776 Q1197.31 787.776 1195.16 788.445 Q1193.03 789.113 1190.6 790.47 L1190.6 786.338 Q1193.07 785.346 1195.22 784.839 Q1197.37 784.333 1199.15 784.333 Q1203.85 784.333 1206.64 786.683 Q1209.44 789.032 1209.44 792.961 Q1209.44 794.825 1208.73 796.506 Q1208.04 798.167 1206.2 800.435 Q1205.69 801.023 1202.98 803.838 Q1200.26 806.633 1195.32 811.677 Z\" fill=\"#000000\" fill-rule=\"nonzero\" fill-opacity=\"1\" /><path clip-path=\"url(#clip110)\" d=\"M1069.66 1336.5 Q1072.6 1337.13 1074.24 1339.11 Q1075.9 1341.1 1075.9 1344.01 Q1075.9 1348.49 1072.82 1350.94 Q1069.74 1353.39 1064.07 1353.39 Q1062.17 1353.39 1060.14 1353.01 Q1058.14 1352.64 1055.99 1351.89 L1055.99 1347.94 Q1057.69 1348.93 1059.72 1349.44 Q1061.74 1349.95 1063.95 1349.95 Q1067.8 1349.95 1069.8 1348.43 Q1071.83 1346.91 1071.83 1344.01 Q1071.83 1341.34 1069.95 1339.84 Q1068.08 1338.32 1064.74 1338.32 L1061.22 1338.32 L1061.22 1334.96 L1064.9 1334.96 Q1067.92 1334.96 1069.52 1333.76 Q1071.12 1332.55 1071.12 1330.28 Q1071.12 1327.95 1069.46 1326.71 Q1067.82 1325.46 1064.74 1325.46 Q1063.06 1325.46 1061.14 1325.82 Q1059.21 1326.19 1056.9 1326.96 L1056.9 1323.31 Q1059.23 1322.66 1061.26 1322.34 Q1063.3 1322.02 1065.1 1322.02 Q1069.76 1322.02 1072.48 1324.14 Q1075.19 1326.25 1075.19 1329.85 Q1075.19 1332.37 1073.75 1334.11 Q1072.32 1335.83 1069.66 1336.5 Z\" fill=\"#000000\" fill-rule=\"nonzero\" fill-opacity=\"1\" /><path clip-path=\"url(#clip110)\" d=\"M664.95 654.39 L654.62 670.533 L664.95 670.533 L664.95 654.39 M663.877 650.825 L669.021 650.825 L669.021 670.533 L673.336 670.533 L673.336 673.936 L669.021 673.936 L669.021 681.065 L664.95 681.065 L664.95 673.936 L651.299 673.936 L651.299 669.986 L663.877 650.825 Z\" fill=\"#000000\" fill-rule=\"nonzero\" fill-opacity=\"1\" /><path clip-path=\"url(#clip110)\" d=\"M1325.55 247.197 L1341.61 247.197 L1341.61 250.64 L1329.29 250.64 L1329.29 258.054 Q1330.19 257.75 1331.08 257.608 Q1331.97 257.446 1332.86 257.446 Q1337.92 257.446 1340.88 260.221 Q1343.84 262.996 1343.84 267.735 Q1343.84 272.617 1340.8 275.331 Q1337.76 278.025 1332.23 278.025 Q1330.33 278.025 1328.34 277.701 Q1326.38 277.376 1324.27 276.728 L1324.27 272.617 Q1326.09 273.609 1328.04 274.095 Q1329.98 274.581 1332.15 274.581 Q1335.65 274.581 1337.7 272.738 Q1339.75 270.895 1339.75 267.735 Q1339.75 264.576 1337.7 262.732 Q1335.65 260.889 1332.15 260.889 Q1330.51 260.889 1328.87 261.254 Q1327.25 261.618 1325.55 262.388 L1325.55 247.197 Z\" fill=\"#000000\" fill-rule=\"nonzero\" fill-opacity=\"1\" /></svg>\n"
      ]
     },
     "metadata": {},
     "output_type": "display_data"
    }
   ],
   "source": [
    "edgelabel_dict = Dict()\n",
    "edgelabel_mat = Array{String}(undef, n, n)\n",
    "for i in 1:n\n",
    "    for j in 1:n\n",
    "        edgelabel_mat[i, j] = edgelabel_dict[(i, j)] = string(kmax[i, j])\n",
    "    end\n",
    "end\n",
    "edgelabel_vec = edgelabel_mat[:]\n",
    "graphplot(kmax, names=1:n, edgelabel=edgelabel_dict, curvature_scalar=0, nodeshape=:rect)"
   ]
  },
  {
   "cell_type": "code",
   "execution_count": 93,
   "metadata": {},
   "outputs": [
    {
     "data": {
      "text/plain": [
       "1-dimensional DenseAxisArray{ConstraintRef{Model, MathOptInterface.ConstraintIndex{MathOptInterface.ScalarAffineFunction{Float64}, MathOptInterface.EqualTo{Float64}}, ScalarShape},1,...} with index sets:\n",
       "    Dimension 1, 2:4\n",
       "And data, a 3-element Vector{ConstraintRef{Model, MathOptInterface.ConstraintIndex{MathOptInterface.ScalarAffineFunction{Float64}, MathOptInterface.EqualTo{Float64}}, ScalarShape}}:\n",
       " c[2] : x[2,1] - x[1,2] - x[3,2] - x[4,2] - x[5,2] + x[2,3] + x[2,4] + x[2,5] = 0\n",
       " c[3] : x[3,1] + x[3,2] - x[1,3] - x[2,3] - x[4,3] - x[5,3] + x[3,4] + x[3,5] = 0\n",
       " c[4] : x[4,1] + x[4,2] + x[4,3] - x[1,4] - x[2,4] - x[3,4] - x[5,4] + x[4,5] = 0"
      ]
     },
     "metadata": {},
     "output_type": "display_data"
    }
   ],
   "source": [
    "model = Model(GLPK.Optimizer)\n",
    "set_silent(model)\n",
    "\n",
    "# Define N before using it\n",
    "N = size(kmax, 1)\n",
    "\n",
    "@variable(model, x[1:N,1:N] >= 0, Int)\n",
    "@variable(model, Z >= 0, Int)\n",
    "@objective(model, Max, Z)\n",
    "\n",
    "# Añadir restricciones para que los elementos de x correspondan con kmax\n",
    "for i in 1:N\n",
    "    for j in 1:N\n",
    "        if kmax[i, j] > 0\n",
    "            @constraint(model, x[i, j] <= kmax[i, j])\n",
    "        else\n",
    "            @constraint(model, x[i, j] == 0)\n",
    "        end\n",
    "    end\n",
    "end\n",
    "\n",
    "@constraint(model, g,  sum(x[s,:]) == Z)\n",
    "@constraint(model, h,  sum(x[:,t]) == Z)\n",
    "@constraint(model, c[i=2:N - 1] , sum(x[i,:])  == sum(x[:,i]))\n",
    "\n"
   ]
  },
  {
   "cell_type": "code",
   "execution_count": 106,
   "metadata": {},
   "outputs": [
    {
     "name": "stdout",
     "output_type": "stream",
     "text": [
      "Flujo maximo:19.0\n",
      "Flujos en los arcos:\n",
      "  Nodo 1\n",
      "    Flujo de 1->2: 8.0\n",
      "    Flujo de 1->3: 4.0\n",
      "    Flujo de 1->5: 7.0\n",
      "  Nodo 2\n",
      "    Flujo de 2->4: 1.0\n",
      "    Flujo de 2->5: 7.0\n",
      "  Nodo 3\n",
      "    Flujo de 3->4: 4.0\n",
      "  Nodo 4\n",
      "    Flujo de 4->5: 5.0\n",
      "  Nodo 5\n"
     ]
    }
   ],
   "source": [
    "# Call optimize! before retrieving the solution\n",
    "optimize!(model)\n",
    "\n",
    "\n",
    "println(\"Flujo maximo:\", value(Z))\n",
    "\n",
    "println(\"Flujos en los arcos:\")\n",
    "\n",
    "for i in 1:N\n",
    "    println(\"  Nodo $i\")\n",
    "    for j in 1:N\n",
    "        if value(x[i, j]) > 0\n",
    "            println(\"    Flujo de $i->$j: \", value(x[i, j]))\n",
    "        end\n",
    "    end\n",
    "end"
   ]
  }
 ],
 "metadata": {
  "kernelspec": {
   "display_name": "Julia 1.9.3",
   "language": "julia",
   "name": "julia-1.9"
  },
  "language_info": {
   "file_extension": ".jl",
   "mimetype": "application/julia",
   "name": "julia",
   "version": "1.9.3"
  },
  "orig_nbformat": 4
 },
 "nbformat": 4,
 "nbformat_minor": 2
}
