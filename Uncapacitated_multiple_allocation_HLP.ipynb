{
 "cells": [
  {
   "cell_type": "markdown",
   "metadata": {},
   "source": [
    "# Uncapacitated Multiple Allocation HLP Problem.\n",
    "### Autor: Saúl Sosa Díaz\n",
    "---\n",
    "## El problema.\n",
    "El Problema de Ubicación de Concentradores de Múltiple Asignación Sin Capacidad (UMAHLP), un tema vital en la investigación de operativa, involucra la determinación estratégica de la ubicación óptima de concentradores (hubs) y la asignación eficiente de nodos a estos puntos. En el UMAHLP, el objetivo principal es seleccionar concentradores de una lista de ubicaciones potenciales, asignando cada nodo no concentrador a uno o más de estos hubs. El fin es minimizar el costo total, que generalmente abarca el transporte entre nodos y concentradores, y en ocasiones, los costos operativos de los hubs. A diferencia de otros desafíos en la ubicación de concentradores, el UMAHLP se distingue por no tener restricciones de capacidad, permitiendo que cada concentrador maneje cualquier volumen de tráfico o demanda. Además, la característica de múltiple asignación permite que un nodo se asocie con más de un concentrador, incrementando la flexibilidad.\n",
    "\n",
    "Consideremos un conjunto de nodos $ V$ y un número $ p$ de hubs por abrir en un grafo completo $ G=(V,A)$, donde $ |V|=n$. La cantidad de producto transportado del nodo $ i \\in V$ al nodo $ j \\in V$ se define como $ w_{ij}$. La demanda total originada en el nodo $ i$ se denota por $ O_i = \\sum_{m\\in V} w_{im}$, y la demanda dirigida al nodo $ i$ es $ D_i = \\sum_{m\\in V} w_{mi}$. El costo unitario de transporte a lo largo del arco $ (i,j) \\in A$ se representa por $ c_{ij}$.\n",
    "\n",
    "Para modelar el costo de transporte, se introducen los siguientes factores, dependiendo del tipo de arco $ (i,j)$:\n",
    "\n",
    "* Un factor de descuento $ \\alpha$, donde $ 0 \\le \\alpha \\le 1$, se aplica cuando el arco conecta dos hubs.\n",
    "* Un factor de recolección $ \\chi$, con $ \\chi > \\alpha$, se utiliza cuando el arco va de un nodo origen a un hub.\n",
    "\n",
    "Tras establecer claramente el problema, estamos listos para abordar la construcción del modelo matemático.\n",
    "\n",
    "**Variables**\n",
    " \n",
    " * $z_{ij}$ es 1 si el nodo $i\\in V$ es asignado al hub $j\\in V$ y 0 en otro caso. Si los índices coinciden de tal manera que $z_{jj}$, la variable toma el valor de 1 si se abre un hub en $j\\in V$, y 0 en otro caso.\n",
    " * $X_{ijkm}$ es una variable continua que representa la fracción de la demanda $w_{ij}$ que se envía de $i$ a $j$ a través de los hubs $k$ y $m$. \n",
    " * $g_{ijkm} = d_{ij}(\\chi c_{ik} + \\alpha c_{km} + \\delta c_{mj} ) $, que representa el coste total del producto enviado desde $i$ a $j$ que pasa por las oficinas $k$ y $m$.\n",
    "\n",
    "**Función Objetivo**\n",
    "$$\n",
    "\\begin{align}\n",
    "    \\min & \\sum_{k\\in N} f_k z_{kk} + \\sum_{i,j,k,m\\in N} g_{ijkm} x_{ijkm}\n",
    "\\end{align}\n",
    "$$\n",
    "\n",
    "**Sujeto a**:\n",
    "$$\n",
    "\\begin{array}{cc}\n",
    "&\\sum_{k\\in N} z_{ik} = 1 & i\\in N\\\\\n",
    "&z_{ik} \\leq z_{kk} & i,k\\in N\\\\\n",
    "&z_{ik} \\in \\{0,1\\} & i,k\\in N\\\\\n",
    "&\\sum_{m\\in N} x_{ijkm} = z_{ik} & i,j,k\\in N\\\\\n",
    "&\\sum_{k\\in N} x_{ijkm} = z_{jm} & i,j,m\\in N\\\\\n",
    "&x_{ijkm} \\geq 0 & i,j,k,m\\in N\n",
    "\\end{array}\n",
    "$$\n"
   ]
  },
  {
   "cell_type": "markdown",
   "metadata": {},
   "source": [
    "## Resolución del problema.\n",
    "Importamos los paquetes necesarios."
   ]
  },
  {
   "cell_type": "code",
   "execution_count": 1,
   "metadata": {},
   "outputs": [
    {
     "name": "stderr",
     "output_type": "stream",
     "text": [
      "\u001b[32m\u001b[1m   Resolving\u001b[22m\u001b[39m package versions...\n",
      "\u001b[32m\u001b[1m  No Changes\u001b[22m\u001b[39m to `~/.julia/environments/v1.9/Project.toml`\n",
      "\u001b[32m\u001b[1m  No Changes\u001b[22m\u001b[39m to `~/.julia/environments/v1.9/Manifest.toml`\n",
      "\u001b[32m\u001b[1m   Resolving\u001b[22m\u001b[39m package versions...\n",
      "\u001b[32m\u001b[1m  No Changes\u001b[22m\u001b[39m to `~/.julia/environments/v1.9/Project.toml`\n",
      "\u001b[32m\u001b[1m  No Changes\u001b[22m\u001b[39m to `~/.julia/environments/v1.9/Manifest.toml`\n",
      "\u001b[32m\u001b[1m   Resolving\u001b[22m\u001b[39m package versions...\n",
      "\u001b[32m\u001b[1m  No Changes\u001b[22m\u001b[39m to `~/.julia/environments/v1.9/Project.toml`\n",
      "\u001b[32m\u001b[1m  No Changes\u001b[22m\u001b[39m to `~/.julia/environments/v1.9/Manifest.toml`\n"
     ]
    }
   ],
   "source": [
    "import Pkg\n",
    "Pkg.add(\"JuMP\")\n",
    "Pkg.add(\"GLPK\")\n",
    "Pkg.add(\"Plots\")\n",
    "\n",
    "\n",
    "using JuMP, GLPK, Random, Plots, Random, LinearAlgebra\n",
    "\n"
   ]
  },
  {
   "cell_type": "markdown",
   "metadata": {},
   "source": [
    "### Introducimos los datos."
   ]
  },
  {
   "cell_type": "code",
   "execution_count": 2,
   "metadata": {},
   "outputs": [],
   "source": [
    "n = 10\n",
    "N = 1:n\n",
    "\n",
    "Random.seed!(33)\n",
    "d = rand(1:100,n,n)\n",
    "c = rand(1:100,n,n)\n",
    "# Assigning coordinates based on c\n",
    "coordinates_nodes = Dict()\n",
    "for i in N\n",
    "    coordinates_nodes[i] = (c[i, 1], c[i, 2])\n",
    "end\n",
    "f = rand(1:100,n)\n",
    "\n",
    "O = sum(d,dims=1)\n",
    "D = sum(d,dims=2)\n",
    "\n",
    "p = 2\n",
    "α = 0.2\n",
    "χ = 2\n",
    "δ = 3\n",
    "\n",
    "g_ijkm = Array{Float64}(undef, n, n, n, n)\n",
    "for i in N, j in N, k in N, m in N\n",
    "    g_ijkm[i,j,k,m] = d[i,j] * (χ * c[i,k] + α * c[k,m] + δ * c[m,j])\n",
    "end"
   ]
  },
  {
   "cell_type": "markdown",
   "metadata": {},
   "source": [
    "Preparamos la representación de los datos."
   ]
  },
  {
   "cell_type": "code",
   "execution_count": 3,
   "metadata": {},
   "outputs": [
    {
     "data": {
      "text/plain": [
       "draw_solution (generic function with 2 methods)"
      ]
     },
     "execution_count": 3,
     "metadata": {},
     "output_type": "execute_result"
    }
   ],
   "source": [
    "function DrawInstance(client_location, factory_location, supply, demand)\n",
    "    Xc = client_location[1]\n",
    "    Yc = client_location[2]\n",
    "    Xf = factory_location[1]\n",
    "    Yf = factory_location[2]\n",
    "    p = scatter( # Plot the clients\n",
    "        Xc,\n",
    "        Yc;\n",
    "        label = nothing,\n",
    "        markershape = :circle,\n",
    "        markercolor = :green,\n",
    "        markersize = 2 .* (2 .+ demand)\n",
    "    )\n",
    "    scatter!( # Plot the factories\n",
    "        Xf,\n",
    "        Yf;\n",
    "        label = nothing,\n",
    "        markershape = :star5,\n",
    "        markercolor = :yellow,\n",
    "        markersize = supply,\n",
    "        markerstrokewidth = 2,\n",
    "    )\n",
    "\n",
    "\n",
    "    display(p)\n",
    "end\n",
    "\n",
    "function draw_solution(z, N, node_coordinates, scale_size = 1.0)\n",
    "    # Extract X and Y coordinates of the nodes\n",
    "    Xn = [node_coordinates[n][1] for n in N]\n",
    "    Yn = [node_coordinates[n][2] for n in N]\n",
    "\n",
    "    p = scatter( # Plot the nodes\n",
    "        Xn,\n",
    "        Yn;\n",
    "        label = nothing,\n",
    "        markershape = :circle,\n",
    "        markercolor = :green,\n",
    "        markersize = [scale_size for _ in N]\n",
    "    )\n",
    "\n",
    "    # Plot the connections and the hubs\n",
    "    for i in N\n",
    "        for k in N\n",
    "            if value(z[i, k]) > 0.5  # If node i is assigned to hub k\n",
    "                # Determine if it's a connection between hubs\n",
    "                is_hub_connection = sum(value(z[j, k]) for j in N) > 1.5\n",
    "\n",
    "                # Plot the hub\n",
    "                scatter!(\n",
    "                    [node_coordinates[k][1]],\n",
    "                    [node_coordinates[k][2]];\n",
    "                    label = nothing,\n",
    "                    markershape = :star5,\n",
    "                    markercolor = :yellow,\n",
    "                    markersize = 8 * scale_size,\n",
    "                    markerstrokewidth = 2,\n",
    "                )\n",
    "\n",
    "                # Plot the connection\n",
    "                plot!(\n",
    "                    [node_coordinates[i][1], node_coordinates[k][1]],\n",
    "                    [node_coordinates[i][2], node_coordinates[k][2]];\n",
    "                    color = is_hub_connection ? :red : :blue,  # Red for connections between hubs, blue for others\n",
    "                    label = nothing,\n",
    "                )\n",
    "            end\n",
    "        end\n",
    "    end\n",
    "\n",
    "    display(p)\n",
    "end\n"
   ]
  },
  {
   "cell_type": "markdown",
   "metadata": {},
   "source": [
    "### Construir el modelo."
   ]
  },
  {
   "cell_type": "code",
   "execution_count": 7,
   "metadata": {},
   "outputs": [
    {
     "data": {
      "text/plain": [
       "solveCRPC (generic function with 1 method)"
      ]
     },
     "execution_count": 7,
     "metadata": {},
     "output_type": "execute_result"
    }
   ],
   "source": [
    "function solveCRPC()\n",
    "    EPS = 0.00001\n",
    "    model = Model(GLPK.Optimizer)\n",
    "    set_silent(model)\n",
    "    \n",
    "    # Variables\n",
    "    @variable(model, z[i in N, k in N], Bin)\n",
    "    @variable(model, x[i in N, j in N, k in N, m in N] >= 0)\n",
    "\n",
    "    # Objective\n",
    "    @objective(model, Min, sum(f[k] * z[k,k] for k in N) + sum(g_ijkm[i,j,k,m] * x[i,j,k,m] for i in N, j in N, k in N, m in N))\n",
    "\n",
    "    # Constraints\n",
    "    for i in N\n",
    "        @constraint(model, sum(z[i, k] for k in N) == 1)\n",
    "        for k in N\n",
    "            @constraint(model, z[i, k] <= z[k, k])\n",
    "        end\n",
    "    end\n",
    "\n",
    "    #for i in N\n",
    "    #    for k in N, m in N\n",
    "    #        @constraint(model, x[i, i, k, m] == 0) # No self-assignment\n",
    "    #    end\n",
    "    #end\n",
    "\n",
    "    for i in N, j in N, k in N\n",
    "        @constraint(model, sum(x[i,j,k,m] for m in N) == z[i,k])\n",
    "    end\n",
    "\n",
    "    for i in N, j in N, m in N\n",
    "        @constraint(model, sum(x[i,j,k,m] for k in N) == z[j,m])\n",
    "    end\n",
    "\n",
    "    # Resolve model\n",
    "    optimize!(model)\n",
    "\n",
    "    # Show solutions\n",
    "    if termination_status(model) == OPTIMAL\n",
    "        println(\"Solution:\")\n",
    "        println(\"   Objective value: \", objective_value(model))\n",
    "        for i in N\n",
    "            if value(z[i, i]) > EPS\n",
    "                println(\"   Hub \", i, \" open \")\n",
    "            end\n",
    "        end\n",
    "        for i in N, j in N, k in N, m in N\n",
    "            if value(x[i,j,k,m]) > EPS\n",
    "                println(\"   Client \", i, \" assigned to hub \", k, \" and client \", j, \" assigned to hub \", m)\n",
    "            end\n",
    "        end\n",
    "        draw_solution(value.(z), N, coordinates_nodes,10)\n",
    "\n",
    "    else\n",
    "        println(\"infeasible\")\n",
    "        return -1\n",
    "    end\n",
    "    \n",
    "end\n"
   ]
  },
  {
   "cell_type": "markdown",
   "metadata": {},
   "source": [
    "Resolvemos y mostramos el resultado."
   ]
  },
  {
   "cell_type": "code",
   "execution_count": 8,
   "metadata": {},
   "outputs": [
    {
     "name": "stdout",
     "output_type": "stream",
     "text": [
      "infeasible\n"
     ]
    },
    {
     "data": {
      "text/plain": [
       "-1"
      ]
     },
     "execution_count": 8,
     "metadata": {},
     "output_type": "execute_result"
    }
   ],
   "source": [
    "solveCRPC()"
   ]
  }
 ],
 "metadata": {
  "kernelspec": {
   "display_name": "Julia 1.9.4",
   "language": "julia",
   "name": "julia-1.9"
  },
  "language_info": {
   "file_extension": ".jl",
   "mimetype": "application/julia",
   "name": "julia",
   "version": "1.9.4"
  },
  "orig_nbformat": 4
 },
 "nbformat": 4,
 "nbformat_minor": 2
}
