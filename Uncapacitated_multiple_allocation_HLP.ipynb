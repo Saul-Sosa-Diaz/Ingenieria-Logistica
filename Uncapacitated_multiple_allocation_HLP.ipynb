{
 "cells": [
  {
   "cell_type": "markdown",
   "metadata": {},
   "source": [
    "# Uncapacitated Multiple Allocation HLP Problem.\n",
    "### Autor: Saúl Sosa Díaz\n",
    "---\n",
    "## El problema.\n",
    "El Problema de Ubicación de Concentradores de Múltiple Asignación Sin Capacidad (UMAHLP), un tema vital en la investigación de operativa, involucra la determinación estratégica de la ubicación óptima de concentradores (hubs) y la asignación eficiente de nodos a estos puntos. En el UMAHLP, el objetivo principal es seleccionar concentradores de una lista de ubicaciones potenciales, asignando cada nodo no concentrador a uno o más de estos hubs. El fin es minimizar el costo total, que generalmente abarca el transporte entre nodos y concentradores, y en ocasiones, los costos operativos de los hubs. A diferencia de otros desafíos en la ubicación de concentradores, el UMAHLP se distingue por no tener restricciones de capacidad, permitiendo que cada concentrador maneje cualquier volumen de tráfico o demanda. Además, la característica de múltiple asignación permite que un nodo se asocie con más de un concentrador, incrementando la flexibilidad.\n",
    "\n",
    "Consideremos un conjunto de nodos $ V$ y un número $ p$ de hubs por abrir en un grafo completo $ G=(V,A)$, donde $ |V|=n$. La cantidad de producto transportado del nodo $ i \\in V$ al nodo $ j \\in V$ se define como $ d_{ij}$. El costo unitario de transporte a lo largo del arco $ (i,j) \\in A$ se representa por $ c_{ij}$.\n",
    "\n",
    "Para modelar el costo de transporte, se introducen los siguientes factores, dependiendo del tipo de arco $ (i,j)$:\n",
    "\n",
    "* Un factor de descuento $ \\alpha$, donde $ 0 \\le \\alpha \\le 1$, se aplica cuando el arco conecta dos hubs.\n",
    "* Un factor de recolección $ \\chi$, con $ \\chi > \\alpha$, se utiliza cuando el arco va de un nodo origen a un hub.\n",
    "\n",
    "Tras establecer claramente el problema, estamos listos para abordar la construcción del modelo matemático.\n",
    "\n",
    "**Variables**\n",
    " \n",
    " * $z_{ij}$ es 1 si el nodo $i\\in V$ es asignado al hub $j\\in V$ y 0 en otro caso. Si los índices coinciden de tal manera que $z_{jj}$, la variable toma el valor de 1 si se abre un hub en $j\\in V$, y 0 en otro caso.\n",
    " * $X_{ijkm}$ es una variable continua que representa la fracción de la demanda $w_{ij}$ que se envía de $i$ a $j$ a través de los hubs $k$ y $m$. \n",
    " * $g_{ijkm} = d_{ij}(\\chi c_{ik} + \\alpha c_{km} + \\delta c_{mj} ) $, que representa el coste total del producto enviado desde $i$ a $j$ que pasa por las oficinas $k$ y $m$.\n",
    "\n",
    "**Función Objetivo**\n",
    "$$\n",
    "\\begin{align}\n",
    "    \\min & \\sum_{k\\in N} f_k z_{kk} + \\sum_{i,j,k,m\\in N} g_{ijkm} x_{ijkm}\n",
    "\\end{align}\n",
    "$$\n",
    "\n",
    "**Sujeto a**:\n",
    "$$\n",
    "\\begin{array}{cc}\n",
    "&\\sum_{k\\in N} z_{ik} = 1 & i\\in N\\\\\n",
    "& \\sum_{k \\in N} z_{kk} <= p \\\\\n",
    "&z_{ik} \\leq z_{kk} & i,k\\in N\\\\\n",
    "&z_{ik} \\in \\{0,1\\} & i,k\\in N\\\\\n",
    "&\\sum_{m\\in N} x_{ijkm} = z_{ik} & i,j,k\\in N\\\\\n",
    "&\\sum_{k\\in N} x_{ijkm} = z_{jm} & i,j,m\\in N\\\\\n",
    "&x_{ijkm} \\geq 0 & i,j,k,m\\in N\n",
    "\\end{array}\n",
    "$$\n"
   ]
  },
  {
   "cell_type": "markdown",
   "metadata": {},
   "source": [
    "## Resolución del problema.\n",
    "Importamos los paquetes necesarios."
   ]
  },
  {
   "cell_type": "code",
   "execution_count": 1,
   "metadata": {},
   "outputs": [
    {
     "name": "stderr",
     "output_type": "stream",
     "text": [
      "\u001b[32m\u001b[1m   Resolving\u001b[22m\u001b[39m package versions...\n",
      "\u001b[32m\u001b[1m  No Changes\u001b[22m\u001b[39m to `~/.julia/environments/v1.9/Project.toml`\n",
      "\u001b[32m\u001b[1m  No Changes\u001b[22m\u001b[39m to `~/.julia/environments/v1.9/Manifest.toml`\n",
      "\u001b[32m\u001b[1m   Resolving\u001b[22m\u001b[39m package versions...\n",
      "\u001b[32m\u001b[1m  No Changes\u001b[22m\u001b[39m to `~/.julia/environments/v1.9/Project.toml`\n",
      "\u001b[32m\u001b[1m  No Changes\u001b[22m\u001b[39m to `~/.julia/environments/v1.9/Manifest.toml`\n",
      "\u001b[32m\u001b[1m   Resolving\u001b[22m\u001b[39m package versions...\n",
      "\u001b[32m\u001b[1m  No Changes\u001b[22m\u001b[39m to `~/.julia/environments/v1.9/Project.toml`\n",
      "\u001b[32m\u001b[1m  No Changes\u001b[22m\u001b[39m to `~/.julia/environments/v1.9/Manifest.toml`\n"
     ]
    }
   ],
   "source": [
    "import Pkg\n",
    "Pkg.add(\"JuMP\")\n",
    "Pkg.add(\"GLPK\")\n",
    "Pkg.add(\"Plots\")\n",
    "\n",
    "\n",
    "using JuMP, GLPK, Random, Plots, Random, LinearAlgebra\n",
    "\n"
   ]
  },
  {
   "cell_type": "markdown",
   "metadata": {},
   "source": [
    "### Introducimos los datos."
   ]
  },
  {
   "cell_type": "code",
   "execution_count": 18,
   "metadata": {},
   "outputs": [
    {
     "data": {
      "text/plain": [
       "5-element Vector{Int64}:\n",
       " 4\n",
       " 3\n",
       " 1\n",
       " 3\n",
       " 5"
      ]
     },
     "execution_count": 18,
     "metadata": {},
     "output_type": "execute_result"
    }
   ],
   "source": [
    "Random.seed!(666) # Set seed for reproducibility\n",
    "\n",
    "n = 5 # Random demand\n",
    "V = 1:n \n",
    "w = rand(1:10, n, n) # Random demand\n",
    "C = rand(1:10, n, n, n, n) # Random transportation costs\n",
    "f = rand(1:10, n) # Fixed cost of opening a hub\n"
   ]
  },
  {
   "cell_type": "markdown",
   "metadata": {},
   "source": [
    "Preparamos la representación de los datos."
   ]
  },
  {
   "cell_type": "code",
   "execution_count": 19,
   "metadata": {},
   "outputs": [
    {
     "data": {
      "text/plain": [
       "draw_solution (generic function with 2 methods)"
      ]
     },
     "execution_count": 19,
     "metadata": {},
     "output_type": "execute_result"
    }
   ],
   "source": [
    "function DrawInstance(client_location, factory_location, supply, demand)\n",
    "    Xc = client_location[1]\n",
    "    Yc = client_location[2]\n",
    "    Xf = factory_location[1]\n",
    "    Yf = factory_location[2]\n",
    "    p = scatter( # Plot the clients\n",
    "        Xc,\n",
    "        Yc;\n",
    "        label = nothing,\n",
    "        markershape = :circle,\n",
    "        markercolor = :green,\n",
    "        markersize = 2 .* (2 .+ demand)\n",
    "    )\n",
    "    scatter!( # Plot the factories\n",
    "        Xf,\n",
    "        Yf;\n",
    "        label = nothing,\n",
    "        markershape = :star5,\n",
    "        markercolor = :yellow,\n",
    "        markersize = supply,\n",
    "        markerstrokewidth = 2,\n",
    "    )\n",
    "\n",
    "\n",
    "    display(p)\n",
    "end\n",
    "\n",
    "function draw_solution(z, N, node_coordinates, scale_size = 1.0)\n",
    "    # Extract X and Y coordinates of the nodes\n",
    "    Xn = [node_coordinates[n][1] for n in N]\n",
    "    Yn = [node_coordinates[n][2] for n in N]\n",
    "\n",
    "    p = scatter( # Plot the nodes\n",
    "        Xn,\n",
    "        Yn;\n",
    "        label = nothing,\n",
    "        markershape = :circle,\n",
    "        markercolor = :green,\n",
    "        markersize = [scale_size for _ in N]\n",
    "    )\n",
    "\n",
    "    # Identify hubs and draw them\n",
    "    hubs = []\n",
    "    for k in N\n",
    "        if value(z[k, k]) > 0.5\n",
    "            push!(hubs, k)\n",
    "            scatter!(\n",
    "                [node_coordinates[k][1]],\n",
    "                [node_coordinates[k][2]];\n",
    "                label = \"Hub $k\",\n",
    "                markershape = :star5,\n",
    "                markercolor = :yellow,\n",
    "                markersize = 2 * scale_size,\n",
    "                markerstrokewidth = 2,\n",
    "            )\n",
    "        end\n",
    "    end\n",
    "\n",
    "    # Plot the connections between hubs\n",
    "    for i in hubs\n",
    "        for j in hubs\n",
    "            if i != j\n",
    "                plot!(\n",
    "                    [node_coordinates[i][1], node_coordinates[j][1]],\n",
    "                    [node_coordinates[i][2], node_coordinates[j][2]];\n",
    "                    color = :red,\n",
    "                    label = nothing,\n",
    "                    linestyle = :dash,\n",
    "                )\n",
    "            end\n",
    "        end\n",
    "    end\n",
    "\n",
    "    # Plot the connections between nodes and hubs\n",
    "    for i in N\n",
    "        for k in hubs\n",
    "            if i != k && value(z[i, k]) > 0.5\n",
    "                plot!(\n",
    "                    [node_coordinates[i][1], node_coordinates[k][1]],\n",
    "                    [node_coordinates[i][2], node_coordinates[k][2]];\n",
    "                    color = :blue,\n",
    "                    label = nothing,\n",
    "                )\n",
    "            end\n",
    "        end\n",
    "    end\n",
    "\n",
    "    display(p)\n",
    "end\n"
   ]
  },
  {
   "cell_type": "markdown",
   "metadata": {},
   "source": [
    "### Construir el modelo."
   ]
  },
  {
   "cell_type": "code",
   "execution_count": 22,
   "metadata": {},
   "outputs": [
    {
     "data": {
      "text/plain": [
       "solveCRPC (generic function with 1 method)"
      ]
     },
     "execution_count": 22,
     "metadata": {},
     "output_type": "execute_result"
    }
   ],
   "source": [
    "function solveCRPC()\n",
    "    EPS = 0.00001\n",
    "    model = Model(GLPK.Optimizer)\n",
    "\n",
    "    # Variables\n",
    "    @variable(model, y[k in V], Bin)\n",
    "    @variable(model, X[i in V, j in V, k in V, m in V] >= 0)\n",
    "\n",
    "    # Objetive\n",
    "    @objective(model, Min, sum(w[i, j] * C[i, j, k, m] * X[i, j, k, m] for i in V, j in V, k in V, m in V) +\n",
    "                        sum(f[k] * y[k] for k in V))\n",
    "\n",
    "    # Constraints\n",
    "    @constraint(model, [i in V, j in V], sum(X[i, j, k, m] for k in V, m in V) == 1)\n",
    "    @constraint(model, [i in V, j in V, k in V, m in V], X[i, j, k, m] <= y[k])\n",
    "    @constraint(model, [i in V, j in V, k in V, m in V], X[i, j, k, m] <= y[m])\n",
    "\n",
    "    # Resolve model\n",
    "    optimize!(model)\n",
    "\n",
    "    # Show solutions\n",
    "    if termination_status(model) == OPTIMAL\n",
    "        println(\"Solution:\")\n",
    "        println(\"   Objective value: \", objective_value(model))\n",
    "        # Display the hubs that are opened\n",
    "        println(\"Hubs opened at the following locations:\")\n",
    "        for k in V\n",
    "            if value(y[k]) > 0.5 # Considering y[k] as binary\n",
    "                println(\" - Hub at location $k\")\n",
    "            end\n",
    "        end\n",
    "\n",
    "        # Display the demand routes\n",
    "        println(\"\\nDemand routes:\")\n",
    "        for i in V, j in V\n",
    "            if i != j\n",
    "                println(\"Route from $i to $j:\")\n",
    "                for k in V, m in V\n",
    "                    if value(X[i,j,k,m]) > 0\n",
    "                        println(\"  - Fraction $(round(value(X[i,j,k,m]))) passes through hubs $k and $m\")\n",
    "                    end\n",
    "                end\n",
    "            end\n",
    "        end\n",
    "\n",
    "    else\n",
    "        println(\"infeasible\")\n",
    "        return -1\n",
    "    end\n",
    "    \n",
    "end\n"
   ]
  },
  {
   "cell_type": "markdown",
   "metadata": {},
   "source": [
    "Resolvemos y mostramos el resultado."
   ]
  },
  {
   "cell_type": "code",
   "execution_count": 23,
   "metadata": {},
   "outputs": [
    {
     "name": "stdout",
     "output_type": "stream",
     "text": [
      "Solution:\n",
      "   Objective value: 192.0\n",
      "Hubs opened at the following locations:\n",
      " - Hub at location 1\n",
      " - Hub at location 2\n",
      " - Hub at location 3\n",
      " - Hub at location 4\n",
      " - Hub at location 5\n",
      "\n",
      "Demand routes:\n",
      "Route from 1 to 2:\n",
      "  - Fraction 1.0 passes through hubs 2 and 4\n",
      "Route from 1 to 3:\n",
      "  - Fraction 1.0 passes through hubs 4 and 5\n",
      "  - Fraction 0.0 passes through hubs 5 and 3\n",
      "Route from 1 to 4:\n",
      "  - Fraction 1.0 passes through hubs 1 and 3\n",
      "  - Fraction 0.0 passes through hubs 1 and 4\n",
      "Route from 1 to 5:\n",
      "  - Fraction 1.0 passes through hubs 2 and 5\n",
      "Route from 2 to 1:\n",
      "  - Fraction 1.0 passes through hubs 1 and 4\n",
      "  - Fraction 0.0 passes through hubs 2 and 2\n",
      "Route from 2 to 3:\n",
      "  - Fraction 1.0 passes through hubs 2 and 1\n",
      "Route from 2 to 4:\n",
      "  - Fraction 0.0 passes through hubs 3 and 1\n",
      "  - Fraction 1.0 passes through hubs 3 and 2\n",
      "Route from 2 to 5:\n",
      "  - Fraction 0.0 passes through hubs 2 and 1\n",
      "  - Fraction 1.0 passes through hubs 3 and 4\n",
      "Route from 3 to 1:\n",
      "  - Fraction 1.0 passes through hubs 1 and 1\n",
      "  - Fraction 0.0 passes through hubs 4 and 1\n",
      "Route from 3 to 2:\n",
      "  - Fraction 1.0 passes through hubs 4 and 4\n",
      "Route from 3 to 4:\n",
      "  - Fraction 1.0 passes through hubs 1 and 2\n",
      "Route from 3 to 5:\n",
      "  - Fraction 0.0 passes through hubs 3 and 2\n",
      "  - Fraction 1.0 passes through hubs 5 and 3\n",
      "Route from 4 to 1:\n",
      "  - Fraction 1.0 passes through hubs 1 and 1\n",
      "  - Fraction 0.0 passes through hubs 5 and 2\n",
      "Route from 4 to 2:\n",
      "  - Fraction 1.0 passes through hubs 1 and 1\n",
      "  - Fraction 0.0 passes through hubs 5 and 1\n",
      "Route from 4 to 3:\n",
      "  - Fraction 1.0 passes through hubs 4 and 4\n",
      "  - Fraction 0.0 passes through hubs 5 and 3\n",
      "Route from 4 to 5:\n",
      "  - Fraction 0.0 passes through hubs 1 and 3\n",
      "  - Fraction 1.0 passes through hubs 4 and 1\n",
      "Route from 5 to 1:\n",
      "  - Fraction 1.0 passes through hubs 4 and 2\n",
      "Route from 5 to 2:\n",
      "  - Fraction 1.0 passes through hubs 2 and 1\n",
      "Route from 5 to 3:\n",
      "  - Fraction 0.0 passes through hubs 4 and 2\n",
      "  - Fraction 1.0 passes through hubs 5 and 2\n",
      "Route from 5 to 4:\n",
      "  - Fraction 1.0 passes through hubs 1 and 2\n"
     ]
    }
   ],
   "source": [
    "solveCRPC()"
   ]
  }
 ],
 "metadata": {
  "kernelspec": {
   "display_name": "Julia 1.9.4",
   "language": "julia",
   "name": "julia-1.9"
  },
  "language_info": {
   "file_extension": ".jl",
   "mimetype": "application/julia",
   "name": "julia",
   "version": "1.9.4"
  },
  "orig_nbformat": 4
 },
 "nbformat": 4,
 "nbformat_minor": 2
}
